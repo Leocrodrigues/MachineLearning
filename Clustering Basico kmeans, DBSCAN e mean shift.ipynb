{
 "cells": [
  {
   "cell_type": "code",
   "execution_count": 143,
   "id": "64a9cb83",
   "metadata": {},
   "outputs": [],
   "source": [
    "#pip install plotly"
   ]
  },
  {
   "cell_type": "code",
   "execution_count": 144,
   "id": "b7710804",
   "metadata": {},
   "outputs": [],
   "source": [
    "#Impotando bibliotecas\n",
    "import plotly.graph_objects as go\n",
    "import pandas as pd\n",
    "import numpy as np"
   ]
  },
  {
   "cell_type": "markdown",
   "id": "0b3cc274",
   "metadata": {},
   "source": [
    "## Análise Explorátoria dos dados"
   ]
  },
  {
   "cell_type": "code",
   "execution_count": 145,
   "id": "4856111d",
   "metadata": {},
   "outputs": [
    {
     "data": {
      "text/html": [
       "<div>\n",
       "<style scoped>\n",
       "    .dataframe tbody tr th:only-of-type {\n",
       "        vertical-align: middle;\n",
       "    }\n",
       "\n",
       "    .dataframe tbody tr th {\n",
       "        vertical-align: top;\n",
       "    }\n",
       "\n",
       "    .dataframe thead th {\n",
       "        text-align: right;\n",
       "    }\n",
       "</style>\n",
       "<table border=\"1\" class=\"dataframe\">\n",
       "  <thead>\n",
       "    <tr style=\"text-align: right;\">\n",
       "      <th></th>\n",
       "      <th>Alcohol</th>\n",
       "      <th>Malic_Acid</th>\n",
       "      <th>Ash</th>\n",
       "      <th>Ash_Alcanity</th>\n",
       "      <th>Magnesium</th>\n",
       "      <th>Total_Phenols</th>\n",
       "      <th>Flavanoids</th>\n",
       "      <th>Nonflavanoid_Phenols</th>\n",
       "      <th>Proanthocyanins</th>\n",
       "      <th>Color_Intensity</th>\n",
       "      <th>Hue</th>\n",
       "      <th>OD280</th>\n",
       "      <th>Proline</th>\n",
       "      <th>Customer_Segment</th>\n",
       "    </tr>\n",
       "  </thead>\n",
       "  <tbody>\n",
       "    <tr>\n",
       "      <th>0</th>\n",
       "      <td>14.23</td>\n",
       "      <td>1.71</td>\n",
       "      <td>2.43</td>\n",
       "      <td>15.6</td>\n",
       "      <td>127</td>\n",
       "      <td>2.80</td>\n",
       "      <td>3.06</td>\n",
       "      <td>0.28</td>\n",
       "      <td>2.29</td>\n",
       "      <td>5.64</td>\n",
       "      <td>1.04</td>\n",
       "      <td>3.92</td>\n",
       "      <td>1065</td>\n",
       "      <td>1</td>\n",
       "    </tr>\n",
       "    <tr>\n",
       "      <th>1</th>\n",
       "      <td>13.20</td>\n",
       "      <td>1.78</td>\n",
       "      <td>2.14</td>\n",
       "      <td>11.2</td>\n",
       "      <td>100</td>\n",
       "      <td>2.65</td>\n",
       "      <td>2.76</td>\n",
       "      <td>0.26</td>\n",
       "      <td>1.28</td>\n",
       "      <td>4.38</td>\n",
       "      <td>1.05</td>\n",
       "      <td>3.40</td>\n",
       "      <td>1050</td>\n",
       "      <td>1</td>\n",
       "    </tr>\n",
       "    <tr>\n",
       "      <th>2</th>\n",
       "      <td>13.16</td>\n",
       "      <td>2.36</td>\n",
       "      <td>2.67</td>\n",
       "      <td>18.6</td>\n",
       "      <td>101</td>\n",
       "      <td>2.80</td>\n",
       "      <td>3.24</td>\n",
       "      <td>0.30</td>\n",
       "      <td>2.81</td>\n",
       "      <td>5.68</td>\n",
       "      <td>1.03</td>\n",
       "      <td>3.17</td>\n",
       "      <td>1185</td>\n",
       "      <td>1</td>\n",
       "    </tr>\n",
       "    <tr>\n",
       "      <th>3</th>\n",
       "      <td>14.37</td>\n",
       "      <td>1.95</td>\n",
       "      <td>2.50</td>\n",
       "      <td>16.8</td>\n",
       "      <td>113</td>\n",
       "      <td>3.85</td>\n",
       "      <td>3.49</td>\n",
       "      <td>0.24</td>\n",
       "      <td>2.18</td>\n",
       "      <td>7.80</td>\n",
       "      <td>0.86</td>\n",
       "      <td>3.45</td>\n",
       "      <td>1480</td>\n",
       "      <td>1</td>\n",
       "    </tr>\n",
       "    <tr>\n",
       "      <th>4</th>\n",
       "      <td>13.24</td>\n",
       "      <td>2.59</td>\n",
       "      <td>2.87</td>\n",
       "      <td>21.0</td>\n",
       "      <td>118</td>\n",
       "      <td>2.80</td>\n",
       "      <td>2.69</td>\n",
       "      <td>0.39</td>\n",
       "      <td>1.82</td>\n",
       "      <td>4.32</td>\n",
       "      <td>1.04</td>\n",
       "      <td>2.93</td>\n",
       "      <td>735</td>\n",
       "      <td>1</td>\n",
       "    </tr>\n",
       "  </tbody>\n",
       "</table>\n",
       "</div>"
      ],
      "text/plain": [
       "   Alcohol  Malic_Acid   Ash  Ash_Alcanity  Magnesium  Total_Phenols  \\\n",
       "0    14.23        1.71  2.43          15.6        127           2.80   \n",
       "1    13.20        1.78  2.14          11.2        100           2.65   \n",
       "2    13.16        2.36  2.67          18.6        101           2.80   \n",
       "3    14.37        1.95  2.50          16.8        113           3.85   \n",
       "4    13.24        2.59  2.87          21.0        118           2.80   \n",
       "\n",
       "   Flavanoids  Nonflavanoid_Phenols  Proanthocyanins  Color_Intensity   Hue  \\\n",
       "0        3.06                  0.28             2.29             5.64  1.04   \n",
       "1        2.76                  0.26             1.28             4.38  1.05   \n",
       "2        3.24                  0.30             2.81             5.68  1.03   \n",
       "3        3.49                  0.24             2.18             7.80  0.86   \n",
       "4        2.69                  0.39             1.82             4.32  1.04   \n",
       "\n",
       "   OD280  Proline  Customer_Segment  \n",
       "0   3.92     1065                 1  \n",
       "1   3.40     1050                 1  \n",
       "2   3.17     1185                 1  \n",
       "3   3.45     1480                 1  \n",
       "4   2.93      735                 1  "
      ]
     },
     "execution_count": 145,
     "metadata": {},
     "output_type": "execute_result"
    }
   ],
   "source": [
    "#importando os dados e visualizando\n",
    "uri = \"https://raw.githubusercontent.com/alura-cursos/Clustering/Aula-1.-An%C3%A1lise-Explorat%C3%B3ria/Wine.csv\"\n",
    "dados = pd.read_csv(uri)\n",
    "dados.head()"
   ]
  },
  {
   "cell_type": "code",
   "execution_count": 146,
   "id": "0cbf32c6",
   "metadata": {},
   "outputs": [
    {
     "data": {
      "text/plain": [
       "(178, 14)"
      ]
     },
     "execution_count": 146,
     "metadata": {},
     "output_type": "execute_result"
    }
   ],
   "source": [
    "#Forma dos dados\n",
    "dados.shape"
   ]
  },
  {
   "cell_type": "code",
   "execution_count": 147,
   "id": "fa5bc720",
   "metadata": {},
   "outputs": [],
   "source": [
    "#traduzinho as colunas\n",
    "traducao = {\"Alcohol\":\"Alcool\", \n",
    "            \"Malic_Acid\": \"Acido_malico\",\n",
    "            \"Ash\": \"Po\",\n",
    "            \"Ash_Alcanity\": \"Alcalinidade_Po\",\n",
    "            \"Magnesium\": \"Magnesio\",\n",
    "            \"Total_Phenols\": \"total_fenolicos\",\n",
    "            \"Flavanoids\":\"Flavanoides\",\n",
    "            \"Nonflavanoid_Phenols\": \"nao_flavonoide_fenolicos\",\n",
    "            \"Proanthocyanins\":\"Proantocianidinas\",\n",
    "            \"Color_Intensity\": \"Intensidade_cor\",\n",
    "            \"Hue\": \"Matiz\",\n",
    "            \"OD280\":\"OD280\"\n",
    "           }"
   ]
  },
  {
   "cell_type": "code",
   "execution_count": 148,
   "id": "1c4e5d11",
   "metadata": {},
   "outputs": [
    {
     "data": {
      "text/html": [
       "<div>\n",
       "<style scoped>\n",
       "    .dataframe tbody tr th:only-of-type {\n",
       "        vertical-align: middle;\n",
       "    }\n",
       "\n",
       "    .dataframe tbody tr th {\n",
       "        vertical-align: top;\n",
       "    }\n",
       "\n",
       "    .dataframe thead th {\n",
       "        text-align: right;\n",
       "    }\n",
       "</style>\n",
       "<table border=\"1\" class=\"dataframe\">\n",
       "  <thead>\n",
       "    <tr style=\"text-align: right;\">\n",
       "      <th></th>\n",
       "      <th>Alcool</th>\n",
       "      <th>Acido_malico</th>\n",
       "      <th>Po</th>\n",
       "      <th>Alcalinidade_Po</th>\n",
       "      <th>Magnesio</th>\n",
       "      <th>total_fenolicos</th>\n",
       "      <th>Flavanoides</th>\n",
       "      <th>nao_flavonoide_fenolicos</th>\n",
       "      <th>Proantocianidinas</th>\n",
       "      <th>Intensidade_cor</th>\n",
       "      <th>Matiz</th>\n",
       "      <th>OD280</th>\n",
       "      <th>Proline</th>\n",
       "      <th>Customer_Segment</th>\n",
       "    </tr>\n",
       "  </thead>\n",
       "  <tbody>\n",
       "    <tr>\n",
       "      <th>0</th>\n",
       "      <td>14.23</td>\n",
       "      <td>1.71</td>\n",
       "      <td>2.43</td>\n",
       "      <td>15.6</td>\n",
       "      <td>127</td>\n",
       "      <td>2.80</td>\n",
       "      <td>3.06</td>\n",
       "      <td>0.28</td>\n",
       "      <td>2.29</td>\n",
       "      <td>5.64</td>\n",
       "      <td>1.04</td>\n",
       "      <td>3.92</td>\n",
       "      <td>1065</td>\n",
       "      <td>1</td>\n",
       "    </tr>\n",
       "    <tr>\n",
       "      <th>1</th>\n",
       "      <td>13.20</td>\n",
       "      <td>1.78</td>\n",
       "      <td>2.14</td>\n",
       "      <td>11.2</td>\n",
       "      <td>100</td>\n",
       "      <td>2.65</td>\n",
       "      <td>2.76</td>\n",
       "      <td>0.26</td>\n",
       "      <td>1.28</td>\n",
       "      <td>4.38</td>\n",
       "      <td>1.05</td>\n",
       "      <td>3.40</td>\n",
       "      <td>1050</td>\n",
       "      <td>1</td>\n",
       "    </tr>\n",
       "    <tr>\n",
       "      <th>2</th>\n",
       "      <td>13.16</td>\n",
       "      <td>2.36</td>\n",
       "      <td>2.67</td>\n",
       "      <td>18.6</td>\n",
       "      <td>101</td>\n",
       "      <td>2.80</td>\n",
       "      <td>3.24</td>\n",
       "      <td>0.30</td>\n",
       "      <td>2.81</td>\n",
       "      <td>5.68</td>\n",
       "      <td>1.03</td>\n",
       "      <td>3.17</td>\n",
       "      <td>1185</td>\n",
       "      <td>1</td>\n",
       "    </tr>\n",
       "    <tr>\n",
       "      <th>3</th>\n",
       "      <td>14.37</td>\n",
       "      <td>1.95</td>\n",
       "      <td>2.50</td>\n",
       "      <td>16.8</td>\n",
       "      <td>113</td>\n",
       "      <td>3.85</td>\n",
       "      <td>3.49</td>\n",
       "      <td>0.24</td>\n",
       "      <td>2.18</td>\n",
       "      <td>7.80</td>\n",
       "      <td>0.86</td>\n",
       "      <td>3.45</td>\n",
       "      <td>1480</td>\n",
       "      <td>1</td>\n",
       "    </tr>\n",
       "    <tr>\n",
       "      <th>4</th>\n",
       "      <td>13.24</td>\n",
       "      <td>2.59</td>\n",
       "      <td>2.87</td>\n",
       "      <td>21.0</td>\n",
       "      <td>118</td>\n",
       "      <td>2.80</td>\n",
       "      <td>2.69</td>\n",
       "      <td>0.39</td>\n",
       "      <td>1.82</td>\n",
       "      <td>4.32</td>\n",
       "      <td>1.04</td>\n",
       "      <td>2.93</td>\n",
       "      <td>735</td>\n",
       "      <td>1</td>\n",
       "    </tr>\n",
       "  </tbody>\n",
       "</table>\n",
       "</div>"
      ],
      "text/plain": [
       "   Alcool  Acido_malico    Po  Alcalinidade_Po  Magnesio  total_fenolicos  \\\n",
       "0   14.23          1.71  2.43             15.6       127             2.80   \n",
       "1   13.20          1.78  2.14             11.2       100             2.65   \n",
       "2   13.16          2.36  2.67             18.6       101             2.80   \n",
       "3   14.37          1.95  2.50             16.8       113             3.85   \n",
       "4   13.24          2.59  2.87             21.0       118             2.80   \n",
       "\n",
       "   Flavanoides  nao_flavonoide_fenolicos  Proantocianidinas  Intensidade_cor  \\\n",
       "0         3.06                      0.28               2.29             5.64   \n",
       "1         2.76                      0.26               1.28             4.38   \n",
       "2         3.24                      0.30               2.81             5.68   \n",
       "3         3.49                      0.24               2.18             7.80   \n",
       "4         2.69                      0.39               1.82             4.32   \n",
       "\n",
       "   Matiz  OD280  Proline  Customer_Segment  \n",
       "0   1.04   3.92     1065                 1  \n",
       "1   1.05   3.40     1050                 1  \n",
       "2   1.03   3.17     1185                 1  \n",
       "3   0.86   3.45     1480                 1  \n",
       "4   1.04   2.93      735                 1  "
      ]
     },
     "execution_count": 148,
     "metadata": {},
     "output_type": "execute_result"
    }
   ],
   "source": [
    "\n",
    "\n",
    "\n",
    "#aplicando\n",
    "dados = dados.rename(columns=traducao)\n",
    "dados.head()"
   ]
  },
  {
   "cell_type": "code",
   "execution_count": 149,
   "id": "a056e590",
   "metadata": {},
   "outputs": [
    {
     "data": {
      "text/html": [
       "<div>\n",
       "<style scoped>\n",
       "    .dataframe tbody tr th:only-of-type {\n",
       "        vertical-align: middle;\n",
       "    }\n",
       "\n",
       "    .dataframe tbody tr th {\n",
       "        vertical-align: top;\n",
       "    }\n",
       "\n",
       "    .dataframe thead th {\n",
       "        text-align: right;\n",
       "    }\n",
       "</style>\n",
       "<table border=\"1\" class=\"dataframe\">\n",
       "  <thead>\n",
       "    <tr style=\"text-align: right;\">\n",
       "      <th></th>\n",
       "      <th>Alcool</th>\n",
       "      <th>Acido_malico</th>\n",
       "      <th>Po</th>\n",
       "      <th>Alcalinidade_Po</th>\n",
       "      <th>Magnesio</th>\n",
       "      <th>total_fenolicos</th>\n",
       "      <th>Flavanoides</th>\n",
       "      <th>nao_flavonoide_fenolicos</th>\n",
       "      <th>Proantocianidinas</th>\n",
       "      <th>Intensidade_cor</th>\n",
       "      <th>Matiz</th>\n",
       "      <th>OD280</th>\n",
       "      <th>Proline</th>\n",
       "      <th>Customer_Segment</th>\n",
       "    </tr>\n",
       "  </thead>\n",
       "  <tbody>\n",
       "    <tr>\n",
       "      <th>count</th>\n",
       "      <td>178.000000</td>\n",
       "      <td>178.000000</td>\n",
       "      <td>178.000000</td>\n",
       "      <td>178.000000</td>\n",
       "      <td>178.000000</td>\n",
       "      <td>178.000000</td>\n",
       "      <td>178.000000</td>\n",
       "      <td>178.000000</td>\n",
       "      <td>178.000000</td>\n",
       "      <td>178.000000</td>\n",
       "      <td>178.000000</td>\n",
       "      <td>178.000000</td>\n",
       "      <td>178.000000</td>\n",
       "      <td>178.000000</td>\n",
       "    </tr>\n",
       "    <tr>\n",
       "      <th>mean</th>\n",
       "      <td>13.000618</td>\n",
       "      <td>2.336348</td>\n",
       "      <td>2.366517</td>\n",
       "      <td>19.494944</td>\n",
       "      <td>99.741573</td>\n",
       "      <td>2.295112</td>\n",
       "      <td>2.029270</td>\n",
       "      <td>0.361854</td>\n",
       "      <td>1.590899</td>\n",
       "      <td>5.058090</td>\n",
       "      <td>0.957449</td>\n",
       "      <td>2.611685</td>\n",
       "      <td>746.893258</td>\n",
       "      <td>1.938202</td>\n",
       "    </tr>\n",
       "    <tr>\n",
       "      <th>std</th>\n",
       "      <td>0.811827</td>\n",
       "      <td>1.117146</td>\n",
       "      <td>0.274344</td>\n",
       "      <td>3.339564</td>\n",
       "      <td>14.282484</td>\n",
       "      <td>0.625851</td>\n",
       "      <td>0.998859</td>\n",
       "      <td>0.124453</td>\n",
       "      <td>0.572359</td>\n",
       "      <td>2.318286</td>\n",
       "      <td>0.228572</td>\n",
       "      <td>0.709990</td>\n",
       "      <td>314.907474</td>\n",
       "      <td>0.775035</td>\n",
       "    </tr>\n",
       "    <tr>\n",
       "      <th>min</th>\n",
       "      <td>11.030000</td>\n",
       "      <td>0.740000</td>\n",
       "      <td>1.360000</td>\n",
       "      <td>10.600000</td>\n",
       "      <td>70.000000</td>\n",
       "      <td>0.980000</td>\n",
       "      <td>0.340000</td>\n",
       "      <td>0.130000</td>\n",
       "      <td>0.410000</td>\n",
       "      <td>1.280000</td>\n",
       "      <td>0.480000</td>\n",
       "      <td>1.270000</td>\n",
       "      <td>278.000000</td>\n",
       "      <td>1.000000</td>\n",
       "    </tr>\n",
       "    <tr>\n",
       "      <th>25%</th>\n",
       "      <td>12.362500</td>\n",
       "      <td>1.602500</td>\n",
       "      <td>2.210000</td>\n",
       "      <td>17.200000</td>\n",
       "      <td>88.000000</td>\n",
       "      <td>1.742500</td>\n",
       "      <td>1.205000</td>\n",
       "      <td>0.270000</td>\n",
       "      <td>1.250000</td>\n",
       "      <td>3.220000</td>\n",
       "      <td>0.782500</td>\n",
       "      <td>1.937500</td>\n",
       "      <td>500.500000</td>\n",
       "      <td>1.000000</td>\n",
       "    </tr>\n",
       "    <tr>\n",
       "      <th>50%</th>\n",
       "      <td>13.050000</td>\n",
       "      <td>1.865000</td>\n",
       "      <td>2.360000</td>\n",
       "      <td>19.500000</td>\n",
       "      <td>98.000000</td>\n",
       "      <td>2.355000</td>\n",
       "      <td>2.135000</td>\n",
       "      <td>0.340000</td>\n",
       "      <td>1.555000</td>\n",
       "      <td>4.690000</td>\n",
       "      <td>0.965000</td>\n",
       "      <td>2.780000</td>\n",
       "      <td>673.500000</td>\n",
       "      <td>2.000000</td>\n",
       "    </tr>\n",
       "    <tr>\n",
       "      <th>75%</th>\n",
       "      <td>13.677500</td>\n",
       "      <td>3.082500</td>\n",
       "      <td>2.557500</td>\n",
       "      <td>21.500000</td>\n",
       "      <td>107.000000</td>\n",
       "      <td>2.800000</td>\n",
       "      <td>2.875000</td>\n",
       "      <td>0.437500</td>\n",
       "      <td>1.950000</td>\n",
       "      <td>6.200000</td>\n",
       "      <td>1.120000</td>\n",
       "      <td>3.170000</td>\n",
       "      <td>985.000000</td>\n",
       "      <td>3.000000</td>\n",
       "    </tr>\n",
       "    <tr>\n",
       "      <th>max</th>\n",
       "      <td>14.830000</td>\n",
       "      <td>5.800000</td>\n",
       "      <td>3.230000</td>\n",
       "      <td>30.000000</td>\n",
       "      <td>162.000000</td>\n",
       "      <td>3.880000</td>\n",
       "      <td>5.080000</td>\n",
       "      <td>0.660000</td>\n",
       "      <td>3.580000</td>\n",
       "      <td>13.000000</td>\n",
       "      <td>1.710000</td>\n",
       "      <td>4.000000</td>\n",
       "      <td>1680.000000</td>\n",
       "      <td>3.000000</td>\n",
       "    </tr>\n",
       "  </tbody>\n",
       "</table>\n",
       "</div>"
      ],
      "text/plain": [
       "           Alcool  Acido_malico          Po  Alcalinidade_Po    Magnesio  \\\n",
       "count  178.000000    178.000000  178.000000       178.000000  178.000000   \n",
       "mean    13.000618      2.336348    2.366517        19.494944   99.741573   \n",
       "std      0.811827      1.117146    0.274344         3.339564   14.282484   \n",
       "min     11.030000      0.740000    1.360000        10.600000   70.000000   \n",
       "25%     12.362500      1.602500    2.210000        17.200000   88.000000   \n",
       "50%     13.050000      1.865000    2.360000        19.500000   98.000000   \n",
       "75%     13.677500      3.082500    2.557500        21.500000  107.000000   \n",
       "max     14.830000      5.800000    3.230000        30.000000  162.000000   \n",
       "\n",
       "       total_fenolicos  Flavanoides  nao_flavonoide_fenolicos  \\\n",
       "count       178.000000   178.000000                178.000000   \n",
       "mean          2.295112     2.029270                  0.361854   \n",
       "std           0.625851     0.998859                  0.124453   \n",
       "min           0.980000     0.340000                  0.130000   \n",
       "25%           1.742500     1.205000                  0.270000   \n",
       "50%           2.355000     2.135000                  0.340000   \n",
       "75%           2.800000     2.875000                  0.437500   \n",
       "max           3.880000     5.080000                  0.660000   \n",
       "\n",
       "       Proantocianidinas  Intensidade_cor       Matiz       OD280  \\\n",
       "count         178.000000       178.000000  178.000000  178.000000   \n",
       "mean            1.590899         5.058090    0.957449    2.611685   \n",
       "std             0.572359         2.318286    0.228572    0.709990   \n",
       "min             0.410000         1.280000    0.480000    1.270000   \n",
       "25%             1.250000         3.220000    0.782500    1.937500   \n",
       "50%             1.555000         4.690000    0.965000    2.780000   \n",
       "75%             1.950000         6.200000    1.120000    3.170000   \n",
       "max             3.580000        13.000000    1.710000    4.000000   \n",
       "\n",
       "           Proline  Customer_Segment  \n",
       "count   178.000000        178.000000  \n",
       "mean    746.893258          1.938202  \n",
       "std     314.907474          0.775035  \n",
       "min     278.000000          1.000000  \n",
       "25%     500.500000          1.000000  \n",
       "50%     673.500000          2.000000  \n",
       "75%     985.000000          3.000000  \n",
       "max    1680.000000          3.000000  "
      ]
     },
     "execution_count": 149,
     "metadata": {},
     "output_type": "execute_result"
    }
   ],
   "source": [
    "#Análise estatística \n",
    "dados.describe()"
   ]
  },
  {
   "cell_type": "markdown",
   "id": "a3da8050",
   "metadata": {},
   "source": [
    "### Matriz de correlação"
   ]
  },
  {
   "cell_type": "code",
   "execution_count": 150,
   "id": "dd9eac29",
   "metadata": {},
   "outputs": [],
   "source": [
    "matriz_corr = dados.corr()"
   ]
  },
  {
   "cell_type": "code",
   "execution_count": 151,
   "id": "98a084f7",
   "metadata": {},
   "outputs": [],
   "source": [
    "#como a visualização não é tao agradavel, vamos utilizar a bilbioteca biokit\n",
    "#antes de importar tive que instalar pelo prompt da anaconda pip install biokit\n",
    "from biokit.viz import corrplot\n",
    "import matplotlib.pyplot as plt"
   ]
  },
  {
   "cell_type": "code",
   "execution_count": 152,
   "id": "2766d4bf",
   "metadata": {},
   "outputs": [
    {
     "name": "stderr",
     "output_type": "stream",
     "text": [
      "<ipython-input-152-8ef43b4a0c42>:7: UserWarning:\n",
      "\n",
      "Matplotlib is currently using module://ipykernel.pylab.backend_inline, which is a non-GUI backend, so cannot show the figure.\n",
      "\n"
     ]
    },
    {
     "data": {
      "image/png": "[encoded data removed]",
      "text/plain": [
       "<Figure size 936x576 with 2 Axes>"
      ]
     },
     "metadata": {},
     "output_type": "display_data"
    }
   ],
   "source": [
    "corr_graph = corrplot.Corrplot(matriz_corr)\n",
    "#Definindo que quero somente a matriz de correlação superior\n",
    "corr_graph.plot(upper = 'ellipse', fontsize = 'x-large')\n",
    "\n",
    "fig = plt.gcf() #utilizando matplot pra pegar a figura\n",
    "fig.set_size_inches(13,8) #alterando o tamanho\n",
    "fig.show()"
   ]
  },
  {
   "cell_type": "markdown",
   "id": "b5a129e0",
   "metadata": {},
   "source": [
    "Podemos entender quais elementos tem uma forte correlação tanto positva quanto negativa;\n",
    "\n",
    "Positiva: quando um aumenta o o outro também aumenta\n",
    "\n",
    "Negativa: No caso quando um aumenta o o outro diminui"
   ]
  },
  {
   "cell_type": "markdown",
   "id": "f454c49c",
   "metadata": {},
   "source": [
    "### Podemos observar que, os dados variam de uma forma diferente, entao antes de rodar o modelo precisamos normalizar os dados"
   ]
  },
  {
   "cell_type": "code",
   "execution_count": 153,
   "id": "995658a5",
   "metadata": {},
   "outputs": [
    {
     "data": {
      "text/plain": [
       "Index(['Alcool', 'Acido_malico', 'Po', 'Alcalinidade_Po', 'Magnesio',\n",
       "       'total_fenolicos', 'Flavanoides', 'nao_flavonoide_fenolicos',\n",
       "       'Proantocianidinas', 'Intensidade_cor', 'Matiz', 'OD280', 'Proline',\n",
       "       'Customer_Segment'],\n",
       "      dtype='object')"
      ]
     },
     "execution_count": 153,
     "metadata": {},
     "output_type": "execute_result"
    }
   ],
   "source": [
    "#nsse caso os dados vao variar de 0 a 1\n",
    "#verificando nossos atributos\n",
    "atributos = dados.columns\n",
    "atributos"
   ]
  },
  {
   "cell_type": "code",
   "execution_count": 154,
   "id": "e9308b62",
   "metadata": {},
   "outputs": [],
   "source": [
    "#vamos normalizar utilizando mean max scaler(normalização pelo minino e max)\n",
    "for atributo in atributos:\n",
    "    dados[atributo] = (dados[atributo] - min(dados[atributo]))/(max(dados[atributo])-min(dados[atributo]))"
   ]
  },
  {
   "cell_type": "code",
   "execution_count": 155,
   "id": "dd641d93",
   "metadata": {},
   "outputs": [
    {
     "data": {
      "text/html": [
       "<div>\n",
       "<style scoped>\n",
       "    .dataframe tbody tr th:only-of-type {\n",
       "        vertical-align: middle;\n",
       "    }\n",
       "\n",
       "    .dataframe tbody tr th {\n",
       "        vertical-align: top;\n",
       "    }\n",
       "\n",
       "    .dataframe thead th {\n",
       "        text-align: right;\n",
       "    }\n",
       "</style>\n",
       "<table border=\"1\" class=\"dataframe\">\n",
       "  <thead>\n",
       "    <tr style=\"text-align: right;\">\n",
       "      <th></th>\n",
       "      <th>Alcool</th>\n",
       "      <th>Acido_malico</th>\n",
       "      <th>Po</th>\n",
       "      <th>Alcalinidade_Po</th>\n",
       "      <th>Magnesio</th>\n",
       "      <th>total_fenolicos</th>\n",
       "      <th>Flavanoides</th>\n",
       "      <th>nao_flavonoide_fenolicos</th>\n",
       "      <th>Proantocianidinas</th>\n",
       "      <th>Intensidade_cor</th>\n",
       "      <th>Matiz</th>\n",
       "      <th>OD280</th>\n",
       "      <th>Proline</th>\n",
       "      <th>Customer_Segment</th>\n",
       "    </tr>\n",
       "  </thead>\n",
       "  <tbody>\n",
       "    <tr>\n",
       "      <th>0</th>\n",
       "      <td>0.842105</td>\n",
       "      <td>0.191700</td>\n",
       "      <td>0.572193</td>\n",
       "      <td>0.257732</td>\n",
       "      <td>0.619565</td>\n",
       "      <td>0.627586</td>\n",
       "      <td>0.573840</td>\n",
       "      <td>0.283019</td>\n",
       "      <td>0.593060</td>\n",
       "      <td>0.372014</td>\n",
       "      <td>0.455285</td>\n",
       "      <td>0.970696</td>\n",
       "      <td>0.561341</td>\n",
       "      <td>0.0</td>\n",
       "    </tr>\n",
       "    <tr>\n",
       "      <th>1</th>\n",
       "      <td>0.571053</td>\n",
       "      <td>0.205534</td>\n",
       "      <td>0.417112</td>\n",
       "      <td>0.030928</td>\n",
       "      <td>0.326087</td>\n",
       "      <td>0.575862</td>\n",
       "      <td>0.510549</td>\n",
       "      <td>0.245283</td>\n",
       "      <td>0.274448</td>\n",
       "      <td>0.264505</td>\n",
       "      <td>0.463415</td>\n",
       "      <td>0.780220</td>\n",
       "      <td>0.550642</td>\n",
       "      <td>0.0</td>\n",
       "    </tr>\n",
       "    <tr>\n",
       "      <th>2</th>\n",
       "      <td>0.560526</td>\n",
       "      <td>0.320158</td>\n",
       "      <td>0.700535</td>\n",
       "      <td>0.412371</td>\n",
       "      <td>0.336957</td>\n",
       "      <td>0.627586</td>\n",
       "      <td>0.611814</td>\n",
       "      <td>0.320755</td>\n",
       "      <td>0.757098</td>\n",
       "      <td>0.375427</td>\n",
       "      <td>0.447154</td>\n",
       "      <td>0.695971</td>\n",
       "      <td>0.646933</td>\n",
       "      <td>0.0</td>\n",
       "    </tr>\n",
       "    <tr>\n",
       "      <th>3</th>\n",
       "      <td>0.878947</td>\n",
       "      <td>0.239130</td>\n",
       "      <td>0.609626</td>\n",
       "      <td>0.319588</td>\n",
       "      <td>0.467391</td>\n",
       "      <td>0.989655</td>\n",
       "      <td>0.664557</td>\n",
       "      <td>0.207547</td>\n",
       "      <td>0.558360</td>\n",
       "      <td>0.556314</td>\n",
       "      <td>0.308943</td>\n",
       "      <td>0.798535</td>\n",
       "      <td>0.857347</td>\n",
       "      <td>0.0</td>\n",
       "    </tr>\n",
       "    <tr>\n",
       "      <th>4</th>\n",
       "      <td>0.581579</td>\n",
       "      <td>0.365613</td>\n",
       "      <td>0.807487</td>\n",
       "      <td>0.536082</td>\n",
       "      <td>0.521739</td>\n",
       "      <td>0.627586</td>\n",
       "      <td>0.495781</td>\n",
       "      <td>0.490566</td>\n",
       "      <td>0.444795</td>\n",
       "      <td>0.259386</td>\n",
       "      <td>0.455285</td>\n",
       "      <td>0.608059</td>\n",
       "      <td>0.325963</td>\n",
       "      <td>0.0</td>\n",
       "    </tr>\n",
       "  </tbody>\n",
       "</table>\n",
       "</div>"
      ],
      "text/plain": [
       "     Alcool  Acido_malico        Po  Alcalinidade_Po  Magnesio  \\\n",
       "0  0.842105      0.191700  0.572193         0.257732  0.619565   \n",
       "1  0.571053      0.205534  0.417112         0.030928  0.326087   \n",
       "2  0.560526      0.320158  0.700535         0.412371  0.336957   \n",
       "3  0.878947      0.239130  0.609626         0.319588  0.467391   \n",
       "4  0.581579      0.365613  0.807487         0.536082  0.521739   \n",
       "\n",
       "   total_fenolicos  Flavanoides  nao_flavonoide_fenolicos  Proantocianidinas  \\\n",
       "0         0.627586     0.573840                  0.283019           0.593060   \n",
       "1         0.575862     0.510549                  0.245283           0.274448   \n",
       "2         0.627586     0.611814                  0.320755           0.757098   \n",
       "3         0.989655     0.664557                  0.207547           0.558360   \n",
       "4         0.627586     0.495781                  0.490566           0.444795   \n",
       "\n",
       "   Intensidade_cor     Matiz     OD280   Proline  Customer_Segment  \n",
       "0         0.372014  0.455285  0.970696  0.561341               0.0  \n",
       "1         0.264505  0.463415  0.780220  0.550642               0.0  \n",
       "2         0.375427  0.447154  0.695971  0.646933               0.0  \n",
       "3         0.556314  0.308943  0.798535  0.857347               0.0  \n",
       "4         0.259386  0.455285  0.608059  0.325963               0.0  "
      ]
     },
     "execution_count": 155,
     "metadata": {},
     "output_type": "execute_result"
    }
   ],
   "source": [
    "dados.head()"
   ]
  },
  {
   "cell_type": "code",
   "execution_count": 156,
   "id": "05244039",
   "metadata": {},
   "outputs": [
    {
     "data": {
      "text/html": [
       "<div>\n",
       "<style scoped>\n",
       "    .dataframe tbody tr th:only-of-type {\n",
       "        vertical-align: middle;\n",
       "    }\n",
       "\n",
       "    .dataframe tbody tr th {\n",
       "        vertical-align: top;\n",
       "    }\n",
       "\n",
       "    .dataframe thead th {\n",
       "        text-align: right;\n",
       "    }\n",
       "</style>\n",
       "<table border=\"1\" class=\"dataframe\">\n",
       "  <thead>\n",
       "    <tr style=\"text-align: right;\">\n",
       "      <th></th>\n",
       "      <th>Alcool</th>\n",
       "      <th>Acido_malico</th>\n",
       "      <th>Po</th>\n",
       "      <th>Alcalinidade_Po</th>\n",
       "      <th>Magnesio</th>\n",
       "      <th>total_fenolicos</th>\n",
       "      <th>Flavanoides</th>\n",
       "      <th>nao_flavonoide_fenolicos</th>\n",
       "      <th>Proantocianidinas</th>\n",
       "      <th>Intensidade_cor</th>\n",
       "      <th>Matiz</th>\n",
       "      <th>OD280</th>\n",
       "      <th>Proline</th>\n",
       "      <th>Customer_Segment</th>\n",
       "    </tr>\n",
       "  </thead>\n",
       "  <tbody>\n",
       "    <tr>\n",
       "      <th>count</th>\n",
       "      <td>178.000000</td>\n",
       "      <td>178.000000</td>\n",
       "      <td>178.000000</td>\n",
       "      <td>178.000000</td>\n",
       "      <td>178.000000</td>\n",
       "      <td>178.000000</td>\n",
       "      <td>178.000000</td>\n",
       "      <td>178.000000</td>\n",
       "      <td>178.000000</td>\n",
       "      <td>178.000000</td>\n",
       "      <td>178.000000</td>\n",
       "      <td>178.000000</td>\n",
       "      <td>178.000000</td>\n",
       "      <td>178.000000</td>\n",
       "    </tr>\n",
       "    <tr>\n",
       "      <th>mean</th>\n",
       "      <td>0.518584</td>\n",
       "      <td>0.315484</td>\n",
       "      <td>0.538244</td>\n",
       "      <td>0.458502</td>\n",
       "      <td>0.323278</td>\n",
       "      <td>0.453487</td>\n",
       "      <td>0.356386</td>\n",
       "      <td>0.437460</td>\n",
       "      <td>0.372523</td>\n",
       "      <td>0.322363</td>\n",
       "      <td>0.388170</td>\n",
       "      <td>0.491460</td>\n",
       "      <td>0.334446</td>\n",
       "      <td>0.469101</td>\n",
       "    </tr>\n",
       "    <tr>\n",
       "      <th>std</th>\n",
       "      <td>0.213639</td>\n",
       "      <td>0.220780</td>\n",
       "      <td>0.146708</td>\n",
       "      <td>0.172142</td>\n",
       "      <td>0.155244</td>\n",
       "      <td>0.215811</td>\n",
       "      <td>0.210730</td>\n",
       "      <td>0.234818</td>\n",
       "      <td>0.180555</td>\n",
       "      <td>0.197806</td>\n",
       "      <td>0.185831</td>\n",
       "      <td>0.260070</td>\n",
       "      <td>0.224613</td>\n",
       "      <td>0.387517</td>\n",
       "    </tr>\n",
       "    <tr>\n",
       "      <th>min</th>\n",
       "      <td>0.000000</td>\n",
       "      <td>0.000000</td>\n",
       "      <td>0.000000</td>\n",
       "      <td>0.000000</td>\n",
       "      <td>0.000000</td>\n",
       "      <td>0.000000</td>\n",
       "      <td>0.000000</td>\n",
       "      <td>0.000000</td>\n",
       "      <td>0.000000</td>\n",
       "      <td>0.000000</td>\n",
       "      <td>0.000000</td>\n",
       "      <td>0.000000</td>\n",
       "      <td>0.000000</td>\n",
       "      <td>0.000000</td>\n",
       "    </tr>\n",
       "    <tr>\n",
       "      <th>25%</th>\n",
       "      <td>0.350658</td>\n",
       "      <td>0.170455</td>\n",
       "      <td>0.454545</td>\n",
       "      <td>0.340206</td>\n",
       "      <td>0.195652</td>\n",
       "      <td>0.262931</td>\n",
       "      <td>0.182489</td>\n",
       "      <td>0.264151</td>\n",
       "      <td>0.264984</td>\n",
       "      <td>0.165529</td>\n",
       "      <td>0.245935</td>\n",
       "      <td>0.244505</td>\n",
       "      <td>0.158702</td>\n",
       "      <td>0.000000</td>\n",
       "    </tr>\n",
       "    <tr>\n",
       "      <th>50%</th>\n",
       "      <td>0.531579</td>\n",
       "      <td>0.222332</td>\n",
       "      <td>0.534759</td>\n",
       "      <td>0.458763</td>\n",
       "      <td>0.304348</td>\n",
       "      <td>0.474138</td>\n",
       "      <td>0.378692</td>\n",
       "      <td>0.396226</td>\n",
       "      <td>0.361199</td>\n",
       "      <td>0.290956</td>\n",
       "      <td>0.394309</td>\n",
       "      <td>0.553114</td>\n",
       "      <td>0.282097</td>\n",
       "      <td>0.500000</td>\n",
       "    </tr>\n",
       "    <tr>\n",
       "      <th>75%</th>\n",
       "      <td>0.696711</td>\n",
       "      <td>0.462945</td>\n",
       "      <td>0.640374</td>\n",
       "      <td>0.561856</td>\n",
       "      <td>0.402174</td>\n",
       "      <td>0.627586</td>\n",
       "      <td>0.534810</td>\n",
       "      <td>0.580189</td>\n",
       "      <td>0.485804</td>\n",
       "      <td>0.419795</td>\n",
       "      <td>0.520325</td>\n",
       "      <td>0.695971</td>\n",
       "      <td>0.504280</td>\n",
       "      <td>1.000000</td>\n",
       "    </tr>\n",
       "    <tr>\n",
       "      <th>max</th>\n",
       "      <td>1.000000</td>\n",
       "      <td>1.000000</td>\n",
       "      <td>1.000000</td>\n",
       "      <td>1.000000</td>\n",
       "      <td>1.000000</td>\n",
       "      <td>1.000000</td>\n",
       "      <td>1.000000</td>\n",
       "      <td>1.000000</td>\n",
       "      <td>1.000000</td>\n",
       "      <td>1.000000</td>\n",
       "      <td>1.000000</td>\n",
       "      <td>1.000000</td>\n",
       "      <td>1.000000</td>\n",
       "      <td>1.000000</td>\n",
       "    </tr>\n",
       "  </tbody>\n",
       "</table>\n",
       "</div>"
      ],
      "text/plain": [
       "           Alcool  Acido_malico          Po  Alcalinidade_Po    Magnesio  \\\n",
       "count  178.000000    178.000000  178.000000       178.000000  178.000000   \n",
       "mean     0.518584      0.315484    0.538244         0.458502    0.323278   \n",
       "std      0.213639      0.220780    0.146708         0.172142    0.155244   \n",
       "min      0.000000      0.000000    0.000000         0.000000    0.000000   \n",
       "25%      0.350658      0.170455    0.454545         0.340206    0.195652   \n",
       "50%      0.531579      0.222332    0.534759         0.458763    0.304348   \n",
       "75%      0.696711      0.462945    0.640374         0.561856    0.402174   \n",
       "max      1.000000      1.000000    1.000000         1.000000    1.000000   \n",
       "\n",
       "       total_fenolicos  Flavanoides  nao_flavonoide_fenolicos  \\\n",
       "count       178.000000   178.000000                178.000000   \n",
       "mean          0.453487     0.356386                  0.437460   \n",
       "std           0.215811     0.210730                  0.234818   \n",
       "min           0.000000     0.000000                  0.000000   \n",
       "25%           0.262931     0.182489                  0.264151   \n",
       "50%           0.474138     0.378692                  0.396226   \n",
       "75%           0.627586     0.534810                  0.580189   \n",
       "max           1.000000     1.000000                  1.000000   \n",
       "\n",
       "       Proantocianidinas  Intensidade_cor       Matiz       OD280     Proline  \\\n",
       "count         178.000000       178.000000  178.000000  178.000000  178.000000   \n",
       "mean            0.372523         0.322363    0.388170    0.491460    0.334446   \n",
       "std             0.180555         0.197806    0.185831    0.260070    0.224613   \n",
       "min             0.000000         0.000000    0.000000    0.000000    0.000000   \n",
       "25%             0.264984         0.165529    0.245935    0.244505    0.158702   \n",
       "50%             0.361199         0.290956    0.394309    0.553114    0.282097   \n",
       "75%             0.485804         0.419795    0.520325    0.695971    0.504280   \n",
       "max             1.000000         1.000000    1.000000    1.000000    1.000000   \n",
       "\n",
       "       Customer_Segment  \n",
       "count        178.000000  \n",
       "mean           0.469101  \n",
       "std            0.387517  \n",
       "min            0.000000  \n",
       "25%            0.000000  \n",
       "50%            0.500000  \n",
       "75%            1.000000  \n",
       "max            1.000000  "
      ]
     },
     "execution_count": 156,
     "metadata": {},
     "output_type": "execute_result"
    }
   ],
   "source": [
    "dados.describe()"
   ]
  },
  {
   "cell_type": "code",
   "execution_count": 157,
   "id": "70b4055e",
   "metadata": {},
   "outputs": [],
   "source": [
    "# Outra forma de normalizar os dados e pela biblioteca sklearn\n",
    "from sklearn import preprocessing"
   ]
  },
  {
   "cell_type": "code",
   "execution_count": 158,
   "id": "469cf0b0",
   "metadata": {},
   "outputs": [],
   "source": [
    "min_max_scaler = preprocessing.MinMaxScaler()\n",
    "#Transformando os dados para np array\n",
    "np_dados = min_max_scaler.fit_transform(dados)"
   ]
  },
  {
   "cell_type": "code",
   "execution_count": 159,
   "id": "bedc59c9",
   "metadata": {},
   "outputs": [
    {
     "data": {
      "text/html": [
       "<div>\n",
       "<style scoped>\n",
       "    .dataframe tbody tr th:only-of-type {\n",
       "        vertical-align: middle;\n",
       "    }\n",
       "\n",
       "    .dataframe tbody tr th {\n",
       "        vertical-align: top;\n",
       "    }\n",
       "\n",
       "    .dataframe thead th {\n",
       "        text-align: right;\n",
       "    }\n",
       "</style>\n",
       "<table border=\"1\" class=\"dataframe\">\n",
       "  <thead>\n",
       "    <tr style=\"text-align: right;\">\n",
       "      <th></th>\n",
       "      <th>Alcool</th>\n",
       "      <th>Acido_malico</th>\n",
       "      <th>Po</th>\n",
       "      <th>Alcalinidade_Po</th>\n",
       "      <th>Magnesio</th>\n",
       "      <th>total_fenolicos</th>\n",
       "      <th>Flavanoides</th>\n",
       "      <th>nao_flavonoide_fenolicos</th>\n",
       "      <th>Proantocianidinas</th>\n",
       "      <th>Intensidade_cor</th>\n",
       "      <th>Matiz</th>\n",
       "      <th>OD280</th>\n",
       "      <th>Proline</th>\n",
       "      <th>Customer_Segment</th>\n",
       "    </tr>\n",
       "  </thead>\n",
       "  <tbody>\n",
       "    <tr>\n",
       "      <th>0</th>\n",
       "      <td>0.842105</td>\n",
       "      <td>0.191700</td>\n",
       "      <td>0.572193</td>\n",
       "      <td>0.257732</td>\n",
       "      <td>0.619565</td>\n",
       "      <td>0.627586</td>\n",
       "      <td>0.573840</td>\n",
       "      <td>0.283019</td>\n",
       "      <td>0.593060</td>\n",
       "      <td>0.372014</td>\n",
       "      <td>0.455285</td>\n",
       "      <td>0.970696</td>\n",
       "      <td>0.561341</td>\n",
       "      <td>0.0</td>\n",
       "    </tr>\n",
       "    <tr>\n",
       "      <th>1</th>\n",
       "      <td>0.571053</td>\n",
       "      <td>0.205534</td>\n",
       "      <td>0.417112</td>\n",
       "      <td>0.030928</td>\n",
       "      <td>0.326087</td>\n",
       "      <td>0.575862</td>\n",
       "      <td>0.510549</td>\n",
       "      <td>0.245283</td>\n",
       "      <td>0.274448</td>\n",
       "      <td>0.264505</td>\n",
       "      <td>0.463415</td>\n",
       "      <td>0.780220</td>\n",
       "      <td>0.550642</td>\n",
       "      <td>0.0</td>\n",
       "    </tr>\n",
       "    <tr>\n",
       "      <th>2</th>\n",
       "      <td>0.560526</td>\n",
       "      <td>0.320158</td>\n",
       "      <td>0.700535</td>\n",
       "      <td>0.412371</td>\n",
       "      <td>0.336957</td>\n",
       "      <td>0.627586</td>\n",
       "      <td>0.611814</td>\n",
       "      <td>0.320755</td>\n",
       "      <td>0.757098</td>\n",
       "      <td>0.375427</td>\n",
       "      <td>0.447154</td>\n",
       "      <td>0.695971</td>\n",
       "      <td>0.646933</td>\n",
       "      <td>0.0</td>\n",
       "    </tr>\n",
       "    <tr>\n",
       "      <th>3</th>\n",
       "      <td>0.878947</td>\n",
       "      <td>0.239130</td>\n",
       "      <td>0.609626</td>\n",
       "      <td>0.319588</td>\n",
       "      <td>0.467391</td>\n",
       "      <td>0.989655</td>\n",
       "      <td>0.664557</td>\n",
       "      <td>0.207547</td>\n",
       "      <td>0.558360</td>\n",
       "      <td>0.556314</td>\n",
       "      <td>0.308943</td>\n",
       "      <td>0.798535</td>\n",
       "      <td>0.857347</td>\n",
       "      <td>0.0</td>\n",
       "    </tr>\n",
       "    <tr>\n",
       "      <th>4</th>\n",
       "      <td>0.581579</td>\n",
       "      <td>0.365613</td>\n",
       "      <td>0.807487</td>\n",
       "      <td>0.536082</td>\n",
       "      <td>0.521739</td>\n",
       "      <td>0.627586</td>\n",
       "      <td>0.495781</td>\n",
       "      <td>0.490566</td>\n",
       "      <td>0.444795</td>\n",
       "      <td>0.259386</td>\n",
       "      <td>0.455285</td>\n",
       "      <td>0.608059</td>\n",
       "      <td>0.325963</td>\n",
       "      <td>0.0</td>\n",
       "    </tr>\n",
       "  </tbody>\n",
       "</table>\n",
       "</div>"
      ],
      "text/plain": [
       "     Alcool  Acido_malico        Po  Alcalinidade_Po  Magnesio  \\\n",
       "0  0.842105      0.191700  0.572193         0.257732  0.619565   \n",
       "1  0.571053      0.205534  0.417112         0.030928  0.326087   \n",
       "2  0.560526      0.320158  0.700535         0.412371  0.336957   \n",
       "3  0.878947      0.239130  0.609626         0.319588  0.467391   \n",
       "4  0.581579      0.365613  0.807487         0.536082  0.521739   \n",
       "\n",
       "   total_fenolicos  Flavanoides  nao_flavonoide_fenolicos  Proantocianidinas  \\\n",
       "0         0.627586     0.573840                  0.283019           0.593060   \n",
       "1         0.575862     0.510549                  0.245283           0.274448   \n",
       "2         0.627586     0.611814                  0.320755           0.757098   \n",
       "3         0.989655     0.664557                  0.207547           0.558360   \n",
       "4         0.627586     0.495781                  0.490566           0.444795   \n",
       "\n",
       "   Intensidade_cor     Matiz     OD280   Proline  Customer_Segment  \n",
       "0         0.372014  0.455285  0.970696  0.561341               0.0  \n",
       "1         0.264505  0.463415  0.780220  0.550642               0.0  \n",
       "2         0.375427  0.447154  0.695971  0.646933               0.0  \n",
       "3         0.556314  0.308943  0.798535  0.857347               0.0  \n",
       "4         0.259386  0.455285  0.608059  0.325963               0.0  "
      ]
     },
     "execution_count": 159,
     "metadata": {},
     "output_type": "execute_result"
    }
   ],
   "source": [
    "#Agora para o pandas\n",
    "dados = pd.DataFrame(np_dados, columns = atributos)\n",
    "dados.head()"
   ]
  },
  {
   "cell_type": "code",
   "execution_count": 160,
   "id": "ea406357",
   "metadata": {},
   "outputs": [
    {
     "data": {
      "text/html": [
       "<div>\n",
       "<style scoped>\n",
       "    .dataframe tbody tr th:only-of-type {\n",
       "        vertical-align: middle;\n",
       "    }\n",
       "\n",
       "    .dataframe tbody tr th {\n",
       "        vertical-align: top;\n",
       "    }\n",
       "\n",
       "    .dataframe thead th {\n",
       "        text-align: right;\n",
       "    }\n",
       "</style>\n",
       "<table border=\"1\" class=\"dataframe\">\n",
       "  <thead>\n",
       "    <tr style=\"text-align: right;\">\n",
       "      <th></th>\n",
       "      <th>Alcool</th>\n",
       "      <th>Acido_malico</th>\n",
       "      <th>Po</th>\n",
       "      <th>Alcalinidade_Po</th>\n",
       "      <th>Magnesio</th>\n",
       "      <th>total_fenolicos</th>\n",
       "      <th>Flavanoides</th>\n",
       "      <th>nao_flavonoide_fenolicos</th>\n",
       "      <th>Proantocianidinas</th>\n",
       "      <th>Intensidade_cor</th>\n",
       "      <th>Matiz</th>\n",
       "      <th>OD280</th>\n",
       "      <th>Proline</th>\n",
       "      <th>Customer_Segment</th>\n",
       "    </tr>\n",
       "  </thead>\n",
       "  <tbody>\n",
       "    <tr>\n",
       "      <th>count</th>\n",
       "      <td>178.000000</td>\n",
       "      <td>178.000000</td>\n",
       "      <td>178.000000</td>\n",
       "      <td>178.000000</td>\n",
       "      <td>178.000000</td>\n",
       "      <td>178.000000</td>\n",
       "      <td>178.000000</td>\n",
       "      <td>178.000000</td>\n",
       "      <td>178.000000</td>\n",
       "      <td>178.000000</td>\n",
       "      <td>178.000000</td>\n",
       "      <td>178.000000</td>\n",
       "      <td>178.000000</td>\n",
       "      <td>178.000000</td>\n",
       "    </tr>\n",
       "    <tr>\n",
       "      <th>mean</th>\n",
       "      <td>0.518584</td>\n",
       "      <td>0.315484</td>\n",
       "      <td>0.538244</td>\n",
       "      <td>0.458502</td>\n",
       "      <td>0.323278</td>\n",
       "      <td>0.453487</td>\n",
       "      <td>0.356386</td>\n",
       "      <td>0.437460</td>\n",
       "      <td>0.372523</td>\n",
       "      <td>0.322363</td>\n",
       "      <td>0.388170</td>\n",
       "      <td>0.491460</td>\n",
       "      <td>0.334446</td>\n",
       "      <td>0.469101</td>\n",
       "    </tr>\n",
       "    <tr>\n",
       "      <th>std</th>\n",
       "      <td>0.213639</td>\n",
       "      <td>0.220780</td>\n",
       "      <td>0.146708</td>\n",
       "      <td>0.172142</td>\n",
       "      <td>0.155244</td>\n",
       "      <td>0.215811</td>\n",
       "      <td>0.210730</td>\n",
       "      <td>0.234818</td>\n",
       "      <td>0.180555</td>\n",
       "      <td>0.197806</td>\n",
       "      <td>0.185831</td>\n",
       "      <td>0.260070</td>\n",
       "      <td>0.224613</td>\n",
       "      <td>0.387517</td>\n",
       "    </tr>\n",
       "    <tr>\n",
       "      <th>min</th>\n",
       "      <td>0.000000</td>\n",
       "      <td>0.000000</td>\n",
       "      <td>0.000000</td>\n",
       "      <td>0.000000</td>\n",
       "      <td>0.000000</td>\n",
       "      <td>0.000000</td>\n",
       "      <td>0.000000</td>\n",
       "      <td>0.000000</td>\n",
       "      <td>0.000000</td>\n",
       "      <td>0.000000</td>\n",
       "      <td>0.000000</td>\n",
       "      <td>0.000000</td>\n",
       "      <td>0.000000</td>\n",
       "      <td>0.000000</td>\n",
       "    </tr>\n",
       "    <tr>\n",
       "      <th>25%</th>\n",
       "      <td>0.350658</td>\n",
       "      <td>0.170455</td>\n",
       "      <td>0.454545</td>\n",
       "      <td>0.340206</td>\n",
       "      <td>0.195652</td>\n",
       "      <td>0.262931</td>\n",
       "      <td>0.182489</td>\n",
       "      <td>0.264151</td>\n",
       "      <td>0.264984</td>\n",
       "      <td>0.165529</td>\n",
       "      <td>0.245935</td>\n",
       "      <td>0.244505</td>\n",
       "      <td>0.158702</td>\n",
       "      <td>0.000000</td>\n",
       "    </tr>\n",
       "    <tr>\n",
       "      <th>50%</th>\n",
       "      <td>0.531579</td>\n",
       "      <td>0.222332</td>\n",
       "      <td>0.534759</td>\n",
       "      <td>0.458763</td>\n",
       "      <td>0.304348</td>\n",
       "      <td>0.474138</td>\n",
       "      <td>0.378692</td>\n",
       "      <td>0.396226</td>\n",
       "      <td>0.361199</td>\n",
       "      <td>0.290956</td>\n",
       "      <td>0.394309</td>\n",
       "      <td>0.553114</td>\n",
       "      <td>0.282097</td>\n",
       "      <td>0.500000</td>\n",
       "    </tr>\n",
       "    <tr>\n",
       "      <th>75%</th>\n",
       "      <td>0.696711</td>\n",
       "      <td>0.462945</td>\n",
       "      <td>0.640374</td>\n",
       "      <td>0.561856</td>\n",
       "      <td>0.402174</td>\n",
       "      <td>0.627586</td>\n",
       "      <td>0.534810</td>\n",
       "      <td>0.580189</td>\n",
       "      <td>0.485804</td>\n",
       "      <td>0.419795</td>\n",
       "      <td>0.520325</td>\n",
       "      <td>0.695971</td>\n",
       "      <td>0.504280</td>\n",
       "      <td>1.000000</td>\n",
       "    </tr>\n",
       "    <tr>\n",
       "      <th>max</th>\n",
       "      <td>1.000000</td>\n",
       "      <td>1.000000</td>\n",
       "      <td>1.000000</td>\n",
       "      <td>1.000000</td>\n",
       "      <td>1.000000</td>\n",
       "      <td>1.000000</td>\n",
       "      <td>1.000000</td>\n",
       "      <td>1.000000</td>\n",
       "      <td>1.000000</td>\n",
       "      <td>1.000000</td>\n",
       "      <td>1.000000</td>\n",
       "      <td>1.000000</td>\n",
       "      <td>1.000000</td>\n",
       "      <td>1.000000</td>\n",
       "    </tr>\n",
       "  </tbody>\n",
       "</table>\n",
       "</div>"
      ],
      "text/plain": [
       "           Alcool  Acido_malico          Po  Alcalinidade_Po    Magnesio  \\\n",
       "count  178.000000    178.000000  178.000000       178.000000  178.000000   \n",
       "mean     0.518584      0.315484    0.538244         0.458502    0.323278   \n",
       "std      0.213639      0.220780    0.146708         0.172142    0.155244   \n",
       "min      0.000000      0.000000    0.000000         0.000000    0.000000   \n",
       "25%      0.350658      0.170455    0.454545         0.340206    0.195652   \n",
       "50%      0.531579      0.222332    0.534759         0.458763    0.304348   \n",
       "75%      0.696711      0.462945    0.640374         0.561856    0.402174   \n",
       "max      1.000000      1.000000    1.000000         1.000000    1.000000   \n",
       "\n",
       "       total_fenolicos  Flavanoides  nao_flavonoide_fenolicos  \\\n",
       "count       178.000000   178.000000                178.000000   \n",
       "mean          0.453487     0.356386                  0.437460   \n",
       "std           0.215811     0.210730                  0.234818   \n",
       "min           0.000000     0.000000                  0.000000   \n",
       "25%           0.262931     0.182489                  0.264151   \n",
       "50%           0.474138     0.378692                  0.396226   \n",
       "75%           0.627586     0.534810                  0.580189   \n",
       "max           1.000000     1.000000                  1.000000   \n",
       "\n",
       "       Proantocianidinas  Intensidade_cor       Matiz       OD280     Proline  \\\n",
       "count         178.000000       178.000000  178.000000  178.000000  178.000000   \n",
       "mean            0.372523         0.322363    0.388170    0.491460    0.334446   \n",
       "std             0.180555         0.197806    0.185831    0.260070    0.224613   \n",
       "min             0.000000         0.000000    0.000000    0.000000    0.000000   \n",
       "25%             0.264984         0.165529    0.245935    0.244505    0.158702   \n",
       "50%             0.361199         0.290956    0.394309    0.553114    0.282097   \n",
       "75%             0.485804         0.419795    0.520325    0.695971    0.504280   \n",
       "max             1.000000         1.000000    1.000000    1.000000    1.000000   \n",
       "\n",
       "       Customer_Segment  \n",
       "count        178.000000  \n",
       "mean           0.469101  \n",
       "std            0.387517  \n",
       "min            0.000000  \n",
       "25%            0.000000  \n",
       "50%            0.500000  \n",
       "75%            1.000000  \n",
       "max            1.000000  "
      ]
     },
     "execution_count": 160,
     "metadata": {},
     "output_type": "execute_result"
    }
   ],
   "source": [
    "dados.describe()"
   ]
  },
  {
   "cell_type": "markdown",
   "id": "9f41218f",
   "metadata": {},
   "source": [
    "**volta os dados antes de sererm trasnformados (desnormarlização)*\n",
    "\n",
    "np_dados = min_max_scaler_inverse_transform(dados)"
   ]
  },
  {
   "cell_type": "markdown",
   "id": "a5ca8c7b",
   "metadata": {},
   "source": [
    "### Utilizando K means"
   ]
  },
  {
   "cell_type": "code",
   "execution_count": 161,
   "id": "768ea18b",
   "metadata": {},
   "outputs": [],
   "source": [
    "#importando\n",
    "from sklearn.cluster import KMeans"
   ]
  },
  {
   "cell_type": "code",
   "execution_count": 162,
   "id": "75797743",
   "metadata": {},
   "outputs": [
    {
     "data": {
      "text/plain": [
       "KMeans(n_clusters=4)"
      ]
     },
     "execution_count": 162,
     "metadata": {},
     "output_type": "execute_result"
    }
   ],
   "source": [
    "# 4 clusters refre-se o numero de consumidores (grupos)\n",
    "agrupador  = KMeans(n_clusters=4)\n",
    "agrupador.fit(dados)"
   ]
  },
  {
   "cell_type": "code",
   "execution_count": 163,
   "id": "15a91512",
   "metadata": {},
   "outputs": [
    {
     "name": "stdout",
     "output_type": "stream",
     "text": [
      "[0 0 0 0 0 0 0 0 0 0 0 0 0 0 0 0 0 0 0 0 0 0 0 0 0 0 0 0 0 0 0 0 0 0 0 0 0\n",
      " 0 0 0 0 0 0 0 0 0 0 0 0 0 0 0 0 0 0 0 0 0 0 1 1 1 1 3 1 3 3 3 1 3 1 3 3 3\n",
      " 3 1 3 1 3 3 3 3 1 1 3 3 1 1 1 1 1 1 1 3 3 3 3 3 3 3 3 1 3 1 3 1 3 1 3 3 3\n",
      " 3 1 1 3 1 3 3 1 3 3 3 3 3 3 3 3 1 3 1 2 2 2 2 2 2 2 2 2 2 2 2 2 2 2 2 2 2\n",
      " 2 2 2 2 2 2 2 2 2 2 2 2 2 2 2 2 2 2 2 2 2 2 2 2 2 2 2 2 2 2]\n"
     ]
    }
   ],
   "source": [
    "#verificando as etiqueta dos agrupamentos\n",
    "labels = agrupador.labels_\n",
    "print(labels)"
   ]
  },
  {
   "cell_type": "code",
   "execution_count": 164,
   "id": "4ae3bc62",
   "metadata": {},
   "outputs": [
    {
     "name": "stderr",
     "output_type": "stream",
     "text": [
      "<ipython-input-164-3fe9a56949e0>:4: DeprecationWarning:\n",
      "\n",
      "`np.float` is a deprecated alias for the builtin `float`. To silence this warning, use `float` by itself. Doing this will not modify any behavior and is safe. If you specifically wanted the numpy scalar type, use `np.float64` here.\n",
      "Deprecated in NumPy 1.20; for more details and guidance: https://numpy.org/devdocs/release/1.20.0-notes.html#deprecations\n",
      "\n"
     ]
    },
    {
     "data": {
      "application/vnd.plotly.v1+json": {
       "config": {
        "plotlyServerURL": "https://plot.ly"
       },
       "data": [
        {
         "marker": {
          "color": [
           0,
           0,
           0,
           0,
           0,
           0,
           0,
           0,
           0,
           0,
           0,
           0,
           0,
           0,
           0,
           0,
           0,
           0,
           0,
           0,
           0,
           0,
           0,
           0,
           0,
           0,
           0,
           0,
           0,
           0,
           0,
           0,
           0,
           0,
           0,
           0,
           0,
           0,
           0,
           0,
           0,
           0,
           0,
           0,
           0,
           0,
           0,
           0,
           0,
           0,
           0,
           0,
           0,
           0,
           0,
           0,
           0,
           0,
           0,
           1,
           1,
           1,
           1,
           3,
           1,
           3,
           3,
           3,
           1,
           3,
           1,
           3,
           3,
           3,
           3,
           1,
           3,
           1,
           3,
           3,
           3,
           3,
           1,
           1,
           3,
           3,
           1,
           1,
           1,
           1,
           1,
           1,
           1,
           3,
           3,
           3,
           3,
           3,
           3,
           3,
           3,
           1,
           3,
           1,
           3,
           1,
           3,
           1,
           3,
           3,
           3,
           3,
           1,
           1,
           3,
           1,
           3,
           3,
           1,
           3,
           3,
           3,
           3,
           3,
           3,
           3,
           3,
           1,
           3,
           1,
           2,
           2,
           2,
           2,
           2,
           2,
           2,
           2,
           2,
           2,
           2,
           2,
           2,
           2,
           2,
           2,
           2,
           2,
           2,
           2,
           2,
           2,
           2,
           2,
           2,
           2,
           2,
           2,
           2,
           2,
           2,
           2,
           2,
           2,
           2,
           2,
           2,
           2,
           2,
           2,
           2,
           2,
           2,
           2,
           2,
           2,
           2,
           2
          ]
         },
         "mode": "markers",
         "text": [
          0,
          0,
          0,
          0,
          0,
          0,
          0,
          0,
          0,
          0,
          0,
          0,
          0,
          0,
          0,
          0,
          0,
          0,
          0,
          0,
          0,
          0,
          0,
          0,
          0,
          0,
          0,
          0,
          0,
          0,
          0,
          0,
          0,
          0,
          0,
          0,
          0,
          0,
          0,
          0,
          0,
          0,
          0,
          0,
          0,
          0,
          0,
          0,
          0,
          0,
          0,
          0,
          0,
          0,
          0,
          0,
          0,
          0,
          0,
          1,
          1,
          1,
          1,
          3,
          1,
          3,
          3,
          3,
          1,
          3,
          1,
          3,
          3,
          3,
          3,
          1,
          3,
          1,
          3,
          3,
          3,
          3,
          1,
          1,
          3,
          3,
          1,
          1,
          1,
          1,
          1,
          1,
          1,
          3,
          3,
          3,
          3,
          3,
          3,
          3,
          3,
          1,
          3,
          1,
          3,
          1,
          3,
          1,
          3,
          3,
          3,
          3,
          1,
          1,
          3,
          1,
          3,
          3,
          1,
          3,
          3,
          3,
          3,
          3,
          3,
          3,
          3,
          1,
          3,
          1,
          2,
          2,
          2,
          2,
          2,
          2,
          2,
          2,
          2,
          2,
          2,
          2,
          2,
          2,
          2,
          2,
          2,
          2,
          2,
          2,
          2,
          2,
          2,
          2,
          2,
          2,
          2,
          2,
          2,
          2,
          2,
          2,
          2,
          2,
          2,
          2,
          2,
          2,
          2,
          2,
          2,
          2,
          2,
          2,
          2,
          2,
          2,
          2
         ],
         "type": "scatter",
         "x": [
          0.37201365187713303,
          0.26450511945392485,
          0.3754266211604095,
          0.5563139931740614,
          0.2593856655290102,
          0.46672354948805456,
          0.3387372013651877,
          0.3216723549488054,
          0.33447098976109213,
          0.5068259385665528,
          0.3813993174061433,
          0.31740614334470985,
          0.3686006825938566,
          0.3515358361774744,
          0.530716723549488,
          0.5136518771331058,
          0.4197952218430034,
          0.45392491467576784,
          0.6331058020477814,
          0.32593856655290093,
          0.3728668941979522,
          0.27474402730375425,
          0.21501706484641633,
          0.22610921501706485,
          0.19112627986348124,
          0.19624573378839588,
          0.3003412969283276,
          0.22781569965870305,
          0.27474402730375425,
          0.2918088737201365,
          0.37713310580204773,
          0.47952218430034127,
          0.21843003412969278,
          0.3515358361774744,
          0.24914675767918087,
          0.32593856655290093,
          0.28327645051194533,
          0.2534129692832764,
          0.20648464163822525,
          0.32593856655290093,
          0.41382252559726956,
          0.25597269624573377,
          0.3540955631399317,
          0.26279863481228666,
          0.3208191126279863,
          0.3378839590443686,
          0.30887372013651876,
          0.4112627986348122,
          0.4197952218430034,
          0.6501706484641638,
          0.5051194539249146,
          0.3686006825938566,
          0.4923208191126279,
          0.42832764505119447,
          0.3899317406143344,
          0.42406143344709896,
          0.43515358361774736,
          0.4027303754266211,
          0.4709897610921501,
          0.057167235494880536,
          0.1697952218430034,
          0.3813993174061433,
          0.21501706484641633,
          0.2704778156996587,
          0.14249146757679182,
          0.28327645051194533,
          0.3430034129692832,
          0.2901023890784982,
          0.16126279863481227,
          0.13395904436860068,
          0.1510238907849829,
          0.17918088737201363,
          0.2098976109215017,
          0.17662116040955633,
          0.16467576791808872,
          0.21501706484641633,
          0.28327645051194533,
          0.11689419795221842,
          0.18088737201365188,
          0.1100682593856655,
          0.10409556313993173,
          0.2235494880546075,
          0.07849829351535836,
          0.3003412969283276,
          0.1510238907849829,
          0.11433447098976109,
          0.09982935153583619,
          0.11262798634812286,
          0.1296928327645051,
          0.039249146757679175,
          0.09556313993174059,
          0.19795221843003413,
          0.1510238907849829,
          0.07423208191126278,
          0.16808873720136516,
          0.11262798634812286,
          0.10409556313993173,
          0.13822525597269622,
          0.27474402730375425,
          0.08703071672354946,
          0.1723549488054607,
          0.09982935153583619,
          0.1296928327645051,
          0.06655290102389079,
          0.1416382252559727,
          0.121160409556314,
          0.18088737201365188,
          0.1723549488054607,
          0.121160409556314,
          0.11689419795221842,
          0.13822525597269622,
          0.0614334470989761,
          0.21501706484641633,
          0.15358361774744028,
          0.13822525597269622,
          0.05290102389078497,
          0.057167235494880536,
          0.06655290102389079,
          0.18088737201365188,
          0,
          0.16808873720136516,
          0.4027303754266211,
          0.06825938566552901,
          0.11262798634812286,
          0.1296928327645051,
          0.12627986348122863,
          0.22696245733788395,
          0.14675767918088736,
          0.07167235494880546,
          0.11262798634812286,
          0.2406143344709897,
          0.3515358361774744,
          0.37713310580204773,
          0.31740614334470985,
          0.35580204778156993,
          0.49658703071672344,
          0.21928327645051196,
          0.31740614334470985,
          0.37713310580204773,
          0.31058020477815695,
          0.28327645051194533,
          0.3686006825938566,
          0.26194539249146753,
          0.26621160409556316,
          0.591296928327645,
          0.2320819112627986,
          0.30887372013651876,
          0.5435153583617747,
          0.6092150170648464,
          0.6928327645051195,
          0.6245733788395904,
          0.8122866894197953,
          0.49658703071672344,
          0.78839590443686,
          0.5392491467576791,
          0.5648464163822525,
          0.6595563139931739,
          0.530716723549488,
          1,
          0.893344709897611,
          0.5435153583617747,
          0.39249146757679176,
          0.3668941979522184,
          0.341296928327645,
          0.7081911262798635,
          0.4556313993174061,
          0.8020477815699658,
          0.7662116040955631,
          0.629692832764505,
          0.6160409556313993,
          0.3600682593856655,
          0.7354947952218429,
          0.7184300341296928,
          0.5477815699658702,
          0.5136518771331058,
          0.7610921501706485,
          0.6843003412969284,
          0.675767918088737
         ],
         "y": [
          0.8421052631578949,
          0.5710526315789473,
          0.5605263157894738,
          0.8789473684210525,
          0.5815789473684212,
          0.8342105263157893,
          0.8842105263157897,
          0.7973684210526317,
          1,
          0.744736842105263,
          0.8078947368421052,
          0.813157894736842,
          0.7157894736842105,
          0.9789473684210526,
          0.8815789473684212,
          0.6842105263157897,
          0.8605263157894739,
          0.736842105263158,
          0.831578947368421,
          0.686842105263158,
          0.7973684210526317,
          0.5,
          0.7052631578947371,
          0.4789473684210526,
          0.65,
          0.5315789473684213,
          0.6210526315789475,
          0.5973684210526318,
          0.7473684210526313,
          0.7868421052631578,
          0.7105263157894738,
          0.6710526315789475,
          0.6973684210526315,
          0.718421052631579,
          0.6526315789473685,
          0.6447368421052633,
          0.5921052631578946,
          0.5315789473684213,
          0.536842105263158,
          0.8394736842105265,
          0.6657894736842107,
          0.6263157894736843,
          0.7500000000000002,
          0.5815789473684212,
          0.5315789473684213,
          0.8368421052631582,
          0.8815789473684212,
          0.755263157894737,
          0.8078947368421052,
          0.7657894736842105,
          0.5315789473684213,
          0.736842105263158,
          0.7342105263157895,
          0.7210526315789473,
          0.7131578947368422,
          0.6657894736842107,
          0.8394736842105265,
          0.594736842105263,
          0.7078947368421055,
          0.3526315789473683,
          0.34210526315789486,
          0.42368421052631605,
          0.6947368421052632,
          0.3526315789473683,
          0.3000000000000001,
          0.3526315789473683,
          0.5473684210526315,
          0.3526315789473683,
          0.6078947368421053,
          0.31052631578947404,
          0.3315789473684209,
          0.744736842105263,
          0.6473684210526317,
          0.5157894736842107,
          0.2447368421052635,
          0.1657894736842107,
          0.5263157894736841,
          0.21315789473684219,
          0.34210526315789486,
          0.43947368421052624,
          0.25526315789473697,
          0.44473684210526343,
          0.27631578947368435,
          0.5315789473684213,
          0.21315789473684219,
          0.4315789473684211,
          0.2973684210526317,
          0.16315789473684233,
          0.16052631578947396,
          0.27631578947368435,
          0.27631578947368435,
          0.25526315789473697,
          0.43684210526315786,
          0.3315789473684209,
          0.15526315789473677,
          0.3789473684210529,
          0.2052631578947371,
          0.3315789473684209,
          0.3526315789473683,
          0.3315789473684209,
          0.27631578947368435,
          0.4131578947368421,
          0.34473684210526323,
          0.20789473684210547,
          0.38947368421052636,
          0.3657894736842106,
          0.3210526315789475,
          0.44473684210526343,
          0.31315789473684236,
          0.15263157894736842,
          0.11315789473684247,
          0.39210526315789473,
          0.1921052631578948,
          0.10000000000000019,
          0.27631578947368435,
          0,
          0.20789473684210547,
          0.3657894736842106,
          0.45789473684210524,
          0.25526315789473697,
          0.11052631578947364,
          0.13947368421052658,
          0.3657894736842106,
          0.5315789473684213,
          0.22105263157894728,
          0.273684210526316,
          0.368421052631579,
          0.1999999999999999,
          0.3526315789473683,
          0.2657894736842104,
          0.481578947368421,
          0.4868421052631582,
          0.4684210526315792,
          0.43947368421052624,
          0.38947368421052636,
          0.4131578947368421,
          0.3210526315789475,
          0.3947368421052631,
          0.6473684210526317,
          0.47631578947368425,
          0.5,
          0.613157894736842,
          0.6552631578947368,
          0.6815789473684208,
          0.3210526315789475,
          0.5605263157894738,
          0.7500000000000002,
          0.48421052631578937,
          0.6026315789473685,
          0.5394736842105264,
          0.65,
          0.46315789473684194,
          0.5473684210526315,
          0.5789473684210528,
          0.40789473684210537,
          0.5631578947368422,
          0.7394736842105263,
          0.3736842105263157,
          0.8710526315789473,
          0.6447368421052633,
          0.35,
          0.7,
          0.4789473684210526,
          0.5078947368421055,
          0.7236842105263157,
          0.7105263157894738,
          0.6368421052631578,
          0.4710526315789475,
          0.6710526315789475,
          0.623684210526316,
          0.30789473684210517,
          0.45789473684210524,
          0.8236842105263158,
          0.7052631578947371,
          0.623684210526316,
          0.5894736842105263,
          0.5631578947368422,
          0.8157894736842107
         ]
        }
       ],
       "layout": {
        "template": {
         "data": {
          "bar": [
           {
            "error_x": {
             "color": "#2a3f5f"
            },
            "error_y": {
             "color": "#2a3f5f"
            },
            "marker": {
             "line": {
              "color": "#E5ECF6",
              "width": 0.5
             },
             "pattern": {
              "fillmode": "overlay",
              "size": 10,
              "solidity": 0.2
             }
            },
            "type": "bar"
           }
          ],
          "barpolar": [
           {
            "marker": {
             "line": {
              "color": "#E5ECF6",
              "width": 0.5
             },
             "pattern": {
              "fillmode": "overlay",
              "size": 10,
              "solidity": 0.2
             }
            },
            "type": "barpolar"
           }
          ],
          "carpet": [
           {
            "aaxis": {
             "endlinecolor": "#2a3f5f",
             "gridcolor": "white",
             "linecolor": "white",
             "minorgridcolor": "white",
             "startlinecolor": "#2a3f5f"
            },
            "baxis": {
             "endlinecolor": "#2a3f5f",
             "gridcolor": "white",
             "linecolor": "white",
             "minorgridcolor": "white",
             "startlinecolor": "#2a3f5f"
            },
            "type": "carpet"
           }
          ],
          "choropleth": [
           {
            "colorbar": {
             "outlinewidth": 0,
             "ticks": ""
            },
            "type": "choropleth"
           }
          ],
          "contour": [
           {
            "colorbar": {
             "outlinewidth": 0,
             "ticks": ""
            },
            "colorscale": [
             [
              0,
              "#0d0887"
             ],
             [
              0.1111111111111111,
              "#46039f"
             ],
             [
              0.2222222222222222,
              "#7201a8"
             ],
             [
              0.3333333333333333,
              "#9c179e"
             ],
             [
              0.4444444444444444,
              "#bd3786"
             ],
             [
              0.5555555555555556,
              "#d8576b"
             ],
             [
              0.6666666666666666,
              "#ed7953"
             ],
             [
              0.7777777777777778,
              "#fb9f3a"
             ],
             [
              0.8888888888888888,
              "#fdca26"
             ],
             [
              1,
              "#f0f921"
             ]
            ],
            "type": "contour"
           }
          ],
          "contourcarpet": [
           {
            "colorbar": {
             "outlinewidth": 0,
             "ticks": ""
            },
            "type": "contourcarpet"
           }
          ],
          "heatmap": [
           {
            "colorbar": {
             "outlinewidth": 0,
             "ticks": ""
            },
            "colorscale": [
             [
              0,
              "#0d0887"
             ],
             [
              0.1111111111111111,
              "#46039f"
             ],
             [
              0.2222222222222222,
              "#7201a8"
             ],
             [
              0.3333333333333333,
              "#9c179e"
             ],
             [
              0.4444444444444444,
              "#bd3786"
             ],
             [
              0.5555555555555556,
              "#d8576b"
             ],
             [
              0.6666666666666666,
              "#ed7953"
             ],
             [
              0.7777777777777778,
              "#fb9f3a"
             ],
             [
              0.8888888888888888,
              "#fdca26"
             ],
             [
              1,
              "#f0f921"
             ]
            ],
            "type": "heatmap"
           }
          ],
          "heatmapgl": [
           {
            "colorbar": {
             "outlinewidth": 0,
             "ticks": ""
            },
            "colorscale": [
             [
              0,
              "#0d0887"
             ],
             [
              0.1111111111111111,
              "#46039f"
             ],
             [
              0.2222222222222222,
              "#7201a8"
             ],
             [
              0.3333333333333333,
              "#9c179e"
             ],
             [
              0.4444444444444444,
              "#bd3786"
             ],
             [
              0.5555555555555556,
              "#d8576b"
             ],
             [
              0.6666666666666666,
              "#ed7953"
             ],
             [
              0.7777777777777778,
              "#fb9f3a"
             ],
             [
              0.8888888888888888,
              "#fdca26"
             ],
             [
              1,
              "#f0f921"
             ]
            ],
            "type": "heatmapgl"
           }
          ],
          "histogram": [
           {
            "marker": {
             "pattern": {
              "fillmode": "overlay",
              "size": 10,
              "solidity": 0.2
             }
            },
            "type": "histogram"
           }
          ],
          "histogram2d": [
           {
            "colorbar": {
             "outlinewidth": 0,
             "ticks": ""
            },
            "colorscale": [
             [
              0,
              "#0d0887"
             ],
             [
              0.1111111111111111,
              "#46039f"
             ],
             [
              0.2222222222222222,
              "#7201a8"
             ],
             [
              0.3333333333333333,
              "#9c179e"
             ],
             [
              0.4444444444444444,
              "#bd3786"
             ],
             [
              0.5555555555555556,
              "#d8576b"
             ],
             [
              0.6666666666666666,
              "#ed7953"
             ],
             [
              0.7777777777777778,
              "#fb9f3a"
             ],
             [
              0.8888888888888888,
              "#fdca26"
             ],
             [
              1,
              "#f0f921"
             ]
            ],
            "type": "histogram2d"
           }
          ],
          "histogram2dcontour": [
           {
            "colorbar": {
             "outlinewidth": 0,
             "ticks": ""
            },
            "colorscale": [
             [
              0,
              "#0d0887"
             ],
             [
              0.1111111111111111,
              "#46039f"
             ],
             [
              0.2222222222222222,
              "#7201a8"
             ],
             [
              0.3333333333333333,
              "#9c179e"
             ],
             [
              0.4444444444444444,
              "#bd3786"
             ],
             [
              0.5555555555555556,
              "#d8576b"
             ],
             [
              0.6666666666666666,
              "#ed7953"
             ],
             [
              0.7777777777777778,
              "#fb9f3a"
             ],
             [
              0.8888888888888888,
              "#fdca26"
             ],
             [
              1,
              "#f0f921"
             ]
            ],
            "type": "histogram2dcontour"
           }
          ],
          "mesh3d": [
           {
            "colorbar": {
             "outlinewidth": 0,
             "ticks": ""
            },
            "type": "mesh3d"
           }
          ],
          "parcoords": [
           {
            "line": {
             "colorbar": {
              "outlinewidth": 0,
              "ticks": ""
             }
            },
            "type": "parcoords"
           }
          ],
          "pie": [
           {
            "automargin": true,
            "type": "pie"
           }
          ],
          "scatter": [
           {
            "marker": {
             "colorbar": {
              "outlinewidth": 0,
              "ticks": ""
             }
            },
            "type": "scatter"
           }
          ],
          "scatter3d": [
           {
            "line": {
             "colorbar": {
              "outlinewidth": 0,
              "ticks": ""
             }
            },
            "marker": {
             "colorbar": {
              "outlinewidth": 0,
              "ticks": ""
             }
            },
            "type": "scatter3d"
           }
          ],
          "scattercarpet": [
           {
            "marker": {
             "colorbar": {
              "outlinewidth": 0,
              "ticks": ""
             }
            },
            "type": "scattercarpet"
           }
          ],
          "scattergeo": [
           {
            "marker": {
             "colorbar": {
              "outlinewidth": 0,
              "ticks": ""
             }
            },
            "type": "scattergeo"
           }
          ],
          "scattergl": [
           {
            "marker": {
             "colorbar": {
              "outlinewidth": 0,
              "ticks": ""
             }
            },
            "type": "scattergl"
           }
          ],
          "scattermapbox": [
           {
            "marker": {
             "colorbar": {
              "outlinewidth": 0,
              "ticks": ""
             }
            },
            "type": "scattermapbox"
           }
          ],
          "scatterpolar": [
           {
            "marker": {
             "colorbar": {
              "outlinewidth": 0,
              "ticks": ""
             }
            },
            "type": "scatterpolar"
           }
          ],
          "scatterpolargl": [
           {
            "marker": {
             "colorbar": {
              "outlinewidth": 0,
              "ticks": ""
             }
            },
            "type": "scatterpolargl"
           }
          ],
          "scatterternary": [
           {
            "marker": {
             "colorbar": {
              "outlinewidth": 0,
              "ticks": ""
             }
            },
            "type": "scatterternary"
           }
          ],
          "surface": [
           {
            "colorbar": {
             "outlinewidth": 0,
             "ticks": ""
            },
            "colorscale": [
             [
              0,
              "#0d0887"
             ],
             [
              0.1111111111111111,
              "#46039f"
             ],
             [
              0.2222222222222222,
              "#7201a8"
             ],
             [
              0.3333333333333333,
              "#9c179e"
             ],
             [
              0.4444444444444444,
              "#bd3786"
             ],
             [
              0.5555555555555556,
              "#d8576b"
             ],
             [
              0.6666666666666666,
              "#ed7953"
             ],
             [
              0.7777777777777778,
              "#fb9f3a"
             ],
             [
              0.8888888888888888,
              "#fdca26"
             ],
             [
              1,
              "#f0f921"
             ]
            ],
            "type": "surface"
           }
          ],
          "table": [
           {
            "cells": {
             "fill": {
              "color": "#EBF0F8"
             },
             "line": {
              "color": "white"
             }
            },
            "header": {
             "fill": {
              "color": "#C8D4E3"
             },
             "line": {
              "color": "white"
             }
            },
            "type": "table"
           }
          ]
         },
         "layout": {
          "annotationdefaults": {
           "arrowcolor": "#2a3f5f",
           "arrowhead": 0,
           "arrowwidth": 1
          },
          "autotypenumbers": "strict",
          "coloraxis": {
           "colorbar": {
            "outlinewidth": 0,
            "ticks": ""
           }
          },
          "colorscale": {
           "diverging": [
            [
             0,
             "#8e0152"
            ],
            [
             0.1,
             "#c51b7d"
            ],
            [
             0.2,
             "#de77ae"
            ],
            [
             0.3,
             "#f1b6da"
            ],
            [
             0.4,
             "#fde0ef"
            ],
            [
             0.5,
             "#f7f7f7"
            ],
            [
             0.6,
             "#e6f5d0"
            ],
            [
             0.7,
             "#b8e186"
            ],
            [
             0.8,
             "#7fbc41"
            ],
            [
             0.9,
             "#4d9221"
            ],
            [
             1,
             "#276419"
            ]
           ],
           "sequential": [
            [
             0,
             "#0d0887"
            ],
            [
             0.1111111111111111,
             "#46039f"
            ],
            [
             0.2222222222222222,
             "#7201a8"
            ],
            [
             0.3333333333333333,
             "#9c179e"
            ],
            [
             0.4444444444444444,
             "#bd3786"
            ],
            [
             0.5555555555555556,
             "#d8576b"
            ],
            [
             0.6666666666666666,
             "#ed7953"
            ],
            [
             0.7777777777777778,
             "#fb9f3a"
            ],
            [
             0.8888888888888888,
             "#fdca26"
            ],
            [
             1,
             "#f0f921"
            ]
           ],
           "sequentialminus": [
            [
             0,
             "#0d0887"
            ],
            [
             0.1111111111111111,
             "#46039f"
            ],
            [
             0.2222222222222222,
             "#7201a8"
            ],
            [
             0.3333333333333333,
             "#9c179e"
            ],
            [
             0.4444444444444444,
             "#bd3786"
            ],
            [
             0.5555555555555556,
             "#d8576b"
            ],
            [
             0.6666666666666666,
             "#ed7953"
            ],
            [
             0.7777777777777778,
             "#fb9f3a"
            ],
            [
             0.8888888888888888,
             "#fdca26"
            ],
            [
             1,
             "#f0f921"
            ]
           ]
          },
          "colorway": [
           "#636efa",
           "#EF553B",
           "#00cc96",
           "#ab63fa",
           "#FFA15A",
           "#19d3f3",
           "#FF6692",
           "#B6E880",
           "#FF97FF",
           "#FECB52"
          ],
          "font": {
           "color": "#2a3f5f"
          },
          "geo": {
           "bgcolor": "white",
           "lakecolor": "white",
           "landcolor": "#E5ECF6",
           "showlakes": true,
           "showland": true,
           "subunitcolor": "white"
          },
          "hoverlabel": {
           "align": "left"
          },
          "hovermode": "closest",
          "mapbox": {
           "style": "light"
          },
          "paper_bgcolor": "white",
          "plot_bgcolor": "#E5ECF6",
          "polar": {
           "angularaxis": {
            "gridcolor": "white",
            "linecolor": "white",
            "ticks": ""
           },
           "bgcolor": "#E5ECF6",
           "radialaxis": {
            "gridcolor": "white",
            "linecolor": "white",
            "ticks": ""
           }
          },
          "scene": {
           "xaxis": {
            "backgroundcolor": "#E5ECF6",
            "gridcolor": "white",
            "gridwidth": 2,
            "linecolor": "white",
            "showbackground": true,
            "ticks": "",
            "zerolinecolor": "white"
           },
           "yaxis": {
            "backgroundcolor": "#E5ECF6",
            "gridcolor": "white",
            "gridwidth": 2,
            "linecolor": "white",
            "showbackground": true,
            "ticks": "",
            "zerolinecolor": "white"
           },
           "zaxis": {
            "backgroundcolor": "#E5ECF6",
            "gridcolor": "white",
            "gridwidth": 2,
            "linecolor": "white",
            "showbackground": true,
            "ticks": "",
            "zerolinecolor": "white"
           }
          },
          "shapedefaults": {
           "line": {
            "color": "#2a3f5f"
           }
          },
          "ternary": {
           "aaxis": {
            "gridcolor": "white",
            "linecolor": "white",
            "ticks": ""
           },
           "baxis": {
            "gridcolor": "white",
            "linecolor": "white",
            "ticks": ""
           },
           "bgcolor": "#E5ECF6",
           "caxis": {
            "gridcolor": "white",
            "linecolor": "white",
            "ticks": ""
           }
          },
          "title": {
           "x": 0.05
          },
          "xaxis": {
           "automargin": true,
           "gridcolor": "white",
           "linecolor": "white",
           "ticks": "",
           "title": {
            "standoff": 15
           },
           "zerolinecolor": "white",
           "zerolinewidth": 2
          },
          "yaxis": {
           "automargin": true,
           "gridcolor": "white",
           "linecolor": "white",
           "ticks": "",
           "title": {
            "standoff": 15
           },
           "zerolinecolor": "white",
           "zerolinewidth": 2
          }
         }
        }
       }
      },
      "text/html": [
       "<div>                            <div id=\"629b22dc-a283-4371-8935-f576b2f59344\" class=\"plotly-graph-div\" style=\"height:525px; width:100%;\"></div>            <script type=\"text/javascript\">                require([\"plotly\"], function(Plotly) {                    window.PLOTLYENV=window.PLOTLYENV || {};                                    if (document.getElementById(\"629b22dc-a283-4371-8935-f576b2f59344\")) {                    Plotly.newPlot(                        \"629b22dc-a283-4371-8935-f576b2f59344\",                        [{\"marker\":{\"color\":[0.0,0.0,0.0,0.0,0.0,0.0,0.0,0.0,0.0,0.0,0.0,0.0,0.0,0.0,0.0,0.0,0.0,0.0,0.0,0.0,0.0,0.0,0.0,0.0,0.0,0.0,0.0,0.0,0.0,0.0,0.0,0.0,0.0,0.0,0.0,0.0,0.0,0.0,0.0,0.0,0.0,0.0,0.0,0.0,0.0,0.0,0.0,0.0,0.0,0.0,0.0,0.0,0.0,0.0,0.0,0.0,0.0,0.0,0.0,1.0,1.0,1.0,1.0,3.0,1.0,3.0,3.0,3.0,1.0,3.0,1.0,3.0,3.0,3.0,3.0,1.0,3.0,1.0,3.0,3.0,3.0,3.0,1.0,1.0,3.0,3.0,1.0,1.0,1.0,1.0,1.0,1.0,1.0,3.0,3.0,3.0,3.0,3.0,3.0,3.0,3.0,1.0,3.0,1.0,3.0,1.0,3.0,1.0,3.0,3.0,3.0,3.0,1.0,1.0,3.0,1.0,3.0,3.0,1.0,3.0,3.0,3.0,3.0,3.0,3.0,3.0,3.0,1.0,3.0,1.0,2.0,2.0,2.0,2.0,2.0,2.0,2.0,2.0,2.0,2.0,2.0,2.0,2.0,2.0,2.0,2.0,2.0,2.0,2.0,2.0,2.0,2.0,2.0,2.0,2.0,2.0,2.0,2.0,2.0,2.0,2.0,2.0,2.0,2.0,2.0,2.0,2.0,2.0,2.0,2.0,2.0,2.0,2.0,2.0,2.0,2.0,2.0,2.0]},\"mode\":\"markers\",\"text\":[0.0,0.0,0.0,0.0,0.0,0.0,0.0,0.0,0.0,0.0,0.0,0.0,0.0,0.0,0.0,0.0,0.0,0.0,0.0,0.0,0.0,0.0,0.0,0.0,0.0,0.0,0.0,0.0,0.0,0.0,0.0,0.0,0.0,0.0,0.0,0.0,0.0,0.0,0.0,0.0,0.0,0.0,0.0,0.0,0.0,0.0,0.0,0.0,0.0,0.0,0.0,0.0,0.0,0.0,0.0,0.0,0.0,0.0,0.0,1.0,1.0,1.0,1.0,3.0,1.0,3.0,3.0,3.0,1.0,3.0,1.0,3.0,3.0,3.0,3.0,1.0,3.0,1.0,3.0,3.0,3.0,3.0,1.0,1.0,3.0,3.0,1.0,1.0,1.0,1.0,1.0,1.0,1.0,3.0,3.0,3.0,3.0,3.0,3.0,3.0,3.0,1.0,3.0,1.0,3.0,1.0,3.0,1.0,3.0,3.0,3.0,3.0,1.0,1.0,3.0,1.0,3.0,3.0,1.0,3.0,3.0,3.0,3.0,3.0,3.0,3.0,3.0,1.0,3.0,1.0,2.0,2.0,2.0,2.0,2.0,2.0,2.0,2.0,2.0,2.0,2.0,2.0,2.0,2.0,2.0,2.0,2.0,2.0,2.0,2.0,2.0,2.0,2.0,2.0,2.0,2.0,2.0,2.0,2.0,2.0,2.0,2.0,2.0,2.0,2.0,2.0,2.0,2.0,2.0,2.0,2.0,2.0,2.0,2.0,2.0,2.0,2.0,2.0],\"type\":\"scatter\",\"x\":[0.37201365187713303,0.26450511945392485,0.3754266211604095,0.5563139931740614,0.2593856655290102,0.46672354948805456,0.3387372013651877,0.3216723549488054,0.33447098976109213,0.5068259385665528,0.3813993174061433,0.31740614334470985,0.3686006825938566,0.3515358361774744,0.530716723549488,0.5136518771331058,0.4197952218430034,0.45392491467576784,0.6331058020477814,0.32593856655290093,0.3728668941979522,0.27474402730375425,0.21501706484641633,0.22610921501706485,0.19112627986348124,0.19624573378839588,0.3003412969283276,0.22781569965870305,0.27474402730375425,0.2918088737201365,0.37713310580204773,0.47952218430034127,0.21843003412969278,0.3515358361774744,0.24914675767918087,0.32593856655290093,0.28327645051194533,0.2534129692832764,0.20648464163822525,0.32593856655290093,0.41382252559726956,0.25597269624573377,0.3540955631399317,0.26279863481228666,0.3208191126279863,0.3378839590443686,0.30887372013651876,0.4112627986348122,0.4197952218430034,0.6501706484641638,0.5051194539249146,0.3686006825938566,0.4923208191126279,0.42832764505119447,0.3899317406143344,0.42406143344709896,0.43515358361774736,0.4027303754266211,0.4709897610921501,0.057167235494880536,0.1697952218430034,0.3813993174061433,0.21501706484641633,0.2704778156996587,0.14249146757679182,0.28327645051194533,0.3430034129692832,0.2901023890784982,0.16126279863481227,0.13395904436860068,0.1510238907849829,0.17918088737201363,0.2098976109215017,0.17662116040955633,0.16467576791808872,0.21501706484641633,0.28327645051194533,0.11689419795221842,0.18088737201365188,0.1100682593856655,0.10409556313993173,0.2235494880546075,0.07849829351535836,0.3003412969283276,0.1510238907849829,0.11433447098976109,0.09982935153583619,0.11262798634812286,0.1296928327645051,0.039249146757679175,0.09556313993174059,0.19795221843003413,0.1510238907849829,0.07423208191126278,0.16808873720136516,0.11262798634812286,0.10409556313993173,0.13822525597269622,0.27474402730375425,0.08703071672354946,0.1723549488054607,0.09982935153583619,0.1296928327645051,0.06655290102389079,0.1416382252559727,0.121160409556314,0.18088737201365188,0.1723549488054607,0.121160409556314,0.11689419795221842,0.13822525597269622,0.0614334470989761,0.21501706484641633,0.15358361774744028,0.13822525597269622,0.05290102389078497,0.057167235494880536,0.06655290102389079,0.18088737201365188,0.0,0.16808873720136516,0.4027303754266211,0.06825938566552901,0.11262798634812286,0.1296928327645051,0.12627986348122863,0.22696245733788395,0.14675767918088736,0.07167235494880546,0.11262798634812286,0.2406143344709897,0.3515358361774744,0.37713310580204773,0.31740614334470985,0.35580204778156993,0.49658703071672344,0.21928327645051196,0.31740614334470985,0.37713310580204773,0.31058020477815695,0.28327645051194533,0.3686006825938566,0.26194539249146753,0.26621160409556316,0.591296928327645,0.2320819112627986,0.30887372013651876,0.5435153583617747,0.6092150170648464,0.6928327645051195,0.6245733788395904,0.8122866894197953,0.49658703071672344,0.78839590443686,0.5392491467576791,0.5648464163822525,0.6595563139931739,0.530716723549488,1.0,0.893344709897611,0.5435153583617747,0.39249146757679176,0.3668941979522184,0.341296928327645,0.7081911262798635,0.4556313993174061,0.8020477815699658,0.7662116040955631,0.629692832764505,0.6160409556313993,0.3600682593856655,0.7354947952218429,0.7184300341296928,0.5477815699658702,0.5136518771331058,0.7610921501706485,0.6843003412969284,0.675767918088737],\"y\":[0.8421052631578949,0.5710526315789473,0.5605263157894738,0.8789473684210525,0.5815789473684212,0.8342105263157893,0.8842105263157897,0.7973684210526317,1.0,0.744736842105263,0.8078947368421052,0.813157894736842,0.7157894736842105,0.9789473684210526,0.8815789473684212,0.6842105263157897,0.8605263157894739,0.736842105263158,0.831578947368421,0.686842105263158,0.7973684210526317,0.5,0.7052631578947371,0.4789473684210526,0.65,0.5315789473684213,0.6210526315789475,0.5973684210526318,0.7473684210526313,0.7868421052631578,0.7105263157894738,0.6710526315789475,0.6973684210526315,0.718421052631579,0.6526315789473685,0.6447368421052633,0.5921052631578946,0.5315789473684213,0.536842105263158,0.8394736842105265,0.6657894736842107,0.6263157894736843,0.7500000000000002,0.5815789473684212,0.5315789473684213,0.8368421052631582,0.8815789473684212,0.755263157894737,0.8078947368421052,0.7657894736842105,0.5315789473684213,0.736842105263158,0.7342105263157895,0.7210526315789473,0.7131578947368422,0.6657894736842107,0.8394736842105265,0.594736842105263,0.7078947368421055,0.3526315789473683,0.34210526315789486,0.42368421052631605,0.6947368421052632,0.3526315789473683,0.3000000000000001,0.3526315789473683,0.5473684210526315,0.3526315789473683,0.6078947368421053,0.31052631578947404,0.3315789473684209,0.744736842105263,0.6473684210526317,0.5157894736842107,0.2447368421052635,0.1657894736842107,0.5263157894736841,0.21315789473684219,0.34210526315789486,0.43947368421052624,0.25526315789473697,0.44473684210526343,0.27631578947368435,0.5315789473684213,0.21315789473684219,0.4315789473684211,0.2973684210526317,0.16315789473684233,0.16052631578947396,0.27631578947368435,0.27631578947368435,0.25526315789473697,0.43684210526315786,0.3315789473684209,0.15526315789473677,0.3789473684210529,0.2052631578947371,0.3315789473684209,0.3526315789473683,0.3315789473684209,0.27631578947368435,0.4131578947368421,0.34473684210526323,0.20789473684210547,0.38947368421052636,0.3657894736842106,0.3210526315789475,0.44473684210526343,0.31315789473684236,0.15263157894736842,0.11315789473684247,0.39210526315789473,0.1921052631578948,0.10000000000000019,0.27631578947368435,0.0,0.20789473684210547,0.3657894736842106,0.45789473684210524,0.25526315789473697,0.11052631578947364,0.13947368421052658,0.3657894736842106,0.5315789473684213,0.22105263157894728,0.273684210526316,0.368421052631579,0.1999999999999999,0.3526315789473683,0.2657894736842104,0.481578947368421,0.4868421052631582,0.4684210526315792,0.43947368421052624,0.38947368421052636,0.4131578947368421,0.3210526315789475,0.3947368421052631,0.6473684210526317,0.47631578947368425,0.5,0.613157894736842,0.6552631578947368,0.6815789473684208,0.3210526315789475,0.5605263157894738,0.7500000000000002,0.48421052631578937,0.6026315789473685,0.5394736842105264,0.65,0.46315789473684194,0.5473684210526315,0.5789473684210528,0.40789473684210537,0.5631578947368422,0.7394736842105263,0.3736842105263157,0.8710526315789473,0.6447368421052633,0.35,0.7,0.4789473684210526,0.5078947368421055,0.7236842105263157,0.7105263157894738,0.6368421052631578,0.4710526315789475,0.6710526315789475,0.623684210526316,0.30789473684210517,0.45789473684210524,0.8236842105263158,0.7052631578947371,0.623684210526316,0.5894736842105263,0.5631578947368422,0.8157894736842107]}],                        {\"template\":{\"data\":{\"bar\":[{\"error_x\":{\"color\":\"#2a3f5f\"},\"error_y\":{\"color\":\"#2a3f5f\"},\"marker\":{\"line\":{\"color\":\"#E5ECF6\",\"width\":0.5},\"pattern\":{\"fillmode\":\"overlay\",\"size\":10,\"solidity\":0.2}},\"type\":\"bar\"}],\"barpolar\":[{\"marker\":{\"line\":{\"color\":\"#E5ECF6\",\"width\":0.5},\"pattern\":{\"fillmode\":\"overlay\",\"size\":10,\"solidity\":0.2}},\"type\":\"barpolar\"}],\"carpet\":[{\"aaxis\":{\"endlinecolor\":\"#2a3f5f\",\"gridcolor\":\"white\",\"linecolor\":\"white\",\"minorgridcolor\":\"white\",\"startlinecolor\":\"#2a3f5f\"},\"baxis\":{\"endlinecolor\":\"#2a3f5f\",\"gridcolor\":\"white\",\"linecolor\":\"white\",\"minorgridcolor\":\"white\",\"startlinecolor\":\"#2a3f5f\"},\"type\":\"carpet\"}],\"choropleth\":[{\"colorbar\":{\"outlinewidth\":0,\"ticks\":\"\"},\"type\":\"choropleth\"}],\"contour\":[{\"colorbar\":{\"outlinewidth\":0,\"ticks\":\"\"},\"colorscale\":[[0.0,\"#0d0887\"],[0.1111111111111111,\"#46039f\"],[0.2222222222222222,\"#7201a8\"],[0.3333333333333333,\"#9c179e\"],[0.4444444444444444,\"#bd3786\"],[0.5555555555555556,\"#d8576b\"],[0.6666666666666666,\"#ed7953\"],[0.7777777777777778,\"#fb9f3a\"],[0.8888888888888888,\"#fdca26\"],[1.0,\"#f0f921\"]],\"type\":\"contour\"}],\"contourcarpet\":[{\"colorbar\":{\"outlinewidth\":0,\"ticks\":\"\"},\"type\":\"contourcarpet\"}],\"heatmap\":[{\"colorbar\":{\"outlinewidth\":0,\"ticks\":\"\"},\"colorscale\":[[0.0,\"#0d0887\"],[0.1111111111111111,\"#46039f\"],[0.2222222222222222,\"#7201a8\"],[0.3333333333333333,\"#9c179e\"],[0.4444444444444444,\"#bd3786\"],[0.5555555555555556,\"#d8576b\"],[0.6666666666666666,\"#ed7953\"],[0.7777777777777778,\"#fb9f3a\"],[0.8888888888888888,\"#fdca26\"],[1.0,\"#f0f921\"]],\"type\":\"heatmap\"}],\"heatmapgl\":[{\"colorbar\":{\"outlinewidth\":0,\"ticks\":\"\"},\"colorscale\":[[0.0,\"#0d0887\"],[0.1111111111111111,\"#46039f\"],[0.2222222222222222,\"#7201a8\"],[0.3333333333333333,\"#9c179e\"],[0.4444444444444444,\"#bd3786\"],[0.5555555555555556,\"#d8576b\"],[0.6666666666666666,\"#ed7953\"],[0.7777777777777778,\"#fb9f3a\"],[0.8888888888888888,\"#fdca26\"],[1.0,\"#f0f921\"]],\"type\":\"heatmapgl\"}],\"histogram\":[{\"marker\":{\"pattern\":{\"fillmode\":\"overlay\",\"size\":10,\"solidity\":0.2}},\"type\":\"histogram\"}],\"histogram2d\":[{\"colorbar\":{\"outlinewidth\":0,\"ticks\":\"\"},\"colorscale\":[[0.0,\"#0d0887\"],[0.1111111111111111,\"#46039f\"],[0.2222222222222222,\"#7201a8\"],[0.3333333333333333,\"#9c179e\"],[0.4444444444444444,\"#bd3786\"],[0.5555555555555556,\"#d8576b\"],[0.6666666666666666,\"#ed7953\"],[0.7777777777777778,\"#fb9f3a\"],[0.8888888888888888,\"#fdca26\"],[1.0,\"#f0f921\"]],\"type\":\"histogram2d\"}],\"histogram2dcontour\":[{\"colorbar\":{\"outlinewidth\":0,\"ticks\":\"\"},\"colorscale\":[[0.0,\"#0d0887\"],[0.1111111111111111,\"#46039f\"],[0.2222222222222222,\"#7201a8\"],[0.3333333333333333,\"#9c179e\"],[0.4444444444444444,\"#bd3786\"],[0.5555555555555556,\"#d8576b\"],[0.6666666666666666,\"#ed7953\"],[0.7777777777777778,\"#fb9f3a\"],[0.8888888888888888,\"#fdca26\"],[1.0,\"#f0f921\"]],\"type\":\"histogram2dcontour\"}],\"mesh3d\":[{\"colorbar\":{\"outlinewidth\":0,\"ticks\":\"\"},\"type\":\"mesh3d\"}],\"parcoords\":[{\"line\":{\"colorbar\":{\"outlinewidth\":0,\"ticks\":\"\"}},\"type\":\"parcoords\"}],\"pie\":[{\"automargin\":true,\"type\":\"pie\"}],\"scatter\":[{\"marker\":{\"colorbar\":{\"outlinewidth\":0,\"ticks\":\"\"}},\"type\":\"scatter\"}],\"scatter3d\":[{\"line\":{\"colorbar\":{\"outlinewidth\":0,\"ticks\":\"\"}},\"marker\":{\"colorbar\":{\"outlinewidth\":0,\"ticks\":\"\"}},\"type\":\"scatter3d\"}],\"scattercarpet\":[{\"marker\":{\"colorbar\":{\"outlinewidth\":0,\"ticks\":\"\"}},\"type\":\"scattercarpet\"}],\"scattergeo\":[{\"marker\":{\"colorbar\":{\"outlinewidth\":0,\"ticks\":\"\"}},\"type\":\"scattergeo\"}],\"scattergl\":[{\"marker\":{\"colorbar\":{\"outlinewidth\":0,\"ticks\":\"\"}},\"type\":\"scattergl\"}],\"scattermapbox\":[{\"marker\":{\"colorbar\":{\"outlinewidth\":0,\"ticks\":\"\"}},\"type\":\"scattermapbox\"}],\"scatterpolar\":[{\"marker\":{\"colorbar\":{\"outlinewidth\":0,\"ticks\":\"\"}},\"type\":\"scatterpolar\"}],\"scatterpolargl\":[{\"marker\":{\"colorbar\":{\"outlinewidth\":0,\"ticks\":\"\"}},\"type\":\"scatterpolargl\"}],\"scatterternary\":[{\"marker\":{\"colorbar\":{\"outlinewidth\":0,\"ticks\":\"\"}},\"type\":\"scatterternary\"}],\"surface\":[{\"colorbar\":{\"outlinewidth\":0,\"ticks\":\"\"},\"colorscale\":[[0.0,\"#0d0887\"],[0.1111111111111111,\"#46039f\"],[0.2222222222222222,\"#7201a8\"],[0.3333333333333333,\"#9c179e\"],[0.4444444444444444,\"#bd3786\"],[0.5555555555555556,\"#d8576b\"],[0.6666666666666666,\"#ed7953\"],[0.7777777777777778,\"#fb9f3a\"],[0.8888888888888888,\"#fdca26\"],[1.0,\"#f0f921\"]],\"type\":\"surface\"}],\"table\":[{\"cells\":{\"fill\":{\"color\":\"#EBF0F8\"},\"line\":{\"color\":\"white\"}},\"header\":{\"fill\":{\"color\":\"#C8D4E3\"},\"line\":{\"color\":\"white\"}},\"type\":\"table\"}]},\"layout\":{\"annotationdefaults\":{\"arrowcolor\":\"#2a3f5f\",\"arrowhead\":0,\"arrowwidth\":1},\"autotypenumbers\":\"strict\",\"coloraxis\":{\"colorbar\":{\"outlinewidth\":0,\"ticks\":\"\"}},\"colorscale\":{\"diverging\":[[0,\"#8e0152\"],[0.1,\"#c51b7d\"],[0.2,\"#de77ae\"],[0.3,\"#f1b6da\"],[0.4,\"#fde0ef\"],[0.5,\"#f7f7f7\"],[0.6,\"#e6f5d0\"],[0.7,\"#b8e186\"],[0.8,\"#7fbc41\"],[0.9,\"#4d9221\"],[1,\"#276419\"]],\"sequential\":[[0.0,\"#0d0887\"],[0.1111111111111111,\"#46039f\"],[0.2222222222222222,\"#7201a8\"],[0.3333333333333333,\"#9c179e\"],[0.4444444444444444,\"#bd3786\"],[0.5555555555555556,\"#d8576b\"],[0.6666666666666666,\"#ed7953\"],[0.7777777777777778,\"#fb9f3a\"],[0.8888888888888888,\"#fdca26\"],[1.0,\"#f0f921\"]],\"sequentialminus\":[[0.0,\"#0d0887\"],[0.1111111111111111,\"#46039f\"],[0.2222222222222222,\"#7201a8\"],[0.3333333333333333,\"#9c179e\"],[0.4444444444444444,\"#bd3786\"],[0.5555555555555556,\"#d8576b\"],[0.6666666666666666,\"#ed7953\"],[0.7777777777777778,\"#fb9f3a\"],[0.8888888888888888,\"#fdca26\"],[1.0,\"#f0f921\"]]},\"colorway\":[\"#636efa\",\"#EF553B\",\"#00cc96\",\"#ab63fa\",\"#FFA15A\",\"#19d3f3\",\"#FF6692\",\"#B6E880\",\"#FF97FF\",\"#FECB52\"],\"font\":{\"color\":\"#2a3f5f\"},\"geo\":{\"bgcolor\":\"white\",\"lakecolor\":\"white\",\"landcolor\":\"#E5ECF6\",\"showlakes\":true,\"showland\":true,\"subunitcolor\":\"white\"},\"hoverlabel\":{\"align\":\"left\"},\"hovermode\":\"closest\",\"mapbox\":{\"style\":\"light\"},\"paper_bgcolor\":\"white\",\"plot_bgcolor\":\"#E5ECF6\",\"polar\":{\"angularaxis\":{\"gridcolor\":\"white\",\"linecolor\":\"white\",\"ticks\":\"\"},\"bgcolor\":\"#E5ECF6\",\"radialaxis\":{\"gridcolor\":\"white\",\"linecolor\":\"white\",\"ticks\":\"\"}},\"scene\":{\"xaxis\":{\"backgroundcolor\":\"#E5ECF6\",\"gridcolor\":\"white\",\"gridwidth\":2,\"linecolor\":\"white\",\"showbackground\":true,\"ticks\":\"\",\"zerolinecolor\":\"white\"},\"yaxis\":{\"backgroundcolor\":\"#E5ECF6\",\"gridcolor\":\"white\",\"gridwidth\":2,\"linecolor\":\"white\",\"showbackground\":true,\"ticks\":\"\",\"zerolinecolor\":\"white\"},\"zaxis\":{\"backgroundcolor\":\"#E5ECF6\",\"gridcolor\":\"white\",\"gridwidth\":2,\"linecolor\":\"white\",\"showbackground\":true,\"ticks\":\"\",\"zerolinecolor\":\"white\"}},\"shapedefaults\":{\"line\":{\"color\":\"#2a3f5f\"}},\"ternary\":{\"aaxis\":{\"gridcolor\":\"white\",\"linecolor\":\"white\",\"ticks\":\"\"},\"baxis\":{\"gridcolor\":\"white\",\"linecolor\":\"white\",\"ticks\":\"\"},\"bgcolor\":\"#E5ECF6\",\"caxis\":{\"gridcolor\":\"white\",\"linecolor\":\"white\",\"ticks\":\"\"}},\"title\":{\"x\":0.05},\"xaxis\":{\"automargin\":true,\"gridcolor\":\"white\",\"linecolor\":\"white\",\"ticks\":\"\",\"title\":{\"standoff\":15},\"zerolinecolor\":\"white\",\"zerolinewidth\":2},\"yaxis\":{\"automargin\":true,\"gridcolor\":\"white\",\"linecolor\":\"white\",\"ticks\":\"\",\"title\":{\"standoff\":15},\"zerolinecolor\":\"white\",\"zerolinewidth\":2}}}},                        {\"responsive\": true}                    ).then(function(){\n",
       "                            \n",
       "var gd = document.getElementById('629b22dc-a283-4371-8935-f576b2f59344');\n",
       "var x = new MutationObserver(function (mutations, observer) {{\n",
       "        var display = window.getComputedStyle(gd).display;\n",
       "        if (!display || display === 'none') {{\n",
       "            console.log([gd, 'removed!']);\n",
       "            Plotly.purge(gd);\n",
       "            observer.disconnect();\n",
       "        }}\n",
       "}});\n",
       "\n",
       "// Listen for the removal of the full notebook cells\n",
       "var notebookContainer = gd.closest('#notebook-container');\n",
       "if (notebookContainer) {{\n",
       "    x.observe(notebookContainer, {childList: true});\n",
       "}}\n",
       "\n",
       "// Listen for the clearing of the current output cell\n",
       "var outputEl = gd.closest('.output');\n",
       "if (outputEl) {{\n",
       "    x.observe(outputEl, {childList: true});\n",
       "}}\n",
       "\n",
       "                        })                };                });            </script>        </div>"
      ]
     },
     "metadata": {},
     "output_type": "display_data"
    }
   ],
   "source": [
    "#vamos plotar para melhorar a visualização\n",
    "fig = go.Figure()\n",
    "fig.add_trace(go.Scatter(x = dados['Intensidade_cor'], y=dados['Alcool'],\n",
    "                       mode= 'markers', marker = dict(color = agrupador.labels_.astype(np.float)),\n",
    "                       text = labels))\n",
    "fig.show()"
   ]
  },
  {
   "cell_type": "markdown",
   "id": "f8e94c5e",
   "metadata": {},
   "source": [
    "Podemos visualizar alguns grupos proximos um do outro, porém nao podemos tirar nenhum insight, pois só estamos observando tres dimensoes, precisamos entender se a distância dos pontos é real significativa."
   ]
  },
  {
   "cell_type": "code",
   "execution_count": 165,
   "id": "3514126b",
   "metadata": {},
   "outputs": [
    {
     "name": "stdout",
     "output_type": "stream",
     "text": [
      "[2 2 2 2 2 2 2 2 2 2 2 2 2 2 2 2 2 2 2 2 2 2 2 2 2 2 2 2 2 2 2 2 2 2 2 2 2\n",
      " 2 2 2 2 2 2 2 2 2 2 2 2 2 2 2 2 2 2 2 2 2 2 0 0 0 0 0 0 0 0 0 0 0 0 0 0 2\n",
      " 0 0 0 0 0 0 0 0 0 1 0 0 0 0 0 0 0 0 0 0 0 0 0 0 0 0 0 0 0 0 0 0 0 0 0 0 0\n",
      " 0 0 0 0 0 0 0 0 0 0 0 0 0 0 0 0 0 0 0 1 1 1 1 1 1 1 1 1 1 1 1 1 1 1 1 1 1\n",
      " 1 1 1 1 1 1 1 1 1 1 1 1 1 1 1 1 1 1 1 1 1 1 1 1 1 1 1 1 1 1]\n"
     ]
    }
   ],
   "source": [
    "# Separando em tres grupos\n",
    "agrupador = KMeans(n_clusters=3)\n",
    "agrupador.fit(dados)\n",
    "labels = agrupador.labels_\n",
    "print(labels)"
   ]
  },
  {
   "cell_type": "code",
   "execution_count": 166,
   "id": "5e5e1569",
   "metadata": {},
   "outputs": [
    {
     "data": {
      "application/vnd.plotly.v1+json": {
       "config": {
        "plotlyServerURL": "https://plot.ly"
       },
       "data": [
        {
         "marker": {
          "color": [
           2,
           2,
           2,
           2,
           2,
           2,
           2,
           2,
           2,
           2,
           2,
           2,
           2,
           2,
           2,
           2,
           2,
           2,
           2,
           2,
           2,
           2,
           2,
           2,
           2,
           2,
           2,
           2,
           2,
           2,
           2,
           2,
           2,
           2,
           2,
           2,
           2,
           2,
           2,
           2,
           2,
           2,
           2,
           2,
           2,
           2,
           2,
           2,
           2,
           2,
           2,
           2,
           2,
           2,
           2,
           2,
           2,
           2,
           2,
           0,
           0,
           0,
           0,
           0,
           0,
           0,
           0,
           0,
           0,
           0,
           0,
           0,
           0,
           2,
           0,
           0,
           0,
           0,
           0,
           0,
           0,
           0,
           0,
           1,
           0,
           0,
           0,
           0,
           0,
           0,
           0,
           0,
           0,
           0,
           0,
           0,
           0,
           0,
           0,
           0,
           0,
           0,
           0,
           0,
           0,
           0,
           0,
           0,
           0,
           0,
           0,
           0,
           0,
           0,
           0,
           0,
           0,
           0,
           0,
           0,
           0,
           0,
           0,
           0,
           0,
           0,
           0,
           0,
           0,
           0,
           1,
           1,
           1,
           1,
           1,
           1,
           1,
           1,
           1,
           1,
           1,
           1,
           1,
           1,
           1,
           1,
           1,
           1,
           1,
           1,
           1,
           1,
           1,
           1,
           1,
           1,
           1,
           1,
           1,
           1,
           1,
           1,
           1,
           1,
           1,
           1,
           1,
           1,
           1,
           1,
           1,
           1,
           1,
           1,
           1,
           1,
           1,
           1
          ]
         },
         "mode": "markers",
         "text": [
          2,
          2,
          2,
          2,
          2,
          2,
          2,
          2,
          2,
          2,
          2,
          2,
          2,
          2,
          2,
          2,
          2,
          2,
          2,
          2,
          2,
          2,
          2,
          2,
          2,
          2,
          2,
          2,
          2,
          2,
          2,
          2,
          2,
          2,
          2,
          2,
          2,
          2,
          2,
          2,
          2,
          2,
          2,
          2,
          2,
          2,
          2,
          2,
          2,
          2,
          2,
          2,
          2,
          2,
          2,
          2,
          2,
          2,
          2,
          0,
          0,
          0,
          0,
          0,
          0,
          0,
          0,
          0,
          0,
          0,
          0,
          0,
          0,
          2,
          0,
          0,
          0,
          0,
          0,
          0,
          0,
          0,
          0,
          1,
          0,
          0,
          0,
          0,
          0,
          0,
          0,
          0,
          0,
          0,
          0,
          0,
          0,
          0,
          0,
          0,
          0,
          0,
          0,
          0,
          0,
          0,
          0,
          0,
          0,
          0,
          0,
          0,
          0,
          0,
          0,
          0,
          0,
          0,
          0,
          0,
          0,
          0,
          0,
          0,
          0,
          0,
          0,
          0,
          0,
          0,
          1,
          1,
          1,
          1,
          1,
          1,
          1,
          1,
          1,
          1,
          1,
          1,
          1,
          1,
          1,
          1,
          1,
          1,
          1,
          1,
          1,
          1,
          1,
          1,
          1,
          1,
          1,
          1,
          1,
          1,
          1,
          1,
          1,
          1,
          1,
          1,
          1,
          1,
          1,
          1,
          1,
          1,
          1,
          1,
          1,
          1,
          1,
          1
         ],
         "type": "scatter",
         "x": [
          0.37201365187713303,
          0.26450511945392485,
          0.3754266211604095,
          0.5563139931740614,
          0.2593856655290102,
          0.46672354948805456,
          0.3387372013651877,
          0.3216723549488054,
          0.33447098976109213,
          0.5068259385665528,
          0.3813993174061433,
          0.31740614334470985,
          0.3686006825938566,
          0.3515358361774744,
          0.530716723549488,
          0.5136518771331058,
          0.4197952218430034,
          0.45392491467576784,
          0.6331058020477814,
          0.32593856655290093,
          0.3728668941979522,
          0.27474402730375425,
          0.21501706484641633,
          0.22610921501706485,
          0.19112627986348124,
          0.19624573378839588,
          0.3003412969283276,
          0.22781569965870305,
          0.27474402730375425,
          0.2918088737201365,
          0.37713310580204773,
          0.47952218430034127,
          0.21843003412969278,
          0.3515358361774744,
          0.24914675767918087,
          0.32593856655290093,
          0.28327645051194533,
          0.2534129692832764,
          0.20648464163822525,
          0.32593856655290093,
          0.41382252559726956,
          0.25597269624573377,
          0.3540955631399317,
          0.26279863481228666,
          0.3208191126279863,
          0.3378839590443686,
          0.30887372013651876,
          0.4112627986348122,
          0.4197952218430034,
          0.6501706484641638,
          0.5051194539249146,
          0.3686006825938566,
          0.4923208191126279,
          0.42832764505119447,
          0.3899317406143344,
          0.42406143344709896,
          0.43515358361774736,
          0.4027303754266211,
          0.4709897610921501,
          0.057167235494880536,
          0.1697952218430034,
          0.3813993174061433,
          0.21501706484641633,
          0.2704778156996587,
          0.14249146757679182,
          0.28327645051194533,
          0.3430034129692832,
          0.2901023890784982,
          0.16126279863481227,
          0.13395904436860068,
          0.1510238907849829,
          0.17918088737201363,
          0.2098976109215017,
          0.17662116040955633,
          0.16467576791808872,
          0.21501706484641633,
          0.28327645051194533,
          0.11689419795221842,
          0.18088737201365188,
          0.1100682593856655,
          0.10409556313993173,
          0.2235494880546075,
          0.07849829351535836,
          0.3003412969283276,
          0.1510238907849829,
          0.11433447098976109,
          0.09982935153583619,
          0.11262798634812286,
          0.1296928327645051,
          0.039249146757679175,
          0.09556313993174059,
          0.19795221843003413,
          0.1510238907849829,
          0.07423208191126278,
          0.16808873720136516,
          0.11262798634812286,
          0.10409556313993173,
          0.13822525597269622,
          0.27474402730375425,
          0.08703071672354946,
          0.1723549488054607,
          0.09982935153583619,
          0.1296928327645051,
          0.06655290102389079,
          0.1416382252559727,
          0.121160409556314,
          0.18088737201365188,
          0.1723549488054607,
          0.121160409556314,
          0.11689419795221842,
          0.13822525597269622,
          0.0614334470989761,
          0.21501706484641633,
          0.15358361774744028,
          0.13822525597269622,
          0.05290102389078497,
          0.057167235494880536,
          0.06655290102389079,
          0.18088737201365188,
          0,
          0.16808873720136516,
          0.4027303754266211,
          0.06825938566552901,
          0.11262798634812286,
          0.1296928327645051,
          0.12627986348122863,
          0.22696245733788395,
          0.14675767918088736,
          0.07167235494880546,
          0.11262798634812286,
          0.2406143344709897,
          0.3515358361774744,
          0.37713310580204773,
          0.31740614334470985,
          0.35580204778156993,
          0.49658703071672344,
          0.21928327645051196,
          0.31740614334470985,
          0.37713310580204773,
          0.31058020477815695,
          0.28327645051194533,
          0.3686006825938566,
          0.26194539249146753,
          0.26621160409556316,
          0.591296928327645,
          0.2320819112627986,
          0.30887372013651876,
          0.5435153583617747,
          0.6092150170648464,
          0.6928327645051195,
          0.6245733788395904,
          0.8122866894197953,
          0.49658703071672344,
          0.78839590443686,
          0.5392491467576791,
          0.5648464163822525,
          0.6595563139931739,
          0.530716723549488,
          1,
          0.893344709897611,
          0.5435153583617747,
          0.39249146757679176,
          0.3668941979522184,
          0.341296928327645,
          0.7081911262798635,
          0.4556313993174061,
          0.8020477815699658,
          0.7662116040955631,
          0.629692832764505,
          0.6160409556313993,
          0.3600682593856655,
          0.7354947952218429,
          0.7184300341296928,
          0.5477815699658702,
          0.5136518771331058,
          0.7610921501706485,
          0.6843003412969284,
          0.675767918088737
         ],
         "y": [
          0.8421052631578949,
          0.5710526315789473,
          0.5605263157894738,
          0.8789473684210525,
          0.5815789473684212,
          0.8342105263157893,
          0.8842105263157897,
          0.7973684210526317,
          1,
          0.744736842105263,
          0.8078947368421052,
          0.813157894736842,
          0.7157894736842105,
          0.9789473684210526,
          0.8815789473684212,
          0.6842105263157897,
          0.8605263157894739,
          0.736842105263158,
          0.831578947368421,
          0.686842105263158,
          0.7973684210526317,
          0.5,
          0.7052631578947371,
          0.4789473684210526,
          0.65,
          0.5315789473684213,
          0.6210526315789475,
          0.5973684210526318,
          0.7473684210526313,
          0.7868421052631578,
          0.7105263157894738,
          0.6710526315789475,
          0.6973684210526315,
          0.718421052631579,
          0.6526315789473685,
          0.6447368421052633,
          0.5921052631578946,
          0.5315789473684213,
          0.536842105263158,
          0.8394736842105265,
          0.6657894736842107,
          0.6263157894736843,
          0.7500000000000002,
          0.5815789473684212,
          0.5315789473684213,
          0.8368421052631582,
          0.8815789473684212,
          0.755263157894737,
          0.8078947368421052,
          0.7657894736842105,
          0.5315789473684213,
          0.736842105263158,
          0.7342105263157895,
          0.7210526315789473,
          0.7131578947368422,
          0.6657894736842107,
          0.8394736842105265,
          0.594736842105263,
          0.7078947368421055,
          0.3526315789473683,
          0.34210526315789486,
          0.42368421052631605,
          0.6947368421052632,
          0.3526315789473683,
          0.3000000000000001,
          0.3526315789473683,
          0.5473684210526315,
          0.3526315789473683,
          0.6078947368421053,
          0.31052631578947404,
          0.3315789473684209,
          0.744736842105263,
          0.6473684210526317,
          0.5157894736842107,
          0.2447368421052635,
          0.1657894736842107,
          0.5263157894736841,
          0.21315789473684219,
          0.34210526315789486,
          0.43947368421052624,
          0.25526315789473697,
          0.44473684210526343,
          0.27631578947368435,
          0.5315789473684213,
          0.21315789473684219,
          0.4315789473684211,
          0.2973684210526317,
          0.16315789473684233,
          0.16052631578947396,
          0.27631578947368435,
          0.27631578947368435,
          0.25526315789473697,
          0.43684210526315786,
          0.3315789473684209,
          0.15526315789473677,
          0.3789473684210529,
          0.2052631578947371,
          0.3315789473684209,
          0.3526315789473683,
          0.3315789473684209,
          0.27631578947368435,
          0.4131578947368421,
          0.34473684210526323,
          0.20789473684210547,
          0.38947368421052636,
          0.3657894736842106,
          0.3210526315789475,
          0.44473684210526343,
          0.31315789473684236,
          0.15263157894736842,
          0.11315789473684247,
          0.39210526315789473,
          0.1921052631578948,
          0.10000000000000019,
          0.27631578947368435,
          0,
          0.20789473684210547,
          0.3657894736842106,
          0.45789473684210524,
          0.25526315789473697,
          0.11052631578947364,
          0.13947368421052658,
          0.3657894736842106,
          0.5315789473684213,
          0.22105263157894728,
          0.273684210526316,
          0.368421052631579,
          0.1999999999999999,
          0.3526315789473683,
          0.2657894736842104,
          0.481578947368421,
          0.4868421052631582,
          0.4684210526315792,
          0.43947368421052624,
          0.38947368421052636,
          0.4131578947368421,
          0.3210526315789475,
          0.3947368421052631,
          0.6473684210526317,
          0.47631578947368425,
          0.5,
          0.613157894736842,
          0.6552631578947368,
          0.6815789473684208,
          0.3210526315789475,
          0.5605263157894738,
          0.7500000000000002,
          0.48421052631578937,
          0.6026315789473685,
          0.5394736842105264,
          0.65,
          0.46315789473684194,
          0.5473684210526315,
          0.5789473684210528,
          0.40789473684210537,
          0.5631578947368422,
          0.7394736842105263,
          0.3736842105263157,
          0.8710526315789473,
          0.6447368421052633,
          0.35,
          0.7,
          0.4789473684210526,
          0.5078947368421055,
          0.7236842105263157,
          0.7105263157894738,
          0.6368421052631578,
          0.4710526315789475,
          0.6710526315789475,
          0.623684210526316,
          0.30789473684210517,
          0.45789473684210524,
          0.8236842105263158,
          0.7052631578947371,
          0.623684210526316,
          0.5894736842105263,
          0.5631578947368422,
          0.8157894736842107
         ]
        }
       ],
       "layout": {
        "template": {
         "data": {
          "bar": [
           {
            "error_x": {
             "color": "#2a3f5f"
            },
            "error_y": {
             "color": "#2a3f5f"
            },
            "marker": {
             "line": {
              "color": "#E5ECF6",
              "width": 0.5
             },
             "pattern": {
              "fillmode": "overlay",
              "size": 10,
              "solidity": 0.2
             }
            },
            "type": "bar"
           }
          ],
          "barpolar": [
           {
            "marker": {
             "line": {
              "color": "#E5ECF6",
              "width": 0.5
             },
             "pattern": {
              "fillmode": "overlay",
              "size": 10,
              "solidity": 0.2
             }
            },
            "type": "barpolar"
           }
          ],
          "carpet": [
           {
            "aaxis": {
             "endlinecolor": "#2a3f5f",
             "gridcolor": "white",
             "linecolor": "white",
             "minorgridcolor": "white",
             "startlinecolor": "#2a3f5f"
            },
            "baxis": {
             "endlinecolor": "#2a3f5f",
             "gridcolor": "white",
             "linecolor": "white",
             "minorgridcolor": "white",
             "startlinecolor": "#2a3f5f"
            },
            "type": "carpet"
           }
          ],
          "choropleth": [
           {
            "colorbar": {
             "outlinewidth": 0,
             "ticks": ""
            },
            "type": "choropleth"
           }
          ],
          "contour": [
           {
            "colorbar": {
             "outlinewidth": 0,
             "ticks": ""
            },
            "colorscale": [
             [
              0,
              "#0d0887"
             ],
             [
              0.1111111111111111,
              "#46039f"
             ],
             [
              0.2222222222222222,
              "#7201a8"
             ],
             [
              0.3333333333333333,
              "#9c179e"
             ],
             [
              0.4444444444444444,
              "#bd3786"
             ],
             [
              0.5555555555555556,
              "#d8576b"
             ],
             [
              0.6666666666666666,
              "#ed7953"
             ],
             [
              0.7777777777777778,
              "#fb9f3a"
             ],
             [
              0.8888888888888888,
              "#fdca26"
             ],
             [
              1,
              "#f0f921"
             ]
            ],
            "type": "contour"
           }
          ],
          "contourcarpet": [
           {
            "colorbar": {
             "outlinewidth": 0,
             "ticks": ""
            },
            "type": "contourcarpet"
           }
          ],
          "heatmap": [
           {
            "colorbar": {
             "outlinewidth": 0,
             "ticks": ""
            },
            "colorscale": [
             [
              0,
              "#0d0887"
             ],
             [
              0.1111111111111111,
              "#46039f"
             ],
             [
              0.2222222222222222,
              "#7201a8"
             ],
             [
              0.3333333333333333,
              "#9c179e"
             ],
             [
              0.4444444444444444,
              "#bd3786"
             ],
             [
              0.5555555555555556,
              "#d8576b"
             ],
             [
              0.6666666666666666,
              "#ed7953"
             ],
             [
              0.7777777777777778,
              "#fb9f3a"
             ],
             [
              0.8888888888888888,
              "#fdca26"
             ],
             [
              1,
              "#f0f921"
             ]
            ],
            "type": "heatmap"
           }
          ],
          "heatmapgl": [
           {
            "colorbar": {
             "outlinewidth": 0,
             "ticks": ""
            },
            "colorscale": [
             [
              0,
              "#0d0887"
             ],
             [
              0.1111111111111111,
              "#46039f"
             ],
             [
              0.2222222222222222,
              "#7201a8"
             ],
             [
              0.3333333333333333,
              "#9c179e"
             ],
             [
              0.4444444444444444,
              "#bd3786"
             ],
             [
              0.5555555555555556,
              "#d8576b"
             ],
             [
              0.6666666666666666,
              "#ed7953"
             ],
             [
              0.7777777777777778,
              "#fb9f3a"
             ],
             [
              0.8888888888888888,
              "#fdca26"
             ],
             [
              1,
              "#f0f921"
             ]
            ],
            "type": "heatmapgl"
           }
          ],
          "histogram": [
           {
            "marker": {
             "pattern": {
              "fillmode": "overlay",
              "size": 10,
              "solidity": 0.2
             }
            },
            "type": "histogram"
           }
          ],
          "histogram2d": [
           {
            "colorbar": {
             "outlinewidth": 0,
             "ticks": ""
            },
            "colorscale": [
             [
              0,
              "#0d0887"
             ],
             [
              0.1111111111111111,
              "#46039f"
             ],
             [
              0.2222222222222222,
              "#7201a8"
             ],
             [
              0.3333333333333333,
              "#9c179e"
             ],
             [
              0.4444444444444444,
              "#bd3786"
             ],
             [
              0.5555555555555556,
              "#d8576b"
             ],
             [
              0.6666666666666666,
              "#ed7953"
             ],
             [
              0.7777777777777778,
              "#fb9f3a"
             ],
             [
              0.8888888888888888,
              "#fdca26"
             ],
             [
              1,
              "#f0f921"
             ]
            ],
            "type": "histogram2d"
           }
          ],
          "histogram2dcontour": [
           {
            "colorbar": {
             "outlinewidth": 0,
             "ticks": ""
            },
            "colorscale": [
             [
              0,
              "#0d0887"
             ],
             [
              0.1111111111111111,
              "#46039f"
             ],
             [
              0.2222222222222222,
              "#7201a8"
             ],
             [
              0.3333333333333333,
              "#9c179e"
             ],
             [
              0.4444444444444444,
              "#bd3786"
             ],
             [
              0.5555555555555556,
              "#d8576b"
             ],
             [
              0.6666666666666666,
              "#ed7953"
             ],
             [
              0.7777777777777778,
              "#fb9f3a"
             ],
             [
              0.8888888888888888,
              "#fdca26"
             ],
             [
              1,
              "#f0f921"
             ]
            ],
            "type": "histogram2dcontour"
           }
          ],
          "mesh3d": [
           {
            "colorbar": {
             "outlinewidth": 0,
             "ticks": ""
            },
            "type": "mesh3d"
           }
          ],
          "parcoords": [
           {
            "line": {
             "colorbar": {
              "outlinewidth": 0,
              "ticks": ""
             }
            },
            "type": "parcoords"
           }
          ],
          "pie": [
           {
            "automargin": true,
            "type": "pie"
           }
          ],
          "scatter": [
           {
            "marker": {
             "colorbar": {
              "outlinewidth": 0,
              "ticks": ""
             }
            },
            "type": "scatter"
           }
          ],
          "scatter3d": [
           {
            "line": {
             "colorbar": {
              "outlinewidth": 0,
              "ticks": ""
             }
            },
            "marker": {
             "colorbar": {
              "outlinewidth": 0,
              "ticks": ""
             }
            },
            "type": "scatter3d"
           }
          ],
          "scattercarpet": [
           {
            "marker": {
             "colorbar": {
              "outlinewidth": 0,
              "ticks": ""
             }
            },
            "type": "scattercarpet"
           }
          ],
          "scattergeo": [
           {
            "marker": {
             "colorbar": {
              "outlinewidth": 0,
              "ticks": ""
             }
            },
            "type": "scattergeo"
           }
          ],
          "scattergl": [
           {
            "marker": {
             "colorbar": {
              "outlinewidth": 0,
              "ticks": ""
             }
            },
            "type": "scattergl"
           }
          ],
          "scattermapbox": [
           {
            "marker": {
             "colorbar": {
              "outlinewidth": 0,
              "ticks": ""
             }
            },
            "type": "scattermapbox"
           }
          ],
          "scatterpolar": [
           {
            "marker": {
             "colorbar": {
              "outlinewidth": 0,
              "ticks": ""
             }
            },
            "type": "scatterpolar"
           }
          ],
          "scatterpolargl": [
           {
            "marker": {
             "colorbar": {
              "outlinewidth": 0,
              "ticks": ""
             }
            },
            "type": "scatterpolargl"
           }
          ],
          "scatterternary": [
           {
            "marker": {
             "colorbar": {
              "outlinewidth": 0,
              "ticks": ""
             }
            },
            "type": "scatterternary"
           }
          ],
          "surface": [
           {
            "colorbar": {
             "outlinewidth": 0,
             "ticks": ""
            },
            "colorscale": [
             [
              0,
              "#0d0887"
             ],
             [
              0.1111111111111111,
              "#46039f"
             ],
             [
              0.2222222222222222,
              "#7201a8"
             ],
             [
              0.3333333333333333,
              "#9c179e"
             ],
             [
              0.4444444444444444,
              "#bd3786"
             ],
             [
              0.5555555555555556,
              "#d8576b"
             ],
             [
              0.6666666666666666,
              "#ed7953"
             ],
             [
              0.7777777777777778,
              "#fb9f3a"
             ],
             [
              0.8888888888888888,
              "#fdca26"
             ],
             [
              1,
              "#f0f921"
             ]
            ],
            "type": "surface"
           }
          ],
          "table": [
           {
            "cells": {
             "fill": {
              "color": "#EBF0F8"
             },
             "line": {
              "color": "white"
             }
            },
            "header": {
             "fill": {
              "color": "#C8D4E3"
             },
             "line": {
              "color": "white"
             }
            },
            "type": "table"
           }
          ]
         },
         "layout": {
          "annotationdefaults": {
           "arrowcolor": "#2a3f5f",
           "arrowhead": 0,
           "arrowwidth": 1
          },
          "autotypenumbers": "strict",
          "coloraxis": {
           "colorbar": {
            "outlinewidth": 0,
            "ticks": ""
           }
          },
          "colorscale": {
           "diverging": [
            [
             0,
             "#8e0152"
            ],
            [
             0.1,
             "#c51b7d"
            ],
            [
             0.2,
             "#de77ae"
            ],
            [
             0.3,
             "#f1b6da"
            ],
            [
             0.4,
             "#fde0ef"
            ],
            [
             0.5,
             "#f7f7f7"
            ],
            [
             0.6,
             "#e6f5d0"
            ],
            [
             0.7,
             "#b8e186"
            ],
            [
             0.8,
             "#7fbc41"
            ],
            [
             0.9,
             "#4d9221"
            ],
            [
             1,
             "#276419"
            ]
           ],
           "sequential": [
            [
             0,
             "#0d0887"
            ],
            [
             0.1111111111111111,
             "#46039f"
            ],
            [
             0.2222222222222222,
             "#7201a8"
            ],
            [
             0.3333333333333333,
             "#9c179e"
            ],
            [
             0.4444444444444444,
             "#bd3786"
            ],
            [
             0.5555555555555556,
             "#d8576b"
            ],
            [
             0.6666666666666666,
             "#ed7953"
            ],
            [
             0.7777777777777778,
             "#fb9f3a"
            ],
            [
             0.8888888888888888,
             "#fdca26"
            ],
            [
             1,
             "#f0f921"
            ]
           ],
           "sequentialminus": [
            [
             0,
             "#0d0887"
            ],
            [
             0.1111111111111111,
             "#46039f"
            ],
            [
             0.2222222222222222,
             "#7201a8"
            ],
            [
             0.3333333333333333,
             "#9c179e"
            ],
            [
             0.4444444444444444,
             "#bd3786"
            ],
            [
             0.5555555555555556,
             "#d8576b"
            ],
            [
             0.6666666666666666,
             "#ed7953"
            ],
            [
             0.7777777777777778,
             "#fb9f3a"
            ],
            [
             0.8888888888888888,
             "#fdca26"
            ],
            [
             1,
             "#f0f921"
            ]
           ]
          },
          "colorway": [
           "#636efa",
           "#EF553B",
           "#00cc96",
           "#ab63fa",
           "#FFA15A",
           "#19d3f3",
           "#FF6692",
           "#B6E880",
           "#FF97FF",
           "#FECB52"
          ],
          "font": {
           "color": "#2a3f5f"
          },
          "geo": {
           "bgcolor": "white",
           "lakecolor": "white",
           "landcolor": "#E5ECF6",
           "showlakes": true,
           "showland": true,
           "subunitcolor": "white"
          },
          "hoverlabel": {
           "align": "left"
          },
          "hovermode": "closest",
          "mapbox": {
           "style": "light"
          },
          "paper_bgcolor": "white",
          "plot_bgcolor": "#E5ECF6",
          "polar": {
           "angularaxis": {
            "gridcolor": "white",
            "linecolor": "white",
            "ticks": ""
           },
           "bgcolor": "#E5ECF6",
           "radialaxis": {
            "gridcolor": "white",
            "linecolor": "white",
            "ticks": ""
           }
          },
          "scene": {
           "xaxis": {
            "backgroundcolor": "#E5ECF6",
            "gridcolor": "white",
            "gridwidth": 2,
            "linecolor": "white",
            "showbackground": true,
            "ticks": "",
            "zerolinecolor": "white"
           },
           "yaxis": {
            "backgroundcolor": "#E5ECF6",
            "gridcolor": "white",
            "gridwidth": 2,
            "linecolor": "white",
            "showbackground": true,
            "ticks": "",
            "zerolinecolor": "white"
           },
           "zaxis": {
            "backgroundcolor": "#E5ECF6",
            "gridcolor": "white",
            "gridwidth": 2,
            "linecolor": "white",
            "showbackground": true,
            "ticks": "",
            "zerolinecolor": "white"
           }
          },
          "shapedefaults": {
           "line": {
            "color": "#2a3f5f"
           }
          },
          "ternary": {
           "aaxis": {
            "gridcolor": "white",
            "linecolor": "white",
            "ticks": ""
           },
           "baxis": {
            "gridcolor": "white",
            "linecolor": "white",
            "ticks": ""
           },
           "bgcolor": "#E5ECF6",
           "caxis": {
            "gridcolor": "white",
            "linecolor": "white",
            "ticks": ""
           }
          },
          "title": {
           "x": 0.05
          },
          "xaxis": {
           "automargin": true,
           "gridcolor": "white",
           "linecolor": "white",
           "ticks": "",
           "title": {
            "standoff": 15
           },
           "zerolinecolor": "white",
           "zerolinewidth": 2
          },
          "yaxis": {
           "automargin": true,
           "gridcolor": "white",
           "linecolor": "white",
           "ticks": "",
           "title": {
            "standoff": 15
           },
           "zerolinecolor": "white",
           "zerolinewidth": 2
          }
         }
        }
       }
      },
      "text/html": [
       "<div>                            <div id=\"739aa13d-b169-4936-b5ab-8364bb4e00ee\" class=\"plotly-graph-div\" style=\"height:525px; width:100%;\"></div>            <script type=\"text/javascript\">                require([\"plotly\"], function(Plotly) {                    window.PLOTLYENV=window.PLOTLYENV || {};                                    if (document.getElementById(\"739aa13d-b169-4936-b5ab-8364bb4e00ee\")) {                    Plotly.newPlot(                        \"739aa13d-b169-4936-b5ab-8364bb4e00ee\",                        [{\"marker\":{\"color\":[2.0,2.0,2.0,2.0,2.0,2.0,2.0,2.0,2.0,2.0,2.0,2.0,2.0,2.0,2.0,2.0,2.0,2.0,2.0,2.0,2.0,2.0,2.0,2.0,2.0,2.0,2.0,2.0,2.0,2.0,2.0,2.0,2.0,2.0,2.0,2.0,2.0,2.0,2.0,2.0,2.0,2.0,2.0,2.0,2.0,2.0,2.0,2.0,2.0,2.0,2.0,2.0,2.0,2.0,2.0,2.0,2.0,2.0,2.0,0.0,0.0,0.0,0.0,0.0,0.0,0.0,0.0,0.0,0.0,0.0,0.0,0.0,0.0,2.0,0.0,0.0,0.0,0.0,0.0,0.0,0.0,0.0,0.0,1.0,0.0,0.0,0.0,0.0,0.0,0.0,0.0,0.0,0.0,0.0,0.0,0.0,0.0,0.0,0.0,0.0,0.0,0.0,0.0,0.0,0.0,0.0,0.0,0.0,0.0,0.0,0.0,0.0,0.0,0.0,0.0,0.0,0.0,0.0,0.0,0.0,0.0,0.0,0.0,0.0,0.0,0.0,0.0,0.0,0.0,0.0,1.0,1.0,1.0,1.0,1.0,1.0,1.0,1.0,1.0,1.0,1.0,1.0,1.0,1.0,1.0,1.0,1.0,1.0,1.0,1.0,1.0,1.0,1.0,1.0,1.0,1.0,1.0,1.0,1.0,1.0,1.0,1.0,1.0,1.0,1.0,1.0,1.0,1.0,1.0,1.0,1.0,1.0,1.0,1.0,1.0,1.0,1.0,1.0]},\"mode\":\"markers\",\"text\":[2.0,2.0,2.0,2.0,2.0,2.0,2.0,2.0,2.0,2.0,2.0,2.0,2.0,2.0,2.0,2.0,2.0,2.0,2.0,2.0,2.0,2.0,2.0,2.0,2.0,2.0,2.0,2.0,2.0,2.0,2.0,2.0,2.0,2.0,2.0,2.0,2.0,2.0,2.0,2.0,2.0,2.0,2.0,2.0,2.0,2.0,2.0,2.0,2.0,2.0,2.0,2.0,2.0,2.0,2.0,2.0,2.0,2.0,2.0,0.0,0.0,0.0,0.0,0.0,0.0,0.0,0.0,0.0,0.0,0.0,0.0,0.0,0.0,2.0,0.0,0.0,0.0,0.0,0.0,0.0,0.0,0.0,0.0,1.0,0.0,0.0,0.0,0.0,0.0,0.0,0.0,0.0,0.0,0.0,0.0,0.0,0.0,0.0,0.0,0.0,0.0,0.0,0.0,0.0,0.0,0.0,0.0,0.0,0.0,0.0,0.0,0.0,0.0,0.0,0.0,0.0,0.0,0.0,0.0,0.0,0.0,0.0,0.0,0.0,0.0,0.0,0.0,0.0,0.0,0.0,1.0,1.0,1.0,1.0,1.0,1.0,1.0,1.0,1.0,1.0,1.0,1.0,1.0,1.0,1.0,1.0,1.0,1.0,1.0,1.0,1.0,1.0,1.0,1.0,1.0,1.0,1.0,1.0,1.0,1.0,1.0,1.0,1.0,1.0,1.0,1.0,1.0,1.0,1.0,1.0,1.0,1.0,1.0,1.0,1.0,1.0,1.0,1.0],\"type\":\"scatter\",\"x\":[0.37201365187713303,0.26450511945392485,0.3754266211604095,0.5563139931740614,0.2593856655290102,0.46672354948805456,0.3387372013651877,0.3216723549488054,0.33447098976109213,0.5068259385665528,0.3813993174061433,0.31740614334470985,0.3686006825938566,0.3515358361774744,0.530716723549488,0.5136518771331058,0.4197952218430034,0.45392491467576784,0.6331058020477814,0.32593856655290093,0.3728668941979522,0.27474402730375425,0.21501706484641633,0.22610921501706485,0.19112627986348124,0.19624573378839588,0.3003412969283276,0.22781569965870305,0.27474402730375425,0.2918088737201365,0.37713310580204773,0.47952218430034127,0.21843003412969278,0.3515358361774744,0.24914675767918087,0.32593856655290093,0.28327645051194533,0.2534129692832764,0.20648464163822525,0.32593856655290093,0.41382252559726956,0.25597269624573377,0.3540955631399317,0.26279863481228666,0.3208191126279863,0.3378839590443686,0.30887372013651876,0.4112627986348122,0.4197952218430034,0.6501706484641638,0.5051194539249146,0.3686006825938566,0.4923208191126279,0.42832764505119447,0.3899317406143344,0.42406143344709896,0.43515358361774736,0.4027303754266211,0.4709897610921501,0.057167235494880536,0.1697952218430034,0.3813993174061433,0.21501706484641633,0.2704778156996587,0.14249146757679182,0.28327645051194533,0.3430034129692832,0.2901023890784982,0.16126279863481227,0.13395904436860068,0.1510238907849829,0.17918088737201363,0.2098976109215017,0.17662116040955633,0.16467576791808872,0.21501706484641633,0.28327645051194533,0.11689419795221842,0.18088737201365188,0.1100682593856655,0.10409556313993173,0.2235494880546075,0.07849829351535836,0.3003412969283276,0.1510238907849829,0.11433447098976109,0.09982935153583619,0.11262798634812286,0.1296928327645051,0.039249146757679175,0.09556313993174059,0.19795221843003413,0.1510238907849829,0.07423208191126278,0.16808873720136516,0.11262798634812286,0.10409556313993173,0.13822525597269622,0.27474402730375425,0.08703071672354946,0.1723549488054607,0.09982935153583619,0.1296928327645051,0.06655290102389079,0.1416382252559727,0.121160409556314,0.18088737201365188,0.1723549488054607,0.121160409556314,0.11689419795221842,0.13822525597269622,0.0614334470989761,0.21501706484641633,0.15358361774744028,0.13822525597269622,0.05290102389078497,0.057167235494880536,0.06655290102389079,0.18088737201365188,0.0,0.16808873720136516,0.4027303754266211,0.06825938566552901,0.11262798634812286,0.1296928327645051,0.12627986348122863,0.22696245733788395,0.14675767918088736,0.07167235494880546,0.11262798634812286,0.2406143344709897,0.3515358361774744,0.37713310580204773,0.31740614334470985,0.35580204778156993,0.49658703071672344,0.21928327645051196,0.31740614334470985,0.37713310580204773,0.31058020477815695,0.28327645051194533,0.3686006825938566,0.26194539249146753,0.26621160409556316,0.591296928327645,0.2320819112627986,0.30887372013651876,0.5435153583617747,0.6092150170648464,0.6928327645051195,0.6245733788395904,0.8122866894197953,0.49658703071672344,0.78839590443686,0.5392491467576791,0.5648464163822525,0.6595563139931739,0.530716723549488,1.0,0.893344709897611,0.5435153583617747,0.39249146757679176,0.3668941979522184,0.341296928327645,0.7081911262798635,0.4556313993174061,0.8020477815699658,0.7662116040955631,0.629692832764505,0.6160409556313993,0.3600682593856655,0.7354947952218429,0.7184300341296928,0.5477815699658702,0.5136518771331058,0.7610921501706485,0.6843003412969284,0.675767918088737],\"y\":[0.8421052631578949,0.5710526315789473,0.5605263157894738,0.8789473684210525,0.5815789473684212,0.8342105263157893,0.8842105263157897,0.7973684210526317,1.0,0.744736842105263,0.8078947368421052,0.813157894736842,0.7157894736842105,0.9789473684210526,0.8815789473684212,0.6842105263157897,0.8605263157894739,0.736842105263158,0.831578947368421,0.686842105263158,0.7973684210526317,0.5,0.7052631578947371,0.4789473684210526,0.65,0.5315789473684213,0.6210526315789475,0.5973684210526318,0.7473684210526313,0.7868421052631578,0.7105263157894738,0.6710526315789475,0.6973684210526315,0.718421052631579,0.6526315789473685,0.6447368421052633,0.5921052631578946,0.5315789473684213,0.536842105263158,0.8394736842105265,0.6657894736842107,0.6263157894736843,0.7500000000000002,0.5815789473684212,0.5315789473684213,0.8368421052631582,0.8815789473684212,0.755263157894737,0.8078947368421052,0.7657894736842105,0.5315789473684213,0.736842105263158,0.7342105263157895,0.7210526315789473,0.7131578947368422,0.6657894736842107,0.8394736842105265,0.594736842105263,0.7078947368421055,0.3526315789473683,0.34210526315789486,0.42368421052631605,0.6947368421052632,0.3526315789473683,0.3000000000000001,0.3526315789473683,0.5473684210526315,0.3526315789473683,0.6078947368421053,0.31052631578947404,0.3315789473684209,0.744736842105263,0.6473684210526317,0.5157894736842107,0.2447368421052635,0.1657894736842107,0.5263157894736841,0.21315789473684219,0.34210526315789486,0.43947368421052624,0.25526315789473697,0.44473684210526343,0.27631578947368435,0.5315789473684213,0.21315789473684219,0.4315789473684211,0.2973684210526317,0.16315789473684233,0.16052631578947396,0.27631578947368435,0.27631578947368435,0.25526315789473697,0.43684210526315786,0.3315789473684209,0.15526315789473677,0.3789473684210529,0.2052631578947371,0.3315789473684209,0.3526315789473683,0.3315789473684209,0.27631578947368435,0.4131578947368421,0.34473684210526323,0.20789473684210547,0.38947368421052636,0.3657894736842106,0.3210526315789475,0.44473684210526343,0.31315789473684236,0.15263157894736842,0.11315789473684247,0.39210526315789473,0.1921052631578948,0.10000000000000019,0.27631578947368435,0.0,0.20789473684210547,0.3657894736842106,0.45789473684210524,0.25526315789473697,0.11052631578947364,0.13947368421052658,0.3657894736842106,0.5315789473684213,0.22105263157894728,0.273684210526316,0.368421052631579,0.1999999999999999,0.3526315789473683,0.2657894736842104,0.481578947368421,0.4868421052631582,0.4684210526315792,0.43947368421052624,0.38947368421052636,0.4131578947368421,0.3210526315789475,0.3947368421052631,0.6473684210526317,0.47631578947368425,0.5,0.613157894736842,0.6552631578947368,0.6815789473684208,0.3210526315789475,0.5605263157894738,0.7500000000000002,0.48421052631578937,0.6026315789473685,0.5394736842105264,0.65,0.46315789473684194,0.5473684210526315,0.5789473684210528,0.40789473684210537,0.5631578947368422,0.7394736842105263,0.3736842105263157,0.8710526315789473,0.6447368421052633,0.35,0.7,0.4789473684210526,0.5078947368421055,0.7236842105263157,0.7105263157894738,0.6368421052631578,0.4710526315789475,0.6710526315789475,0.623684210526316,0.30789473684210517,0.45789473684210524,0.8236842105263158,0.7052631578947371,0.623684210526316,0.5894736842105263,0.5631578947368422,0.8157894736842107]}],                        {\"template\":{\"data\":{\"bar\":[{\"error_x\":{\"color\":\"#2a3f5f\"},\"error_y\":{\"color\":\"#2a3f5f\"},\"marker\":{\"line\":{\"color\":\"#E5ECF6\",\"width\":0.5},\"pattern\":{\"fillmode\":\"overlay\",\"size\":10,\"solidity\":0.2}},\"type\":\"bar\"}],\"barpolar\":[{\"marker\":{\"line\":{\"color\":\"#E5ECF6\",\"width\":0.5},\"pattern\":{\"fillmode\":\"overlay\",\"size\":10,\"solidity\":0.2}},\"type\":\"barpolar\"}],\"carpet\":[{\"aaxis\":{\"endlinecolor\":\"#2a3f5f\",\"gridcolor\":\"white\",\"linecolor\":\"white\",\"minorgridcolor\":\"white\",\"startlinecolor\":\"#2a3f5f\"},\"baxis\":{\"endlinecolor\":\"#2a3f5f\",\"gridcolor\":\"white\",\"linecolor\":\"white\",\"minorgridcolor\":\"white\",\"startlinecolor\":\"#2a3f5f\"},\"type\":\"carpet\"}],\"choropleth\":[{\"colorbar\":{\"outlinewidth\":0,\"ticks\":\"\"},\"type\":\"choropleth\"}],\"contour\":[{\"colorbar\":{\"outlinewidth\":0,\"ticks\":\"\"},\"colorscale\":[[0.0,\"#0d0887\"],[0.1111111111111111,\"#46039f\"],[0.2222222222222222,\"#7201a8\"],[0.3333333333333333,\"#9c179e\"],[0.4444444444444444,\"#bd3786\"],[0.5555555555555556,\"#d8576b\"],[0.6666666666666666,\"#ed7953\"],[0.7777777777777778,\"#fb9f3a\"],[0.8888888888888888,\"#fdca26\"],[1.0,\"#f0f921\"]],\"type\":\"contour\"}],\"contourcarpet\":[{\"colorbar\":{\"outlinewidth\":0,\"ticks\":\"\"},\"type\":\"contourcarpet\"}],\"heatmap\":[{\"colorbar\":{\"outlinewidth\":0,\"ticks\":\"\"},\"colorscale\":[[0.0,\"#0d0887\"],[0.1111111111111111,\"#46039f\"],[0.2222222222222222,\"#7201a8\"],[0.3333333333333333,\"#9c179e\"],[0.4444444444444444,\"#bd3786\"],[0.5555555555555556,\"#d8576b\"],[0.6666666666666666,\"#ed7953\"],[0.7777777777777778,\"#fb9f3a\"],[0.8888888888888888,\"#fdca26\"],[1.0,\"#f0f921\"]],\"type\":\"heatmap\"}],\"heatmapgl\":[{\"colorbar\":{\"outlinewidth\":0,\"ticks\":\"\"},\"colorscale\":[[0.0,\"#0d0887\"],[0.1111111111111111,\"#46039f\"],[0.2222222222222222,\"#7201a8\"],[0.3333333333333333,\"#9c179e\"],[0.4444444444444444,\"#bd3786\"],[0.5555555555555556,\"#d8576b\"],[0.6666666666666666,\"#ed7953\"],[0.7777777777777778,\"#fb9f3a\"],[0.8888888888888888,\"#fdca26\"],[1.0,\"#f0f921\"]],\"type\":\"heatmapgl\"}],\"histogram\":[{\"marker\":{\"pattern\":{\"fillmode\":\"overlay\",\"size\":10,\"solidity\":0.2}},\"type\":\"histogram\"}],\"histogram2d\":[{\"colorbar\":{\"outlinewidth\":0,\"ticks\":\"\"},\"colorscale\":[[0.0,\"#0d0887\"],[0.1111111111111111,\"#46039f\"],[0.2222222222222222,\"#7201a8\"],[0.3333333333333333,\"#9c179e\"],[0.4444444444444444,\"#bd3786\"],[0.5555555555555556,\"#d8576b\"],[0.6666666666666666,\"#ed7953\"],[0.7777777777777778,\"#fb9f3a\"],[0.8888888888888888,\"#fdca26\"],[1.0,\"#f0f921\"]],\"type\":\"histogram2d\"}],\"histogram2dcontour\":[{\"colorbar\":{\"outlinewidth\":0,\"ticks\":\"\"},\"colorscale\":[[0.0,\"#0d0887\"],[0.1111111111111111,\"#46039f\"],[0.2222222222222222,\"#7201a8\"],[0.3333333333333333,\"#9c179e\"],[0.4444444444444444,\"#bd3786\"],[0.5555555555555556,\"#d8576b\"],[0.6666666666666666,\"#ed7953\"],[0.7777777777777778,\"#fb9f3a\"],[0.8888888888888888,\"#fdca26\"],[1.0,\"#f0f921\"]],\"type\":\"histogram2dcontour\"}],\"mesh3d\":[{\"colorbar\":{\"outlinewidth\":0,\"ticks\":\"\"},\"type\":\"mesh3d\"}],\"parcoords\":[{\"line\":{\"colorbar\":{\"outlinewidth\":0,\"ticks\":\"\"}},\"type\":\"parcoords\"}],\"pie\":[{\"automargin\":true,\"type\":\"pie\"}],\"scatter\":[{\"marker\":{\"colorbar\":{\"outlinewidth\":0,\"ticks\":\"\"}},\"type\":\"scatter\"}],\"scatter3d\":[{\"line\":{\"colorbar\":{\"outlinewidth\":0,\"ticks\":\"\"}},\"marker\":{\"colorbar\":{\"outlinewidth\":0,\"ticks\":\"\"}},\"type\":\"scatter3d\"}],\"scattercarpet\":[{\"marker\":{\"colorbar\":{\"outlinewidth\":0,\"ticks\":\"\"}},\"type\":\"scattercarpet\"}],\"scattergeo\":[{\"marker\":{\"colorbar\":{\"outlinewidth\":0,\"ticks\":\"\"}},\"type\":\"scattergeo\"}],\"scattergl\":[{\"marker\":{\"colorbar\":{\"outlinewidth\":0,\"ticks\":\"\"}},\"type\":\"scattergl\"}],\"scattermapbox\":[{\"marker\":{\"colorbar\":{\"outlinewidth\":0,\"ticks\":\"\"}},\"type\":\"scattermapbox\"}],\"scatterpolar\":[{\"marker\":{\"colorbar\":{\"outlinewidth\":0,\"ticks\":\"\"}},\"type\":\"scatterpolar\"}],\"scatterpolargl\":[{\"marker\":{\"colorbar\":{\"outlinewidth\":0,\"ticks\":\"\"}},\"type\":\"scatterpolargl\"}],\"scatterternary\":[{\"marker\":{\"colorbar\":{\"outlinewidth\":0,\"ticks\":\"\"}},\"type\":\"scatterternary\"}],\"surface\":[{\"colorbar\":{\"outlinewidth\":0,\"ticks\":\"\"},\"colorscale\":[[0.0,\"#0d0887\"],[0.1111111111111111,\"#46039f\"],[0.2222222222222222,\"#7201a8\"],[0.3333333333333333,\"#9c179e\"],[0.4444444444444444,\"#bd3786\"],[0.5555555555555556,\"#d8576b\"],[0.6666666666666666,\"#ed7953\"],[0.7777777777777778,\"#fb9f3a\"],[0.8888888888888888,\"#fdca26\"],[1.0,\"#f0f921\"]],\"type\":\"surface\"}],\"table\":[{\"cells\":{\"fill\":{\"color\":\"#EBF0F8\"},\"line\":{\"color\":\"white\"}},\"header\":{\"fill\":{\"color\":\"#C8D4E3\"},\"line\":{\"color\":\"white\"}},\"type\":\"table\"}]},\"layout\":{\"annotationdefaults\":{\"arrowcolor\":\"#2a3f5f\",\"arrowhead\":0,\"arrowwidth\":1},\"autotypenumbers\":\"strict\",\"coloraxis\":{\"colorbar\":{\"outlinewidth\":0,\"ticks\":\"\"}},\"colorscale\":{\"diverging\":[[0,\"#8e0152\"],[0.1,\"#c51b7d\"],[0.2,\"#de77ae\"],[0.3,\"#f1b6da\"],[0.4,\"#fde0ef\"],[0.5,\"#f7f7f7\"],[0.6,\"#e6f5d0\"],[0.7,\"#b8e186\"],[0.8,\"#7fbc41\"],[0.9,\"#4d9221\"],[1,\"#276419\"]],\"sequential\":[[0.0,\"#0d0887\"],[0.1111111111111111,\"#46039f\"],[0.2222222222222222,\"#7201a8\"],[0.3333333333333333,\"#9c179e\"],[0.4444444444444444,\"#bd3786\"],[0.5555555555555556,\"#d8576b\"],[0.6666666666666666,\"#ed7953\"],[0.7777777777777778,\"#fb9f3a\"],[0.8888888888888888,\"#fdca26\"],[1.0,\"#f0f921\"]],\"sequentialminus\":[[0.0,\"#0d0887\"],[0.1111111111111111,\"#46039f\"],[0.2222222222222222,\"#7201a8\"],[0.3333333333333333,\"#9c179e\"],[0.4444444444444444,\"#bd3786\"],[0.5555555555555556,\"#d8576b\"],[0.6666666666666666,\"#ed7953\"],[0.7777777777777778,\"#fb9f3a\"],[0.8888888888888888,\"#fdca26\"],[1.0,\"#f0f921\"]]},\"colorway\":[\"#636efa\",\"#EF553B\",\"#00cc96\",\"#ab63fa\",\"#FFA15A\",\"#19d3f3\",\"#FF6692\",\"#B6E880\",\"#FF97FF\",\"#FECB52\"],\"font\":{\"color\":\"#2a3f5f\"},\"geo\":{\"bgcolor\":\"white\",\"lakecolor\":\"white\",\"landcolor\":\"#E5ECF6\",\"showlakes\":true,\"showland\":true,\"subunitcolor\":\"white\"},\"hoverlabel\":{\"align\":\"left\"},\"hovermode\":\"closest\",\"mapbox\":{\"style\":\"light\"},\"paper_bgcolor\":\"white\",\"plot_bgcolor\":\"#E5ECF6\",\"polar\":{\"angularaxis\":{\"gridcolor\":\"white\",\"linecolor\":\"white\",\"ticks\":\"\"},\"bgcolor\":\"#E5ECF6\",\"radialaxis\":{\"gridcolor\":\"white\",\"linecolor\":\"white\",\"ticks\":\"\"}},\"scene\":{\"xaxis\":{\"backgroundcolor\":\"#E5ECF6\",\"gridcolor\":\"white\",\"gridwidth\":2,\"linecolor\":\"white\",\"showbackground\":true,\"ticks\":\"\",\"zerolinecolor\":\"white\"},\"yaxis\":{\"backgroundcolor\":\"#E5ECF6\",\"gridcolor\":\"white\",\"gridwidth\":2,\"linecolor\":\"white\",\"showbackground\":true,\"ticks\":\"\",\"zerolinecolor\":\"white\"},\"zaxis\":{\"backgroundcolor\":\"#E5ECF6\",\"gridcolor\":\"white\",\"gridwidth\":2,\"linecolor\":\"white\",\"showbackground\":true,\"ticks\":\"\",\"zerolinecolor\":\"white\"}},\"shapedefaults\":{\"line\":{\"color\":\"#2a3f5f\"}},\"ternary\":{\"aaxis\":{\"gridcolor\":\"white\",\"linecolor\":\"white\",\"ticks\":\"\"},\"baxis\":{\"gridcolor\":\"white\",\"linecolor\":\"white\",\"ticks\":\"\"},\"bgcolor\":\"#E5ECF6\",\"caxis\":{\"gridcolor\":\"white\",\"linecolor\":\"white\",\"ticks\":\"\"}},\"title\":{\"x\":0.05},\"xaxis\":{\"automargin\":true,\"gridcolor\":\"white\",\"linecolor\":\"white\",\"ticks\":\"\",\"title\":{\"standoff\":15},\"zerolinecolor\":\"white\",\"zerolinewidth\":2},\"yaxis\":{\"automargin\":true,\"gridcolor\":\"white\",\"linecolor\":\"white\",\"ticks\":\"\",\"title\":{\"standoff\":15},\"zerolinecolor\":\"white\",\"zerolinewidth\":2}}}},                        {\"responsive\": true}                    ).then(function(){\n",
       "                            \n",
       "var gd = document.getElementById('739aa13d-b169-4936-b5ab-8364bb4e00ee');\n",
       "var x = new MutationObserver(function (mutations, observer) {{\n",
       "        var display = window.getComputedStyle(gd).display;\n",
       "        if (!display || display === 'none') {{\n",
       "            console.log([gd, 'removed!']);\n",
       "            Plotly.purge(gd);\n",
       "            observer.disconnect();\n",
       "        }}\n",
       "}});\n",
       "\n",
       "// Listen for the removal of the full notebook cells\n",
       "var notebookContainer = gd.closest('#notebook-container');\n",
       "if (notebookContainer) {{\n",
       "    x.observe(notebookContainer, {childList: true});\n",
       "}}\n",
       "\n",
       "// Listen for the clearing of the current output cell\n",
       "var outputEl = gd.closest('.output');\n",
       "if (outputEl) {{\n",
       "    x.observe(outputEl, {childList: true});\n",
       "}}\n",
       "\n",
       "                        })                };                });            </script>        </div>"
      ]
     },
     "metadata": {},
     "output_type": "display_data"
    }
   ],
   "source": [
    "fig = go.Figure()\n",
    "fig.add_trace(go.Scatter(x = dados['Intensidade_cor'], y = dados['Alcool'],\n",
    "                        mode = 'markers', marker = dict(color = agrupador.labels_.astype(float)),\n",
    "                        text = labels))"
   ]
  },
  {
   "cell_type": "code",
   "execution_count": 167,
   "id": "540ff755",
   "metadata": {},
   "outputs": [
    {
     "data": {
      "application/vnd.plotly.v1+json": {
       "config": {
        "plotlyServerURL": "https://plot.ly"
       },
       "data": [
        {
         "marker": {
          "color": [
           2,
           2,
           2,
           2,
           2,
           2,
           2,
           2,
           2,
           2,
           2,
           2,
           2,
           2,
           2,
           2,
           2,
           2,
           2,
           2,
           2,
           2,
           2,
           2,
           2,
           2,
           2,
           2,
           2,
           2,
           2,
           2,
           2,
           2,
           2,
           2,
           2,
           2,
           2,
           2,
           2,
           2,
           2,
           2,
           2,
           2,
           2,
           2,
           2,
           2,
           2,
           2,
           2,
           2,
           2,
           2,
           2,
           2,
           2,
           0,
           0,
           0,
           0,
           0,
           0,
           0,
           0,
           0,
           0,
           0,
           0,
           0,
           0,
           2,
           0,
           0,
           0,
           0,
           0,
           0,
           0,
           0,
           0,
           1,
           0,
           0,
           0,
           0,
           0,
           0,
           0,
           0,
           0,
           0,
           0,
           0,
           0,
           0,
           0,
           0,
           0,
           0,
           0,
           0,
           0,
           0,
           0,
           0,
           0,
           0,
           0,
           0,
           0,
           0,
           0,
           0,
           0,
           0,
           0,
           0,
           0,
           0,
           0,
           0,
           0,
           0,
           0,
           0,
           0,
           0,
           1,
           1,
           1,
           1,
           1,
           1,
           1,
           1,
           1,
           1,
           1,
           1,
           1,
           1,
           1,
           1,
           1,
           1,
           1,
           1,
           1,
           1,
           1,
           1,
           1,
           1,
           1,
           1,
           1,
           1,
           1,
           1,
           1,
           1,
           1,
           1,
           1,
           1,
           1,
           1,
           1,
           1,
           1,
           1,
           1,
           1,
           1,
           1
          ]
         },
         "mode": "markers",
         "text": [
          2,
          2,
          2,
          2,
          2,
          2,
          2,
          2,
          2,
          2,
          2,
          2,
          2,
          2,
          2,
          2,
          2,
          2,
          2,
          2,
          2,
          2,
          2,
          2,
          2,
          2,
          2,
          2,
          2,
          2,
          2,
          2,
          2,
          2,
          2,
          2,
          2,
          2,
          2,
          2,
          2,
          2,
          2,
          2,
          2,
          2,
          2,
          2,
          2,
          2,
          2,
          2,
          2,
          2,
          2,
          2,
          2,
          2,
          2,
          0,
          0,
          0,
          0,
          0,
          0,
          0,
          0,
          0,
          0,
          0,
          0,
          0,
          0,
          2,
          0,
          0,
          0,
          0,
          0,
          0,
          0,
          0,
          0,
          1,
          0,
          0,
          0,
          0,
          0,
          0,
          0,
          0,
          0,
          0,
          0,
          0,
          0,
          0,
          0,
          0,
          0,
          0,
          0,
          0,
          0,
          0,
          0,
          0,
          0,
          0,
          0,
          0,
          0,
          0,
          0,
          0,
          0,
          0,
          0,
          0,
          0,
          0,
          0,
          0,
          0,
          0,
          0,
          0,
          0,
          0,
          1,
          1,
          1,
          1,
          1,
          1,
          1,
          1,
          1,
          1,
          1,
          1,
          1,
          1,
          1,
          1,
          1,
          1,
          1,
          1,
          1,
          1,
          1,
          1,
          1,
          1,
          1,
          1,
          1,
          1,
          1,
          1,
          1,
          1,
          1,
          1,
          1,
          1,
          1,
          1,
          1,
          1,
          1,
          1,
          1,
          1,
          1,
          1
         ],
         "type": "scatter3d",
         "x": [
          0.37201365187713303,
          0.26450511945392485,
          0.3754266211604095,
          0.5563139931740614,
          0.2593856655290102,
          0.46672354948805456,
          0.3387372013651877,
          0.3216723549488054,
          0.33447098976109213,
          0.5068259385665528,
          0.3813993174061433,
          0.31740614334470985,
          0.3686006825938566,
          0.3515358361774744,
          0.530716723549488,
          0.5136518771331058,
          0.4197952218430034,
          0.45392491467576784,
          0.6331058020477814,
          0.32593856655290093,
          0.3728668941979522,
          0.27474402730375425,
          0.21501706484641633,
          0.22610921501706485,
          0.19112627986348124,
          0.19624573378839588,
          0.3003412969283276,
          0.22781569965870305,
          0.27474402730375425,
          0.2918088737201365,
          0.37713310580204773,
          0.47952218430034127,
          0.21843003412969278,
          0.3515358361774744,
          0.24914675767918087,
          0.32593856655290093,
          0.28327645051194533,
          0.2534129692832764,
          0.20648464163822525,
          0.32593856655290093,
          0.41382252559726956,
          0.25597269624573377,
          0.3540955631399317,
          0.26279863481228666,
          0.3208191126279863,
          0.3378839590443686,
          0.30887372013651876,
          0.4112627986348122,
          0.4197952218430034,
          0.6501706484641638,
          0.5051194539249146,
          0.3686006825938566,
          0.4923208191126279,
          0.42832764505119447,
          0.3899317406143344,
          0.42406143344709896,
          0.43515358361774736,
          0.4027303754266211,
          0.4709897610921501,
          0.057167235494880536,
          0.1697952218430034,
          0.3813993174061433,
          0.21501706484641633,
          0.2704778156996587,
          0.14249146757679182,
          0.28327645051194533,
          0.3430034129692832,
          0.2901023890784982,
          0.16126279863481227,
          0.13395904436860068,
          0.1510238907849829,
          0.17918088737201363,
          0.2098976109215017,
          0.17662116040955633,
          0.16467576791808872,
          0.21501706484641633,
          0.28327645051194533,
          0.11689419795221842,
          0.18088737201365188,
          0.1100682593856655,
          0.10409556313993173,
          0.2235494880546075,
          0.07849829351535836,
          0.3003412969283276,
          0.1510238907849829,
          0.11433447098976109,
          0.09982935153583619,
          0.11262798634812286,
          0.1296928327645051,
          0.039249146757679175,
          0.09556313993174059,
          0.19795221843003413,
          0.1510238907849829,
          0.07423208191126278,
          0.16808873720136516,
          0.11262798634812286,
          0.10409556313993173,
          0.13822525597269622,
          0.27474402730375425,
          0.08703071672354946,
          0.1723549488054607,
          0.09982935153583619,
          0.1296928327645051,
          0.06655290102389079,
          0.1416382252559727,
          0.121160409556314,
          0.18088737201365188,
          0.1723549488054607,
          0.121160409556314,
          0.11689419795221842,
          0.13822525597269622,
          0.0614334470989761,
          0.21501706484641633,
          0.15358361774744028,
          0.13822525597269622,
          0.05290102389078497,
          0.057167235494880536,
          0.06655290102389079,
          0.18088737201365188,
          0,
          0.16808873720136516,
          0.4027303754266211,
          0.06825938566552901,
          0.11262798634812286,
          0.1296928327645051,
          0.12627986348122863,
          0.22696245733788395,
          0.14675767918088736,
          0.07167235494880546,
          0.11262798634812286,
          0.2406143344709897,
          0.3515358361774744,
          0.37713310580204773,
          0.31740614334470985,
          0.35580204778156993,
          0.49658703071672344,
          0.21928327645051196,
          0.31740614334470985,
          0.37713310580204773,
          0.31058020477815695,
          0.28327645051194533,
          0.3686006825938566,
          0.26194539249146753,
          0.26621160409556316,
          0.591296928327645,
          0.2320819112627986,
          0.30887372013651876,
          0.5435153583617747,
          0.6092150170648464,
          0.6928327645051195,
          0.6245733788395904,
          0.8122866894197953,
          0.49658703071672344,
          0.78839590443686,
          0.5392491467576791,
          0.5648464163822525,
          0.6595563139931739,
          0.530716723549488,
          1,
          0.893344709897611,
          0.5435153583617747,
          0.39249146757679176,
          0.3668941979522184,
          0.341296928327645,
          0.7081911262798635,
          0.4556313993174061,
          0.8020477815699658,
          0.7662116040955631,
          0.629692832764505,
          0.6160409556313993,
          0.3600682593856655,
          0.7354947952218429,
          0.7184300341296928,
          0.5477815699658702,
          0.5136518771331058,
          0.7610921501706485,
          0.6843003412969284,
          0.675767918088737
         ],
         "y": [
          0.8421052631578949,
          0.5710526315789473,
          0.5605263157894738,
          0.8789473684210525,
          0.5815789473684212,
          0.8342105263157893,
          0.8842105263157897,
          0.7973684210526317,
          1,
          0.744736842105263,
          0.8078947368421052,
          0.813157894736842,
          0.7157894736842105,
          0.9789473684210526,
          0.8815789473684212,
          0.6842105263157897,
          0.8605263157894739,
          0.736842105263158,
          0.831578947368421,
          0.686842105263158,
          0.7973684210526317,
          0.5,
          0.7052631578947371,
          0.4789473684210526,
          0.65,
          0.5315789473684213,
          0.6210526315789475,
          0.5973684210526318,
          0.7473684210526313,
          0.7868421052631578,
          0.7105263157894738,
          0.6710526315789475,
          0.6973684210526315,
          0.718421052631579,
          0.6526315789473685,
          0.6447368421052633,
          0.5921052631578946,
          0.5315789473684213,
          0.536842105263158,
          0.8394736842105265,
          0.6657894736842107,
          0.6263157894736843,
          0.7500000000000002,
          0.5815789473684212,
          0.5315789473684213,
          0.8368421052631582,
          0.8815789473684212,
          0.755263157894737,
          0.8078947368421052,
          0.7657894736842105,
          0.5315789473684213,
          0.736842105263158,
          0.7342105263157895,
          0.7210526315789473,
          0.7131578947368422,
          0.6657894736842107,
          0.8394736842105265,
          0.594736842105263,
          0.7078947368421055,
          0.3526315789473683,
          0.34210526315789486,
          0.42368421052631605,
          0.6947368421052632,
          0.3526315789473683,
          0.3000000000000001,
          0.3526315789473683,
          0.5473684210526315,
          0.3526315789473683,
          0.6078947368421053,
          0.31052631578947404,
          0.3315789473684209,
          0.744736842105263,
          0.6473684210526317,
          0.5157894736842107,
          0.2447368421052635,
          0.1657894736842107,
          0.5263157894736841,
          0.21315789473684219,
          0.34210526315789486,
          0.43947368421052624,
          0.25526315789473697,
          0.44473684210526343,
          0.27631578947368435,
          0.5315789473684213,
          0.21315789473684219,
          0.4315789473684211,
          0.2973684210526317,
          0.16315789473684233,
          0.16052631578947396,
          0.27631578947368435,
          0.27631578947368435,
          0.25526315789473697,
          0.43684210526315786,
          0.3315789473684209,
          0.15526315789473677,
          0.3789473684210529,
          0.2052631578947371,
          0.3315789473684209,
          0.3526315789473683,
          0.3315789473684209,
          0.27631578947368435,
          0.4131578947368421,
          0.34473684210526323,
          0.20789473684210547,
          0.38947368421052636,
          0.3657894736842106,
          0.3210526315789475,
          0.44473684210526343,
          0.31315789473684236,
          0.15263157894736842,
          0.11315789473684247,
          0.39210526315789473,
          0.1921052631578948,
          0.10000000000000019,
          0.27631578947368435,
          0,
          0.20789473684210547,
          0.3657894736842106,
          0.45789473684210524,
          0.25526315789473697,
          0.11052631578947364,
          0.13947368421052658,
          0.3657894736842106,
          0.5315789473684213,
          0.22105263157894728,
          0.273684210526316,
          0.368421052631579,
          0.1999999999999999,
          0.3526315789473683,
          0.2657894736842104,
          0.481578947368421,
          0.4868421052631582,
          0.4684210526315792,
          0.43947368421052624,
          0.38947368421052636,
          0.4131578947368421,
          0.3210526315789475,
          0.3947368421052631,
          0.6473684210526317,
          0.47631578947368425,
          0.5,
          0.613157894736842,
          0.6552631578947368,
          0.6815789473684208,
          0.3210526315789475,
          0.5605263157894738,
          0.7500000000000002,
          0.48421052631578937,
          0.6026315789473685,
          0.5394736842105264,
          0.65,
          0.46315789473684194,
          0.5473684210526315,
          0.5789473684210528,
          0.40789473684210537,
          0.5631578947368422,
          0.7394736842105263,
          0.3736842105263157,
          0.8710526315789473,
          0.6447368421052633,
          0.35,
          0.7,
          0.4789473684210526,
          0.5078947368421055,
          0.7236842105263157,
          0.7105263157894738,
          0.6368421052631578,
          0.4710526315789475,
          0.6710526315789475,
          0.623684210526316,
          0.30789473684210517,
          0.45789473684210524,
          0.8236842105263158,
          0.7052631578947371,
          0.623684210526316,
          0.5894736842105263,
          0.5631578947368422,
          0.8157894736842107
         ],
         "z": [
          0.5613409415121255,
          0.550641940085592,
          0.6469329529243937,
          0.8573466476462197,
          0.325962910128388,
          0.8359486447931527,
          0.7218259629101283,
          0.7253922967189729,
          0.5470756062767475,
          0.5470756062767475,
          0.8787446504992867,
          0.7146932952924394,
          0.7432239657631954,
          0.6219686162624821,
          0.9051355206847361,
          0.7360912981455064,
          0.7146932952924394,
          0.6077032810271041,
          1,
          0.4044222539229672,
          0.35805991440798857,
          0.3509272467902996,
          0.5399429386590585,
          0.5256776034236804,
          0.4044222539229672,
          0.39372325249643364,
          0.6540656205420827,
          0.7182596291012838,
          0.4543509272467903,
          0.5399429386590585,
          0.7182596291012838,
          0.8823109843081313,
          0.5078459343794579,
          0.6825962910128388,
          0.5827389443651926,
          0.4579172610556348,
          0.42938659058487877,
          0.5898716119828816,
          0.5292439372325249,
          0.3437945791726106,
          0.36875891583452214,
          0.5399429386590585,
          0.5827389443651926,
          0.2867332382310984,
          0.43295292439372324,
          0.572039942938659,
          0.5613409415121255,
          0.5042796005706134,
          0.557774607703281,
          0.7004279600570613,
          0.6219686162624821,
          0.7039942938659058,
          0.6504992867332382,
          0.782453637660485,
          0.557774607703281,
          0.6005706134094151,
          0.49358059914407987,
          0.7075606276747504,
          0.7182596291012838,
          0.17261055634807418,
          0.2867332382310984,
          0.12268188302425106,
          0.25106990014265335,
          0.10128388017118402,
          0.05492154065620542,
          0.28530670470756064,
          0.15977175463623394,
          0.16547788873038516,
          0.33666191155492153,
          0.31383737517831667,
          0.4222539229671897,
          0.09415121255349501,
          0.1383737517831669,
          0.5042796005706134,
          0.43366619115549215,
          0.10699001426533523,
          0.08131241084165478,
          0.15834522111269614,
          0.33666191155492153,
          0.13195435092724678,
          0,
          0.31098430813124106,
          0.25106990014265335,
          0.16904422253922968,
          0.17261055634807418,
          0.12268188302425106,
          0.15477888730385164,
          0.20256776034236804,
          0.2867332382310984,
          0.24750356633380885,
          0.14407988587731813,
          0.12268188302425106,
          0.15477888730385164,
          0.008559201141226819,
          0.04778887303851641,
          0.47004279600570614,
          0.24750356633380885,
          0.10699001426533523,
          0.2724679029957204,
          0.0912981455064194,
          0.30813124108416545,
          0.20256776034236804,
          0.11412268188302425,
          0.09771754636233952,
          0.2810271041369472,
          0.026390870185449358,
          0.16547788873038516,
          0.14978601997146934,
          0.024251069900142655,
          0.2867332382310984,
          0.20256776034236804,
          0.033523537803138374,
          0.2346647646219686,
          0.11126961483594865,
          0.07631954350927246,
          0.0920114122681883,
          0.15477888730385164,
          0.04778887303851641,
          0.06704707560627675,
          0.20399429386590584,
          0.24750356633380885,
          0.13338088445078458,
          0.062054208273894434,
          0.07275320970042796,
          0.07275320970042796,
          0.07132667617689016,
          0.052781740370898715,
          0.1340941512125535,
          0.0456490727532097,
          0.21540656205420827,
          0.25106990014265335,
          0.1797432239657632,
          0.20114122681883023,
          0.2296718972895863,
          0.2653352353780314,
          0.29743223965763194,
          0.3152639087018545,
          0.16904422253922968,
          0.21540656205420827,
          0.2225392296718973,
          0.2296718972895863,
          0.35805991440798857,
          0.17261055634807418,
          0.19400855920114124,
          0.4115549215406562,
          0.39372325249643364,
          0.09771754636233952,
          0.24750356633380885,
          0.2653352353780314,
          0.19400855920114124,
          0.15834522111269614,
          0.14407988587731813,
          0.10485021398002853,
          0.2831669044222539,
          0.2582025677603424,
          0.318830242510699,
          0.14407988587731813,
          0.42938659058487877,
          0.2724679029957204,
          0.24393723252496433,
          0.17261055634807418,
          0.2867332382310984,
          0.20827389443651925,
          0.2831669044222539,
          0.24037089871611983,
          0.17261055634807418,
          0.29743223965763194,
          0.29029957203994294,
          0.33666191155492153,
          0.25106990014265335,
          0.16547788873038516,
          0.1369472182596291,
          0.2724679029957204,
          0.32952924393723254,
          0.33666191155492153,
          0.39728958630527816,
          0.4008559201141227,
          0.20114122681883023
         ]
        }
       ],
       "layout": {
        "template": {
         "data": {
          "bar": [
           {
            "error_x": {
             "color": "#2a3f5f"
            },
            "error_y": {
             "color": "#2a3f5f"
            },
            "marker": {
             "line": {
              "color": "#E5ECF6",
              "width": 0.5
             },
             "pattern": {
              "fillmode": "overlay",
              "size": 10,
              "solidity": 0.2
             }
            },
            "type": "bar"
           }
          ],
          "barpolar": [
           {
            "marker": {
             "line": {
              "color": "#E5ECF6",
              "width": 0.5
             },
             "pattern": {
              "fillmode": "overlay",
              "size": 10,
              "solidity": 0.2
             }
            },
            "type": "barpolar"
           }
          ],
          "carpet": [
           {
            "aaxis": {
             "endlinecolor": "#2a3f5f",
             "gridcolor": "white",
             "linecolor": "white",
             "minorgridcolor": "white",
             "startlinecolor": "#2a3f5f"
            },
            "baxis": {
             "endlinecolor": "#2a3f5f",
             "gridcolor": "white",
             "linecolor": "white",
             "minorgridcolor": "white",
             "startlinecolor": "#2a3f5f"
            },
            "type": "carpet"
           }
          ],
          "choropleth": [
           {
            "colorbar": {
             "outlinewidth": 0,
             "ticks": ""
            },
            "type": "choropleth"
           }
          ],
          "contour": [
           {
            "colorbar": {
             "outlinewidth": 0,
             "ticks": ""
            },
            "colorscale": [
             [
              0,
              "#0d0887"
             ],
             [
              0.1111111111111111,
              "#46039f"
             ],
             [
              0.2222222222222222,
              "#7201a8"
             ],
             [
              0.3333333333333333,
              "#9c179e"
             ],
             [
              0.4444444444444444,
              "#bd3786"
             ],
             [
              0.5555555555555556,
              "#d8576b"
             ],
             [
              0.6666666666666666,
              "#ed7953"
             ],
             [
              0.7777777777777778,
              "#fb9f3a"
             ],
             [
              0.8888888888888888,
              "#fdca26"
             ],
             [
              1,
              "#f0f921"
             ]
            ],
            "type": "contour"
           }
          ],
          "contourcarpet": [
           {
            "colorbar": {
             "outlinewidth": 0,
             "ticks": ""
            },
            "type": "contourcarpet"
           }
          ],
          "heatmap": [
           {
            "colorbar": {
             "outlinewidth": 0,
             "ticks": ""
            },
            "colorscale": [
             [
              0,
              "#0d0887"
             ],
             [
              0.1111111111111111,
              "#46039f"
             ],
             [
              0.2222222222222222,
              "#7201a8"
             ],
             [
              0.3333333333333333,
              "#9c179e"
             ],
             [
              0.4444444444444444,
              "#bd3786"
             ],
             [
              0.5555555555555556,
              "#d8576b"
             ],
             [
              0.6666666666666666,
              "#ed7953"
             ],
             [
              0.7777777777777778,
              "#fb9f3a"
             ],
             [
              0.8888888888888888,
              "#fdca26"
             ],
             [
              1,
              "#f0f921"
             ]
            ],
            "type": "heatmap"
           }
          ],
          "heatmapgl": [
           {
            "colorbar": {
             "outlinewidth": 0,
             "ticks": ""
            },
            "colorscale": [
             [
              0,
              "#0d0887"
             ],
             [
              0.1111111111111111,
              "#46039f"
             ],
             [
              0.2222222222222222,
              "#7201a8"
             ],
             [
              0.3333333333333333,
              "#9c179e"
             ],
             [
              0.4444444444444444,
              "#bd3786"
             ],
             [
              0.5555555555555556,
              "#d8576b"
             ],
             [
              0.6666666666666666,
              "#ed7953"
             ],
             [
              0.7777777777777778,
              "#fb9f3a"
             ],
             [
              0.8888888888888888,
              "#fdca26"
             ],
             [
              1,
              "#f0f921"
             ]
            ],
            "type": "heatmapgl"
           }
          ],
          "histogram": [
           {
            "marker": {
             "pattern": {
              "fillmode": "overlay",
              "size": 10,
              "solidity": 0.2
             }
            },
            "type": "histogram"
           }
          ],
          "histogram2d": [
           {
            "colorbar": {
             "outlinewidth": 0,
             "ticks": ""
            },
            "colorscale": [
             [
              0,
              "#0d0887"
             ],
             [
              0.1111111111111111,
              "#46039f"
             ],
             [
              0.2222222222222222,
              "#7201a8"
             ],
             [
              0.3333333333333333,
              "#9c179e"
             ],
             [
              0.4444444444444444,
              "#bd3786"
             ],
             [
              0.5555555555555556,
              "#d8576b"
             ],
             [
              0.6666666666666666,
              "#ed7953"
             ],
             [
              0.7777777777777778,
              "#fb9f3a"
             ],
             [
              0.8888888888888888,
              "#fdca26"
             ],
             [
              1,
              "#f0f921"
             ]
            ],
            "type": "histogram2d"
           }
          ],
          "histogram2dcontour": [
           {
            "colorbar": {
             "outlinewidth": 0,
             "ticks": ""
            },
            "colorscale": [
             [
              0,
              "#0d0887"
             ],
             [
              0.1111111111111111,
              "#46039f"
             ],
             [
              0.2222222222222222,
              "#7201a8"
             ],
             [
              0.3333333333333333,
              "#9c179e"
             ],
             [
              0.4444444444444444,
              "#bd3786"
             ],
             [
              0.5555555555555556,
              "#d8576b"
             ],
             [
              0.6666666666666666,
              "#ed7953"
             ],
             [
              0.7777777777777778,
              "#fb9f3a"
             ],
             [
              0.8888888888888888,
              "#fdca26"
             ],
             [
              1,
              "#f0f921"
             ]
            ],
            "type": "histogram2dcontour"
           }
          ],
          "mesh3d": [
           {
            "colorbar": {
             "outlinewidth": 0,
             "ticks": ""
            },
            "type": "mesh3d"
           }
          ],
          "parcoords": [
           {
            "line": {
             "colorbar": {
              "outlinewidth": 0,
              "ticks": ""
             }
            },
            "type": "parcoords"
           }
          ],
          "pie": [
           {
            "automargin": true,
            "type": "pie"
           }
          ],
          "scatter": [
           {
            "marker": {
             "colorbar": {
              "outlinewidth": 0,
              "ticks": ""
             }
            },
            "type": "scatter"
           }
          ],
          "scatter3d": [
           {
            "line": {
             "colorbar": {
              "outlinewidth": 0,
              "ticks": ""
             }
            },
            "marker": {
             "colorbar": {
              "outlinewidth": 0,
              "ticks": ""
             }
            },
            "type": "scatter3d"
           }
          ],
          "scattercarpet": [
           {
            "marker": {
             "colorbar": {
              "outlinewidth": 0,
              "ticks": ""
             }
            },
            "type": "scattercarpet"
           }
          ],
          "scattergeo": [
           {
            "marker": {
             "colorbar": {
              "outlinewidth": 0,
              "ticks": ""
             }
            },
            "type": "scattergeo"
           }
          ],
          "scattergl": [
           {
            "marker": {
             "colorbar": {
              "outlinewidth": 0,
              "ticks": ""
             }
            },
            "type": "scattergl"
           }
          ],
          "scattermapbox": [
           {
            "marker": {
             "colorbar": {
              "outlinewidth": 0,
              "ticks": ""
             }
            },
            "type": "scattermapbox"
           }
          ],
          "scatterpolar": [
           {
            "marker": {
             "colorbar": {
              "outlinewidth": 0,
              "ticks": ""
             }
            },
            "type": "scatterpolar"
           }
          ],
          "scatterpolargl": [
           {
            "marker": {
             "colorbar": {
              "outlinewidth": 0,
              "ticks": ""
             }
            },
            "type": "scatterpolargl"
           }
          ],
          "scatterternary": [
           {
            "marker": {
             "colorbar": {
              "outlinewidth": 0,
              "ticks": ""
             }
            },
            "type": "scatterternary"
           }
          ],
          "surface": [
           {
            "colorbar": {
             "outlinewidth": 0,
             "ticks": ""
            },
            "colorscale": [
             [
              0,
              "#0d0887"
             ],
             [
              0.1111111111111111,
              "#46039f"
             ],
             [
              0.2222222222222222,
              "#7201a8"
             ],
             [
              0.3333333333333333,
              "#9c179e"
             ],
             [
              0.4444444444444444,
              "#bd3786"
             ],
             [
              0.5555555555555556,
              "#d8576b"
             ],
             [
              0.6666666666666666,
              "#ed7953"
             ],
             [
              0.7777777777777778,
              "#fb9f3a"
             ],
             [
              0.8888888888888888,
              "#fdca26"
             ],
             [
              1,
              "#f0f921"
             ]
            ],
            "type": "surface"
           }
          ],
          "table": [
           {
            "cells": {
             "fill": {
              "color": "#EBF0F8"
             },
             "line": {
              "color": "white"
             }
            },
            "header": {
             "fill": {
              "color": "#C8D4E3"
             },
             "line": {
              "color": "white"
             }
            },
            "type": "table"
           }
          ]
         },
         "layout": {
          "annotationdefaults": {
           "arrowcolor": "#2a3f5f",
           "arrowhead": 0,
           "arrowwidth": 1
          },
          "autotypenumbers": "strict",
          "coloraxis": {
           "colorbar": {
            "outlinewidth": 0,
            "ticks": ""
           }
          },
          "colorscale": {
           "diverging": [
            [
             0,
             "#8e0152"
            ],
            [
             0.1,
             "#c51b7d"
            ],
            [
             0.2,
             "#de77ae"
            ],
            [
             0.3,
             "#f1b6da"
            ],
            [
             0.4,
             "#fde0ef"
            ],
            [
             0.5,
             "#f7f7f7"
            ],
            [
             0.6,
             "#e6f5d0"
            ],
            [
             0.7,
             "#b8e186"
            ],
            [
             0.8,
             "#7fbc41"
            ],
            [
             0.9,
             "#4d9221"
            ],
            [
             1,
             "#276419"
            ]
           ],
           "sequential": [
            [
             0,
             "#0d0887"
            ],
            [
             0.1111111111111111,
             "#46039f"
            ],
            [
             0.2222222222222222,
             "#7201a8"
            ],
            [
             0.3333333333333333,
             "#9c179e"
            ],
            [
             0.4444444444444444,
             "#bd3786"
            ],
            [
             0.5555555555555556,
             "#d8576b"
            ],
            [
             0.6666666666666666,
             "#ed7953"
            ],
            [
             0.7777777777777778,
             "#fb9f3a"
            ],
            [
             0.8888888888888888,
             "#fdca26"
            ],
            [
             1,
             "#f0f921"
            ]
           ],
           "sequentialminus": [
            [
             0,
             "#0d0887"
            ],
            [
             0.1111111111111111,
             "#46039f"
            ],
            [
             0.2222222222222222,
             "#7201a8"
            ],
            [
             0.3333333333333333,
             "#9c179e"
            ],
            [
             0.4444444444444444,
             "#bd3786"
            ],
            [
             0.5555555555555556,
             "#d8576b"
            ],
            [
             0.6666666666666666,
             "#ed7953"
            ],
            [
             0.7777777777777778,
             "#fb9f3a"
            ],
            [
             0.8888888888888888,
             "#fdca26"
            ],
            [
             1,
             "#f0f921"
            ]
           ]
          },
          "colorway": [
           "#636efa",
           "#EF553B",
           "#00cc96",
           "#ab63fa",
           "#FFA15A",
           "#19d3f3",
           "#FF6692",
           "#B6E880",
           "#FF97FF",
           "#FECB52"
          ],
          "font": {
           "color": "#2a3f5f"
          },
          "geo": {
           "bgcolor": "white",
           "lakecolor": "white",
           "landcolor": "#E5ECF6",
           "showlakes": true,
           "showland": true,
           "subunitcolor": "white"
          },
          "hoverlabel": {
           "align": "left"
          },
          "hovermode": "closest",
          "mapbox": {
           "style": "light"
          },
          "paper_bgcolor": "white",
          "plot_bgcolor": "#E5ECF6",
          "polar": {
           "angularaxis": {
            "gridcolor": "white",
            "linecolor": "white",
            "ticks": ""
           },
           "bgcolor": "#E5ECF6",
           "radialaxis": {
            "gridcolor": "white",
            "linecolor": "white",
            "ticks": ""
           }
          },
          "scene": {
           "xaxis": {
            "backgroundcolor": "#E5ECF6",
            "gridcolor": "white",
            "gridwidth": 2,
            "linecolor": "white",
            "showbackground": true,
            "ticks": "",
            "zerolinecolor": "white"
           },
           "yaxis": {
            "backgroundcolor": "#E5ECF6",
            "gridcolor": "white",
            "gridwidth": 2,
            "linecolor": "white",
            "showbackground": true,
            "ticks": "",
            "zerolinecolor": "white"
           },
           "zaxis": {
            "backgroundcolor": "#E5ECF6",
            "gridcolor": "white",
            "gridwidth": 2,
            "linecolor": "white",
            "showbackground": true,
            "ticks": "",
            "zerolinecolor": "white"
           }
          },
          "shapedefaults": {
           "line": {
            "color": "#2a3f5f"
           }
          },
          "ternary": {
           "aaxis": {
            "gridcolor": "white",
            "linecolor": "white",
            "ticks": ""
           },
           "baxis": {
            "gridcolor": "white",
            "linecolor": "white",
            "ticks": ""
           },
           "bgcolor": "#E5ECF6",
           "caxis": {
            "gridcolor": "white",
            "linecolor": "white",
            "ticks": ""
           }
          },
          "title": {
           "x": 0.05
          },
          "xaxis": {
           "automargin": true,
           "gridcolor": "white",
           "linecolor": "white",
           "ticks": "",
           "title": {
            "standoff": 15
           },
           "zerolinecolor": "white",
           "zerolinewidth": 2
          },
          "yaxis": {
           "automargin": true,
           "gridcolor": "white",
           "linecolor": "white",
           "ticks": "",
           "title": {
            "standoff": 15
           },
           "zerolinecolor": "white",
           "zerolinewidth": 2
          }
         }
        }
       }
      },
      "text/html": [
       "<div>                            <div id=\"36d66cbc-a6e9-412d-a891-1ad21ca8eacc\" class=\"plotly-graph-div\" style=\"height:525px; width:100%;\"></div>            <script type=\"text/javascript\">                require([\"plotly\"], function(Plotly) {                    window.PLOTLYENV=window.PLOTLYENV || {};                                    if (document.getElementById(\"36d66cbc-a6e9-412d-a891-1ad21ca8eacc\")) {                    Plotly.newPlot(                        \"36d66cbc-a6e9-412d-a891-1ad21ca8eacc\",                        [{\"marker\":{\"color\":[2.0,2.0,2.0,2.0,2.0,2.0,2.0,2.0,2.0,2.0,2.0,2.0,2.0,2.0,2.0,2.0,2.0,2.0,2.0,2.0,2.0,2.0,2.0,2.0,2.0,2.0,2.0,2.0,2.0,2.0,2.0,2.0,2.0,2.0,2.0,2.0,2.0,2.0,2.0,2.0,2.0,2.0,2.0,2.0,2.0,2.0,2.0,2.0,2.0,2.0,2.0,2.0,2.0,2.0,2.0,2.0,2.0,2.0,2.0,0.0,0.0,0.0,0.0,0.0,0.0,0.0,0.0,0.0,0.0,0.0,0.0,0.0,0.0,2.0,0.0,0.0,0.0,0.0,0.0,0.0,0.0,0.0,0.0,1.0,0.0,0.0,0.0,0.0,0.0,0.0,0.0,0.0,0.0,0.0,0.0,0.0,0.0,0.0,0.0,0.0,0.0,0.0,0.0,0.0,0.0,0.0,0.0,0.0,0.0,0.0,0.0,0.0,0.0,0.0,0.0,0.0,0.0,0.0,0.0,0.0,0.0,0.0,0.0,0.0,0.0,0.0,0.0,0.0,0.0,0.0,1.0,1.0,1.0,1.0,1.0,1.0,1.0,1.0,1.0,1.0,1.0,1.0,1.0,1.0,1.0,1.0,1.0,1.0,1.0,1.0,1.0,1.0,1.0,1.0,1.0,1.0,1.0,1.0,1.0,1.0,1.0,1.0,1.0,1.0,1.0,1.0,1.0,1.0,1.0,1.0,1.0,1.0,1.0,1.0,1.0,1.0,1.0,1.0]},\"mode\":\"markers\",\"text\":[2.0,2.0,2.0,2.0,2.0,2.0,2.0,2.0,2.0,2.0,2.0,2.0,2.0,2.0,2.0,2.0,2.0,2.0,2.0,2.0,2.0,2.0,2.0,2.0,2.0,2.0,2.0,2.0,2.0,2.0,2.0,2.0,2.0,2.0,2.0,2.0,2.0,2.0,2.0,2.0,2.0,2.0,2.0,2.0,2.0,2.0,2.0,2.0,2.0,2.0,2.0,2.0,2.0,2.0,2.0,2.0,2.0,2.0,2.0,0.0,0.0,0.0,0.0,0.0,0.0,0.0,0.0,0.0,0.0,0.0,0.0,0.0,0.0,2.0,0.0,0.0,0.0,0.0,0.0,0.0,0.0,0.0,0.0,1.0,0.0,0.0,0.0,0.0,0.0,0.0,0.0,0.0,0.0,0.0,0.0,0.0,0.0,0.0,0.0,0.0,0.0,0.0,0.0,0.0,0.0,0.0,0.0,0.0,0.0,0.0,0.0,0.0,0.0,0.0,0.0,0.0,0.0,0.0,0.0,0.0,0.0,0.0,0.0,0.0,0.0,0.0,0.0,0.0,0.0,0.0,1.0,1.0,1.0,1.0,1.0,1.0,1.0,1.0,1.0,1.0,1.0,1.0,1.0,1.0,1.0,1.0,1.0,1.0,1.0,1.0,1.0,1.0,1.0,1.0,1.0,1.0,1.0,1.0,1.0,1.0,1.0,1.0,1.0,1.0,1.0,1.0,1.0,1.0,1.0,1.0,1.0,1.0,1.0,1.0,1.0,1.0,1.0,1.0],\"type\":\"scatter3d\",\"x\":[0.37201365187713303,0.26450511945392485,0.3754266211604095,0.5563139931740614,0.2593856655290102,0.46672354948805456,0.3387372013651877,0.3216723549488054,0.33447098976109213,0.5068259385665528,0.3813993174061433,0.31740614334470985,0.3686006825938566,0.3515358361774744,0.530716723549488,0.5136518771331058,0.4197952218430034,0.45392491467576784,0.6331058020477814,0.32593856655290093,0.3728668941979522,0.27474402730375425,0.21501706484641633,0.22610921501706485,0.19112627986348124,0.19624573378839588,0.3003412969283276,0.22781569965870305,0.27474402730375425,0.2918088737201365,0.37713310580204773,0.47952218430034127,0.21843003412969278,0.3515358361774744,0.24914675767918087,0.32593856655290093,0.28327645051194533,0.2534129692832764,0.20648464163822525,0.32593856655290093,0.41382252559726956,0.25597269624573377,0.3540955631399317,0.26279863481228666,0.3208191126279863,0.3378839590443686,0.30887372013651876,0.4112627986348122,0.4197952218430034,0.6501706484641638,0.5051194539249146,0.3686006825938566,0.4923208191126279,0.42832764505119447,0.3899317406143344,0.42406143344709896,0.43515358361774736,0.4027303754266211,0.4709897610921501,0.057167235494880536,0.1697952218430034,0.3813993174061433,0.21501706484641633,0.2704778156996587,0.14249146757679182,0.28327645051194533,0.3430034129692832,0.2901023890784982,0.16126279863481227,0.13395904436860068,0.1510238907849829,0.17918088737201363,0.2098976109215017,0.17662116040955633,0.16467576791808872,0.21501706484641633,0.28327645051194533,0.11689419795221842,0.18088737201365188,0.1100682593856655,0.10409556313993173,0.2235494880546075,0.07849829351535836,0.3003412969283276,0.1510238907849829,0.11433447098976109,0.09982935153583619,0.11262798634812286,0.1296928327645051,0.039249146757679175,0.09556313993174059,0.19795221843003413,0.1510238907849829,0.07423208191126278,0.16808873720136516,0.11262798634812286,0.10409556313993173,0.13822525597269622,0.27474402730375425,0.08703071672354946,0.1723549488054607,0.09982935153583619,0.1296928327645051,0.06655290102389079,0.1416382252559727,0.121160409556314,0.18088737201365188,0.1723549488054607,0.121160409556314,0.11689419795221842,0.13822525597269622,0.0614334470989761,0.21501706484641633,0.15358361774744028,0.13822525597269622,0.05290102389078497,0.057167235494880536,0.06655290102389079,0.18088737201365188,0.0,0.16808873720136516,0.4027303754266211,0.06825938566552901,0.11262798634812286,0.1296928327645051,0.12627986348122863,0.22696245733788395,0.14675767918088736,0.07167235494880546,0.11262798634812286,0.2406143344709897,0.3515358361774744,0.37713310580204773,0.31740614334470985,0.35580204778156993,0.49658703071672344,0.21928327645051196,0.31740614334470985,0.37713310580204773,0.31058020477815695,0.28327645051194533,0.3686006825938566,0.26194539249146753,0.26621160409556316,0.591296928327645,0.2320819112627986,0.30887372013651876,0.5435153583617747,0.6092150170648464,0.6928327645051195,0.6245733788395904,0.8122866894197953,0.49658703071672344,0.78839590443686,0.5392491467576791,0.5648464163822525,0.6595563139931739,0.530716723549488,1.0,0.893344709897611,0.5435153583617747,0.39249146757679176,0.3668941979522184,0.341296928327645,0.7081911262798635,0.4556313993174061,0.8020477815699658,0.7662116040955631,0.629692832764505,0.6160409556313993,0.3600682593856655,0.7354947952218429,0.7184300341296928,0.5477815699658702,0.5136518771331058,0.7610921501706485,0.6843003412969284,0.675767918088737],\"y\":[0.8421052631578949,0.5710526315789473,0.5605263157894738,0.8789473684210525,0.5815789473684212,0.8342105263157893,0.8842105263157897,0.7973684210526317,1.0,0.744736842105263,0.8078947368421052,0.813157894736842,0.7157894736842105,0.9789473684210526,0.8815789473684212,0.6842105263157897,0.8605263157894739,0.736842105263158,0.831578947368421,0.686842105263158,0.7973684210526317,0.5,0.7052631578947371,0.4789473684210526,0.65,0.5315789473684213,0.6210526315789475,0.5973684210526318,0.7473684210526313,0.7868421052631578,0.7105263157894738,0.6710526315789475,0.6973684210526315,0.718421052631579,0.6526315789473685,0.6447368421052633,0.5921052631578946,0.5315789473684213,0.536842105263158,0.8394736842105265,0.6657894736842107,0.6263157894736843,0.7500000000000002,0.5815789473684212,0.5315789473684213,0.8368421052631582,0.8815789473684212,0.755263157894737,0.8078947368421052,0.7657894736842105,0.5315789473684213,0.736842105263158,0.7342105263157895,0.7210526315789473,0.7131578947368422,0.6657894736842107,0.8394736842105265,0.594736842105263,0.7078947368421055,0.3526315789473683,0.34210526315789486,0.42368421052631605,0.6947368421052632,0.3526315789473683,0.3000000000000001,0.3526315789473683,0.5473684210526315,0.3526315789473683,0.6078947368421053,0.31052631578947404,0.3315789473684209,0.744736842105263,0.6473684210526317,0.5157894736842107,0.2447368421052635,0.1657894736842107,0.5263157894736841,0.21315789473684219,0.34210526315789486,0.43947368421052624,0.25526315789473697,0.44473684210526343,0.27631578947368435,0.5315789473684213,0.21315789473684219,0.4315789473684211,0.2973684210526317,0.16315789473684233,0.16052631578947396,0.27631578947368435,0.27631578947368435,0.25526315789473697,0.43684210526315786,0.3315789473684209,0.15526315789473677,0.3789473684210529,0.2052631578947371,0.3315789473684209,0.3526315789473683,0.3315789473684209,0.27631578947368435,0.4131578947368421,0.34473684210526323,0.20789473684210547,0.38947368421052636,0.3657894736842106,0.3210526315789475,0.44473684210526343,0.31315789473684236,0.15263157894736842,0.11315789473684247,0.39210526315789473,0.1921052631578948,0.10000000000000019,0.27631578947368435,0.0,0.20789473684210547,0.3657894736842106,0.45789473684210524,0.25526315789473697,0.11052631578947364,0.13947368421052658,0.3657894736842106,0.5315789473684213,0.22105263157894728,0.273684210526316,0.368421052631579,0.1999999999999999,0.3526315789473683,0.2657894736842104,0.481578947368421,0.4868421052631582,0.4684210526315792,0.43947368421052624,0.38947368421052636,0.4131578947368421,0.3210526315789475,0.3947368421052631,0.6473684210526317,0.47631578947368425,0.5,0.613157894736842,0.6552631578947368,0.6815789473684208,0.3210526315789475,0.5605263157894738,0.7500000000000002,0.48421052631578937,0.6026315789473685,0.5394736842105264,0.65,0.46315789473684194,0.5473684210526315,0.5789473684210528,0.40789473684210537,0.5631578947368422,0.7394736842105263,0.3736842105263157,0.8710526315789473,0.6447368421052633,0.35,0.7,0.4789473684210526,0.5078947368421055,0.7236842105263157,0.7105263157894738,0.6368421052631578,0.4710526315789475,0.6710526315789475,0.623684210526316,0.30789473684210517,0.45789473684210524,0.8236842105263158,0.7052631578947371,0.623684210526316,0.5894736842105263,0.5631578947368422,0.8157894736842107],\"z\":[0.5613409415121255,0.550641940085592,0.6469329529243937,0.8573466476462197,0.325962910128388,0.8359486447931527,0.7218259629101283,0.7253922967189729,0.5470756062767475,0.5470756062767475,0.8787446504992867,0.7146932952924394,0.7432239657631954,0.6219686162624821,0.9051355206847361,0.7360912981455064,0.7146932952924394,0.6077032810271041,1.0,0.4044222539229672,0.35805991440798857,0.3509272467902996,0.5399429386590585,0.5256776034236804,0.4044222539229672,0.39372325249643364,0.6540656205420827,0.7182596291012838,0.4543509272467903,0.5399429386590585,0.7182596291012838,0.8823109843081313,0.5078459343794579,0.6825962910128388,0.5827389443651926,0.4579172610556348,0.42938659058487877,0.5898716119828816,0.5292439372325249,0.3437945791726106,0.36875891583452214,0.5399429386590585,0.5827389443651926,0.2867332382310984,0.43295292439372324,0.572039942938659,0.5613409415121255,0.5042796005706134,0.557774607703281,0.7004279600570613,0.6219686162624821,0.7039942938659058,0.6504992867332382,0.782453637660485,0.557774607703281,0.6005706134094151,0.49358059914407987,0.7075606276747504,0.7182596291012838,0.17261055634807418,0.2867332382310984,0.12268188302425106,0.25106990014265335,0.10128388017118402,0.05492154065620542,0.28530670470756064,0.15977175463623394,0.16547788873038516,0.33666191155492153,0.31383737517831667,0.4222539229671897,0.09415121255349501,0.1383737517831669,0.5042796005706134,0.43366619115549215,0.10699001426533523,0.08131241084165478,0.15834522111269614,0.33666191155492153,0.13195435092724678,0.0,0.31098430813124106,0.25106990014265335,0.16904422253922968,0.17261055634807418,0.12268188302425106,0.15477888730385164,0.20256776034236804,0.2867332382310984,0.24750356633380885,0.14407988587731813,0.12268188302425106,0.15477888730385164,0.008559201141226819,0.04778887303851641,0.47004279600570614,0.24750356633380885,0.10699001426533523,0.2724679029957204,0.0912981455064194,0.30813124108416545,0.20256776034236804,0.11412268188302425,0.09771754636233952,0.2810271041369472,0.026390870185449358,0.16547788873038516,0.14978601997146934,0.024251069900142655,0.2867332382310984,0.20256776034236804,0.033523537803138374,0.2346647646219686,0.11126961483594865,0.07631954350927246,0.0920114122681883,0.15477888730385164,0.04778887303851641,0.06704707560627675,0.20399429386590584,0.24750356633380885,0.13338088445078458,0.062054208273894434,0.07275320970042796,0.07275320970042796,0.07132667617689016,0.052781740370898715,0.1340941512125535,0.0456490727532097,0.21540656205420827,0.25106990014265335,0.1797432239657632,0.20114122681883023,0.2296718972895863,0.2653352353780314,0.29743223965763194,0.3152639087018545,0.16904422253922968,0.21540656205420827,0.2225392296718973,0.2296718972895863,0.35805991440798857,0.17261055634807418,0.19400855920114124,0.4115549215406562,0.39372325249643364,0.09771754636233952,0.24750356633380885,0.2653352353780314,0.19400855920114124,0.15834522111269614,0.14407988587731813,0.10485021398002853,0.2831669044222539,0.2582025677603424,0.318830242510699,0.14407988587731813,0.42938659058487877,0.2724679029957204,0.24393723252496433,0.17261055634807418,0.2867332382310984,0.20827389443651925,0.2831669044222539,0.24037089871611983,0.17261055634807418,0.29743223965763194,0.29029957203994294,0.33666191155492153,0.25106990014265335,0.16547788873038516,0.1369472182596291,0.2724679029957204,0.32952924393723254,0.33666191155492153,0.39728958630527816,0.4008559201141227,0.20114122681883023]}],                        {\"template\":{\"data\":{\"bar\":[{\"error_x\":{\"color\":\"#2a3f5f\"},\"error_y\":{\"color\":\"#2a3f5f\"},\"marker\":{\"line\":{\"color\":\"#E5ECF6\",\"width\":0.5},\"pattern\":{\"fillmode\":\"overlay\",\"size\":10,\"solidity\":0.2}},\"type\":\"bar\"}],\"barpolar\":[{\"marker\":{\"line\":{\"color\":\"#E5ECF6\",\"width\":0.5},\"pattern\":{\"fillmode\":\"overlay\",\"size\":10,\"solidity\":0.2}},\"type\":\"barpolar\"}],\"carpet\":[{\"aaxis\":{\"endlinecolor\":\"#2a3f5f\",\"gridcolor\":\"white\",\"linecolor\":\"white\",\"minorgridcolor\":\"white\",\"startlinecolor\":\"#2a3f5f\"},\"baxis\":{\"endlinecolor\":\"#2a3f5f\",\"gridcolor\":\"white\",\"linecolor\":\"white\",\"minorgridcolor\":\"white\",\"startlinecolor\":\"#2a3f5f\"},\"type\":\"carpet\"}],\"choropleth\":[{\"colorbar\":{\"outlinewidth\":0,\"ticks\":\"\"},\"type\":\"choropleth\"}],\"contour\":[{\"colorbar\":{\"outlinewidth\":0,\"ticks\":\"\"},\"colorscale\":[[0.0,\"#0d0887\"],[0.1111111111111111,\"#46039f\"],[0.2222222222222222,\"#7201a8\"],[0.3333333333333333,\"#9c179e\"],[0.4444444444444444,\"#bd3786\"],[0.5555555555555556,\"#d8576b\"],[0.6666666666666666,\"#ed7953\"],[0.7777777777777778,\"#fb9f3a\"],[0.8888888888888888,\"#fdca26\"],[1.0,\"#f0f921\"]],\"type\":\"contour\"}],\"contourcarpet\":[{\"colorbar\":{\"outlinewidth\":0,\"ticks\":\"\"},\"type\":\"contourcarpet\"}],\"heatmap\":[{\"colorbar\":{\"outlinewidth\":0,\"ticks\":\"\"},\"colorscale\":[[0.0,\"#0d0887\"],[0.1111111111111111,\"#46039f\"],[0.2222222222222222,\"#7201a8\"],[0.3333333333333333,\"#9c179e\"],[0.4444444444444444,\"#bd3786\"],[0.5555555555555556,\"#d8576b\"],[0.6666666666666666,\"#ed7953\"],[0.7777777777777778,\"#fb9f3a\"],[0.8888888888888888,\"#fdca26\"],[1.0,\"#f0f921\"]],\"type\":\"heatmap\"}],\"heatmapgl\":[{\"colorbar\":{\"outlinewidth\":0,\"ticks\":\"\"},\"colorscale\":[[0.0,\"#0d0887\"],[0.1111111111111111,\"#46039f\"],[0.2222222222222222,\"#7201a8\"],[0.3333333333333333,\"#9c179e\"],[0.4444444444444444,\"#bd3786\"],[0.5555555555555556,\"#d8576b\"],[0.6666666666666666,\"#ed7953\"],[0.7777777777777778,\"#fb9f3a\"],[0.8888888888888888,\"#fdca26\"],[1.0,\"#f0f921\"]],\"type\":\"heatmapgl\"}],\"histogram\":[{\"marker\":{\"pattern\":{\"fillmode\":\"overlay\",\"size\":10,\"solidity\":0.2}},\"type\":\"histogram\"}],\"histogram2d\":[{\"colorbar\":{\"outlinewidth\":0,\"ticks\":\"\"},\"colorscale\":[[0.0,\"#0d0887\"],[0.1111111111111111,\"#46039f\"],[0.2222222222222222,\"#7201a8\"],[0.3333333333333333,\"#9c179e\"],[0.4444444444444444,\"#bd3786\"],[0.5555555555555556,\"#d8576b\"],[0.6666666666666666,\"#ed7953\"],[0.7777777777777778,\"#fb9f3a\"],[0.8888888888888888,\"#fdca26\"],[1.0,\"#f0f921\"]],\"type\":\"histogram2d\"}],\"histogram2dcontour\":[{\"colorbar\":{\"outlinewidth\":0,\"ticks\":\"\"},\"colorscale\":[[0.0,\"#0d0887\"],[0.1111111111111111,\"#46039f\"],[0.2222222222222222,\"#7201a8\"],[0.3333333333333333,\"#9c179e\"],[0.4444444444444444,\"#bd3786\"],[0.5555555555555556,\"#d8576b\"],[0.6666666666666666,\"#ed7953\"],[0.7777777777777778,\"#fb9f3a\"],[0.8888888888888888,\"#fdca26\"],[1.0,\"#f0f921\"]],\"type\":\"histogram2dcontour\"}],\"mesh3d\":[{\"colorbar\":{\"outlinewidth\":0,\"ticks\":\"\"},\"type\":\"mesh3d\"}],\"parcoords\":[{\"line\":{\"colorbar\":{\"outlinewidth\":0,\"ticks\":\"\"}},\"type\":\"parcoords\"}],\"pie\":[{\"automargin\":true,\"type\":\"pie\"}],\"scatter\":[{\"marker\":{\"colorbar\":{\"outlinewidth\":0,\"ticks\":\"\"}},\"type\":\"scatter\"}],\"scatter3d\":[{\"line\":{\"colorbar\":{\"outlinewidth\":0,\"ticks\":\"\"}},\"marker\":{\"colorbar\":{\"outlinewidth\":0,\"ticks\":\"\"}},\"type\":\"scatter3d\"}],\"scattercarpet\":[{\"marker\":{\"colorbar\":{\"outlinewidth\":0,\"ticks\":\"\"}},\"type\":\"scattercarpet\"}],\"scattergeo\":[{\"marker\":{\"colorbar\":{\"outlinewidth\":0,\"ticks\":\"\"}},\"type\":\"scattergeo\"}],\"scattergl\":[{\"marker\":{\"colorbar\":{\"outlinewidth\":0,\"ticks\":\"\"}},\"type\":\"scattergl\"}],\"scattermapbox\":[{\"marker\":{\"colorbar\":{\"outlinewidth\":0,\"ticks\":\"\"}},\"type\":\"scattermapbox\"}],\"scatterpolar\":[{\"marker\":{\"colorbar\":{\"outlinewidth\":0,\"ticks\":\"\"}},\"type\":\"scatterpolar\"}],\"scatterpolargl\":[{\"marker\":{\"colorbar\":{\"outlinewidth\":0,\"ticks\":\"\"}},\"type\":\"scatterpolargl\"}],\"scatterternary\":[{\"marker\":{\"colorbar\":{\"outlinewidth\":0,\"ticks\":\"\"}},\"type\":\"scatterternary\"}],\"surface\":[{\"colorbar\":{\"outlinewidth\":0,\"ticks\":\"\"},\"colorscale\":[[0.0,\"#0d0887\"],[0.1111111111111111,\"#46039f\"],[0.2222222222222222,\"#7201a8\"],[0.3333333333333333,\"#9c179e\"],[0.4444444444444444,\"#bd3786\"],[0.5555555555555556,\"#d8576b\"],[0.6666666666666666,\"#ed7953\"],[0.7777777777777778,\"#fb9f3a\"],[0.8888888888888888,\"#fdca26\"],[1.0,\"#f0f921\"]],\"type\":\"surface\"}],\"table\":[{\"cells\":{\"fill\":{\"color\":\"#EBF0F8\"},\"line\":{\"color\":\"white\"}},\"header\":{\"fill\":{\"color\":\"#C8D4E3\"},\"line\":{\"color\":\"white\"}},\"type\":\"table\"}]},\"layout\":{\"annotationdefaults\":{\"arrowcolor\":\"#2a3f5f\",\"arrowhead\":0,\"arrowwidth\":1},\"autotypenumbers\":\"strict\",\"coloraxis\":{\"colorbar\":{\"outlinewidth\":0,\"ticks\":\"\"}},\"colorscale\":{\"diverging\":[[0,\"#8e0152\"],[0.1,\"#c51b7d\"],[0.2,\"#de77ae\"],[0.3,\"#f1b6da\"],[0.4,\"#fde0ef\"],[0.5,\"#f7f7f7\"],[0.6,\"#e6f5d0\"],[0.7,\"#b8e186\"],[0.8,\"#7fbc41\"],[0.9,\"#4d9221\"],[1,\"#276419\"]],\"sequential\":[[0.0,\"#0d0887\"],[0.1111111111111111,\"#46039f\"],[0.2222222222222222,\"#7201a8\"],[0.3333333333333333,\"#9c179e\"],[0.4444444444444444,\"#bd3786\"],[0.5555555555555556,\"#d8576b\"],[0.6666666666666666,\"#ed7953\"],[0.7777777777777778,\"#fb9f3a\"],[0.8888888888888888,\"#fdca26\"],[1.0,\"#f0f921\"]],\"sequentialminus\":[[0.0,\"#0d0887\"],[0.1111111111111111,\"#46039f\"],[0.2222222222222222,\"#7201a8\"],[0.3333333333333333,\"#9c179e\"],[0.4444444444444444,\"#bd3786\"],[0.5555555555555556,\"#d8576b\"],[0.6666666666666666,\"#ed7953\"],[0.7777777777777778,\"#fb9f3a\"],[0.8888888888888888,\"#fdca26\"],[1.0,\"#f0f921\"]]},\"colorway\":[\"#636efa\",\"#EF553B\",\"#00cc96\",\"#ab63fa\",\"#FFA15A\",\"#19d3f3\",\"#FF6692\",\"#B6E880\",\"#FF97FF\",\"#FECB52\"],\"font\":{\"color\":\"#2a3f5f\"},\"geo\":{\"bgcolor\":\"white\",\"lakecolor\":\"white\",\"landcolor\":\"#E5ECF6\",\"showlakes\":true,\"showland\":true,\"subunitcolor\":\"white\"},\"hoverlabel\":{\"align\":\"left\"},\"hovermode\":\"closest\",\"mapbox\":{\"style\":\"light\"},\"paper_bgcolor\":\"white\",\"plot_bgcolor\":\"#E5ECF6\",\"polar\":{\"angularaxis\":{\"gridcolor\":\"white\",\"linecolor\":\"white\",\"ticks\":\"\"},\"bgcolor\":\"#E5ECF6\",\"radialaxis\":{\"gridcolor\":\"white\",\"linecolor\":\"white\",\"ticks\":\"\"}},\"scene\":{\"xaxis\":{\"backgroundcolor\":\"#E5ECF6\",\"gridcolor\":\"white\",\"gridwidth\":2,\"linecolor\":\"white\",\"showbackground\":true,\"ticks\":\"\",\"zerolinecolor\":\"white\"},\"yaxis\":{\"backgroundcolor\":\"#E5ECF6\",\"gridcolor\":\"white\",\"gridwidth\":2,\"linecolor\":\"white\",\"showbackground\":true,\"ticks\":\"\",\"zerolinecolor\":\"white\"},\"zaxis\":{\"backgroundcolor\":\"#E5ECF6\",\"gridcolor\":\"white\",\"gridwidth\":2,\"linecolor\":\"white\",\"showbackground\":true,\"ticks\":\"\",\"zerolinecolor\":\"white\"}},\"shapedefaults\":{\"line\":{\"color\":\"#2a3f5f\"}},\"ternary\":{\"aaxis\":{\"gridcolor\":\"white\",\"linecolor\":\"white\",\"ticks\":\"\"},\"baxis\":{\"gridcolor\":\"white\",\"linecolor\":\"white\",\"ticks\":\"\"},\"bgcolor\":\"#E5ECF6\",\"caxis\":{\"gridcolor\":\"white\",\"linecolor\":\"white\",\"ticks\":\"\"}},\"title\":{\"x\":0.05},\"xaxis\":{\"automargin\":true,\"gridcolor\":\"white\",\"linecolor\":\"white\",\"ticks\":\"\",\"title\":{\"standoff\":15},\"zerolinecolor\":\"white\",\"zerolinewidth\":2},\"yaxis\":{\"automargin\":true,\"gridcolor\":\"white\",\"linecolor\":\"white\",\"ticks\":\"\",\"title\":{\"standoff\":15},\"zerolinecolor\":\"white\",\"zerolinewidth\":2}}}},                        {\"responsive\": true}                    ).then(function(){\n",
       "                            \n",
       "var gd = document.getElementById('36d66cbc-a6e9-412d-a891-1ad21ca8eacc');\n",
       "var x = new MutationObserver(function (mutations, observer) {{\n",
       "        var display = window.getComputedStyle(gd).display;\n",
       "        if (!display || display === 'none') {{\n",
       "            console.log([gd, 'removed!']);\n",
       "            Plotly.purge(gd);\n",
       "            observer.disconnect();\n",
       "        }}\n",
       "}});\n",
       "\n",
       "// Listen for the removal of the full notebook cells\n",
       "var notebookContainer = gd.closest('#notebook-container');\n",
       "if (notebookContainer) {{\n",
       "    x.observe(notebookContainer, {childList: true});\n",
       "}}\n",
       "\n",
       "// Listen for the clearing of the current output cell\n",
       "var outputEl = gd.closest('.output');\n",
       "if (outputEl) {{\n",
       "    x.observe(outputEl, {childList: true});\n",
       "}}\n",
       "\n",
       "                        })                };                });            </script>        </div>"
      ]
     },
     "metadata": {},
     "output_type": "display_data"
    }
   ],
   "source": [
    "# Gráfico com três dimensoes\n",
    "fig = go.Figure()\n",
    "fig.add_trace(go.Scatter3d(x = dados['Intensidade_cor'], y = dados['Alcool'], z = dados['Proline'], \n",
    "                          mode = 'markers', marker = dict(color = labels.astype(float)),\n",
    "                          text = labels))\n",
    "\n",
    "fig.show()"
   ]
  },
  {
   "cell_type": "code",
   "execution_count": 168,
   "id": "eb53d1bf",
   "metadata": {},
   "outputs": [
    {
     "data": {
      "application/vnd.plotly.v1+json": {
       "config": {
        "plotlyServerURL": "https://plot.ly"
       },
       "data": [
        {
         "marker": {
          "color": [
           2,
           2,
           2,
           2,
           2,
           2,
           2,
           2,
           2,
           2,
           2,
           2,
           2,
           2,
           2,
           2,
           2,
           2,
           2,
           2,
           2,
           2,
           2,
           2,
           2,
           2,
           2,
           2,
           2,
           2,
           2,
           2,
           2,
           2,
           2,
           2,
           2,
           2,
           2,
           2,
           2,
           2,
           2,
           2,
           2,
           2,
           2,
           2,
           2,
           2,
           2,
           2,
           2,
           2,
           2,
           2,
           2,
           2,
           2,
           0,
           0,
           0,
           0,
           0,
           0,
           0,
           0,
           0,
           0,
           0,
           0,
           0,
           0,
           2,
           0,
           0,
           0,
           0,
           0,
           0,
           0,
           0,
           0,
           1,
           0,
           0,
           0,
           0,
           0,
           0,
           0,
           0,
           0,
           0,
           0,
           0,
           0,
           0,
           0,
           0,
           0,
           0,
           0,
           0,
           0,
           0,
           0,
           0,
           0,
           0,
           0,
           0,
           0,
           0,
           0,
           0,
           0,
           0,
           0,
           0,
           0,
           0,
           0,
           0,
           0,
           0,
           0,
           0,
           0,
           0,
           1,
           1,
           1,
           1,
           1,
           1,
           1,
           1,
           1,
           1,
           1,
           1,
           1,
           1,
           1,
           1,
           1,
           1,
           1,
           1,
           1,
           1,
           1,
           1,
           1,
           1,
           1,
           1,
           1,
           1,
           1,
           1,
           1,
           1,
           1,
           1,
           1,
           1,
           1,
           1,
           1,
           1,
           1,
           1,
           1,
           1,
           1,
           1
          ]
         },
         "mode": "markers",
         "text": [
          2,
          2,
          2,
          2,
          2,
          2,
          2,
          2,
          2,
          2,
          2,
          2,
          2,
          2,
          2,
          2,
          2,
          2,
          2,
          2,
          2,
          2,
          2,
          2,
          2,
          2,
          2,
          2,
          2,
          2,
          2,
          2,
          2,
          2,
          2,
          2,
          2,
          2,
          2,
          2,
          2,
          2,
          2,
          2,
          2,
          2,
          2,
          2,
          2,
          2,
          2,
          2,
          2,
          2,
          2,
          2,
          2,
          2,
          2,
          0,
          0,
          0,
          0,
          0,
          0,
          0,
          0,
          0,
          0,
          0,
          0,
          0,
          0,
          2,
          0,
          0,
          0,
          0,
          0,
          0,
          0,
          0,
          0,
          1,
          0,
          0,
          0,
          0,
          0,
          0,
          0,
          0,
          0,
          0,
          0,
          0,
          0,
          0,
          0,
          0,
          0,
          0,
          0,
          0,
          0,
          0,
          0,
          0,
          0,
          0,
          0,
          0,
          0,
          0,
          0,
          0,
          0,
          0,
          0,
          0,
          0,
          0,
          0,
          0,
          0,
          0,
          0,
          0,
          0,
          0,
          1,
          1,
          1,
          1,
          1,
          1,
          1,
          1,
          1,
          1,
          1,
          1,
          1,
          1,
          1,
          1,
          1,
          1,
          1,
          1,
          1,
          1,
          1,
          1,
          1,
          1,
          1,
          1,
          1,
          1,
          1,
          1,
          1,
          1,
          1,
          1,
          1,
          1,
          1,
          1,
          1,
          1,
          1,
          1,
          1,
          1,
          1,
          1
         ],
         "type": "scatter3d",
         "x": [
          0.37201365187713303,
          0.26450511945392485,
          0.3754266211604095,
          0.5563139931740614,
          0.2593856655290102,
          0.46672354948805456,
          0.3387372013651877,
          0.3216723549488054,
          0.33447098976109213,
          0.5068259385665528,
          0.3813993174061433,
          0.31740614334470985,
          0.3686006825938566,
          0.3515358361774744,
          0.530716723549488,
          0.5136518771331058,
          0.4197952218430034,
          0.45392491467576784,
          0.6331058020477814,
          0.32593856655290093,
          0.3728668941979522,
          0.27474402730375425,
          0.21501706484641633,
          0.22610921501706485,
          0.19112627986348124,
          0.19624573378839588,
          0.3003412969283276,
          0.22781569965870305,
          0.27474402730375425,
          0.2918088737201365,
          0.37713310580204773,
          0.47952218430034127,
          0.21843003412969278,
          0.3515358361774744,
          0.24914675767918087,
          0.32593856655290093,
          0.28327645051194533,
          0.2534129692832764,
          0.20648464163822525,
          0.32593856655290093,
          0.41382252559726956,
          0.25597269624573377,
          0.3540955631399317,
          0.26279863481228666,
          0.3208191126279863,
          0.3378839590443686,
          0.30887372013651876,
          0.4112627986348122,
          0.4197952218430034,
          0.6501706484641638,
          0.5051194539249146,
          0.3686006825938566,
          0.4923208191126279,
          0.42832764505119447,
          0.3899317406143344,
          0.42406143344709896,
          0.43515358361774736,
          0.4027303754266211,
          0.4709897610921501,
          0.057167235494880536,
          0.1697952218430034,
          0.3813993174061433,
          0.21501706484641633,
          0.2704778156996587,
          0.14249146757679182,
          0.28327645051194533,
          0.3430034129692832,
          0.2901023890784982,
          0.16126279863481227,
          0.13395904436860068,
          0.1510238907849829,
          0.17918088737201363,
          0.2098976109215017,
          0.17662116040955633,
          0.16467576791808872,
          0.21501706484641633,
          0.28327645051194533,
          0.11689419795221842,
          0.18088737201365188,
          0.1100682593856655,
          0.10409556313993173,
          0.2235494880546075,
          0.07849829351535836,
          0.3003412969283276,
          0.1510238907849829,
          0.11433447098976109,
          0.09982935153583619,
          0.11262798634812286,
          0.1296928327645051,
          0.039249146757679175,
          0.09556313993174059,
          0.19795221843003413,
          0.1510238907849829,
          0.07423208191126278,
          0.16808873720136516,
          0.11262798634812286,
          0.10409556313993173,
          0.13822525597269622,
          0.27474402730375425,
          0.08703071672354946,
          0.1723549488054607,
          0.09982935153583619,
          0.1296928327645051,
          0.06655290102389079,
          0.1416382252559727,
          0.121160409556314,
          0.18088737201365188,
          0.1723549488054607,
          0.121160409556314,
          0.11689419795221842,
          0.13822525597269622,
          0.0614334470989761,
          0.21501706484641633,
          0.15358361774744028,
          0.13822525597269622,
          0.05290102389078497,
          0.057167235494880536,
          0.06655290102389079,
          0.18088737201365188,
          0,
          0.16808873720136516,
          0.4027303754266211,
          0.06825938566552901,
          0.11262798634812286,
          0.1296928327645051,
          0.12627986348122863,
          0.22696245733788395,
          0.14675767918088736,
          0.07167235494880546,
          0.11262798634812286,
          0.2406143344709897,
          0.3515358361774744,
          0.37713310580204773,
          0.31740614334470985,
          0.35580204778156993,
          0.49658703071672344,
          0.21928327645051196,
          0.31740614334470985,
          0.37713310580204773,
          0.31058020477815695,
          0.28327645051194533,
          0.3686006825938566,
          0.26194539249146753,
          0.26621160409556316,
          0.591296928327645,
          0.2320819112627986,
          0.30887372013651876,
          0.5435153583617747,
          0.6092150170648464,
          0.6928327645051195,
          0.6245733788395904,
          0.8122866894197953,
          0.49658703071672344,
          0.78839590443686,
          0.5392491467576791,
          0.5648464163822525,
          0.6595563139931739,
          0.530716723549488,
          1,
          0.893344709897611,
          0.5435153583617747,
          0.39249146757679176,
          0.3668941979522184,
          0.341296928327645,
          0.7081911262798635,
          0.4556313993174061,
          0.8020477815699658,
          0.7662116040955631,
          0.629692832764505,
          0.6160409556313993,
          0.3600682593856655,
          0.7354947952218429,
          0.7184300341296928,
          0.5477815699658702,
          0.5136518771331058,
          0.7610921501706485,
          0.6843003412969284,
          0.675767918088737
         ],
         "y": [
          0.8421052631578949,
          0.5710526315789473,
          0.5605263157894738,
          0.8789473684210525,
          0.5815789473684212,
          0.8342105263157893,
          0.8842105263157897,
          0.7973684210526317,
          1,
          0.744736842105263,
          0.8078947368421052,
          0.813157894736842,
          0.7157894736842105,
          0.9789473684210526,
          0.8815789473684212,
          0.6842105263157897,
          0.8605263157894739,
          0.736842105263158,
          0.831578947368421,
          0.686842105263158,
          0.7973684210526317,
          0.5,
          0.7052631578947371,
          0.4789473684210526,
          0.65,
          0.5315789473684213,
          0.6210526315789475,
          0.5973684210526318,
          0.7473684210526313,
          0.7868421052631578,
          0.7105263157894738,
          0.6710526315789475,
          0.6973684210526315,
          0.718421052631579,
          0.6526315789473685,
          0.6447368421052633,
          0.5921052631578946,
          0.5315789473684213,
          0.536842105263158,
          0.8394736842105265,
          0.6657894736842107,
          0.6263157894736843,
          0.7500000000000002,
          0.5815789473684212,
          0.5315789473684213,
          0.8368421052631582,
          0.8815789473684212,
          0.755263157894737,
          0.8078947368421052,
          0.7657894736842105,
          0.5315789473684213,
          0.736842105263158,
          0.7342105263157895,
          0.7210526315789473,
          0.7131578947368422,
          0.6657894736842107,
          0.8394736842105265,
          0.594736842105263,
          0.7078947368421055,
          0.3526315789473683,
          0.34210526315789486,
          0.42368421052631605,
          0.6947368421052632,
          0.3526315789473683,
          0.3000000000000001,
          0.3526315789473683,
          0.5473684210526315,
          0.3526315789473683,
          0.6078947368421053,
          0.31052631578947404,
          0.3315789473684209,
          0.744736842105263,
          0.6473684210526317,
          0.5157894736842107,
          0.2447368421052635,
          0.1657894736842107,
          0.5263157894736841,
          0.21315789473684219,
          0.34210526315789486,
          0.43947368421052624,
          0.25526315789473697,
          0.44473684210526343,
          0.27631578947368435,
          0.5315789473684213,
          0.21315789473684219,
          0.4315789473684211,
          0.2973684210526317,
          0.16315789473684233,
          0.16052631578947396,
          0.27631578947368435,
          0.27631578947368435,
          0.25526315789473697,
          0.43684210526315786,
          0.3315789473684209,
          0.15526315789473677,
          0.3789473684210529,
          0.2052631578947371,
          0.3315789473684209,
          0.3526315789473683,
          0.3315789473684209,
          0.27631578947368435,
          0.4131578947368421,
          0.34473684210526323,
          0.20789473684210547,
          0.38947368421052636,
          0.3657894736842106,
          0.3210526315789475,
          0.44473684210526343,
          0.31315789473684236,
          0.15263157894736842,
          0.11315789473684247,
          0.39210526315789473,
          0.1921052631578948,
          0.10000000000000019,
          0.27631578947368435,
          0,
          0.20789473684210547,
          0.3657894736842106,
          0.45789473684210524,
          0.25526315789473697,
          0.11052631578947364,
          0.13947368421052658,
          0.3657894736842106,
          0.5315789473684213,
          0.22105263157894728,
          0.273684210526316,
          0.368421052631579,
          0.1999999999999999,
          0.3526315789473683,
          0.2657894736842104,
          0.481578947368421,
          0.4868421052631582,
          0.4684210526315792,
          0.43947368421052624,
          0.38947368421052636,
          0.4131578947368421,
          0.3210526315789475,
          0.3947368421052631,
          0.6473684210526317,
          0.47631578947368425,
          0.5,
          0.613157894736842,
          0.6552631578947368,
          0.6815789473684208,
          0.3210526315789475,
          0.5605263157894738,
          0.7500000000000002,
          0.48421052631578937,
          0.6026315789473685,
          0.5394736842105264,
          0.65,
          0.46315789473684194,
          0.5473684210526315,
          0.5789473684210528,
          0.40789473684210537,
          0.5631578947368422,
          0.7394736842105263,
          0.3736842105263157,
          0.8710526315789473,
          0.6447368421052633,
          0.35,
          0.7,
          0.4789473684210526,
          0.5078947368421055,
          0.7236842105263157,
          0.7105263157894738,
          0.6368421052631578,
          0.4710526315789475,
          0.6710526315789475,
          0.623684210526316,
          0.30789473684210517,
          0.45789473684210524,
          0.8236842105263158,
          0.7052631578947371,
          0.623684210526316,
          0.5894736842105263,
          0.5631578947368422,
          0.8157894736842107
         ],
         "z": [
          0.5613409415121255,
          0.550641940085592,
          0.6469329529243937,
          0.8573466476462197,
          0.325962910128388,
          0.8359486447931527,
          0.7218259629101283,
          0.7253922967189729,
          0.5470756062767475,
          0.5470756062767475,
          0.8787446504992867,
          0.7146932952924394,
          0.7432239657631954,
          0.6219686162624821,
          0.9051355206847361,
          0.7360912981455064,
          0.7146932952924394,
          0.6077032810271041,
          1,
          0.4044222539229672,
          0.35805991440798857,
          0.3509272467902996,
          0.5399429386590585,
          0.5256776034236804,
          0.4044222539229672,
          0.39372325249643364,
          0.6540656205420827,
          0.7182596291012838,
          0.4543509272467903,
          0.5399429386590585,
          0.7182596291012838,
          0.8823109843081313,
          0.5078459343794579,
          0.6825962910128388,
          0.5827389443651926,
          0.4579172610556348,
          0.42938659058487877,
          0.5898716119828816,
          0.5292439372325249,
          0.3437945791726106,
          0.36875891583452214,
          0.5399429386590585,
          0.5827389443651926,
          0.2867332382310984,
          0.43295292439372324,
          0.572039942938659,
          0.5613409415121255,
          0.5042796005706134,
          0.557774607703281,
          0.7004279600570613,
          0.6219686162624821,
          0.7039942938659058,
          0.6504992867332382,
          0.782453637660485,
          0.557774607703281,
          0.6005706134094151,
          0.49358059914407987,
          0.7075606276747504,
          0.7182596291012838,
          0.17261055634807418,
          0.2867332382310984,
          0.12268188302425106,
          0.25106990014265335,
          0.10128388017118402,
          0.05492154065620542,
          0.28530670470756064,
          0.15977175463623394,
          0.16547788873038516,
          0.33666191155492153,
          0.31383737517831667,
          0.4222539229671897,
          0.09415121255349501,
          0.1383737517831669,
          0.5042796005706134,
          0.43366619115549215,
          0.10699001426533523,
          0.08131241084165478,
          0.15834522111269614,
          0.33666191155492153,
          0.13195435092724678,
          0,
          0.31098430813124106,
          0.25106990014265335,
          0.16904422253922968,
          0.17261055634807418,
          0.12268188302425106,
          0.15477888730385164,
          0.20256776034236804,
          0.2867332382310984,
          0.24750356633380885,
          0.14407988587731813,
          0.12268188302425106,
          0.15477888730385164,
          0.008559201141226819,
          0.04778887303851641,
          0.47004279600570614,
          0.24750356633380885,
          0.10699001426533523,
          0.2724679029957204,
          0.0912981455064194,
          0.30813124108416545,
          0.20256776034236804,
          0.11412268188302425,
          0.09771754636233952,
          0.2810271041369472,
          0.026390870185449358,
          0.16547788873038516,
          0.14978601997146934,
          0.024251069900142655,
          0.2867332382310984,
          0.20256776034236804,
          0.033523537803138374,
          0.2346647646219686,
          0.11126961483594865,
          0.07631954350927246,
          0.0920114122681883,
          0.15477888730385164,
          0.04778887303851641,
          0.06704707560627675,
          0.20399429386590584,
          0.24750356633380885,
          0.13338088445078458,
          0.062054208273894434,
          0.07275320970042796,
          0.07275320970042796,
          0.07132667617689016,
          0.052781740370898715,
          0.1340941512125535,
          0.0456490727532097,
          0.21540656205420827,
          0.25106990014265335,
          0.1797432239657632,
          0.20114122681883023,
          0.2296718972895863,
          0.2653352353780314,
          0.29743223965763194,
          0.3152639087018545,
          0.16904422253922968,
          0.21540656205420827,
          0.2225392296718973,
          0.2296718972895863,
          0.35805991440798857,
          0.17261055634807418,
          0.19400855920114124,
          0.4115549215406562,
          0.39372325249643364,
          0.09771754636233952,
          0.24750356633380885,
          0.2653352353780314,
          0.19400855920114124,
          0.15834522111269614,
          0.14407988587731813,
          0.10485021398002853,
          0.2831669044222539,
          0.2582025677603424,
          0.318830242510699,
          0.14407988587731813,
          0.42938659058487877,
          0.2724679029957204,
          0.24393723252496433,
          0.17261055634807418,
          0.2867332382310984,
          0.20827389443651925,
          0.2831669044222539,
          0.24037089871611983,
          0.17261055634807418,
          0.29743223965763194,
          0.29029957203994294,
          0.33666191155492153,
          0.25106990014265335,
          0.16547788873038516,
          0.1369472182596291,
          0.2724679029957204,
          0.32952924393723254,
          0.33666191155492153,
          0.39728958630527816,
          0.4008559201141227,
          0.20114122681883023
         ]
        }
       ],
       "layout": {
        "scene": {
         "xaxis": {
          "title": {
           "text": "Intensidade de cor"
          }
         },
         "yaxis": {
          "title": {
           "text": "Álcool"
          }
         },
         "zaxis": {
          "title": {
           "text": "Proline"
          }
         }
        },
        "template": {
         "data": {
          "bar": [
           {
            "error_x": {
             "color": "#2a3f5f"
            },
            "error_y": {
             "color": "#2a3f5f"
            },
            "marker": {
             "line": {
              "color": "#E5ECF6",
              "width": 0.5
             },
             "pattern": {
              "fillmode": "overlay",
              "size": 10,
              "solidity": 0.2
             }
            },
            "type": "bar"
           }
          ],
          "barpolar": [
           {
            "marker": {
             "line": {
              "color": "#E5ECF6",
              "width": 0.5
             },
             "pattern": {
              "fillmode": "overlay",
              "size": 10,
              "solidity": 0.2
             }
            },
            "type": "barpolar"
           }
          ],
          "carpet": [
           {
            "aaxis": {
             "endlinecolor": "#2a3f5f",
             "gridcolor": "white",
             "linecolor": "white",
             "minorgridcolor": "white",
             "startlinecolor": "#2a3f5f"
            },
            "baxis": {
             "endlinecolor": "#2a3f5f",
             "gridcolor": "white",
             "linecolor": "white",
             "minorgridcolor": "white",
             "startlinecolor": "#2a3f5f"
            },
            "type": "carpet"
           }
          ],
          "choropleth": [
           {
            "colorbar": {
             "outlinewidth": 0,
             "ticks": ""
            },
            "type": "choropleth"
           }
          ],
          "contour": [
           {
            "colorbar": {
             "outlinewidth": 0,
             "ticks": ""
            },
            "colorscale": [
             [
              0,
              "#0d0887"
             ],
             [
              0.1111111111111111,
              "#46039f"
             ],
             [
              0.2222222222222222,
              "#7201a8"
             ],
             [
              0.3333333333333333,
              "#9c179e"
             ],
             [
              0.4444444444444444,
              "#bd3786"
             ],
             [
              0.5555555555555556,
              "#d8576b"
             ],
             [
              0.6666666666666666,
              "#ed7953"
             ],
             [
              0.7777777777777778,
              "#fb9f3a"
             ],
             [
              0.8888888888888888,
              "#fdca26"
             ],
             [
              1,
              "#f0f921"
             ]
            ],
            "type": "contour"
           }
          ],
          "contourcarpet": [
           {
            "colorbar": {
             "outlinewidth": 0,
             "ticks": ""
            },
            "type": "contourcarpet"
           }
          ],
          "heatmap": [
           {
            "colorbar": {
             "outlinewidth": 0,
             "ticks": ""
            },
            "colorscale": [
             [
              0,
              "#0d0887"
             ],
             [
              0.1111111111111111,
              "#46039f"
             ],
             [
              0.2222222222222222,
              "#7201a8"
             ],
             [
              0.3333333333333333,
              "#9c179e"
             ],
             [
              0.4444444444444444,
              "#bd3786"
             ],
             [
              0.5555555555555556,
              "#d8576b"
             ],
             [
              0.6666666666666666,
              "#ed7953"
             ],
             [
              0.7777777777777778,
              "#fb9f3a"
             ],
             [
              0.8888888888888888,
              "#fdca26"
             ],
             [
              1,
              "#f0f921"
             ]
            ],
            "type": "heatmap"
           }
          ],
          "heatmapgl": [
           {
            "colorbar": {
             "outlinewidth": 0,
             "ticks": ""
            },
            "colorscale": [
             [
              0,
              "#0d0887"
             ],
             [
              0.1111111111111111,
              "#46039f"
             ],
             [
              0.2222222222222222,
              "#7201a8"
             ],
             [
              0.3333333333333333,
              "#9c179e"
             ],
             [
              0.4444444444444444,
              "#bd3786"
             ],
             [
              0.5555555555555556,
              "#d8576b"
             ],
             [
              0.6666666666666666,
              "#ed7953"
             ],
             [
              0.7777777777777778,
              "#fb9f3a"
             ],
             [
              0.8888888888888888,
              "#fdca26"
             ],
             [
              1,
              "#f0f921"
             ]
            ],
            "type": "heatmapgl"
           }
          ],
          "histogram": [
           {
            "marker": {
             "pattern": {
              "fillmode": "overlay",
              "size": 10,
              "solidity": 0.2
             }
            },
            "type": "histogram"
           }
          ],
          "histogram2d": [
           {
            "colorbar": {
             "outlinewidth": 0,
             "ticks": ""
            },
            "colorscale": [
             [
              0,
              "#0d0887"
             ],
             [
              0.1111111111111111,
              "#46039f"
             ],
             [
              0.2222222222222222,
              "#7201a8"
             ],
             [
              0.3333333333333333,
              "#9c179e"
             ],
             [
              0.4444444444444444,
              "#bd3786"
             ],
             [
              0.5555555555555556,
              "#d8576b"
             ],
             [
              0.6666666666666666,
              "#ed7953"
             ],
             [
              0.7777777777777778,
              "#fb9f3a"
             ],
             [
              0.8888888888888888,
              "#fdca26"
             ],
             [
              1,
              "#f0f921"
             ]
            ],
            "type": "histogram2d"
           }
          ],
          "histogram2dcontour": [
           {
            "colorbar": {
             "outlinewidth": 0,
             "ticks": ""
            },
            "colorscale": [
             [
              0,
              "#0d0887"
             ],
             [
              0.1111111111111111,
              "#46039f"
             ],
             [
              0.2222222222222222,
              "#7201a8"
             ],
             [
              0.3333333333333333,
              "#9c179e"
             ],
             [
              0.4444444444444444,
              "#bd3786"
             ],
             [
              0.5555555555555556,
              "#d8576b"
             ],
             [
              0.6666666666666666,
              "#ed7953"
             ],
             [
              0.7777777777777778,
              "#fb9f3a"
             ],
             [
              0.8888888888888888,
              "#fdca26"
             ],
             [
              1,
              "#f0f921"
             ]
            ],
            "type": "histogram2dcontour"
           }
          ],
          "mesh3d": [
           {
            "colorbar": {
             "outlinewidth": 0,
             "ticks": ""
            },
            "type": "mesh3d"
           }
          ],
          "parcoords": [
           {
            "line": {
             "colorbar": {
              "outlinewidth": 0,
              "ticks": ""
             }
            },
            "type": "parcoords"
           }
          ],
          "pie": [
           {
            "automargin": true,
            "type": "pie"
           }
          ],
          "scatter": [
           {
            "marker": {
             "colorbar": {
              "outlinewidth": 0,
              "ticks": ""
             }
            },
            "type": "scatter"
           }
          ],
          "scatter3d": [
           {
            "line": {
             "colorbar": {
              "outlinewidth": 0,
              "ticks": ""
             }
            },
            "marker": {
             "colorbar": {
              "outlinewidth": 0,
              "ticks": ""
             }
            },
            "type": "scatter3d"
           }
          ],
          "scattercarpet": [
           {
            "marker": {
             "colorbar": {
              "outlinewidth": 0,
              "ticks": ""
             }
            },
            "type": "scattercarpet"
           }
          ],
          "scattergeo": [
           {
            "marker": {
             "colorbar": {
              "outlinewidth": 0,
              "ticks": ""
             }
            },
            "type": "scattergeo"
           }
          ],
          "scattergl": [
           {
            "marker": {
             "colorbar": {
              "outlinewidth": 0,
              "ticks": ""
             }
            },
            "type": "scattergl"
           }
          ],
          "scattermapbox": [
           {
            "marker": {
             "colorbar": {
              "outlinewidth": 0,
              "ticks": ""
             }
            },
            "type": "scattermapbox"
           }
          ],
          "scatterpolar": [
           {
            "marker": {
             "colorbar": {
              "outlinewidth": 0,
              "ticks": ""
             }
            },
            "type": "scatterpolar"
           }
          ],
          "scatterpolargl": [
           {
            "marker": {
             "colorbar": {
              "outlinewidth": 0,
              "ticks": ""
             }
            },
            "type": "scatterpolargl"
           }
          ],
          "scatterternary": [
           {
            "marker": {
             "colorbar": {
              "outlinewidth": 0,
              "ticks": ""
             }
            },
            "type": "scatterternary"
           }
          ],
          "surface": [
           {
            "colorbar": {
             "outlinewidth": 0,
             "ticks": ""
            },
            "colorscale": [
             [
              0,
              "#0d0887"
             ],
             [
              0.1111111111111111,
              "#46039f"
             ],
             [
              0.2222222222222222,
              "#7201a8"
             ],
             [
              0.3333333333333333,
              "#9c179e"
             ],
             [
              0.4444444444444444,
              "#bd3786"
             ],
             [
              0.5555555555555556,
              "#d8576b"
             ],
             [
              0.6666666666666666,
              "#ed7953"
             ],
             [
              0.7777777777777778,
              "#fb9f3a"
             ],
             [
              0.8888888888888888,
              "#fdca26"
             ],
             [
              1,
              "#f0f921"
             ]
            ],
            "type": "surface"
           }
          ],
          "table": [
           {
            "cells": {
             "fill": {
              "color": "#EBF0F8"
             },
             "line": {
              "color": "white"
             }
            },
            "header": {
             "fill": {
              "color": "#C8D4E3"
             },
             "line": {
              "color": "white"
             }
            },
            "type": "table"
           }
          ]
         },
         "layout": {
          "annotationdefaults": {
           "arrowcolor": "#2a3f5f",
           "arrowhead": 0,
           "arrowwidth": 1
          },
          "autotypenumbers": "strict",
          "coloraxis": {
           "colorbar": {
            "outlinewidth": 0,
            "ticks": ""
           }
          },
          "colorscale": {
           "diverging": [
            [
             0,
             "#8e0152"
            ],
            [
             0.1,
             "#c51b7d"
            ],
            [
             0.2,
             "#de77ae"
            ],
            [
             0.3,
             "#f1b6da"
            ],
            [
             0.4,
             "#fde0ef"
            ],
            [
             0.5,
             "#f7f7f7"
            ],
            [
             0.6,
             "#e6f5d0"
            ],
            [
             0.7,
             "#b8e186"
            ],
            [
             0.8,
             "#7fbc41"
            ],
            [
             0.9,
             "#4d9221"
            ],
            [
             1,
             "#276419"
            ]
           ],
           "sequential": [
            [
             0,
             "#0d0887"
            ],
            [
             0.1111111111111111,
             "#46039f"
            ],
            [
             0.2222222222222222,
             "#7201a8"
            ],
            [
             0.3333333333333333,
             "#9c179e"
            ],
            [
             0.4444444444444444,
             "#bd3786"
            ],
            [
             0.5555555555555556,
             "#d8576b"
            ],
            [
             0.6666666666666666,
             "#ed7953"
            ],
            [
             0.7777777777777778,
             "#fb9f3a"
            ],
            [
             0.8888888888888888,
             "#fdca26"
            ],
            [
             1,
             "#f0f921"
            ]
           ],
           "sequentialminus": [
            [
             0,
             "#0d0887"
            ],
            [
             0.1111111111111111,
             "#46039f"
            ],
            [
             0.2222222222222222,
             "#7201a8"
            ],
            [
             0.3333333333333333,
             "#9c179e"
            ],
            [
             0.4444444444444444,
             "#bd3786"
            ],
            [
             0.5555555555555556,
             "#d8576b"
            ],
            [
             0.6666666666666666,
             "#ed7953"
            ],
            [
             0.7777777777777778,
             "#fb9f3a"
            ],
            [
             0.8888888888888888,
             "#fdca26"
            ],
            [
             1,
             "#f0f921"
            ]
           ]
          },
          "colorway": [
           "#636efa",
           "#EF553B",
           "#00cc96",
           "#ab63fa",
           "#FFA15A",
           "#19d3f3",
           "#FF6692",
           "#B6E880",
           "#FF97FF",
           "#FECB52"
          ],
          "font": {
           "color": "#2a3f5f"
          },
          "geo": {
           "bgcolor": "white",
           "lakecolor": "white",
           "landcolor": "#E5ECF6",
           "showlakes": true,
           "showland": true,
           "subunitcolor": "white"
          },
          "hoverlabel": {
           "align": "left"
          },
          "hovermode": "closest",
          "mapbox": {
           "style": "light"
          },
          "paper_bgcolor": "white",
          "plot_bgcolor": "#E5ECF6",
          "polar": {
           "angularaxis": {
            "gridcolor": "white",
            "linecolor": "white",
            "ticks": ""
           },
           "bgcolor": "#E5ECF6",
           "radialaxis": {
            "gridcolor": "white",
            "linecolor": "white",
            "ticks": ""
           }
          },
          "scene": {
           "xaxis": {
            "backgroundcolor": "#E5ECF6",
            "gridcolor": "white",
            "gridwidth": 2,
            "linecolor": "white",
            "showbackground": true,
            "ticks": "",
            "zerolinecolor": "white"
           },
           "yaxis": {
            "backgroundcolor": "#E5ECF6",
            "gridcolor": "white",
            "gridwidth": 2,
            "linecolor": "white",
            "showbackground": true,
            "ticks": "",
            "zerolinecolor": "white"
           },
           "zaxis": {
            "backgroundcolor": "#E5ECF6",
            "gridcolor": "white",
            "gridwidth": 2,
            "linecolor": "white",
            "showbackground": true,
            "ticks": "",
            "zerolinecolor": "white"
           }
          },
          "shapedefaults": {
           "line": {
            "color": "#2a3f5f"
           }
          },
          "ternary": {
           "aaxis": {
            "gridcolor": "white",
            "linecolor": "white",
            "ticks": ""
           },
           "baxis": {
            "gridcolor": "white",
            "linecolor": "white",
            "ticks": ""
           },
           "bgcolor": "#E5ECF6",
           "caxis": {
            "gridcolor": "white",
            "linecolor": "white",
            "ticks": ""
           }
          },
          "title": {
           "x": 0.05
          },
          "xaxis": {
           "automargin": true,
           "gridcolor": "white",
           "linecolor": "white",
           "ticks": "",
           "title": {
            "standoff": 15
           },
           "zerolinecolor": "white",
           "zerolinewidth": 2
          },
          "yaxis": {
           "automargin": true,
           "gridcolor": "white",
           "linecolor": "white",
           "ticks": "",
           "title": {
            "standoff": 15
           },
           "zerolinecolor": "white",
           "zerolinewidth": 2
          }
         }
        }
       }
      },
      "text/html": [
       "<div>                            <div id=\"60b072f2-e86c-4dd7-9a3d-234bbbfd9664\" class=\"plotly-graph-div\" style=\"height:525px; width:100%;\"></div>            <script type=\"text/javascript\">                require([\"plotly\"], function(Plotly) {                    window.PLOTLYENV=window.PLOTLYENV || {};                                    if (document.getElementById(\"60b072f2-e86c-4dd7-9a3d-234bbbfd9664\")) {                    Plotly.newPlot(                        \"60b072f2-e86c-4dd7-9a3d-234bbbfd9664\",                        [{\"marker\":{\"color\":[2.0,2.0,2.0,2.0,2.0,2.0,2.0,2.0,2.0,2.0,2.0,2.0,2.0,2.0,2.0,2.0,2.0,2.0,2.0,2.0,2.0,2.0,2.0,2.0,2.0,2.0,2.0,2.0,2.0,2.0,2.0,2.0,2.0,2.0,2.0,2.0,2.0,2.0,2.0,2.0,2.0,2.0,2.0,2.0,2.0,2.0,2.0,2.0,2.0,2.0,2.0,2.0,2.0,2.0,2.0,2.0,2.0,2.0,2.0,0.0,0.0,0.0,0.0,0.0,0.0,0.0,0.0,0.0,0.0,0.0,0.0,0.0,0.0,2.0,0.0,0.0,0.0,0.0,0.0,0.0,0.0,0.0,0.0,1.0,0.0,0.0,0.0,0.0,0.0,0.0,0.0,0.0,0.0,0.0,0.0,0.0,0.0,0.0,0.0,0.0,0.0,0.0,0.0,0.0,0.0,0.0,0.0,0.0,0.0,0.0,0.0,0.0,0.0,0.0,0.0,0.0,0.0,0.0,0.0,0.0,0.0,0.0,0.0,0.0,0.0,0.0,0.0,0.0,0.0,0.0,1.0,1.0,1.0,1.0,1.0,1.0,1.0,1.0,1.0,1.0,1.0,1.0,1.0,1.0,1.0,1.0,1.0,1.0,1.0,1.0,1.0,1.0,1.0,1.0,1.0,1.0,1.0,1.0,1.0,1.0,1.0,1.0,1.0,1.0,1.0,1.0,1.0,1.0,1.0,1.0,1.0,1.0,1.0,1.0,1.0,1.0,1.0,1.0]},\"mode\":\"markers\",\"text\":[2.0,2.0,2.0,2.0,2.0,2.0,2.0,2.0,2.0,2.0,2.0,2.0,2.0,2.0,2.0,2.0,2.0,2.0,2.0,2.0,2.0,2.0,2.0,2.0,2.0,2.0,2.0,2.0,2.0,2.0,2.0,2.0,2.0,2.0,2.0,2.0,2.0,2.0,2.0,2.0,2.0,2.0,2.0,2.0,2.0,2.0,2.0,2.0,2.0,2.0,2.0,2.0,2.0,2.0,2.0,2.0,2.0,2.0,2.0,0.0,0.0,0.0,0.0,0.0,0.0,0.0,0.0,0.0,0.0,0.0,0.0,0.0,0.0,2.0,0.0,0.0,0.0,0.0,0.0,0.0,0.0,0.0,0.0,1.0,0.0,0.0,0.0,0.0,0.0,0.0,0.0,0.0,0.0,0.0,0.0,0.0,0.0,0.0,0.0,0.0,0.0,0.0,0.0,0.0,0.0,0.0,0.0,0.0,0.0,0.0,0.0,0.0,0.0,0.0,0.0,0.0,0.0,0.0,0.0,0.0,0.0,0.0,0.0,0.0,0.0,0.0,0.0,0.0,0.0,0.0,1.0,1.0,1.0,1.0,1.0,1.0,1.0,1.0,1.0,1.0,1.0,1.0,1.0,1.0,1.0,1.0,1.0,1.0,1.0,1.0,1.0,1.0,1.0,1.0,1.0,1.0,1.0,1.0,1.0,1.0,1.0,1.0,1.0,1.0,1.0,1.0,1.0,1.0,1.0,1.0,1.0,1.0,1.0,1.0,1.0,1.0,1.0,1.0],\"type\":\"scatter3d\",\"x\":[0.37201365187713303,0.26450511945392485,0.3754266211604095,0.5563139931740614,0.2593856655290102,0.46672354948805456,0.3387372013651877,0.3216723549488054,0.33447098976109213,0.5068259385665528,0.3813993174061433,0.31740614334470985,0.3686006825938566,0.3515358361774744,0.530716723549488,0.5136518771331058,0.4197952218430034,0.45392491467576784,0.6331058020477814,0.32593856655290093,0.3728668941979522,0.27474402730375425,0.21501706484641633,0.22610921501706485,0.19112627986348124,0.19624573378839588,0.3003412969283276,0.22781569965870305,0.27474402730375425,0.2918088737201365,0.37713310580204773,0.47952218430034127,0.21843003412969278,0.3515358361774744,0.24914675767918087,0.32593856655290093,0.28327645051194533,0.2534129692832764,0.20648464163822525,0.32593856655290093,0.41382252559726956,0.25597269624573377,0.3540955631399317,0.26279863481228666,0.3208191126279863,0.3378839590443686,0.30887372013651876,0.4112627986348122,0.4197952218430034,0.6501706484641638,0.5051194539249146,0.3686006825938566,0.4923208191126279,0.42832764505119447,0.3899317406143344,0.42406143344709896,0.43515358361774736,0.4027303754266211,0.4709897610921501,0.057167235494880536,0.1697952218430034,0.3813993174061433,0.21501706484641633,0.2704778156996587,0.14249146757679182,0.28327645051194533,0.3430034129692832,0.2901023890784982,0.16126279863481227,0.13395904436860068,0.1510238907849829,0.17918088737201363,0.2098976109215017,0.17662116040955633,0.16467576791808872,0.21501706484641633,0.28327645051194533,0.11689419795221842,0.18088737201365188,0.1100682593856655,0.10409556313993173,0.2235494880546075,0.07849829351535836,0.3003412969283276,0.1510238907849829,0.11433447098976109,0.09982935153583619,0.11262798634812286,0.1296928327645051,0.039249146757679175,0.09556313993174059,0.19795221843003413,0.1510238907849829,0.07423208191126278,0.16808873720136516,0.11262798634812286,0.10409556313993173,0.13822525597269622,0.27474402730375425,0.08703071672354946,0.1723549488054607,0.09982935153583619,0.1296928327645051,0.06655290102389079,0.1416382252559727,0.121160409556314,0.18088737201365188,0.1723549488054607,0.121160409556314,0.11689419795221842,0.13822525597269622,0.0614334470989761,0.21501706484641633,0.15358361774744028,0.13822525597269622,0.05290102389078497,0.057167235494880536,0.06655290102389079,0.18088737201365188,0.0,0.16808873720136516,0.4027303754266211,0.06825938566552901,0.11262798634812286,0.1296928327645051,0.12627986348122863,0.22696245733788395,0.14675767918088736,0.07167235494880546,0.11262798634812286,0.2406143344709897,0.3515358361774744,0.37713310580204773,0.31740614334470985,0.35580204778156993,0.49658703071672344,0.21928327645051196,0.31740614334470985,0.37713310580204773,0.31058020477815695,0.28327645051194533,0.3686006825938566,0.26194539249146753,0.26621160409556316,0.591296928327645,0.2320819112627986,0.30887372013651876,0.5435153583617747,0.6092150170648464,0.6928327645051195,0.6245733788395904,0.8122866894197953,0.49658703071672344,0.78839590443686,0.5392491467576791,0.5648464163822525,0.6595563139931739,0.530716723549488,1.0,0.893344709897611,0.5435153583617747,0.39249146757679176,0.3668941979522184,0.341296928327645,0.7081911262798635,0.4556313993174061,0.8020477815699658,0.7662116040955631,0.629692832764505,0.6160409556313993,0.3600682593856655,0.7354947952218429,0.7184300341296928,0.5477815699658702,0.5136518771331058,0.7610921501706485,0.6843003412969284,0.675767918088737],\"y\":[0.8421052631578949,0.5710526315789473,0.5605263157894738,0.8789473684210525,0.5815789473684212,0.8342105263157893,0.8842105263157897,0.7973684210526317,1.0,0.744736842105263,0.8078947368421052,0.813157894736842,0.7157894736842105,0.9789473684210526,0.8815789473684212,0.6842105263157897,0.8605263157894739,0.736842105263158,0.831578947368421,0.686842105263158,0.7973684210526317,0.5,0.7052631578947371,0.4789473684210526,0.65,0.5315789473684213,0.6210526315789475,0.5973684210526318,0.7473684210526313,0.7868421052631578,0.7105263157894738,0.6710526315789475,0.6973684210526315,0.718421052631579,0.6526315789473685,0.6447368421052633,0.5921052631578946,0.5315789473684213,0.536842105263158,0.8394736842105265,0.6657894736842107,0.6263157894736843,0.7500000000000002,0.5815789473684212,0.5315789473684213,0.8368421052631582,0.8815789473684212,0.755263157894737,0.8078947368421052,0.7657894736842105,0.5315789473684213,0.736842105263158,0.7342105263157895,0.7210526315789473,0.7131578947368422,0.6657894736842107,0.8394736842105265,0.594736842105263,0.7078947368421055,0.3526315789473683,0.34210526315789486,0.42368421052631605,0.6947368421052632,0.3526315789473683,0.3000000000000001,0.3526315789473683,0.5473684210526315,0.3526315789473683,0.6078947368421053,0.31052631578947404,0.3315789473684209,0.744736842105263,0.6473684210526317,0.5157894736842107,0.2447368421052635,0.1657894736842107,0.5263157894736841,0.21315789473684219,0.34210526315789486,0.43947368421052624,0.25526315789473697,0.44473684210526343,0.27631578947368435,0.5315789473684213,0.21315789473684219,0.4315789473684211,0.2973684210526317,0.16315789473684233,0.16052631578947396,0.27631578947368435,0.27631578947368435,0.25526315789473697,0.43684210526315786,0.3315789473684209,0.15526315789473677,0.3789473684210529,0.2052631578947371,0.3315789473684209,0.3526315789473683,0.3315789473684209,0.27631578947368435,0.4131578947368421,0.34473684210526323,0.20789473684210547,0.38947368421052636,0.3657894736842106,0.3210526315789475,0.44473684210526343,0.31315789473684236,0.15263157894736842,0.11315789473684247,0.39210526315789473,0.1921052631578948,0.10000000000000019,0.27631578947368435,0.0,0.20789473684210547,0.3657894736842106,0.45789473684210524,0.25526315789473697,0.11052631578947364,0.13947368421052658,0.3657894736842106,0.5315789473684213,0.22105263157894728,0.273684210526316,0.368421052631579,0.1999999999999999,0.3526315789473683,0.2657894736842104,0.481578947368421,0.4868421052631582,0.4684210526315792,0.43947368421052624,0.38947368421052636,0.4131578947368421,0.3210526315789475,0.3947368421052631,0.6473684210526317,0.47631578947368425,0.5,0.613157894736842,0.6552631578947368,0.6815789473684208,0.3210526315789475,0.5605263157894738,0.7500000000000002,0.48421052631578937,0.6026315789473685,0.5394736842105264,0.65,0.46315789473684194,0.5473684210526315,0.5789473684210528,0.40789473684210537,0.5631578947368422,0.7394736842105263,0.3736842105263157,0.8710526315789473,0.6447368421052633,0.35,0.7,0.4789473684210526,0.5078947368421055,0.7236842105263157,0.7105263157894738,0.6368421052631578,0.4710526315789475,0.6710526315789475,0.623684210526316,0.30789473684210517,0.45789473684210524,0.8236842105263158,0.7052631578947371,0.623684210526316,0.5894736842105263,0.5631578947368422,0.8157894736842107],\"z\":[0.5613409415121255,0.550641940085592,0.6469329529243937,0.8573466476462197,0.325962910128388,0.8359486447931527,0.7218259629101283,0.7253922967189729,0.5470756062767475,0.5470756062767475,0.8787446504992867,0.7146932952924394,0.7432239657631954,0.6219686162624821,0.9051355206847361,0.7360912981455064,0.7146932952924394,0.6077032810271041,1.0,0.4044222539229672,0.35805991440798857,0.3509272467902996,0.5399429386590585,0.5256776034236804,0.4044222539229672,0.39372325249643364,0.6540656205420827,0.7182596291012838,0.4543509272467903,0.5399429386590585,0.7182596291012838,0.8823109843081313,0.5078459343794579,0.6825962910128388,0.5827389443651926,0.4579172610556348,0.42938659058487877,0.5898716119828816,0.5292439372325249,0.3437945791726106,0.36875891583452214,0.5399429386590585,0.5827389443651926,0.2867332382310984,0.43295292439372324,0.572039942938659,0.5613409415121255,0.5042796005706134,0.557774607703281,0.7004279600570613,0.6219686162624821,0.7039942938659058,0.6504992867332382,0.782453637660485,0.557774607703281,0.6005706134094151,0.49358059914407987,0.7075606276747504,0.7182596291012838,0.17261055634807418,0.2867332382310984,0.12268188302425106,0.25106990014265335,0.10128388017118402,0.05492154065620542,0.28530670470756064,0.15977175463623394,0.16547788873038516,0.33666191155492153,0.31383737517831667,0.4222539229671897,0.09415121255349501,0.1383737517831669,0.5042796005706134,0.43366619115549215,0.10699001426533523,0.08131241084165478,0.15834522111269614,0.33666191155492153,0.13195435092724678,0.0,0.31098430813124106,0.25106990014265335,0.16904422253922968,0.17261055634807418,0.12268188302425106,0.15477888730385164,0.20256776034236804,0.2867332382310984,0.24750356633380885,0.14407988587731813,0.12268188302425106,0.15477888730385164,0.008559201141226819,0.04778887303851641,0.47004279600570614,0.24750356633380885,0.10699001426533523,0.2724679029957204,0.0912981455064194,0.30813124108416545,0.20256776034236804,0.11412268188302425,0.09771754636233952,0.2810271041369472,0.026390870185449358,0.16547788873038516,0.14978601997146934,0.024251069900142655,0.2867332382310984,0.20256776034236804,0.033523537803138374,0.2346647646219686,0.11126961483594865,0.07631954350927246,0.0920114122681883,0.15477888730385164,0.04778887303851641,0.06704707560627675,0.20399429386590584,0.24750356633380885,0.13338088445078458,0.062054208273894434,0.07275320970042796,0.07275320970042796,0.07132667617689016,0.052781740370898715,0.1340941512125535,0.0456490727532097,0.21540656205420827,0.25106990014265335,0.1797432239657632,0.20114122681883023,0.2296718972895863,0.2653352353780314,0.29743223965763194,0.3152639087018545,0.16904422253922968,0.21540656205420827,0.2225392296718973,0.2296718972895863,0.35805991440798857,0.17261055634807418,0.19400855920114124,0.4115549215406562,0.39372325249643364,0.09771754636233952,0.24750356633380885,0.2653352353780314,0.19400855920114124,0.15834522111269614,0.14407988587731813,0.10485021398002853,0.2831669044222539,0.2582025677603424,0.318830242510699,0.14407988587731813,0.42938659058487877,0.2724679029957204,0.24393723252496433,0.17261055634807418,0.2867332382310984,0.20827389443651925,0.2831669044222539,0.24037089871611983,0.17261055634807418,0.29743223965763194,0.29029957203994294,0.33666191155492153,0.25106990014265335,0.16547788873038516,0.1369472182596291,0.2724679029957204,0.32952924393723254,0.33666191155492153,0.39728958630527816,0.4008559201141227,0.20114122681883023]}],                        {\"scene\":{\"xaxis\":{\"title\":{\"text\":\"Intensidade de cor\"}},\"yaxis\":{\"title\":{\"text\":\"\\u00c1lcool\"}},\"zaxis\":{\"title\":{\"text\":\"Proline\"}}},\"template\":{\"data\":{\"bar\":[{\"error_x\":{\"color\":\"#2a3f5f\"},\"error_y\":{\"color\":\"#2a3f5f\"},\"marker\":{\"line\":{\"color\":\"#E5ECF6\",\"width\":0.5},\"pattern\":{\"fillmode\":\"overlay\",\"size\":10,\"solidity\":0.2}},\"type\":\"bar\"}],\"barpolar\":[{\"marker\":{\"line\":{\"color\":\"#E5ECF6\",\"width\":0.5},\"pattern\":{\"fillmode\":\"overlay\",\"size\":10,\"solidity\":0.2}},\"type\":\"barpolar\"}],\"carpet\":[{\"aaxis\":{\"endlinecolor\":\"#2a3f5f\",\"gridcolor\":\"white\",\"linecolor\":\"white\",\"minorgridcolor\":\"white\",\"startlinecolor\":\"#2a3f5f\"},\"baxis\":{\"endlinecolor\":\"#2a3f5f\",\"gridcolor\":\"white\",\"linecolor\":\"white\",\"minorgridcolor\":\"white\",\"startlinecolor\":\"#2a3f5f\"},\"type\":\"carpet\"}],\"choropleth\":[{\"colorbar\":{\"outlinewidth\":0,\"ticks\":\"\"},\"type\":\"choropleth\"}],\"contour\":[{\"colorbar\":{\"outlinewidth\":0,\"ticks\":\"\"},\"colorscale\":[[0.0,\"#0d0887\"],[0.1111111111111111,\"#46039f\"],[0.2222222222222222,\"#7201a8\"],[0.3333333333333333,\"#9c179e\"],[0.4444444444444444,\"#bd3786\"],[0.5555555555555556,\"#d8576b\"],[0.6666666666666666,\"#ed7953\"],[0.7777777777777778,\"#fb9f3a\"],[0.8888888888888888,\"#fdca26\"],[1.0,\"#f0f921\"]],\"type\":\"contour\"}],\"contourcarpet\":[{\"colorbar\":{\"outlinewidth\":0,\"ticks\":\"\"},\"type\":\"contourcarpet\"}],\"heatmap\":[{\"colorbar\":{\"outlinewidth\":0,\"ticks\":\"\"},\"colorscale\":[[0.0,\"#0d0887\"],[0.1111111111111111,\"#46039f\"],[0.2222222222222222,\"#7201a8\"],[0.3333333333333333,\"#9c179e\"],[0.4444444444444444,\"#bd3786\"],[0.5555555555555556,\"#d8576b\"],[0.6666666666666666,\"#ed7953\"],[0.7777777777777778,\"#fb9f3a\"],[0.8888888888888888,\"#fdca26\"],[1.0,\"#f0f921\"]],\"type\":\"heatmap\"}],\"heatmapgl\":[{\"colorbar\":{\"outlinewidth\":0,\"ticks\":\"\"},\"colorscale\":[[0.0,\"#0d0887\"],[0.1111111111111111,\"#46039f\"],[0.2222222222222222,\"#7201a8\"],[0.3333333333333333,\"#9c179e\"],[0.4444444444444444,\"#bd3786\"],[0.5555555555555556,\"#d8576b\"],[0.6666666666666666,\"#ed7953\"],[0.7777777777777778,\"#fb9f3a\"],[0.8888888888888888,\"#fdca26\"],[1.0,\"#f0f921\"]],\"type\":\"heatmapgl\"}],\"histogram\":[{\"marker\":{\"pattern\":{\"fillmode\":\"overlay\",\"size\":10,\"solidity\":0.2}},\"type\":\"histogram\"}],\"histogram2d\":[{\"colorbar\":{\"outlinewidth\":0,\"ticks\":\"\"},\"colorscale\":[[0.0,\"#0d0887\"],[0.1111111111111111,\"#46039f\"],[0.2222222222222222,\"#7201a8\"],[0.3333333333333333,\"#9c179e\"],[0.4444444444444444,\"#bd3786\"],[0.5555555555555556,\"#d8576b\"],[0.6666666666666666,\"#ed7953\"],[0.7777777777777778,\"#fb9f3a\"],[0.8888888888888888,\"#fdca26\"],[1.0,\"#f0f921\"]],\"type\":\"histogram2d\"}],\"histogram2dcontour\":[{\"colorbar\":{\"outlinewidth\":0,\"ticks\":\"\"},\"colorscale\":[[0.0,\"#0d0887\"],[0.1111111111111111,\"#46039f\"],[0.2222222222222222,\"#7201a8\"],[0.3333333333333333,\"#9c179e\"],[0.4444444444444444,\"#bd3786\"],[0.5555555555555556,\"#d8576b\"],[0.6666666666666666,\"#ed7953\"],[0.7777777777777778,\"#fb9f3a\"],[0.8888888888888888,\"#fdca26\"],[1.0,\"#f0f921\"]],\"type\":\"histogram2dcontour\"}],\"mesh3d\":[{\"colorbar\":{\"outlinewidth\":0,\"ticks\":\"\"},\"type\":\"mesh3d\"}],\"parcoords\":[{\"line\":{\"colorbar\":{\"outlinewidth\":0,\"ticks\":\"\"}},\"type\":\"parcoords\"}],\"pie\":[{\"automargin\":true,\"type\":\"pie\"}],\"scatter\":[{\"marker\":{\"colorbar\":{\"outlinewidth\":0,\"ticks\":\"\"}},\"type\":\"scatter\"}],\"scatter3d\":[{\"line\":{\"colorbar\":{\"outlinewidth\":0,\"ticks\":\"\"}},\"marker\":{\"colorbar\":{\"outlinewidth\":0,\"ticks\":\"\"}},\"type\":\"scatter3d\"}],\"scattercarpet\":[{\"marker\":{\"colorbar\":{\"outlinewidth\":0,\"ticks\":\"\"}},\"type\":\"scattercarpet\"}],\"scattergeo\":[{\"marker\":{\"colorbar\":{\"outlinewidth\":0,\"ticks\":\"\"}},\"type\":\"scattergeo\"}],\"scattergl\":[{\"marker\":{\"colorbar\":{\"outlinewidth\":0,\"ticks\":\"\"}},\"type\":\"scattergl\"}],\"scattermapbox\":[{\"marker\":{\"colorbar\":{\"outlinewidth\":0,\"ticks\":\"\"}},\"type\":\"scattermapbox\"}],\"scatterpolar\":[{\"marker\":{\"colorbar\":{\"outlinewidth\":0,\"ticks\":\"\"}},\"type\":\"scatterpolar\"}],\"scatterpolargl\":[{\"marker\":{\"colorbar\":{\"outlinewidth\":0,\"ticks\":\"\"}},\"type\":\"scatterpolargl\"}],\"scatterternary\":[{\"marker\":{\"colorbar\":{\"outlinewidth\":0,\"ticks\":\"\"}},\"type\":\"scatterternary\"}],\"surface\":[{\"colorbar\":{\"outlinewidth\":0,\"ticks\":\"\"},\"colorscale\":[[0.0,\"#0d0887\"],[0.1111111111111111,\"#46039f\"],[0.2222222222222222,\"#7201a8\"],[0.3333333333333333,\"#9c179e\"],[0.4444444444444444,\"#bd3786\"],[0.5555555555555556,\"#d8576b\"],[0.6666666666666666,\"#ed7953\"],[0.7777777777777778,\"#fb9f3a\"],[0.8888888888888888,\"#fdca26\"],[1.0,\"#f0f921\"]],\"type\":\"surface\"}],\"table\":[{\"cells\":{\"fill\":{\"color\":\"#EBF0F8\"},\"line\":{\"color\":\"white\"}},\"header\":{\"fill\":{\"color\":\"#C8D4E3\"},\"line\":{\"color\":\"white\"}},\"type\":\"table\"}]},\"layout\":{\"annotationdefaults\":{\"arrowcolor\":\"#2a3f5f\",\"arrowhead\":0,\"arrowwidth\":1},\"autotypenumbers\":\"strict\",\"coloraxis\":{\"colorbar\":{\"outlinewidth\":0,\"ticks\":\"\"}},\"colorscale\":{\"diverging\":[[0,\"#8e0152\"],[0.1,\"#c51b7d\"],[0.2,\"#de77ae\"],[0.3,\"#f1b6da\"],[0.4,\"#fde0ef\"],[0.5,\"#f7f7f7\"],[0.6,\"#e6f5d0\"],[0.7,\"#b8e186\"],[0.8,\"#7fbc41\"],[0.9,\"#4d9221\"],[1,\"#276419\"]],\"sequential\":[[0.0,\"#0d0887\"],[0.1111111111111111,\"#46039f\"],[0.2222222222222222,\"#7201a8\"],[0.3333333333333333,\"#9c179e\"],[0.4444444444444444,\"#bd3786\"],[0.5555555555555556,\"#d8576b\"],[0.6666666666666666,\"#ed7953\"],[0.7777777777777778,\"#fb9f3a\"],[0.8888888888888888,\"#fdca26\"],[1.0,\"#f0f921\"]],\"sequentialminus\":[[0.0,\"#0d0887\"],[0.1111111111111111,\"#46039f\"],[0.2222222222222222,\"#7201a8\"],[0.3333333333333333,\"#9c179e\"],[0.4444444444444444,\"#bd3786\"],[0.5555555555555556,\"#d8576b\"],[0.6666666666666666,\"#ed7953\"],[0.7777777777777778,\"#fb9f3a\"],[0.8888888888888888,\"#fdca26\"],[1.0,\"#f0f921\"]]},\"colorway\":[\"#636efa\",\"#EF553B\",\"#00cc96\",\"#ab63fa\",\"#FFA15A\",\"#19d3f3\",\"#FF6692\",\"#B6E880\",\"#FF97FF\",\"#FECB52\"],\"font\":{\"color\":\"#2a3f5f\"},\"geo\":{\"bgcolor\":\"white\",\"lakecolor\":\"white\",\"landcolor\":\"#E5ECF6\",\"showlakes\":true,\"showland\":true,\"subunitcolor\":\"white\"},\"hoverlabel\":{\"align\":\"left\"},\"hovermode\":\"closest\",\"mapbox\":{\"style\":\"light\"},\"paper_bgcolor\":\"white\",\"plot_bgcolor\":\"#E5ECF6\",\"polar\":{\"angularaxis\":{\"gridcolor\":\"white\",\"linecolor\":\"white\",\"ticks\":\"\"},\"bgcolor\":\"#E5ECF6\",\"radialaxis\":{\"gridcolor\":\"white\",\"linecolor\":\"white\",\"ticks\":\"\"}},\"scene\":{\"xaxis\":{\"backgroundcolor\":\"#E5ECF6\",\"gridcolor\":\"white\",\"gridwidth\":2,\"linecolor\":\"white\",\"showbackground\":true,\"ticks\":\"\",\"zerolinecolor\":\"white\"},\"yaxis\":{\"backgroundcolor\":\"#E5ECF6\",\"gridcolor\":\"white\",\"gridwidth\":2,\"linecolor\":\"white\",\"showbackground\":true,\"ticks\":\"\",\"zerolinecolor\":\"white\"},\"zaxis\":{\"backgroundcolor\":\"#E5ECF6\",\"gridcolor\":\"white\",\"gridwidth\":2,\"linecolor\":\"white\",\"showbackground\":true,\"ticks\":\"\",\"zerolinecolor\":\"white\"}},\"shapedefaults\":{\"line\":{\"color\":\"#2a3f5f\"}},\"ternary\":{\"aaxis\":{\"gridcolor\":\"white\",\"linecolor\":\"white\",\"ticks\":\"\"},\"baxis\":{\"gridcolor\":\"white\",\"linecolor\":\"white\",\"ticks\":\"\"},\"bgcolor\":\"#E5ECF6\",\"caxis\":{\"gridcolor\":\"white\",\"linecolor\":\"white\",\"ticks\":\"\"}},\"title\":{\"x\":0.05},\"xaxis\":{\"automargin\":true,\"gridcolor\":\"white\",\"linecolor\":\"white\",\"ticks\":\"\",\"title\":{\"standoff\":15},\"zerolinecolor\":\"white\",\"zerolinewidth\":2},\"yaxis\":{\"automargin\":true,\"gridcolor\":\"white\",\"linecolor\":\"white\",\"ticks\":\"\",\"title\":{\"standoff\":15},\"zerolinecolor\":\"white\",\"zerolinewidth\":2}}}},                        {\"responsive\": true}                    ).then(function(){\n",
       "                            \n",
       "var gd = document.getElementById('60b072f2-e86c-4dd7-9a3d-234bbbfd9664');\n",
       "var x = new MutationObserver(function (mutations, observer) {{\n",
       "        var display = window.getComputedStyle(gd).display;\n",
       "        if (!display || display === 'none') {{\n",
       "            console.log([gd, 'removed!']);\n",
       "            Plotly.purge(gd);\n",
       "            observer.disconnect();\n",
       "        }}\n",
       "}});\n",
       "\n",
       "// Listen for the removal of the full notebook cells\n",
       "var notebookContainer = gd.closest('#notebook-container');\n",
       "if (notebookContainer) {{\n",
       "    x.observe(notebookContainer, {childList: true});\n",
       "}}\n",
       "\n",
       "// Listen for the clearing of the current output cell\n",
       "var outputEl = gd.closest('.output');\n",
       "if (outputEl) {{\n",
       "    x.observe(outputEl, {childList: true});\n",
       "}}\n",
       "\n",
       "                        })                };                });            </script>        </div>"
      ]
     },
     "metadata": {},
     "output_type": "display_data"
    }
   ],
   "source": [
    "#adicionando nome dos eixos\n",
    "fig.update_layout(scene = dict(\n",
    "    xaxis_title = 'Intensidade de cor',\n",
    "    yaxis_title = 'Álcool',\n",
    "    zaxis_title = 'Proline'\n",
    "))\n",
    "fig.show()"
   ]
  },
  {
   "cell_type": "code",
   "execution_count": 169,
   "id": "1f9c6f05",
   "metadata": {},
   "outputs": [
    {
     "data": {
      "text/html": [
       "<div>\n",
       "<style scoped>\n",
       "    .dataframe tbody tr th:only-of-type {\n",
       "        vertical-align: middle;\n",
       "    }\n",
       "\n",
       "    .dataframe tbody tr th {\n",
       "        vertical-align: top;\n",
       "    }\n",
       "\n",
       "    .dataframe thead th {\n",
       "        text-align: right;\n",
       "    }\n",
       "</style>\n",
       "<table border=\"1\" class=\"dataframe\">\n",
       "  <thead>\n",
       "    <tr style=\"text-align: right;\">\n",
       "      <th></th>\n",
       "      <th>Alcool</th>\n",
       "      <th>Acido_malico</th>\n",
       "      <th>Po</th>\n",
       "      <th>Alcalinidade_Po</th>\n",
       "      <th>Magnesio</th>\n",
       "      <th>total_fenolicos</th>\n",
       "      <th>Flavanoides</th>\n",
       "      <th>nao_flavonoide_fenolicos</th>\n",
       "      <th>Proantocianidinas</th>\n",
       "      <th>Intensidade_cor</th>\n",
       "      <th>Matiz</th>\n",
       "      <th>OD280</th>\n",
       "      <th>Proline</th>\n",
       "      <th>Customer_Segment</th>\n",
       "    </tr>\n",
       "  </thead>\n",
       "  <tbody>\n",
       "    <tr>\n",
       "      <th>0</th>\n",
       "      <td>0.322960</td>\n",
       "      <td>0.230939</td>\n",
       "      <td>0.469813</td>\n",
       "      <td>0.487823</td>\n",
       "      <td>0.261342</td>\n",
       "      <td>0.438831</td>\n",
       "      <td>0.366294</td>\n",
       "      <td>0.438337</td>\n",
       "      <td>0.383486</td>\n",
       "      <td>0.151704</td>\n",
       "      <td>0.468081</td>\n",
       "      <td>0.555396</td>\n",
       "      <td>0.167494</td>\n",
       "      <td>0.500000</td>\n",
       "    </tr>\n",
       "    <tr>\n",
       "      <th>1</th>\n",
       "      <td>0.558324</td>\n",
       "      <td>0.514721</td>\n",
       "      <td>0.574703</td>\n",
       "      <td>0.558700</td>\n",
       "      <td>0.315439</td>\n",
       "      <td>0.240746</td>\n",
       "      <td>0.096616</td>\n",
       "      <td>0.605314</td>\n",
       "      <td>0.237559</td>\n",
       "      <td>0.517343</td>\n",
       "      <td>0.167413</td>\n",
       "      <td>0.153921</td>\n",
       "      <td>0.249323</td>\n",
       "      <td>0.989796</td>\n",
       "    </tr>\n",
       "    <tr>\n",
       "      <th>2</th>\n",
       "      <td>0.711096</td>\n",
       "      <td>0.250000</td>\n",
       "      <td>0.587166</td>\n",
       "      <td>0.342955</td>\n",
       "      <td>0.400906</td>\n",
       "      <td>0.644080</td>\n",
       "      <td>0.557138</td>\n",
       "      <td>0.299371</td>\n",
       "      <td>0.470137</td>\n",
       "      <td>0.359386</td>\n",
       "      <td>0.476558</td>\n",
       "      <td>0.693590</td>\n",
       "      <td>0.595958</td>\n",
       "      <td>0.008333</td>\n",
       "    </tr>\n",
       "  </tbody>\n",
       "</table>\n",
       "</div>"
      ],
      "text/plain": [
       "     Alcool  Acido_malico        Po  Alcalinidade_Po  Magnesio  \\\n",
       "0  0.322960      0.230939  0.469813         0.487823  0.261342   \n",
       "1  0.558324      0.514721  0.574703         0.558700  0.315439   \n",
       "2  0.711096      0.250000  0.587166         0.342955  0.400906   \n",
       "\n",
       "   total_fenolicos  Flavanoides  nao_flavonoide_fenolicos  Proantocianidinas  \\\n",
       "0         0.438831     0.366294                  0.438337           0.383486   \n",
       "1         0.240746     0.096616                  0.605314           0.237559   \n",
       "2         0.644080     0.557138                  0.299371           0.470137   \n",
       "\n",
       "   Intensidade_cor     Matiz     OD280   Proline  Customer_Segment  \n",
       "0         0.151704  0.468081  0.555396  0.167494          0.500000  \n",
       "1         0.517343  0.167413  0.153921  0.249323          0.989796  \n",
       "2         0.359386  0.476558  0.693590  0.595958          0.008333  "
      ]
     },
     "execution_count": 169,
     "metadata": {},
     "output_type": "execute_result"
    }
   ],
   "source": [
    "#colocando centro dos clusters\n",
    "centros = pd.DataFrame(agrupador.cluster_centers_) #agrupador refre-se aos 3 grupos(clusters)\n",
    "centros.columns = atributos \n",
    "centros.head()"
   ]
  },
  {
   "cell_type": "code",
   "execution_count": 170,
   "id": "83780a06",
   "metadata": {},
   "outputs": [
    {
     "data": {
      "application/vnd.plotly.v1+json": {
       "config": {
        "plotlyServerURL": "https://plot.ly"
       },
       "data": [
        {
         "marker": {
          "color": [
           2,
           2,
           2,
           2,
           2,
           2,
           2,
           2,
           2,
           2,
           2,
           2,
           2,
           2,
           2,
           2,
           2,
           2,
           2,
           2,
           2,
           2,
           2,
           2,
           2,
           2,
           2,
           2,
           2,
           2,
           2,
           2,
           2,
           2,
           2,
           2,
           2,
           2,
           2,
           2,
           2,
           2,
           2,
           2,
           2,
           2,
           2,
           2,
           2,
           2,
           2,
           2,
           2,
           2,
           2,
           2,
           2,
           2,
           2,
           0,
           0,
           0,
           0,
           0,
           0,
           0,
           0,
           0,
           0,
           0,
           0,
           0,
           0,
           2,
           0,
           0,
           0,
           0,
           0,
           0,
           0,
           0,
           0,
           1,
           0,
           0,
           0,
           0,
           0,
           0,
           0,
           0,
           0,
           0,
           0,
           0,
           0,
           0,
           0,
           0,
           0,
           0,
           0,
           0,
           0,
           0,
           0,
           0,
           0,
           0,
           0,
           0,
           0,
           0,
           0,
           0,
           0,
           0,
           0,
           0,
           0,
           0,
           0,
           0,
           0,
           0,
           0,
           0,
           0,
           0,
           1,
           1,
           1,
           1,
           1,
           1,
           1,
           1,
           1,
           1,
           1,
           1,
           1,
           1,
           1,
           1,
           1,
           1,
           1,
           1,
           1,
           1,
           1,
           1,
           1,
           1,
           1,
           1,
           1,
           1,
           1,
           1,
           1,
           1,
           1,
           1,
           1,
           1,
           1,
           1,
           1,
           1,
           1,
           1,
           1,
           1,
           1,
           1
          ]
         },
         "mode": "markers",
         "text": [
          2,
          2,
          2,
          2,
          2,
          2,
          2,
          2,
          2,
          2,
          2,
          2,
          2,
          2,
          2,
          2,
          2,
          2,
          2,
          2,
          2,
          2,
          2,
          2,
          2,
          2,
          2,
          2,
          2,
          2,
          2,
          2,
          2,
          2,
          2,
          2,
          2,
          2,
          2,
          2,
          2,
          2,
          2,
          2,
          2,
          2,
          2,
          2,
          2,
          2,
          2,
          2,
          2,
          2,
          2,
          2,
          2,
          2,
          2,
          0,
          0,
          0,
          0,
          0,
          0,
          0,
          0,
          0,
          0,
          0,
          0,
          0,
          0,
          2,
          0,
          0,
          0,
          0,
          0,
          0,
          0,
          0,
          0,
          1,
          0,
          0,
          0,
          0,
          0,
          0,
          0,
          0,
          0,
          0,
          0,
          0,
          0,
          0,
          0,
          0,
          0,
          0,
          0,
          0,
          0,
          0,
          0,
          0,
          0,
          0,
          0,
          0,
          0,
          0,
          0,
          0,
          0,
          0,
          0,
          0,
          0,
          0,
          0,
          0,
          0,
          0,
          0,
          0,
          0,
          0,
          1,
          1,
          1,
          1,
          1,
          1,
          1,
          1,
          1,
          1,
          1,
          1,
          1,
          1,
          1,
          1,
          1,
          1,
          1,
          1,
          1,
          1,
          1,
          1,
          1,
          1,
          1,
          1,
          1,
          1,
          1,
          1,
          1,
          1,
          1,
          1,
          1,
          1,
          1,
          1,
          1,
          1,
          1,
          1,
          1,
          1,
          1,
          1
         ],
         "type": "scatter3d",
         "x": [
          0.37201365187713303,
          0.26450511945392485,
          0.3754266211604095,
          0.5563139931740614,
          0.2593856655290102,
          0.46672354948805456,
          0.3387372013651877,
          0.3216723549488054,
          0.33447098976109213,
          0.5068259385665528,
          0.3813993174061433,
          0.31740614334470985,
          0.3686006825938566,
          0.3515358361774744,
          0.530716723549488,
          0.5136518771331058,
          0.4197952218430034,
          0.45392491467576784,
          0.6331058020477814,
          0.32593856655290093,
          0.3728668941979522,
          0.27474402730375425,
          0.21501706484641633,
          0.22610921501706485,
          0.19112627986348124,
          0.19624573378839588,
          0.3003412969283276,
          0.22781569965870305,
          0.27474402730375425,
          0.2918088737201365,
          0.37713310580204773,
          0.47952218430034127,
          0.21843003412969278,
          0.3515358361774744,
          0.24914675767918087,
          0.32593856655290093,
          0.28327645051194533,
          0.2534129692832764,
          0.20648464163822525,
          0.32593856655290093,
          0.41382252559726956,
          0.25597269624573377,
          0.3540955631399317,
          0.26279863481228666,
          0.3208191126279863,
          0.3378839590443686,
          0.30887372013651876,
          0.4112627986348122,
          0.4197952218430034,
          0.6501706484641638,
          0.5051194539249146,
          0.3686006825938566,
          0.4923208191126279,
          0.42832764505119447,
          0.3899317406143344,
          0.42406143344709896,
          0.43515358361774736,
          0.4027303754266211,
          0.4709897610921501,
          0.057167235494880536,
          0.1697952218430034,
          0.3813993174061433,
          0.21501706484641633,
          0.2704778156996587,
          0.14249146757679182,
          0.28327645051194533,
          0.3430034129692832,
          0.2901023890784982,
          0.16126279863481227,
          0.13395904436860068,
          0.1510238907849829,
          0.17918088737201363,
          0.2098976109215017,
          0.17662116040955633,
          0.16467576791808872,
          0.21501706484641633,
          0.28327645051194533,
          0.11689419795221842,
          0.18088737201365188,
          0.1100682593856655,
          0.10409556313993173,
          0.2235494880546075,
          0.07849829351535836,
          0.3003412969283276,
          0.1510238907849829,
          0.11433447098976109,
          0.09982935153583619,
          0.11262798634812286,
          0.1296928327645051,
          0.039249146757679175,
          0.09556313993174059,
          0.19795221843003413,
          0.1510238907849829,
          0.07423208191126278,
          0.16808873720136516,
          0.11262798634812286,
          0.10409556313993173,
          0.13822525597269622,
          0.27474402730375425,
          0.08703071672354946,
          0.1723549488054607,
          0.09982935153583619,
          0.1296928327645051,
          0.06655290102389079,
          0.1416382252559727,
          0.121160409556314,
          0.18088737201365188,
          0.1723549488054607,
          0.121160409556314,
          0.11689419795221842,
          0.13822525597269622,
          0.0614334470989761,
          0.21501706484641633,
          0.15358361774744028,
          0.13822525597269622,
          0.05290102389078497,
          0.057167235494880536,
          0.06655290102389079,
          0.18088737201365188,
          0,
          0.16808873720136516,
          0.4027303754266211,
          0.06825938566552901,
          0.11262798634812286,
          0.1296928327645051,
          0.12627986348122863,
          0.22696245733788395,
          0.14675767918088736,
          0.07167235494880546,
          0.11262798634812286,
          0.2406143344709897,
          0.3515358361774744,
          0.37713310580204773,
          0.31740614334470985,
          0.35580204778156993,
          0.49658703071672344,
          0.21928327645051196,
          0.31740614334470985,
          0.37713310580204773,
          0.31058020477815695,
          0.28327645051194533,
          0.3686006825938566,
          0.26194539249146753,
          0.26621160409556316,
          0.591296928327645,
          0.2320819112627986,
          0.30887372013651876,
          0.5435153583617747,
          0.6092150170648464,
          0.6928327645051195,
          0.6245733788395904,
          0.8122866894197953,
          0.49658703071672344,
          0.78839590443686,
          0.5392491467576791,
          0.5648464163822525,
          0.6595563139931739,
          0.530716723549488,
          1,
          0.893344709897611,
          0.5435153583617747,
          0.39249146757679176,
          0.3668941979522184,
          0.341296928327645,
          0.7081911262798635,
          0.4556313993174061,
          0.8020477815699658,
          0.7662116040955631,
          0.629692832764505,
          0.6160409556313993,
          0.3600682593856655,
          0.7354947952218429,
          0.7184300341296928,
          0.5477815699658702,
          0.5136518771331058,
          0.7610921501706485,
          0.6843003412969284,
          0.675767918088737
         ],
         "y": [
          0.8421052631578949,
          0.5710526315789473,
          0.5605263157894738,
          0.8789473684210525,
          0.5815789473684212,
          0.8342105263157893,
          0.8842105263157897,
          0.7973684210526317,
          1,
          0.744736842105263,
          0.8078947368421052,
          0.813157894736842,
          0.7157894736842105,
          0.9789473684210526,
          0.8815789473684212,
          0.6842105263157897,
          0.8605263157894739,
          0.736842105263158,
          0.831578947368421,
          0.686842105263158,
          0.7973684210526317,
          0.5,
          0.7052631578947371,
          0.4789473684210526,
          0.65,
          0.5315789473684213,
          0.6210526315789475,
          0.5973684210526318,
          0.7473684210526313,
          0.7868421052631578,
          0.7105263157894738,
          0.6710526315789475,
          0.6973684210526315,
          0.718421052631579,
          0.6526315789473685,
          0.6447368421052633,
          0.5921052631578946,
          0.5315789473684213,
          0.536842105263158,
          0.8394736842105265,
          0.6657894736842107,
          0.6263157894736843,
          0.7500000000000002,
          0.5815789473684212,
          0.5315789473684213,
          0.8368421052631582,
          0.8815789473684212,
          0.755263157894737,
          0.8078947368421052,
          0.7657894736842105,
          0.5315789473684213,
          0.736842105263158,
          0.7342105263157895,
          0.7210526315789473,
          0.7131578947368422,
          0.6657894736842107,
          0.8394736842105265,
          0.594736842105263,
          0.7078947368421055,
          0.3526315789473683,
          0.34210526315789486,
          0.42368421052631605,
          0.6947368421052632,
          0.3526315789473683,
          0.3000000000000001,
          0.3526315789473683,
          0.5473684210526315,
          0.3526315789473683,
          0.6078947368421053,
          0.31052631578947404,
          0.3315789473684209,
          0.744736842105263,
          0.6473684210526317,
          0.5157894736842107,
          0.2447368421052635,
          0.1657894736842107,
          0.5263157894736841,
          0.21315789473684219,
          0.34210526315789486,
          0.43947368421052624,
          0.25526315789473697,
          0.44473684210526343,
          0.27631578947368435,
          0.5315789473684213,
          0.21315789473684219,
          0.4315789473684211,
          0.2973684210526317,
          0.16315789473684233,
          0.16052631578947396,
          0.27631578947368435,
          0.27631578947368435,
          0.25526315789473697,
          0.43684210526315786,
          0.3315789473684209,
          0.15526315789473677,
          0.3789473684210529,
          0.2052631578947371,
          0.3315789473684209,
          0.3526315789473683,
          0.3315789473684209,
          0.27631578947368435,
          0.4131578947368421,
          0.34473684210526323,
          0.20789473684210547,
          0.38947368421052636,
          0.3657894736842106,
          0.3210526315789475,
          0.44473684210526343,
          0.31315789473684236,
          0.15263157894736842,
          0.11315789473684247,
          0.39210526315789473,
          0.1921052631578948,
          0.10000000000000019,
          0.27631578947368435,
          0,
          0.20789473684210547,
          0.3657894736842106,
          0.45789473684210524,
          0.25526315789473697,
          0.11052631578947364,
          0.13947368421052658,
          0.3657894736842106,
          0.5315789473684213,
          0.22105263157894728,
          0.273684210526316,
          0.368421052631579,
          0.1999999999999999,
          0.3526315789473683,
          0.2657894736842104,
          0.481578947368421,
          0.4868421052631582,
          0.4684210526315792,
          0.43947368421052624,
          0.38947368421052636,
          0.4131578947368421,
          0.3210526315789475,
          0.3947368421052631,
          0.6473684210526317,
          0.47631578947368425,
          0.5,
          0.613157894736842,
          0.6552631578947368,
          0.6815789473684208,
          0.3210526315789475,
          0.5605263157894738,
          0.7500000000000002,
          0.48421052631578937,
          0.6026315789473685,
          0.5394736842105264,
          0.65,
          0.46315789473684194,
          0.5473684210526315,
          0.5789473684210528,
          0.40789473684210537,
          0.5631578947368422,
          0.7394736842105263,
          0.3736842105263157,
          0.8710526315789473,
          0.6447368421052633,
          0.35,
          0.7,
          0.4789473684210526,
          0.5078947368421055,
          0.7236842105263157,
          0.7105263157894738,
          0.6368421052631578,
          0.4710526315789475,
          0.6710526315789475,
          0.623684210526316,
          0.30789473684210517,
          0.45789473684210524,
          0.8236842105263158,
          0.7052631578947371,
          0.623684210526316,
          0.5894736842105263,
          0.5631578947368422,
          0.8157894736842107
         ],
         "z": [
          0.5613409415121255,
          0.550641940085592,
          0.6469329529243937,
          0.8573466476462197,
          0.325962910128388,
          0.8359486447931527,
          0.7218259629101283,
          0.7253922967189729,
          0.5470756062767475,
          0.5470756062767475,
          0.8787446504992867,
          0.7146932952924394,
          0.7432239657631954,
          0.6219686162624821,
          0.9051355206847361,
          0.7360912981455064,
          0.7146932952924394,
          0.6077032810271041,
          1,
          0.4044222539229672,
          0.35805991440798857,
          0.3509272467902996,
          0.5399429386590585,
          0.5256776034236804,
          0.4044222539229672,
          0.39372325249643364,
          0.6540656205420827,
          0.7182596291012838,
          0.4543509272467903,
          0.5399429386590585,
          0.7182596291012838,
          0.8823109843081313,
          0.5078459343794579,
          0.6825962910128388,
          0.5827389443651926,
          0.4579172610556348,
          0.42938659058487877,
          0.5898716119828816,
          0.5292439372325249,
          0.3437945791726106,
          0.36875891583452214,
          0.5399429386590585,
          0.5827389443651926,
          0.2867332382310984,
          0.43295292439372324,
          0.572039942938659,
          0.5613409415121255,
          0.5042796005706134,
          0.557774607703281,
          0.7004279600570613,
          0.6219686162624821,
          0.7039942938659058,
          0.6504992867332382,
          0.782453637660485,
          0.557774607703281,
          0.6005706134094151,
          0.49358059914407987,
          0.7075606276747504,
          0.7182596291012838,
          0.17261055634807418,
          0.2867332382310984,
          0.12268188302425106,
          0.25106990014265335,
          0.10128388017118402,
          0.05492154065620542,
          0.28530670470756064,
          0.15977175463623394,
          0.16547788873038516,
          0.33666191155492153,
          0.31383737517831667,
          0.4222539229671897,
          0.09415121255349501,
          0.1383737517831669,
          0.5042796005706134,
          0.43366619115549215,
          0.10699001426533523,
          0.08131241084165478,
          0.15834522111269614,
          0.33666191155492153,
          0.13195435092724678,
          0,
          0.31098430813124106,
          0.25106990014265335,
          0.16904422253922968,
          0.17261055634807418,
          0.12268188302425106,
          0.15477888730385164,
          0.20256776034236804,
          0.2867332382310984,
          0.24750356633380885,
          0.14407988587731813,
          0.12268188302425106,
          0.15477888730385164,
          0.008559201141226819,
          0.04778887303851641,
          0.47004279600570614,
          0.24750356633380885,
          0.10699001426533523,
          0.2724679029957204,
          0.0912981455064194,
          0.30813124108416545,
          0.20256776034236804,
          0.11412268188302425,
          0.09771754636233952,
          0.2810271041369472,
          0.026390870185449358,
          0.16547788873038516,
          0.14978601997146934,
          0.024251069900142655,
          0.2867332382310984,
          0.20256776034236804,
          0.033523537803138374,
          0.2346647646219686,
          0.11126961483594865,
          0.07631954350927246,
          0.0920114122681883,
          0.15477888730385164,
          0.04778887303851641,
          0.06704707560627675,
          0.20399429386590584,
          0.24750356633380885,
          0.13338088445078458,
          0.062054208273894434,
          0.07275320970042796,
          0.07275320970042796,
          0.07132667617689016,
          0.052781740370898715,
          0.1340941512125535,
          0.0456490727532097,
          0.21540656205420827,
          0.25106990014265335,
          0.1797432239657632,
          0.20114122681883023,
          0.2296718972895863,
          0.2653352353780314,
          0.29743223965763194,
          0.3152639087018545,
          0.16904422253922968,
          0.21540656205420827,
          0.2225392296718973,
          0.2296718972895863,
          0.35805991440798857,
          0.17261055634807418,
          0.19400855920114124,
          0.4115549215406562,
          0.39372325249643364,
          0.09771754636233952,
          0.24750356633380885,
          0.2653352353780314,
          0.19400855920114124,
          0.15834522111269614,
          0.14407988587731813,
          0.10485021398002853,
          0.2831669044222539,
          0.2582025677603424,
          0.318830242510699,
          0.14407988587731813,
          0.42938659058487877,
          0.2724679029957204,
          0.24393723252496433,
          0.17261055634807418,
          0.2867332382310984,
          0.20827389443651925,
          0.2831669044222539,
          0.24037089871611983,
          0.17261055634807418,
          0.29743223965763194,
          0.29029957203994294,
          0.33666191155492153,
          0.25106990014265335,
          0.16547788873038516,
          0.1369472182596291,
          0.2724679029957204,
          0.32952924393723254,
          0.33666191155492153,
          0.39728958630527816,
          0.4008559201141227,
          0.20114122681883023
         ]
        },
        {
         "marker": {
          "color": "red"
         },
         "mode": "markers",
         "text": [
          "0",
          "1",
          "2"
         ],
         "type": "scatter3d",
         "x": [
          0.15170401147549095,
          0.5173434544124816,
          0.3593856655290102
         ],
         "y": [
          0.3229595728451564,
          0.5583243823845327,
          0.7110964912280703
         ],
         "z": [
          0.1674936426223408,
          0.24932312439954585,
          0.5959581550166428
         ]
        }
       ],
       "layout": {
        "scene": {
         "xaxis": {
          "title": {
           "text": "Intensidade de cor"
          }
         },
         "yaxis": {
          "title": {
           "text": "Álcool"
          }
         },
         "zaxis": {
          "title": {
           "text": "Proline"
          }
         }
        },
        "template": {
         "data": {
          "bar": [
           {
            "error_x": {
             "color": "#2a3f5f"
            },
            "error_y": {
             "color": "#2a3f5f"
            },
            "marker": {
             "line": {
              "color": "#E5ECF6",
              "width": 0.5
             },
             "pattern": {
              "fillmode": "overlay",
              "size": 10,
              "solidity": 0.2
             }
            },
            "type": "bar"
           }
          ],
          "barpolar": [
           {
            "marker": {
             "line": {
              "color": "#E5ECF6",
              "width": 0.5
             },
             "pattern": {
              "fillmode": "overlay",
              "size": 10,
              "solidity": 0.2
             }
            },
            "type": "barpolar"
           }
          ],
          "carpet": [
           {
            "aaxis": {
             "endlinecolor": "#2a3f5f",
             "gridcolor": "white",
             "linecolor": "white",
             "minorgridcolor": "white",
             "startlinecolor": "#2a3f5f"
            },
            "baxis": {
             "endlinecolor": "#2a3f5f",
             "gridcolor": "white",
             "linecolor": "white",
             "minorgridcolor": "white",
             "startlinecolor": "#2a3f5f"
            },
            "type": "carpet"
           }
          ],
          "choropleth": [
           {
            "colorbar": {
             "outlinewidth": 0,
             "ticks": ""
            },
            "type": "choropleth"
           }
          ],
          "contour": [
           {
            "colorbar": {
             "outlinewidth": 0,
             "ticks": ""
            },
            "colorscale": [
             [
              0,
              "#0d0887"
             ],
             [
              0.1111111111111111,
              "#46039f"
             ],
             [
              0.2222222222222222,
              "#7201a8"
             ],
             [
              0.3333333333333333,
              "#9c179e"
             ],
             [
              0.4444444444444444,
              "#bd3786"
             ],
             [
              0.5555555555555556,
              "#d8576b"
             ],
             [
              0.6666666666666666,
              "#ed7953"
             ],
             [
              0.7777777777777778,
              "#fb9f3a"
             ],
             [
              0.8888888888888888,
              "#fdca26"
             ],
             [
              1,
              "#f0f921"
             ]
            ],
            "type": "contour"
           }
          ],
          "contourcarpet": [
           {
            "colorbar": {
             "outlinewidth": 0,
             "ticks": ""
            },
            "type": "contourcarpet"
           }
          ],
          "heatmap": [
           {
            "colorbar": {
             "outlinewidth": 0,
             "ticks": ""
            },
            "colorscale": [
             [
              0,
              "#0d0887"
             ],
             [
              0.1111111111111111,
              "#46039f"
             ],
             [
              0.2222222222222222,
              "#7201a8"
             ],
             [
              0.3333333333333333,
              "#9c179e"
             ],
             [
              0.4444444444444444,
              "#bd3786"
             ],
             [
              0.5555555555555556,
              "#d8576b"
             ],
             [
              0.6666666666666666,
              "#ed7953"
             ],
             [
              0.7777777777777778,
              "#fb9f3a"
             ],
             [
              0.8888888888888888,
              "#fdca26"
             ],
             [
              1,
              "#f0f921"
             ]
            ],
            "type": "heatmap"
           }
          ],
          "heatmapgl": [
           {
            "colorbar": {
             "outlinewidth": 0,
             "ticks": ""
            },
            "colorscale": [
             [
              0,
              "#0d0887"
             ],
             [
              0.1111111111111111,
              "#46039f"
             ],
             [
              0.2222222222222222,
              "#7201a8"
             ],
             [
              0.3333333333333333,
              "#9c179e"
             ],
             [
              0.4444444444444444,
              "#bd3786"
             ],
             [
              0.5555555555555556,
              "#d8576b"
             ],
             [
              0.6666666666666666,
              "#ed7953"
             ],
             [
              0.7777777777777778,
              "#fb9f3a"
             ],
             [
              0.8888888888888888,
              "#fdca26"
             ],
             [
              1,
              "#f0f921"
             ]
            ],
            "type": "heatmapgl"
           }
          ],
          "histogram": [
           {
            "marker": {
             "pattern": {
              "fillmode": "overlay",
              "size": 10,
              "solidity": 0.2
             }
            },
            "type": "histogram"
           }
          ],
          "histogram2d": [
           {
            "colorbar": {
             "outlinewidth": 0,
             "ticks": ""
            },
            "colorscale": [
             [
              0,
              "#0d0887"
             ],
             [
              0.1111111111111111,
              "#46039f"
             ],
             [
              0.2222222222222222,
              "#7201a8"
             ],
             [
              0.3333333333333333,
              "#9c179e"
             ],
             [
              0.4444444444444444,
              "#bd3786"
             ],
             [
              0.5555555555555556,
              "#d8576b"
             ],
             [
              0.6666666666666666,
              "#ed7953"
             ],
             [
              0.7777777777777778,
              "#fb9f3a"
             ],
             [
              0.8888888888888888,
              "#fdca26"
             ],
             [
              1,
              "#f0f921"
             ]
            ],
            "type": "histogram2d"
           }
          ],
          "histogram2dcontour": [
           {
            "colorbar": {
             "outlinewidth": 0,
             "ticks": ""
            },
            "colorscale": [
             [
              0,
              "#0d0887"
             ],
             [
              0.1111111111111111,
              "#46039f"
             ],
             [
              0.2222222222222222,
              "#7201a8"
             ],
             [
              0.3333333333333333,
              "#9c179e"
             ],
             [
              0.4444444444444444,
              "#bd3786"
             ],
             [
              0.5555555555555556,
              "#d8576b"
             ],
             [
              0.6666666666666666,
              "#ed7953"
             ],
             [
              0.7777777777777778,
              "#fb9f3a"
             ],
             [
              0.8888888888888888,
              "#fdca26"
             ],
             [
              1,
              "#f0f921"
             ]
            ],
            "type": "histogram2dcontour"
           }
          ],
          "mesh3d": [
           {
            "colorbar": {
             "outlinewidth": 0,
             "ticks": ""
            },
            "type": "mesh3d"
           }
          ],
          "parcoords": [
           {
            "line": {
             "colorbar": {
              "outlinewidth": 0,
              "ticks": ""
             }
            },
            "type": "parcoords"
           }
          ],
          "pie": [
           {
            "automargin": true,
            "type": "pie"
           }
          ],
          "scatter": [
           {
            "marker": {
             "colorbar": {
              "outlinewidth": 0,
              "ticks": ""
             }
            },
            "type": "scatter"
           }
          ],
          "scatter3d": [
           {
            "line": {
             "colorbar": {
              "outlinewidth": 0,
              "ticks": ""
             }
            },
            "marker": {
             "colorbar": {
              "outlinewidth": 0,
              "ticks": ""
             }
            },
            "type": "scatter3d"
           }
          ],
          "scattercarpet": [
           {
            "marker": {
             "colorbar": {
              "outlinewidth": 0,
              "ticks": ""
             }
            },
            "type": "scattercarpet"
           }
          ],
          "scattergeo": [
           {
            "marker": {
             "colorbar": {
              "outlinewidth": 0,
              "ticks": ""
             }
            },
            "type": "scattergeo"
           }
          ],
          "scattergl": [
           {
            "marker": {
             "colorbar": {
              "outlinewidth": 0,
              "ticks": ""
             }
            },
            "type": "scattergl"
           }
          ],
          "scattermapbox": [
           {
            "marker": {
             "colorbar": {
              "outlinewidth": 0,
              "ticks": ""
             }
            },
            "type": "scattermapbox"
           }
          ],
          "scatterpolar": [
           {
            "marker": {
             "colorbar": {
              "outlinewidth": 0,
              "ticks": ""
             }
            },
            "type": "scatterpolar"
           }
          ],
          "scatterpolargl": [
           {
            "marker": {
             "colorbar": {
              "outlinewidth": 0,
              "ticks": ""
             }
            },
            "type": "scatterpolargl"
           }
          ],
          "scatterternary": [
           {
            "marker": {
             "colorbar": {
              "outlinewidth": 0,
              "ticks": ""
             }
            },
            "type": "scatterternary"
           }
          ],
          "surface": [
           {
            "colorbar": {
             "outlinewidth": 0,
             "ticks": ""
            },
            "colorscale": [
             [
              0,
              "#0d0887"
             ],
             [
              0.1111111111111111,
              "#46039f"
             ],
             [
              0.2222222222222222,
              "#7201a8"
             ],
             [
              0.3333333333333333,
              "#9c179e"
             ],
             [
              0.4444444444444444,
              "#bd3786"
             ],
             [
              0.5555555555555556,
              "#d8576b"
             ],
             [
              0.6666666666666666,
              "#ed7953"
             ],
             [
              0.7777777777777778,
              "#fb9f3a"
             ],
             [
              0.8888888888888888,
              "#fdca26"
             ],
             [
              1,
              "#f0f921"
             ]
            ],
            "type": "surface"
           }
          ],
          "table": [
           {
            "cells": {
             "fill": {
              "color": "#EBF0F8"
             },
             "line": {
              "color": "white"
             }
            },
            "header": {
             "fill": {
              "color": "#C8D4E3"
             },
             "line": {
              "color": "white"
             }
            },
            "type": "table"
           }
          ]
         },
         "layout": {
          "annotationdefaults": {
           "arrowcolor": "#2a3f5f",
           "arrowhead": 0,
           "arrowwidth": 1
          },
          "autotypenumbers": "strict",
          "coloraxis": {
           "colorbar": {
            "outlinewidth": 0,
            "ticks": ""
           }
          },
          "colorscale": {
           "diverging": [
            [
             0,
             "#8e0152"
            ],
            [
             0.1,
             "#c51b7d"
            ],
            [
             0.2,
             "#de77ae"
            ],
            [
             0.3,
             "#f1b6da"
            ],
            [
             0.4,
             "#fde0ef"
            ],
            [
             0.5,
             "#f7f7f7"
            ],
            [
             0.6,
             "#e6f5d0"
            ],
            [
             0.7,
             "#b8e186"
            ],
            [
             0.8,
             "#7fbc41"
            ],
            [
             0.9,
             "#4d9221"
            ],
            [
             1,
             "#276419"
            ]
           ],
           "sequential": [
            [
             0,
             "#0d0887"
            ],
            [
             0.1111111111111111,
             "#46039f"
            ],
            [
             0.2222222222222222,
             "#7201a8"
            ],
            [
             0.3333333333333333,
             "#9c179e"
            ],
            [
             0.4444444444444444,
             "#bd3786"
            ],
            [
             0.5555555555555556,
             "#d8576b"
            ],
            [
             0.6666666666666666,
             "#ed7953"
            ],
            [
             0.7777777777777778,
             "#fb9f3a"
            ],
            [
             0.8888888888888888,
             "#fdca26"
            ],
            [
             1,
             "#f0f921"
            ]
           ],
           "sequentialminus": [
            [
             0,
             "#0d0887"
            ],
            [
             0.1111111111111111,
             "#46039f"
            ],
            [
             0.2222222222222222,
             "#7201a8"
            ],
            [
             0.3333333333333333,
             "#9c179e"
            ],
            [
             0.4444444444444444,
             "#bd3786"
            ],
            [
             0.5555555555555556,
             "#d8576b"
            ],
            [
             0.6666666666666666,
             "#ed7953"
            ],
            [
             0.7777777777777778,
             "#fb9f3a"
            ],
            [
             0.8888888888888888,
             "#fdca26"
            ],
            [
             1,
             "#f0f921"
            ]
           ]
          },
          "colorway": [
           "#636efa",
           "#EF553B",
           "#00cc96",
           "#ab63fa",
           "#FFA15A",
           "#19d3f3",
           "#FF6692",
           "#B6E880",
           "#FF97FF",
           "#FECB52"
          ],
          "font": {
           "color": "#2a3f5f"
          },
          "geo": {
           "bgcolor": "white",
           "lakecolor": "white",
           "landcolor": "#E5ECF6",
           "showlakes": true,
           "showland": true,
           "subunitcolor": "white"
          },
          "hoverlabel": {
           "align": "left"
          },
          "hovermode": "closest",
          "mapbox": {
           "style": "light"
          },
          "paper_bgcolor": "white",
          "plot_bgcolor": "#E5ECF6",
          "polar": {
           "angularaxis": {
            "gridcolor": "white",
            "linecolor": "white",
            "ticks": ""
           },
           "bgcolor": "#E5ECF6",
           "radialaxis": {
            "gridcolor": "white",
            "linecolor": "white",
            "ticks": ""
           }
          },
          "scene": {
           "xaxis": {
            "backgroundcolor": "#E5ECF6",
            "gridcolor": "white",
            "gridwidth": 2,
            "linecolor": "white",
            "showbackground": true,
            "ticks": "",
            "zerolinecolor": "white"
           },
           "yaxis": {
            "backgroundcolor": "#E5ECF6",
            "gridcolor": "white",
            "gridwidth": 2,
            "linecolor": "white",
            "showbackground": true,
            "ticks": "",
            "zerolinecolor": "white"
           },
           "zaxis": {
            "backgroundcolor": "#E5ECF6",
            "gridcolor": "white",
            "gridwidth": 2,
            "linecolor": "white",
            "showbackground": true,
            "ticks": "",
            "zerolinecolor": "white"
           }
          },
          "shapedefaults": {
           "line": {
            "color": "#2a3f5f"
           }
          },
          "ternary": {
           "aaxis": {
            "gridcolor": "white",
            "linecolor": "white",
            "ticks": ""
           },
           "baxis": {
            "gridcolor": "white",
            "linecolor": "white",
            "ticks": ""
           },
           "bgcolor": "#E5ECF6",
           "caxis": {
            "gridcolor": "white",
            "linecolor": "white",
            "ticks": ""
           }
          },
          "title": {
           "x": 0.05
          },
          "xaxis": {
           "automargin": true,
           "gridcolor": "white",
           "linecolor": "white",
           "ticks": "",
           "title": {
            "standoff": 15
           },
           "zerolinecolor": "white",
           "zerolinewidth": 2
          },
          "yaxis": {
           "automargin": true,
           "gridcolor": "white",
           "linecolor": "white",
           "ticks": "",
           "title": {
            "standoff": 15
           },
           "zerolinecolor": "white",
           "zerolinewidth": 2
          }
         }
        }
       }
      },
      "text/html": [
       "<div>                            <div id=\"d23e59e2-f7fe-4696-9030-f95e609ecb7a\" class=\"plotly-graph-div\" style=\"height:525px; width:100%;\"></div>            <script type=\"text/javascript\">                require([\"plotly\"], function(Plotly) {                    window.PLOTLYENV=window.PLOTLYENV || {};                                    if (document.getElementById(\"d23e59e2-f7fe-4696-9030-f95e609ecb7a\")) {                    Plotly.newPlot(                        \"d23e59e2-f7fe-4696-9030-f95e609ecb7a\",                        [{\"marker\":{\"color\":[2.0,2.0,2.0,2.0,2.0,2.0,2.0,2.0,2.0,2.0,2.0,2.0,2.0,2.0,2.0,2.0,2.0,2.0,2.0,2.0,2.0,2.0,2.0,2.0,2.0,2.0,2.0,2.0,2.0,2.0,2.0,2.0,2.0,2.0,2.0,2.0,2.0,2.0,2.0,2.0,2.0,2.0,2.0,2.0,2.0,2.0,2.0,2.0,2.0,2.0,2.0,2.0,2.0,2.0,2.0,2.0,2.0,2.0,2.0,0.0,0.0,0.0,0.0,0.0,0.0,0.0,0.0,0.0,0.0,0.0,0.0,0.0,0.0,2.0,0.0,0.0,0.0,0.0,0.0,0.0,0.0,0.0,0.0,1.0,0.0,0.0,0.0,0.0,0.0,0.0,0.0,0.0,0.0,0.0,0.0,0.0,0.0,0.0,0.0,0.0,0.0,0.0,0.0,0.0,0.0,0.0,0.0,0.0,0.0,0.0,0.0,0.0,0.0,0.0,0.0,0.0,0.0,0.0,0.0,0.0,0.0,0.0,0.0,0.0,0.0,0.0,0.0,0.0,0.0,0.0,1.0,1.0,1.0,1.0,1.0,1.0,1.0,1.0,1.0,1.0,1.0,1.0,1.0,1.0,1.0,1.0,1.0,1.0,1.0,1.0,1.0,1.0,1.0,1.0,1.0,1.0,1.0,1.0,1.0,1.0,1.0,1.0,1.0,1.0,1.0,1.0,1.0,1.0,1.0,1.0,1.0,1.0,1.0,1.0,1.0,1.0,1.0,1.0]},\"mode\":\"markers\",\"text\":[2.0,2.0,2.0,2.0,2.0,2.0,2.0,2.0,2.0,2.0,2.0,2.0,2.0,2.0,2.0,2.0,2.0,2.0,2.0,2.0,2.0,2.0,2.0,2.0,2.0,2.0,2.0,2.0,2.0,2.0,2.0,2.0,2.0,2.0,2.0,2.0,2.0,2.0,2.0,2.0,2.0,2.0,2.0,2.0,2.0,2.0,2.0,2.0,2.0,2.0,2.0,2.0,2.0,2.0,2.0,2.0,2.0,2.0,2.0,0.0,0.0,0.0,0.0,0.0,0.0,0.0,0.0,0.0,0.0,0.0,0.0,0.0,0.0,2.0,0.0,0.0,0.0,0.0,0.0,0.0,0.0,0.0,0.0,1.0,0.0,0.0,0.0,0.0,0.0,0.0,0.0,0.0,0.0,0.0,0.0,0.0,0.0,0.0,0.0,0.0,0.0,0.0,0.0,0.0,0.0,0.0,0.0,0.0,0.0,0.0,0.0,0.0,0.0,0.0,0.0,0.0,0.0,0.0,0.0,0.0,0.0,0.0,0.0,0.0,0.0,0.0,0.0,0.0,0.0,0.0,1.0,1.0,1.0,1.0,1.0,1.0,1.0,1.0,1.0,1.0,1.0,1.0,1.0,1.0,1.0,1.0,1.0,1.0,1.0,1.0,1.0,1.0,1.0,1.0,1.0,1.0,1.0,1.0,1.0,1.0,1.0,1.0,1.0,1.0,1.0,1.0,1.0,1.0,1.0,1.0,1.0,1.0,1.0,1.0,1.0,1.0,1.0,1.0],\"type\":\"scatter3d\",\"x\":[0.37201365187713303,0.26450511945392485,0.3754266211604095,0.5563139931740614,0.2593856655290102,0.46672354948805456,0.3387372013651877,0.3216723549488054,0.33447098976109213,0.5068259385665528,0.3813993174061433,0.31740614334470985,0.3686006825938566,0.3515358361774744,0.530716723549488,0.5136518771331058,0.4197952218430034,0.45392491467576784,0.6331058020477814,0.32593856655290093,0.3728668941979522,0.27474402730375425,0.21501706484641633,0.22610921501706485,0.19112627986348124,0.19624573378839588,0.3003412969283276,0.22781569965870305,0.27474402730375425,0.2918088737201365,0.37713310580204773,0.47952218430034127,0.21843003412969278,0.3515358361774744,0.24914675767918087,0.32593856655290093,0.28327645051194533,0.2534129692832764,0.20648464163822525,0.32593856655290093,0.41382252559726956,0.25597269624573377,0.3540955631399317,0.26279863481228666,0.3208191126279863,0.3378839590443686,0.30887372013651876,0.4112627986348122,0.4197952218430034,0.6501706484641638,0.5051194539249146,0.3686006825938566,0.4923208191126279,0.42832764505119447,0.3899317406143344,0.42406143344709896,0.43515358361774736,0.4027303754266211,0.4709897610921501,0.057167235494880536,0.1697952218430034,0.3813993174061433,0.21501706484641633,0.2704778156996587,0.14249146757679182,0.28327645051194533,0.3430034129692832,0.2901023890784982,0.16126279863481227,0.13395904436860068,0.1510238907849829,0.17918088737201363,0.2098976109215017,0.17662116040955633,0.16467576791808872,0.21501706484641633,0.28327645051194533,0.11689419795221842,0.18088737201365188,0.1100682593856655,0.10409556313993173,0.2235494880546075,0.07849829351535836,0.3003412969283276,0.1510238907849829,0.11433447098976109,0.09982935153583619,0.11262798634812286,0.1296928327645051,0.039249146757679175,0.09556313993174059,0.19795221843003413,0.1510238907849829,0.07423208191126278,0.16808873720136516,0.11262798634812286,0.10409556313993173,0.13822525597269622,0.27474402730375425,0.08703071672354946,0.1723549488054607,0.09982935153583619,0.1296928327645051,0.06655290102389079,0.1416382252559727,0.121160409556314,0.18088737201365188,0.1723549488054607,0.121160409556314,0.11689419795221842,0.13822525597269622,0.0614334470989761,0.21501706484641633,0.15358361774744028,0.13822525597269622,0.05290102389078497,0.057167235494880536,0.06655290102389079,0.18088737201365188,0.0,0.16808873720136516,0.4027303754266211,0.06825938566552901,0.11262798634812286,0.1296928327645051,0.12627986348122863,0.22696245733788395,0.14675767918088736,0.07167235494880546,0.11262798634812286,0.2406143344709897,0.3515358361774744,0.37713310580204773,0.31740614334470985,0.35580204778156993,0.49658703071672344,0.21928327645051196,0.31740614334470985,0.37713310580204773,0.31058020477815695,0.28327645051194533,0.3686006825938566,0.26194539249146753,0.26621160409556316,0.591296928327645,0.2320819112627986,0.30887372013651876,0.5435153583617747,0.6092150170648464,0.6928327645051195,0.6245733788395904,0.8122866894197953,0.49658703071672344,0.78839590443686,0.5392491467576791,0.5648464163822525,0.6595563139931739,0.530716723549488,1.0,0.893344709897611,0.5435153583617747,0.39249146757679176,0.3668941979522184,0.341296928327645,0.7081911262798635,0.4556313993174061,0.8020477815699658,0.7662116040955631,0.629692832764505,0.6160409556313993,0.3600682593856655,0.7354947952218429,0.7184300341296928,0.5477815699658702,0.5136518771331058,0.7610921501706485,0.6843003412969284,0.675767918088737],\"y\":[0.8421052631578949,0.5710526315789473,0.5605263157894738,0.8789473684210525,0.5815789473684212,0.8342105263157893,0.8842105263157897,0.7973684210526317,1.0,0.744736842105263,0.8078947368421052,0.813157894736842,0.7157894736842105,0.9789473684210526,0.8815789473684212,0.6842105263157897,0.8605263157894739,0.736842105263158,0.831578947368421,0.686842105263158,0.7973684210526317,0.5,0.7052631578947371,0.4789473684210526,0.65,0.5315789473684213,0.6210526315789475,0.5973684210526318,0.7473684210526313,0.7868421052631578,0.7105263157894738,0.6710526315789475,0.6973684210526315,0.718421052631579,0.6526315789473685,0.6447368421052633,0.5921052631578946,0.5315789473684213,0.536842105263158,0.8394736842105265,0.6657894736842107,0.6263157894736843,0.7500000000000002,0.5815789473684212,0.5315789473684213,0.8368421052631582,0.8815789473684212,0.755263157894737,0.8078947368421052,0.7657894736842105,0.5315789473684213,0.736842105263158,0.7342105263157895,0.7210526315789473,0.7131578947368422,0.6657894736842107,0.8394736842105265,0.594736842105263,0.7078947368421055,0.3526315789473683,0.34210526315789486,0.42368421052631605,0.6947368421052632,0.3526315789473683,0.3000000000000001,0.3526315789473683,0.5473684210526315,0.3526315789473683,0.6078947368421053,0.31052631578947404,0.3315789473684209,0.744736842105263,0.6473684210526317,0.5157894736842107,0.2447368421052635,0.1657894736842107,0.5263157894736841,0.21315789473684219,0.34210526315789486,0.43947368421052624,0.25526315789473697,0.44473684210526343,0.27631578947368435,0.5315789473684213,0.21315789473684219,0.4315789473684211,0.2973684210526317,0.16315789473684233,0.16052631578947396,0.27631578947368435,0.27631578947368435,0.25526315789473697,0.43684210526315786,0.3315789473684209,0.15526315789473677,0.3789473684210529,0.2052631578947371,0.3315789473684209,0.3526315789473683,0.3315789473684209,0.27631578947368435,0.4131578947368421,0.34473684210526323,0.20789473684210547,0.38947368421052636,0.3657894736842106,0.3210526315789475,0.44473684210526343,0.31315789473684236,0.15263157894736842,0.11315789473684247,0.39210526315789473,0.1921052631578948,0.10000000000000019,0.27631578947368435,0.0,0.20789473684210547,0.3657894736842106,0.45789473684210524,0.25526315789473697,0.11052631578947364,0.13947368421052658,0.3657894736842106,0.5315789473684213,0.22105263157894728,0.273684210526316,0.368421052631579,0.1999999999999999,0.3526315789473683,0.2657894736842104,0.481578947368421,0.4868421052631582,0.4684210526315792,0.43947368421052624,0.38947368421052636,0.4131578947368421,0.3210526315789475,0.3947368421052631,0.6473684210526317,0.47631578947368425,0.5,0.613157894736842,0.6552631578947368,0.6815789473684208,0.3210526315789475,0.5605263157894738,0.7500000000000002,0.48421052631578937,0.6026315789473685,0.5394736842105264,0.65,0.46315789473684194,0.5473684210526315,0.5789473684210528,0.40789473684210537,0.5631578947368422,0.7394736842105263,0.3736842105263157,0.8710526315789473,0.6447368421052633,0.35,0.7,0.4789473684210526,0.5078947368421055,0.7236842105263157,0.7105263157894738,0.6368421052631578,0.4710526315789475,0.6710526315789475,0.623684210526316,0.30789473684210517,0.45789473684210524,0.8236842105263158,0.7052631578947371,0.623684210526316,0.5894736842105263,0.5631578947368422,0.8157894736842107],\"z\":[0.5613409415121255,0.550641940085592,0.6469329529243937,0.8573466476462197,0.325962910128388,0.8359486447931527,0.7218259629101283,0.7253922967189729,0.5470756062767475,0.5470756062767475,0.8787446504992867,0.7146932952924394,0.7432239657631954,0.6219686162624821,0.9051355206847361,0.7360912981455064,0.7146932952924394,0.6077032810271041,1.0,0.4044222539229672,0.35805991440798857,0.3509272467902996,0.5399429386590585,0.5256776034236804,0.4044222539229672,0.39372325249643364,0.6540656205420827,0.7182596291012838,0.4543509272467903,0.5399429386590585,0.7182596291012838,0.8823109843081313,0.5078459343794579,0.6825962910128388,0.5827389443651926,0.4579172610556348,0.42938659058487877,0.5898716119828816,0.5292439372325249,0.3437945791726106,0.36875891583452214,0.5399429386590585,0.5827389443651926,0.2867332382310984,0.43295292439372324,0.572039942938659,0.5613409415121255,0.5042796005706134,0.557774607703281,0.7004279600570613,0.6219686162624821,0.7039942938659058,0.6504992867332382,0.782453637660485,0.557774607703281,0.6005706134094151,0.49358059914407987,0.7075606276747504,0.7182596291012838,0.17261055634807418,0.2867332382310984,0.12268188302425106,0.25106990014265335,0.10128388017118402,0.05492154065620542,0.28530670470756064,0.15977175463623394,0.16547788873038516,0.33666191155492153,0.31383737517831667,0.4222539229671897,0.09415121255349501,0.1383737517831669,0.5042796005706134,0.43366619115549215,0.10699001426533523,0.08131241084165478,0.15834522111269614,0.33666191155492153,0.13195435092724678,0.0,0.31098430813124106,0.25106990014265335,0.16904422253922968,0.17261055634807418,0.12268188302425106,0.15477888730385164,0.20256776034236804,0.2867332382310984,0.24750356633380885,0.14407988587731813,0.12268188302425106,0.15477888730385164,0.008559201141226819,0.04778887303851641,0.47004279600570614,0.24750356633380885,0.10699001426533523,0.2724679029957204,0.0912981455064194,0.30813124108416545,0.20256776034236804,0.11412268188302425,0.09771754636233952,0.2810271041369472,0.026390870185449358,0.16547788873038516,0.14978601997146934,0.024251069900142655,0.2867332382310984,0.20256776034236804,0.033523537803138374,0.2346647646219686,0.11126961483594865,0.07631954350927246,0.0920114122681883,0.15477888730385164,0.04778887303851641,0.06704707560627675,0.20399429386590584,0.24750356633380885,0.13338088445078458,0.062054208273894434,0.07275320970042796,0.07275320970042796,0.07132667617689016,0.052781740370898715,0.1340941512125535,0.0456490727532097,0.21540656205420827,0.25106990014265335,0.1797432239657632,0.20114122681883023,0.2296718972895863,0.2653352353780314,0.29743223965763194,0.3152639087018545,0.16904422253922968,0.21540656205420827,0.2225392296718973,0.2296718972895863,0.35805991440798857,0.17261055634807418,0.19400855920114124,0.4115549215406562,0.39372325249643364,0.09771754636233952,0.24750356633380885,0.2653352353780314,0.19400855920114124,0.15834522111269614,0.14407988587731813,0.10485021398002853,0.2831669044222539,0.2582025677603424,0.318830242510699,0.14407988587731813,0.42938659058487877,0.2724679029957204,0.24393723252496433,0.17261055634807418,0.2867332382310984,0.20827389443651925,0.2831669044222539,0.24037089871611983,0.17261055634807418,0.29743223965763194,0.29029957203994294,0.33666191155492153,0.25106990014265335,0.16547788873038516,0.1369472182596291,0.2724679029957204,0.32952924393723254,0.33666191155492153,0.39728958630527816,0.4008559201141227,0.20114122681883023]},{\"marker\":{\"color\":\"red\"},\"mode\":\"markers\",\"text\":[\"0\",\"1\",\"2\"],\"type\":\"scatter3d\",\"x\":[0.15170401147549095,0.5173434544124816,0.3593856655290102],\"y\":[0.3229595728451564,0.5583243823845327,0.7110964912280703],\"z\":[0.1674936426223408,0.24932312439954585,0.5959581550166428]}],                        {\"scene\":{\"xaxis\":{\"title\":{\"text\":\"Intensidade de cor\"}},\"yaxis\":{\"title\":{\"text\":\"\\u00c1lcool\"}},\"zaxis\":{\"title\":{\"text\":\"Proline\"}}},\"template\":{\"data\":{\"bar\":[{\"error_x\":{\"color\":\"#2a3f5f\"},\"error_y\":{\"color\":\"#2a3f5f\"},\"marker\":{\"line\":{\"color\":\"#E5ECF6\",\"width\":0.5},\"pattern\":{\"fillmode\":\"overlay\",\"size\":10,\"solidity\":0.2}},\"type\":\"bar\"}],\"barpolar\":[{\"marker\":{\"line\":{\"color\":\"#E5ECF6\",\"width\":0.5},\"pattern\":{\"fillmode\":\"overlay\",\"size\":10,\"solidity\":0.2}},\"type\":\"barpolar\"}],\"carpet\":[{\"aaxis\":{\"endlinecolor\":\"#2a3f5f\",\"gridcolor\":\"white\",\"linecolor\":\"white\",\"minorgridcolor\":\"white\",\"startlinecolor\":\"#2a3f5f\"},\"baxis\":{\"endlinecolor\":\"#2a3f5f\",\"gridcolor\":\"white\",\"linecolor\":\"white\",\"minorgridcolor\":\"white\",\"startlinecolor\":\"#2a3f5f\"},\"type\":\"carpet\"}],\"choropleth\":[{\"colorbar\":{\"outlinewidth\":0,\"ticks\":\"\"},\"type\":\"choropleth\"}],\"contour\":[{\"colorbar\":{\"outlinewidth\":0,\"ticks\":\"\"},\"colorscale\":[[0.0,\"#0d0887\"],[0.1111111111111111,\"#46039f\"],[0.2222222222222222,\"#7201a8\"],[0.3333333333333333,\"#9c179e\"],[0.4444444444444444,\"#bd3786\"],[0.5555555555555556,\"#d8576b\"],[0.6666666666666666,\"#ed7953\"],[0.7777777777777778,\"#fb9f3a\"],[0.8888888888888888,\"#fdca26\"],[1.0,\"#f0f921\"]],\"type\":\"contour\"}],\"contourcarpet\":[{\"colorbar\":{\"outlinewidth\":0,\"ticks\":\"\"},\"type\":\"contourcarpet\"}],\"heatmap\":[{\"colorbar\":{\"outlinewidth\":0,\"ticks\":\"\"},\"colorscale\":[[0.0,\"#0d0887\"],[0.1111111111111111,\"#46039f\"],[0.2222222222222222,\"#7201a8\"],[0.3333333333333333,\"#9c179e\"],[0.4444444444444444,\"#bd3786\"],[0.5555555555555556,\"#d8576b\"],[0.6666666666666666,\"#ed7953\"],[0.7777777777777778,\"#fb9f3a\"],[0.8888888888888888,\"#fdca26\"],[1.0,\"#f0f921\"]],\"type\":\"heatmap\"}],\"heatmapgl\":[{\"colorbar\":{\"outlinewidth\":0,\"ticks\":\"\"},\"colorscale\":[[0.0,\"#0d0887\"],[0.1111111111111111,\"#46039f\"],[0.2222222222222222,\"#7201a8\"],[0.3333333333333333,\"#9c179e\"],[0.4444444444444444,\"#bd3786\"],[0.5555555555555556,\"#d8576b\"],[0.6666666666666666,\"#ed7953\"],[0.7777777777777778,\"#fb9f3a\"],[0.8888888888888888,\"#fdca26\"],[1.0,\"#f0f921\"]],\"type\":\"heatmapgl\"}],\"histogram\":[{\"marker\":{\"pattern\":{\"fillmode\":\"overlay\",\"size\":10,\"solidity\":0.2}},\"type\":\"histogram\"}],\"histogram2d\":[{\"colorbar\":{\"outlinewidth\":0,\"ticks\":\"\"},\"colorscale\":[[0.0,\"#0d0887\"],[0.1111111111111111,\"#46039f\"],[0.2222222222222222,\"#7201a8\"],[0.3333333333333333,\"#9c179e\"],[0.4444444444444444,\"#bd3786\"],[0.5555555555555556,\"#d8576b\"],[0.6666666666666666,\"#ed7953\"],[0.7777777777777778,\"#fb9f3a\"],[0.8888888888888888,\"#fdca26\"],[1.0,\"#f0f921\"]],\"type\":\"histogram2d\"}],\"histogram2dcontour\":[{\"colorbar\":{\"outlinewidth\":0,\"ticks\":\"\"},\"colorscale\":[[0.0,\"#0d0887\"],[0.1111111111111111,\"#46039f\"],[0.2222222222222222,\"#7201a8\"],[0.3333333333333333,\"#9c179e\"],[0.4444444444444444,\"#bd3786\"],[0.5555555555555556,\"#d8576b\"],[0.6666666666666666,\"#ed7953\"],[0.7777777777777778,\"#fb9f3a\"],[0.8888888888888888,\"#fdca26\"],[1.0,\"#f0f921\"]],\"type\":\"histogram2dcontour\"}],\"mesh3d\":[{\"colorbar\":{\"outlinewidth\":0,\"ticks\":\"\"},\"type\":\"mesh3d\"}],\"parcoords\":[{\"line\":{\"colorbar\":{\"outlinewidth\":0,\"ticks\":\"\"}},\"type\":\"parcoords\"}],\"pie\":[{\"automargin\":true,\"type\":\"pie\"}],\"scatter\":[{\"marker\":{\"colorbar\":{\"outlinewidth\":0,\"ticks\":\"\"}},\"type\":\"scatter\"}],\"scatter3d\":[{\"line\":{\"colorbar\":{\"outlinewidth\":0,\"ticks\":\"\"}},\"marker\":{\"colorbar\":{\"outlinewidth\":0,\"ticks\":\"\"}},\"type\":\"scatter3d\"}],\"scattercarpet\":[{\"marker\":{\"colorbar\":{\"outlinewidth\":0,\"ticks\":\"\"}},\"type\":\"scattercarpet\"}],\"scattergeo\":[{\"marker\":{\"colorbar\":{\"outlinewidth\":0,\"ticks\":\"\"}},\"type\":\"scattergeo\"}],\"scattergl\":[{\"marker\":{\"colorbar\":{\"outlinewidth\":0,\"ticks\":\"\"}},\"type\":\"scattergl\"}],\"scattermapbox\":[{\"marker\":{\"colorbar\":{\"outlinewidth\":0,\"ticks\":\"\"}},\"type\":\"scattermapbox\"}],\"scatterpolar\":[{\"marker\":{\"colorbar\":{\"outlinewidth\":0,\"ticks\":\"\"}},\"type\":\"scatterpolar\"}],\"scatterpolargl\":[{\"marker\":{\"colorbar\":{\"outlinewidth\":0,\"ticks\":\"\"}},\"type\":\"scatterpolargl\"}],\"scatterternary\":[{\"marker\":{\"colorbar\":{\"outlinewidth\":0,\"ticks\":\"\"}},\"type\":\"scatterternary\"}],\"surface\":[{\"colorbar\":{\"outlinewidth\":0,\"ticks\":\"\"},\"colorscale\":[[0.0,\"#0d0887\"],[0.1111111111111111,\"#46039f\"],[0.2222222222222222,\"#7201a8\"],[0.3333333333333333,\"#9c179e\"],[0.4444444444444444,\"#bd3786\"],[0.5555555555555556,\"#d8576b\"],[0.6666666666666666,\"#ed7953\"],[0.7777777777777778,\"#fb9f3a\"],[0.8888888888888888,\"#fdca26\"],[1.0,\"#f0f921\"]],\"type\":\"surface\"}],\"table\":[{\"cells\":{\"fill\":{\"color\":\"#EBF0F8\"},\"line\":{\"color\":\"white\"}},\"header\":{\"fill\":{\"color\":\"#C8D4E3\"},\"line\":{\"color\":\"white\"}},\"type\":\"table\"}]},\"layout\":{\"annotationdefaults\":{\"arrowcolor\":\"#2a3f5f\",\"arrowhead\":0,\"arrowwidth\":1},\"autotypenumbers\":\"strict\",\"coloraxis\":{\"colorbar\":{\"outlinewidth\":0,\"ticks\":\"\"}},\"colorscale\":{\"diverging\":[[0,\"#8e0152\"],[0.1,\"#c51b7d\"],[0.2,\"#de77ae\"],[0.3,\"#f1b6da\"],[0.4,\"#fde0ef\"],[0.5,\"#f7f7f7\"],[0.6,\"#e6f5d0\"],[0.7,\"#b8e186\"],[0.8,\"#7fbc41\"],[0.9,\"#4d9221\"],[1,\"#276419\"]],\"sequential\":[[0.0,\"#0d0887\"],[0.1111111111111111,\"#46039f\"],[0.2222222222222222,\"#7201a8\"],[0.3333333333333333,\"#9c179e\"],[0.4444444444444444,\"#bd3786\"],[0.5555555555555556,\"#d8576b\"],[0.6666666666666666,\"#ed7953\"],[0.7777777777777778,\"#fb9f3a\"],[0.8888888888888888,\"#fdca26\"],[1.0,\"#f0f921\"]],\"sequentialminus\":[[0.0,\"#0d0887\"],[0.1111111111111111,\"#46039f\"],[0.2222222222222222,\"#7201a8\"],[0.3333333333333333,\"#9c179e\"],[0.4444444444444444,\"#bd3786\"],[0.5555555555555556,\"#d8576b\"],[0.6666666666666666,\"#ed7953\"],[0.7777777777777778,\"#fb9f3a\"],[0.8888888888888888,\"#fdca26\"],[1.0,\"#f0f921\"]]},\"colorway\":[\"#636efa\",\"#EF553B\",\"#00cc96\",\"#ab63fa\",\"#FFA15A\",\"#19d3f3\",\"#FF6692\",\"#B6E880\",\"#FF97FF\",\"#FECB52\"],\"font\":{\"color\":\"#2a3f5f\"},\"geo\":{\"bgcolor\":\"white\",\"lakecolor\":\"white\",\"landcolor\":\"#E5ECF6\",\"showlakes\":true,\"showland\":true,\"subunitcolor\":\"white\"},\"hoverlabel\":{\"align\":\"left\"},\"hovermode\":\"closest\",\"mapbox\":{\"style\":\"light\"},\"paper_bgcolor\":\"white\",\"plot_bgcolor\":\"#E5ECF6\",\"polar\":{\"angularaxis\":{\"gridcolor\":\"white\",\"linecolor\":\"white\",\"ticks\":\"\"},\"bgcolor\":\"#E5ECF6\",\"radialaxis\":{\"gridcolor\":\"white\",\"linecolor\":\"white\",\"ticks\":\"\"}},\"scene\":{\"xaxis\":{\"backgroundcolor\":\"#E5ECF6\",\"gridcolor\":\"white\",\"gridwidth\":2,\"linecolor\":\"white\",\"showbackground\":true,\"ticks\":\"\",\"zerolinecolor\":\"white\"},\"yaxis\":{\"backgroundcolor\":\"#E5ECF6\",\"gridcolor\":\"white\",\"gridwidth\":2,\"linecolor\":\"white\",\"showbackground\":true,\"ticks\":\"\",\"zerolinecolor\":\"white\"},\"zaxis\":{\"backgroundcolor\":\"#E5ECF6\",\"gridcolor\":\"white\",\"gridwidth\":2,\"linecolor\":\"white\",\"showbackground\":true,\"ticks\":\"\",\"zerolinecolor\":\"white\"}},\"shapedefaults\":{\"line\":{\"color\":\"#2a3f5f\"}},\"ternary\":{\"aaxis\":{\"gridcolor\":\"white\",\"linecolor\":\"white\",\"ticks\":\"\"},\"baxis\":{\"gridcolor\":\"white\",\"linecolor\":\"white\",\"ticks\":\"\"},\"bgcolor\":\"#E5ECF6\",\"caxis\":{\"gridcolor\":\"white\",\"linecolor\":\"white\",\"ticks\":\"\"}},\"title\":{\"x\":0.05},\"xaxis\":{\"automargin\":true,\"gridcolor\":\"white\",\"linecolor\":\"white\",\"ticks\":\"\",\"title\":{\"standoff\":15},\"zerolinecolor\":\"white\",\"zerolinewidth\":2},\"yaxis\":{\"automargin\":true,\"gridcolor\":\"white\",\"linecolor\":\"white\",\"ticks\":\"\",\"title\":{\"standoff\":15},\"zerolinecolor\":\"white\",\"zerolinewidth\":2}}}},                        {\"responsive\": true}                    ).then(function(){\n",
       "                            \n",
       "var gd = document.getElementById('d23e59e2-f7fe-4696-9030-f95e609ecb7a');\n",
       "var x = new MutationObserver(function (mutations, observer) {{\n",
       "        var display = window.getComputedStyle(gd).display;\n",
       "        if (!display || display === 'none') {{\n",
       "            console.log([gd, 'removed!']);\n",
       "            Plotly.purge(gd);\n",
       "            observer.disconnect();\n",
       "        }}\n",
       "}});\n",
       "\n",
       "// Listen for the removal of the full notebook cells\n",
       "var notebookContainer = gd.closest('#notebook-container');\n",
       "if (notebookContainer) {{\n",
       "    x.observe(notebookContainer, {childList: true});\n",
       "}}\n",
       "\n",
       "// Listen for the clearing of the current output cell\n",
       "var outputEl = gd.closest('.output');\n",
       "if (outputEl) {{\n",
       "    x.observe(outputEl, {childList: true});\n",
       "}}\n",
       "\n",
       "                        })                };                });            </script>        </div>"
      ]
     },
     "metadata": {},
     "output_type": "display_data"
    }
   ],
   "source": [
    "fig.add_trace(go.Scatter3d(x = centros['Intensidade_cor'],\n",
    "                           y = centros['Alcool'],\n",
    "                           z = centros['Proline'],\n",
    "                           mode = 'markers',\n",
    "                           marker = dict(color = 'red'),\n",
    "                           text = [0,1,2] ))\n",
    "\n",
    "fig.show()"
   ]
  },
  {
   "cell_type": "markdown",
   "id": "89733fb6",
   "metadata": {},
   "source": [
    "Podemos ver que estão distribuidos os pontos centrais. Porém, seria mellhor que, a quantidade de grupos fosse mais que 3, pois podemos ver pontos de grupos muito perto entre si"
   ]
  },
  {
   "cell_type": "markdown",
   "id": "4abb5522",
   "metadata": {},
   "source": [
    "### Utilizando DBSCAN\n",
    "\n",
    "recomendando com dados de dimensoes pequenas e com um tipo fixo de dados,se variarem muito nao é bom"
   ]
  },
  {
   "cell_type": "code",
   "execution_count": 171,
   "id": "5b2d2794",
   "metadata": {},
   "outputs": [],
   "source": [
    "#Impportando\n",
    "from sklearn.cluster  import DBSCAN"
   ]
  },
  {
   "cell_type": "code",
   "execution_count": 172,
   "id": "9d03ad13",
   "metadata": {},
   "outputs": [
    {
     "data": {
      "text/plain": [
       "DBSCAN(eps=1.31, metric='manhattan', min_samples=15)"
      ]
     },
     "execution_count": 172,
     "metadata": {},
     "output_type": "execute_result"
    }
   ],
   "source": [
    "#eps distancia maxima para que eles sejam considerados vizinhos ou pertencente ao mesmo cluster\n",
    "# numero minimo de pontos que eu possa forma um cluster\n",
    "# metric e a avaliar distancia entre os pontos\n",
    "agrupador = DBSCAN(eps = 1.31, min_samples = 15, metric = 'manhattan')\n",
    "agrupador.fit(dados)"
   ]
  },
  {
   "cell_type": "code",
   "execution_count": 173,
   "id": "bb924f99",
   "metadata": {},
   "outputs": [
    {
     "data": {
      "text/plain": [
       "array([ 0,  0,  0,  0, -1,  0,  0,  0,  0,  0,  0,  0,  0, -1,  0,  0,  0,\n",
       "        0,  0,  0,  0,  0,  0,  0,  0, -1,  0,  0,  0,  0,  0,  0,  0,  0,\n",
       "        0,  0,  0,  0,  0, -1,  0, -1,  0, -1,  0, -1,  0,  0,  0,  0, -1,\n",
       "        0,  0,  0,  0,  0,  0,  0,  0, -1, -1, -1, -1, -1, -1, -1, -1,  1,\n",
       "       -1, -1, -1, -1, -1, -1, -1, -1, -1, -1, -1, -1, -1,  1, -1, -1, -1,\n",
       "        1, -1, -1, -1, -1,  1,  1, -1, -1, -1, -1, -1, -1, -1, -1, -1,  1,\n",
       "       -1,  1,  1, -1,  1,  1,  1, -1, -1, -1, -1, -1, -1, -1,  1,  1, -1,\n",
       "        1, -1, -1, -1, -1, -1,  1, -1, -1, -1, -1, -1,  2, -1,  2, -1,  2,\n",
       "       -1, -1,  2, -1, -1,  2, -1, -1,  2,  2, -1,  2,  2,  2, -1, -1, -1,\n",
       "        2, -1,  2,  2, -1, -1, -1,  2,  2,  2,  2,  2, -1,  2,  2,  2, -1,\n",
       "        2,  2,  2,  2,  2,  2,  2,  2], dtype=int64)"
      ]
     },
     "execution_count": 173,
     "metadata": {},
     "output_type": "execute_result"
    }
   ],
   "source": [
    "#vendo os labels\n",
    "agrupador.labels_"
   ]
  },
  {
   "cell_type": "markdown",
   "id": "c0b5cab6",
   "metadata": {},
   "source": [
    "Grupo menos 1 retrata uma amostra definida como ruído, entao qualquer ponto que nao esteja na distancia de 1.31 é um ruido"
   ]
  },
  {
   "cell_type": "code",
   "execution_count": 174,
   "id": "8d47fdf6",
   "metadata": {},
   "outputs": [
    {
     "data": {
      "text/plain": [
       "array([-1,  0,  1,  2], dtype=int64)"
      ]
     },
     "execution_count": 174,
     "metadata": {},
     "output_type": "execute_result"
    }
   ],
   "source": [
    "# vendo quais sao os labels\n",
    "np.unique(agrupador.labels_)"
   ]
  },
  {
   "cell_type": "code",
   "execution_count": 175,
   "id": "6fa329b7",
   "metadata": {},
   "outputs": [
    {
     "data": {
      "text/plain": [
       "array([ 0,  0,  0,  0,  0,  0,  0,  0,  0,  0,  0,  0,  0,  0,  0,  0,  0,\n",
       "        0,  0,  0,  0,  0,  0,  0,  0, -1,  0,  0,  0,  0,  0,  0,  0,  0,\n",
       "        0,  0,  0,  0,  0,  0,  0,  0,  0,  0,  0,  0,  0,  0,  0,  0, -1,\n",
       "        0,  0,  0,  0,  0,  0,  0,  0, -1, -1, -1,  1,  1,  1,  1, -1,  1,\n",
       "       -1, -1, -1, -1,  1, -1, -1,  1,  1,  1, -1, -1,  1,  1,  1, -1,  1,\n",
       "        1,  1,  1,  1,  1,  1,  1,  1,  1,  1, -1, -1,  1,  1, -1,  1,  1,\n",
       "        1,  1,  1,  1,  1,  1,  1, -1, -1,  1, -1,  1,  1, -1,  1,  1, -1,\n",
       "        1,  1, -1,  1, -1, -1,  1,  1,  1,  1,  1, -1,  2,  2,  2,  2,  2,\n",
       "        2,  2,  2, -1,  2,  2,  2,  2,  2,  2,  2,  2,  2,  2,  2,  2, -1,\n",
       "        2,  2,  2,  2,  2, -1, -1,  2,  2,  2,  2,  2,  2,  2,  2,  2,  2,\n",
       "        2,  2,  2,  2,  2,  2,  2,  2], dtype=int64)"
      ]
     },
     "execution_count": 175,
     "metadata": {},
     "output_type": "execute_result"
    }
   ],
   "source": [
    "# Fazendo um novo modelo DBSCAN\n",
    "#manhattan faz a função da distancia  assim sum(|x - y|)\n",
    "#min é 15, se nao chegar a formar agrupamentos ate 15 n vira o cluster\n",
    "agrupador = DBSCAN(eps = 1.5, min_samples = 15, metric = 'manhattan')\n",
    "agrupador.fit(dados)\n",
    "agrupador.labels_"
   ]
  },
  {
   "cell_type": "markdown",
   "id": "8ba6ca11",
   "metadata": {},
   "source": [
    "Métricas de distância do sklearn dbscan\n",
    "\n",
    "Do scikit-learn: [‘cityblock’, ‘cosine’, ‘euclidean’, ‘l1’, ‘l2’, ‘manhattan’]"
   ]
  },
  {
   "cell_type": "markdown",
   "id": "3eec0cdb",
   "metadata": {},
   "source": [
    "### Mean Shift\n",
    "método consiste em nao ter q parametrizar tanto o modelo, robusto a outlier, serve pra varios tipo de aplicacoes e nao é bom com dados com muitas dimensoes"
   ]
  },
  {
   "cell_type": "code",
   "execution_count": 176,
   "id": "3c5a5f9c",
   "metadata": {},
   "outputs": [],
   "source": [
    "#importando\n",
    "from sklearn.cluster import MeanShift"
   ]
  },
  {
   "cell_type": "code",
   "execution_count": 177,
   "id": "e41f82b8",
   "metadata": {},
   "outputs": [
    {
     "data": {
      "text/plain": [
       "array([0, 0, 0, 0, 0, 0, 0, 0, 0, 0, 0, 0, 0, 0, 0, 0, 0, 0, 0, 0, 0, 0,\n",
       "       0, 0, 0, 0, 0, 0, 0, 0, 0, 0, 0, 0, 0, 0, 0, 0, 0, 0, 0, 0, 0, 0,\n",
       "       0, 0, 0, 0, 0, 0, 0, 0, 0, 0, 0, 0, 0, 0, 0, 0, 0, 0, 0, 0, 0, 0,\n",
       "       0, 0, 0, 0, 0, 0, 0, 0, 0, 0, 0, 0, 0, 0, 0, 0, 0, 0, 0, 0, 0, 0,\n",
       "       0, 0, 0, 0, 0, 0, 0, 0, 0, 0, 0, 0, 0, 0, 0, 0, 0, 0, 0, 0, 0, 0,\n",
       "       0, 0, 0, 0, 0, 0, 0, 0, 0, 0, 0, 1, 0, 0, 0, 0, 0, 0, 0, 0, 0, 0,\n",
       "       0, 0, 0, 0, 0, 0, 0, 0, 0, 0, 0, 0, 0, 0, 0, 0, 0, 0, 0, 0, 0, 0,\n",
       "       0, 0, 0, 0, 0, 0, 0, 0, 0, 0, 0, 0, 0, 0, 0, 0, 0, 0, 0, 0, 0, 0,\n",
       "       0, 0], dtype=int64)"
      ]
     },
     "execution_count": 177,
     "metadata": {},
     "output_type": "execute_result"
    }
   ],
   "source": [
    "#instancionado\n",
    "agrupador = MeanShift()\n",
    "agrupador.fit(dados)\n",
    "agrupador.labels_"
   ]
  },
  {
   "cell_type": "code",
   "execution_count": 178,
   "id": "efdbba14",
   "metadata": {},
   "outputs": [],
   "source": [
    "#passando alguns parametros para rodar legal\n",
    "from sklearn.cluster import estimate_bandwidth"
   ]
  },
  {
   "cell_type": "code",
   "execution_count": 179,
   "id": "6ec915f0",
   "metadata": {},
   "outputs": [
    {
     "name": "stderr",
     "output_type": "stream",
     "text": [
      "D:\\Anaconda3\\lib\\site-packages\\sklearn\\utils\\validation.py:70: FutureWarning:\n",
      "\n",
      "Pass bandwidth=1.1322358239471637 as keyword args. From version 1.0 (renaming of 0.25) passing these as positional arguments will result in an error\n",
      "\n"
     ]
    },
    {
     "data": {
      "text/plain": [
       "array([0, 0, 0, 0, 0, 0, 0, 0, 0, 0, 0, 0, 0, 0, 0, 0, 0, 0, 0, 0, 0, 0,\n",
       "       0, 0, 0, 0, 0, 0, 0, 0, 0, 0, 0, 0, 0, 0, 0, 0, 0, 0, 0, 0, 0, 0,\n",
       "       0, 0, 0, 0, 0, 0, 0, 0, 0, 0, 0, 0, 0, 0, 0, 0, 0, 0, 0, 0, 0, 0,\n",
       "       0, 0, 0, 0, 0, 0, 0, 0, 0, 0, 0, 0, 0, 0, 0, 0, 0, 0, 0, 0, 0, 0,\n",
       "       0, 0, 0, 0, 0, 0, 0, 0, 0, 0, 0, 0, 0, 0, 0, 0, 0, 0, 0, 0, 0, 0,\n",
       "       0, 0, 0, 0, 0, 0, 0, 0, 0, 0, 0, 0, 0, 0, 0, 0, 0, 0, 0, 0, 0, 0,\n",
       "       0, 0, 0, 0, 0, 0, 0, 0, 0, 0, 0, 0, 0, 0, 0, 0, 0, 0, 0, 0, 0, 0,\n",
       "       0, 0, 0, 0, 0, 0, 0, 0, 0, 0, 0, 0, 0, 0, 0, 0, 0, 0, 0, 0, 0, 0,\n",
       "       0, 0], dtype=int64)"
      ]
     },
     "execution_count": 179,
     "metadata": {},
     "output_type": "execute_result"
    }
   ],
   "source": [
    "BW = estimate_bandwidth(dados, quantile = 0.5)\n",
    "agrupador = MeanShift(BW)\n",
    "agrupador.fit(dados)\n",
    "agrupador.labels_"
   ]
  },
  {
   "cell_type": "code",
   "execution_count": 180,
   "id": "60784e6e",
   "metadata": {},
   "outputs": [],
   "source": [
    "#quantil defini qual ponto da regiao de busca.\n",
    "#pequeno busca maior numero de cluster ex 0.1\n",
    "#grande menor numero de cluster ex 0.8"
   ]
  },
  {
   "cell_type": "markdown",
   "id": "dfc828ae",
   "metadata": {},
   "source": [
    "### Coeficiente de Silhueta para kmeans\n",
    "\n",
    "como saber se a clusterização feita foi boa? Quanto maior o valor da silhueta é melhor "
   ]
  },
  {
   "cell_type": "code",
   "execution_count": 181,
   "id": "62679b3d",
   "metadata": {},
   "outputs": [],
   "source": [
    "agrupador = KMeans(n_clusters=  5)\n",
    "agrupador.fit(dados)\n",
    "labels = agrupador.labels_"
   ]
  },
  {
   "cell_type": "code",
   "execution_count": 182,
   "id": "7af5b6c8",
   "metadata": {},
   "outputs": [
    {
     "data": {
      "application/vnd.plotly.v1+json": {
       "config": {
        "plotlyServerURL": "https://plot.ly"
       },
       "data": [
        {
         "marker": {
          "color": [
           1,
           1,
           1,
           1,
           1,
           1,
           1,
           1,
           1,
           1,
           1,
           1,
           1,
           1,
           1,
           1,
           1,
           1,
           1,
           1,
           1,
           1,
           1,
           1,
           1,
           1,
           1,
           1,
           1,
           1,
           1,
           1,
           1,
           1,
           1,
           1,
           1,
           1,
           1,
           1,
           1,
           1,
           1,
           1,
           1,
           1,
           1,
           1,
           1,
           1,
           1,
           1,
           1,
           1,
           1,
           1,
           1,
           1,
           1,
           4,
           4,
           4,
           4,
           2,
           4,
           2,
           2,
           2,
           4,
           2,
           4,
           2,
           2,
           2,
           2,
           4,
           2,
           4,
           2,
           2,
           2,
           2,
           4,
           4,
           2,
           2,
           4,
           4,
           4,
           4,
           4,
           4,
           4,
           2,
           2,
           2,
           2,
           2,
           2,
           2,
           2,
           4,
           2,
           4,
           2,
           4,
           4,
           4,
           2,
           2,
           2,
           2,
           4,
           4,
           4,
           4,
           2,
           2,
           4,
           2,
           2,
           2,
           2,
           2,
           2,
           2,
           2,
           4,
           2,
           4,
           0,
           0,
           0,
           0,
           3,
           3,
           3,
           3,
           3,
           3,
           3,
           3,
           3,
           3,
           0,
           3,
           3,
           3,
           3,
           0,
           0,
           0,
           0,
           3,
           3,
           3,
           3,
           3,
           3,
           3,
           3,
           3,
           3,
           3,
           3,
           3,
           0,
           3,
           0,
           0,
           3,
           3,
           3,
           3,
           3,
           0,
           3,
           3
          ]
         },
         "mode": "markers",
         "text": [
          1,
          1,
          1,
          1,
          1,
          1,
          1,
          1,
          1,
          1,
          1,
          1,
          1,
          1,
          1,
          1,
          1,
          1,
          1,
          1,
          1,
          1,
          1,
          1,
          1,
          1,
          1,
          1,
          1,
          1,
          1,
          1,
          1,
          1,
          1,
          1,
          1,
          1,
          1,
          1,
          1,
          1,
          1,
          1,
          1,
          1,
          1,
          1,
          1,
          1,
          1,
          1,
          1,
          1,
          1,
          1,
          1,
          1,
          1,
          4,
          4,
          4,
          4,
          2,
          4,
          2,
          2,
          2,
          4,
          2,
          4,
          2,
          2,
          2,
          2,
          4,
          2,
          4,
          2,
          2,
          2,
          2,
          4,
          4,
          2,
          2,
          4,
          4,
          4,
          4,
          4,
          4,
          4,
          2,
          2,
          2,
          2,
          2,
          2,
          2,
          2,
          4,
          2,
          4,
          2,
          4,
          4,
          4,
          2,
          2,
          2,
          2,
          4,
          4,
          4,
          4,
          2,
          2,
          4,
          2,
          2,
          2,
          2,
          2,
          2,
          2,
          2,
          4,
          2,
          4,
          0,
          0,
          0,
          0,
          3,
          3,
          3,
          3,
          3,
          3,
          3,
          3,
          3,
          3,
          0,
          3,
          3,
          3,
          3,
          0,
          0,
          0,
          0,
          3,
          3,
          3,
          3,
          3,
          3,
          3,
          3,
          3,
          3,
          3,
          3,
          3,
          0,
          3,
          0,
          0,
          3,
          3,
          3,
          3,
          3,
          0,
          3,
          3
         ],
         "type": "scatter3d",
         "x": [
          0.37201365187713303,
          0.26450511945392485,
          0.3754266211604095,
          0.5563139931740614,
          0.2593856655290102,
          0.46672354948805456,
          0.3387372013651877,
          0.3216723549488054,
          0.33447098976109213,
          0.5068259385665528,
          0.3813993174061433,
          0.31740614334470985,
          0.3686006825938566,
          0.3515358361774744,
          0.530716723549488,
          0.5136518771331058,
          0.4197952218430034,
          0.45392491467576784,
          0.6331058020477814,
          0.32593856655290093,
          0.3728668941979522,
          0.27474402730375425,
          0.21501706484641633,
          0.22610921501706485,
          0.19112627986348124,
          0.19624573378839588,
          0.3003412969283276,
          0.22781569965870305,
          0.27474402730375425,
          0.2918088737201365,
          0.37713310580204773,
          0.47952218430034127,
          0.21843003412969278,
          0.3515358361774744,
          0.24914675767918087,
          0.32593856655290093,
          0.28327645051194533,
          0.2534129692832764,
          0.20648464163822525,
          0.32593856655290093,
          0.41382252559726956,
          0.25597269624573377,
          0.3540955631399317,
          0.26279863481228666,
          0.3208191126279863,
          0.3378839590443686,
          0.30887372013651876,
          0.4112627986348122,
          0.4197952218430034,
          0.6501706484641638,
          0.5051194539249146,
          0.3686006825938566,
          0.4923208191126279,
          0.42832764505119447,
          0.3899317406143344,
          0.42406143344709896,
          0.43515358361774736,
          0.4027303754266211,
          0.4709897610921501,
          0.057167235494880536,
          0.1697952218430034,
          0.3813993174061433,
          0.21501706484641633,
          0.2704778156996587,
          0.14249146757679182,
          0.28327645051194533,
          0.3430034129692832,
          0.2901023890784982,
          0.16126279863481227,
          0.13395904436860068,
          0.1510238907849829,
          0.17918088737201363,
          0.2098976109215017,
          0.17662116040955633,
          0.16467576791808872,
          0.21501706484641633,
          0.28327645051194533,
          0.11689419795221842,
          0.18088737201365188,
          0.1100682593856655,
          0.10409556313993173,
          0.2235494880546075,
          0.07849829351535836,
          0.3003412969283276,
          0.1510238907849829,
          0.11433447098976109,
          0.09982935153583619,
          0.11262798634812286,
          0.1296928327645051,
          0.039249146757679175,
          0.09556313993174059,
          0.19795221843003413,
          0.1510238907849829,
          0.07423208191126278,
          0.16808873720136516,
          0.11262798634812286,
          0.10409556313993173,
          0.13822525597269622,
          0.27474402730375425,
          0.08703071672354946,
          0.1723549488054607,
          0.09982935153583619,
          0.1296928327645051,
          0.06655290102389079,
          0.1416382252559727,
          0.121160409556314,
          0.18088737201365188,
          0.1723549488054607,
          0.121160409556314,
          0.11689419795221842,
          0.13822525597269622,
          0.0614334470989761,
          0.21501706484641633,
          0.15358361774744028,
          0.13822525597269622,
          0.05290102389078497,
          0.057167235494880536,
          0.06655290102389079,
          0.18088737201365188,
          0,
          0.16808873720136516,
          0.4027303754266211,
          0.06825938566552901,
          0.11262798634812286,
          0.1296928327645051,
          0.12627986348122863,
          0.22696245733788395,
          0.14675767918088736,
          0.07167235494880546,
          0.11262798634812286,
          0.2406143344709897,
          0.3515358361774744,
          0.37713310580204773,
          0.31740614334470985,
          0.35580204778156993,
          0.49658703071672344,
          0.21928327645051196,
          0.31740614334470985,
          0.37713310580204773,
          0.31058020477815695,
          0.28327645051194533,
          0.3686006825938566,
          0.26194539249146753,
          0.26621160409556316,
          0.591296928327645,
          0.2320819112627986,
          0.30887372013651876,
          0.5435153583617747,
          0.6092150170648464,
          0.6928327645051195,
          0.6245733788395904,
          0.8122866894197953,
          0.49658703071672344,
          0.78839590443686,
          0.5392491467576791,
          0.5648464163822525,
          0.6595563139931739,
          0.530716723549488,
          1,
          0.893344709897611,
          0.5435153583617747,
          0.39249146757679176,
          0.3668941979522184,
          0.341296928327645,
          0.7081911262798635,
          0.4556313993174061,
          0.8020477815699658,
          0.7662116040955631,
          0.629692832764505,
          0.6160409556313993,
          0.3600682593856655,
          0.7354947952218429,
          0.7184300341296928,
          0.5477815699658702,
          0.5136518771331058,
          0.7610921501706485,
          0.6843003412969284,
          0.675767918088737
         ],
         "y": [
          0.8421052631578949,
          0.5710526315789473,
          0.5605263157894738,
          0.8789473684210525,
          0.5815789473684212,
          0.8342105263157893,
          0.8842105263157897,
          0.7973684210526317,
          1,
          0.744736842105263,
          0.8078947368421052,
          0.813157894736842,
          0.7157894736842105,
          0.9789473684210526,
          0.8815789473684212,
          0.6842105263157897,
          0.8605263157894739,
          0.736842105263158,
          0.831578947368421,
          0.686842105263158,
          0.7973684210526317,
          0.5,
          0.7052631578947371,
          0.4789473684210526,
          0.65,
          0.5315789473684213,
          0.6210526315789475,
          0.5973684210526318,
          0.7473684210526313,
          0.7868421052631578,
          0.7105263157894738,
          0.6710526315789475,
          0.6973684210526315,
          0.718421052631579,
          0.6526315789473685,
          0.6447368421052633,
          0.5921052631578946,
          0.5315789473684213,
          0.536842105263158,
          0.8394736842105265,
          0.6657894736842107,
          0.6263157894736843,
          0.7500000000000002,
          0.5815789473684212,
          0.5315789473684213,
          0.8368421052631582,
          0.8815789473684212,
          0.755263157894737,
          0.8078947368421052,
          0.7657894736842105,
          0.5315789473684213,
          0.736842105263158,
          0.7342105263157895,
          0.7210526315789473,
          0.7131578947368422,
          0.6657894736842107,
          0.8394736842105265,
          0.594736842105263,
          0.7078947368421055,
          0.3526315789473683,
          0.34210526315789486,
          0.42368421052631605,
          0.6947368421052632,
          0.3526315789473683,
          0.3000000000000001,
          0.3526315789473683,
          0.5473684210526315,
          0.3526315789473683,
          0.6078947368421053,
          0.31052631578947404,
          0.3315789473684209,
          0.744736842105263,
          0.6473684210526317,
          0.5157894736842107,
          0.2447368421052635,
          0.1657894736842107,
          0.5263157894736841,
          0.21315789473684219,
          0.34210526315789486,
          0.43947368421052624,
          0.25526315789473697,
          0.44473684210526343,
          0.27631578947368435,
          0.5315789473684213,
          0.21315789473684219,
          0.4315789473684211,
          0.2973684210526317,
          0.16315789473684233,
          0.16052631578947396,
          0.27631578947368435,
          0.27631578947368435,
          0.25526315789473697,
          0.43684210526315786,
          0.3315789473684209,
          0.15526315789473677,
          0.3789473684210529,
          0.2052631578947371,
          0.3315789473684209,
          0.3526315789473683,
          0.3315789473684209,
          0.27631578947368435,
          0.4131578947368421,
          0.34473684210526323,
          0.20789473684210547,
          0.38947368421052636,
          0.3657894736842106,
          0.3210526315789475,
          0.44473684210526343,
          0.31315789473684236,
          0.15263157894736842,
          0.11315789473684247,
          0.39210526315789473,
          0.1921052631578948,
          0.10000000000000019,
          0.27631578947368435,
          0,
          0.20789473684210547,
          0.3657894736842106,
          0.45789473684210524,
          0.25526315789473697,
          0.11052631578947364,
          0.13947368421052658,
          0.3657894736842106,
          0.5315789473684213,
          0.22105263157894728,
          0.273684210526316,
          0.368421052631579,
          0.1999999999999999,
          0.3526315789473683,
          0.2657894736842104,
          0.481578947368421,
          0.4868421052631582,
          0.4684210526315792,
          0.43947368421052624,
          0.38947368421052636,
          0.4131578947368421,
          0.3210526315789475,
          0.3947368421052631,
          0.6473684210526317,
          0.47631578947368425,
          0.5,
          0.613157894736842,
          0.6552631578947368,
          0.6815789473684208,
          0.3210526315789475,
          0.5605263157894738,
          0.7500000000000002,
          0.48421052631578937,
          0.6026315789473685,
          0.5394736842105264,
          0.65,
          0.46315789473684194,
          0.5473684210526315,
          0.5789473684210528,
          0.40789473684210537,
          0.5631578947368422,
          0.7394736842105263,
          0.3736842105263157,
          0.8710526315789473,
          0.6447368421052633,
          0.35,
          0.7,
          0.4789473684210526,
          0.5078947368421055,
          0.7236842105263157,
          0.7105263157894738,
          0.6368421052631578,
          0.4710526315789475,
          0.6710526315789475,
          0.623684210526316,
          0.30789473684210517,
          0.45789473684210524,
          0.8236842105263158,
          0.7052631578947371,
          0.623684210526316,
          0.5894736842105263,
          0.5631578947368422,
          0.8157894736842107
         ],
         "z": [
          0.5613409415121255,
          0.550641940085592,
          0.6469329529243937,
          0.8573466476462197,
          0.325962910128388,
          0.8359486447931527,
          0.7218259629101283,
          0.7253922967189729,
          0.5470756062767475,
          0.5470756062767475,
          0.8787446504992867,
          0.7146932952924394,
          0.7432239657631954,
          0.6219686162624821,
          0.9051355206847361,
          0.7360912981455064,
          0.7146932952924394,
          0.6077032810271041,
          1,
          0.4044222539229672,
          0.35805991440798857,
          0.3509272467902996,
          0.5399429386590585,
          0.5256776034236804,
          0.4044222539229672,
          0.39372325249643364,
          0.6540656205420827,
          0.7182596291012838,
          0.4543509272467903,
          0.5399429386590585,
          0.7182596291012838,
          0.8823109843081313,
          0.5078459343794579,
          0.6825962910128388,
          0.5827389443651926,
          0.4579172610556348,
          0.42938659058487877,
          0.5898716119828816,
          0.5292439372325249,
          0.3437945791726106,
          0.36875891583452214,
          0.5399429386590585,
          0.5827389443651926,
          0.2867332382310984,
          0.43295292439372324,
          0.572039942938659,
          0.5613409415121255,
          0.5042796005706134,
          0.557774607703281,
          0.7004279600570613,
          0.6219686162624821,
          0.7039942938659058,
          0.6504992867332382,
          0.782453637660485,
          0.557774607703281,
          0.6005706134094151,
          0.49358059914407987,
          0.7075606276747504,
          0.7182596291012838,
          0.17261055634807418,
          0.2867332382310984,
          0.12268188302425106,
          0.25106990014265335,
          0.10128388017118402,
          0.05492154065620542,
          0.28530670470756064,
          0.15977175463623394,
          0.16547788873038516,
          0.33666191155492153,
          0.31383737517831667,
          0.4222539229671897,
          0.09415121255349501,
          0.1383737517831669,
          0.5042796005706134,
          0.43366619115549215,
          0.10699001426533523,
          0.08131241084165478,
          0.15834522111269614,
          0.33666191155492153,
          0.13195435092724678,
          0,
          0.31098430813124106,
          0.25106990014265335,
          0.16904422253922968,
          0.17261055634807418,
          0.12268188302425106,
          0.15477888730385164,
          0.20256776034236804,
          0.2867332382310984,
          0.24750356633380885,
          0.14407988587731813,
          0.12268188302425106,
          0.15477888730385164,
          0.008559201141226819,
          0.04778887303851641,
          0.47004279600570614,
          0.24750356633380885,
          0.10699001426533523,
          0.2724679029957204,
          0.0912981455064194,
          0.30813124108416545,
          0.20256776034236804,
          0.11412268188302425,
          0.09771754636233952,
          0.2810271041369472,
          0.026390870185449358,
          0.16547788873038516,
          0.14978601997146934,
          0.024251069900142655,
          0.2867332382310984,
          0.20256776034236804,
          0.033523537803138374,
          0.2346647646219686,
          0.11126961483594865,
          0.07631954350927246,
          0.0920114122681883,
          0.15477888730385164,
          0.04778887303851641,
          0.06704707560627675,
          0.20399429386590584,
          0.24750356633380885,
          0.13338088445078458,
          0.062054208273894434,
          0.07275320970042796,
          0.07275320970042796,
          0.07132667617689016,
          0.052781740370898715,
          0.1340941512125535,
          0.0456490727532097,
          0.21540656205420827,
          0.25106990014265335,
          0.1797432239657632,
          0.20114122681883023,
          0.2296718972895863,
          0.2653352353780314,
          0.29743223965763194,
          0.3152639087018545,
          0.16904422253922968,
          0.21540656205420827,
          0.2225392296718973,
          0.2296718972895863,
          0.35805991440798857,
          0.17261055634807418,
          0.19400855920114124,
          0.4115549215406562,
          0.39372325249643364,
          0.09771754636233952,
          0.24750356633380885,
          0.2653352353780314,
          0.19400855920114124,
          0.15834522111269614,
          0.14407988587731813,
          0.10485021398002853,
          0.2831669044222539,
          0.2582025677603424,
          0.318830242510699,
          0.14407988587731813,
          0.42938659058487877,
          0.2724679029957204,
          0.24393723252496433,
          0.17261055634807418,
          0.2867332382310984,
          0.20827389443651925,
          0.2831669044222539,
          0.24037089871611983,
          0.17261055634807418,
          0.29743223965763194,
          0.29029957203994294,
          0.33666191155492153,
          0.25106990014265335,
          0.16547788873038516,
          0.1369472182596291,
          0.2724679029957204,
          0.32952924393723254,
          0.33666191155492153,
          0.39728958630527816,
          0.4008559201141227,
          0.20114122681883023
         ]
        }
       ],
       "layout": {
        "template": {
         "data": {
          "bar": [
           {
            "error_x": {
             "color": "#2a3f5f"
            },
            "error_y": {
             "color": "#2a3f5f"
            },
            "marker": {
             "line": {
              "color": "#E5ECF6",
              "width": 0.5
             },
             "pattern": {
              "fillmode": "overlay",
              "size": 10,
              "solidity": 0.2
             }
            },
            "type": "bar"
           }
          ],
          "barpolar": [
           {
            "marker": {
             "line": {
              "color": "#E5ECF6",
              "width": 0.5
             },
             "pattern": {
              "fillmode": "overlay",
              "size": 10,
              "solidity": 0.2
             }
            },
            "type": "barpolar"
           }
          ],
          "carpet": [
           {
            "aaxis": {
             "endlinecolor": "#2a3f5f",
             "gridcolor": "white",
             "linecolor": "white",
             "minorgridcolor": "white",
             "startlinecolor": "#2a3f5f"
            },
            "baxis": {
             "endlinecolor": "#2a3f5f",
             "gridcolor": "white",
             "linecolor": "white",
             "minorgridcolor": "white",
             "startlinecolor": "#2a3f5f"
            },
            "type": "carpet"
           }
          ],
          "choropleth": [
           {
            "colorbar": {
             "outlinewidth": 0,
             "ticks": ""
            },
            "type": "choropleth"
           }
          ],
          "contour": [
           {
            "colorbar": {
             "outlinewidth": 0,
             "ticks": ""
            },
            "colorscale": [
             [
              0,
              "#0d0887"
             ],
             [
              0.1111111111111111,
              "#46039f"
             ],
             [
              0.2222222222222222,
              "#7201a8"
             ],
             [
              0.3333333333333333,
              "#9c179e"
             ],
             [
              0.4444444444444444,
              "#bd3786"
             ],
             [
              0.5555555555555556,
              "#d8576b"
             ],
             [
              0.6666666666666666,
              "#ed7953"
             ],
             [
              0.7777777777777778,
              "#fb9f3a"
             ],
             [
              0.8888888888888888,
              "#fdca26"
             ],
             [
              1,
              "#f0f921"
             ]
            ],
            "type": "contour"
           }
          ],
          "contourcarpet": [
           {
            "colorbar": {
             "outlinewidth": 0,
             "ticks": ""
            },
            "type": "contourcarpet"
           }
          ],
          "heatmap": [
           {
            "colorbar": {
             "outlinewidth": 0,
             "ticks": ""
            },
            "colorscale": [
             [
              0,
              "#0d0887"
             ],
             [
              0.1111111111111111,
              "#46039f"
             ],
             [
              0.2222222222222222,
              "#7201a8"
             ],
             [
              0.3333333333333333,
              "#9c179e"
             ],
             [
              0.4444444444444444,
              "#bd3786"
             ],
             [
              0.5555555555555556,
              "#d8576b"
             ],
             [
              0.6666666666666666,
              "#ed7953"
             ],
             [
              0.7777777777777778,
              "#fb9f3a"
             ],
             [
              0.8888888888888888,
              "#fdca26"
             ],
             [
              1,
              "#f0f921"
             ]
            ],
            "type": "heatmap"
           }
          ],
          "heatmapgl": [
           {
            "colorbar": {
             "outlinewidth": 0,
             "ticks": ""
            },
            "colorscale": [
             [
              0,
              "#0d0887"
             ],
             [
              0.1111111111111111,
              "#46039f"
             ],
             [
              0.2222222222222222,
              "#7201a8"
             ],
             [
              0.3333333333333333,
              "#9c179e"
             ],
             [
              0.4444444444444444,
              "#bd3786"
             ],
             [
              0.5555555555555556,
              "#d8576b"
             ],
             [
              0.6666666666666666,
              "#ed7953"
             ],
             [
              0.7777777777777778,
              "#fb9f3a"
             ],
             [
              0.8888888888888888,
              "#fdca26"
             ],
             [
              1,
              "#f0f921"
             ]
            ],
            "type": "heatmapgl"
           }
          ],
          "histogram": [
           {
            "marker": {
             "pattern": {
              "fillmode": "overlay",
              "size": 10,
              "solidity": 0.2
             }
            },
            "type": "histogram"
           }
          ],
          "histogram2d": [
           {
            "colorbar": {
             "outlinewidth": 0,
             "ticks": ""
            },
            "colorscale": [
             [
              0,
              "#0d0887"
             ],
             [
              0.1111111111111111,
              "#46039f"
             ],
             [
              0.2222222222222222,
              "#7201a8"
             ],
             [
              0.3333333333333333,
              "#9c179e"
             ],
             [
              0.4444444444444444,
              "#bd3786"
             ],
             [
              0.5555555555555556,
              "#d8576b"
             ],
             [
              0.6666666666666666,
              "#ed7953"
             ],
             [
              0.7777777777777778,
              "#fb9f3a"
             ],
             [
              0.8888888888888888,
              "#fdca26"
             ],
             [
              1,
              "#f0f921"
             ]
            ],
            "type": "histogram2d"
           }
          ],
          "histogram2dcontour": [
           {
            "colorbar": {
             "outlinewidth": 0,
             "ticks": ""
            },
            "colorscale": [
             [
              0,
              "#0d0887"
             ],
             [
              0.1111111111111111,
              "#46039f"
             ],
             [
              0.2222222222222222,
              "#7201a8"
             ],
             [
              0.3333333333333333,
              "#9c179e"
             ],
             [
              0.4444444444444444,
              "#bd3786"
             ],
             [
              0.5555555555555556,
              "#d8576b"
             ],
             [
              0.6666666666666666,
              "#ed7953"
             ],
             [
              0.7777777777777778,
              "#fb9f3a"
             ],
             [
              0.8888888888888888,
              "#fdca26"
             ],
             [
              1,
              "#f0f921"
             ]
            ],
            "type": "histogram2dcontour"
           }
          ],
          "mesh3d": [
           {
            "colorbar": {
             "outlinewidth": 0,
             "ticks": ""
            },
            "type": "mesh3d"
           }
          ],
          "parcoords": [
           {
            "line": {
             "colorbar": {
              "outlinewidth": 0,
              "ticks": ""
             }
            },
            "type": "parcoords"
           }
          ],
          "pie": [
           {
            "automargin": true,
            "type": "pie"
           }
          ],
          "scatter": [
           {
            "marker": {
             "colorbar": {
              "outlinewidth": 0,
              "ticks": ""
             }
            },
            "type": "scatter"
           }
          ],
          "scatter3d": [
           {
            "line": {
             "colorbar": {
              "outlinewidth": 0,
              "ticks": ""
             }
            },
            "marker": {
             "colorbar": {
              "outlinewidth": 0,
              "ticks": ""
             }
            },
            "type": "scatter3d"
           }
          ],
          "scattercarpet": [
           {
            "marker": {
             "colorbar": {
              "outlinewidth": 0,
              "ticks": ""
             }
            },
            "type": "scattercarpet"
           }
          ],
          "scattergeo": [
           {
            "marker": {
             "colorbar": {
              "outlinewidth": 0,
              "ticks": ""
             }
            },
            "type": "scattergeo"
           }
          ],
          "scattergl": [
           {
            "marker": {
             "colorbar": {
              "outlinewidth": 0,
              "ticks": ""
             }
            },
            "type": "scattergl"
           }
          ],
          "scattermapbox": [
           {
            "marker": {
             "colorbar": {
              "outlinewidth": 0,
              "ticks": ""
             }
            },
            "type": "scattermapbox"
           }
          ],
          "scatterpolar": [
           {
            "marker": {
             "colorbar": {
              "outlinewidth": 0,
              "ticks": ""
             }
            },
            "type": "scatterpolar"
           }
          ],
          "scatterpolargl": [
           {
            "marker": {
             "colorbar": {
              "outlinewidth": 0,
              "ticks": ""
             }
            },
            "type": "scatterpolargl"
           }
          ],
          "scatterternary": [
           {
            "marker": {
             "colorbar": {
              "outlinewidth": 0,
              "ticks": ""
             }
            },
            "type": "scatterternary"
           }
          ],
          "surface": [
           {
            "colorbar": {
             "outlinewidth": 0,
             "ticks": ""
            },
            "colorscale": [
             [
              0,
              "#0d0887"
             ],
             [
              0.1111111111111111,
              "#46039f"
             ],
             [
              0.2222222222222222,
              "#7201a8"
             ],
             [
              0.3333333333333333,
              "#9c179e"
             ],
             [
              0.4444444444444444,
              "#bd3786"
             ],
             [
              0.5555555555555556,
              "#d8576b"
             ],
             [
              0.6666666666666666,
              "#ed7953"
             ],
             [
              0.7777777777777778,
              "#fb9f3a"
             ],
             [
              0.8888888888888888,
              "#fdca26"
             ],
             [
              1,
              "#f0f921"
             ]
            ],
            "type": "surface"
           }
          ],
          "table": [
           {
            "cells": {
             "fill": {
              "color": "#EBF0F8"
             },
             "line": {
              "color": "white"
             }
            },
            "header": {
             "fill": {
              "color": "#C8D4E3"
             },
             "line": {
              "color": "white"
             }
            },
            "type": "table"
           }
          ]
         },
         "layout": {
          "annotationdefaults": {
           "arrowcolor": "#2a3f5f",
           "arrowhead": 0,
           "arrowwidth": 1
          },
          "autotypenumbers": "strict",
          "coloraxis": {
           "colorbar": {
            "outlinewidth": 0,
            "ticks": ""
           }
          },
          "colorscale": {
           "diverging": [
            [
             0,
             "#8e0152"
            ],
            [
             0.1,
             "#c51b7d"
            ],
            [
             0.2,
             "#de77ae"
            ],
            [
             0.3,
             "#f1b6da"
            ],
            [
             0.4,
             "#fde0ef"
            ],
            [
             0.5,
             "#f7f7f7"
            ],
            [
             0.6,
             "#e6f5d0"
            ],
            [
             0.7,
             "#b8e186"
            ],
            [
             0.8,
             "#7fbc41"
            ],
            [
             0.9,
             "#4d9221"
            ],
            [
             1,
             "#276419"
            ]
           ],
           "sequential": [
            [
             0,
             "#0d0887"
            ],
            [
             0.1111111111111111,
             "#46039f"
            ],
            [
             0.2222222222222222,
             "#7201a8"
            ],
            [
             0.3333333333333333,
             "#9c179e"
            ],
            [
             0.4444444444444444,
             "#bd3786"
            ],
            [
             0.5555555555555556,
             "#d8576b"
            ],
            [
             0.6666666666666666,
             "#ed7953"
            ],
            [
             0.7777777777777778,
             "#fb9f3a"
            ],
            [
             0.8888888888888888,
             "#fdca26"
            ],
            [
             1,
             "#f0f921"
            ]
           ],
           "sequentialminus": [
            [
             0,
             "#0d0887"
            ],
            [
             0.1111111111111111,
             "#46039f"
            ],
            [
             0.2222222222222222,
             "#7201a8"
            ],
            [
             0.3333333333333333,
             "#9c179e"
            ],
            [
             0.4444444444444444,
             "#bd3786"
            ],
            [
             0.5555555555555556,
             "#d8576b"
            ],
            [
             0.6666666666666666,
             "#ed7953"
            ],
            [
             0.7777777777777778,
             "#fb9f3a"
            ],
            [
             0.8888888888888888,
             "#fdca26"
            ],
            [
             1,
             "#f0f921"
            ]
           ]
          },
          "colorway": [
           "#636efa",
           "#EF553B",
           "#00cc96",
           "#ab63fa",
           "#FFA15A",
           "#19d3f3",
           "#FF6692",
           "#B6E880",
           "#FF97FF",
           "#FECB52"
          ],
          "font": {
           "color": "#2a3f5f"
          },
          "geo": {
           "bgcolor": "white",
           "lakecolor": "white",
           "landcolor": "#E5ECF6",
           "showlakes": true,
           "showland": true,
           "subunitcolor": "white"
          },
          "hoverlabel": {
           "align": "left"
          },
          "hovermode": "closest",
          "mapbox": {
           "style": "light"
          },
          "paper_bgcolor": "white",
          "plot_bgcolor": "#E5ECF6",
          "polar": {
           "angularaxis": {
            "gridcolor": "white",
            "linecolor": "white",
            "ticks": ""
           },
           "bgcolor": "#E5ECF6",
           "radialaxis": {
            "gridcolor": "white",
            "linecolor": "white",
            "ticks": ""
           }
          },
          "scene": {
           "xaxis": {
            "backgroundcolor": "#E5ECF6",
            "gridcolor": "white",
            "gridwidth": 2,
            "linecolor": "white",
            "showbackground": true,
            "ticks": "",
            "zerolinecolor": "white"
           },
           "yaxis": {
            "backgroundcolor": "#E5ECF6",
            "gridcolor": "white",
            "gridwidth": 2,
            "linecolor": "white",
            "showbackground": true,
            "ticks": "",
            "zerolinecolor": "white"
           },
           "zaxis": {
            "backgroundcolor": "#E5ECF6",
            "gridcolor": "white",
            "gridwidth": 2,
            "linecolor": "white",
            "showbackground": true,
            "ticks": "",
            "zerolinecolor": "white"
           }
          },
          "shapedefaults": {
           "line": {
            "color": "#2a3f5f"
           }
          },
          "ternary": {
           "aaxis": {
            "gridcolor": "white",
            "linecolor": "white",
            "ticks": ""
           },
           "baxis": {
            "gridcolor": "white",
            "linecolor": "white",
            "ticks": ""
           },
           "bgcolor": "#E5ECF6",
           "caxis": {
            "gridcolor": "white",
            "linecolor": "white",
            "ticks": ""
           }
          },
          "title": {
           "x": 0.05
          },
          "xaxis": {
           "automargin": true,
           "gridcolor": "white",
           "linecolor": "white",
           "ticks": "",
           "title": {
            "standoff": 15
           },
           "zerolinecolor": "white",
           "zerolinewidth": 2
          },
          "yaxis": {
           "automargin": true,
           "gridcolor": "white",
           "linecolor": "white",
           "ticks": "",
           "title": {
            "standoff": 15
           },
           "zerolinecolor": "white",
           "zerolinewidth": 2
          }
         }
        }
       }
      },
      "text/html": [
       "<div>                            <div id=\"64ea83e2-6fb9-4255-868f-dc581cb3b1f2\" class=\"plotly-graph-div\" style=\"height:525px; width:100%;\"></div>            <script type=\"text/javascript\">                require([\"plotly\"], function(Plotly) {                    window.PLOTLYENV=window.PLOTLYENV || {};                                    if (document.getElementById(\"64ea83e2-6fb9-4255-868f-dc581cb3b1f2\")) {                    Plotly.newPlot(                        \"64ea83e2-6fb9-4255-868f-dc581cb3b1f2\",                        [{\"marker\":{\"color\":[1.0,1.0,1.0,1.0,1.0,1.0,1.0,1.0,1.0,1.0,1.0,1.0,1.0,1.0,1.0,1.0,1.0,1.0,1.0,1.0,1.0,1.0,1.0,1.0,1.0,1.0,1.0,1.0,1.0,1.0,1.0,1.0,1.0,1.0,1.0,1.0,1.0,1.0,1.0,1.0,1.0,1.0,1.0,1.0,1.0,1.0,1.0,1.0,1.0,1.0,1.0,1.0,1.0,1.0,1.0,1.0,1.0,1.0,1.0,4.0,4.0,4.0,4.0,2.0,4.0,2.0,2.0,2.0,4.0,2.0,4.0,2.0,2.0,2.0,2.0,4.0,2.0,4.0,2.0,2.0,2.0,2.0,4.0,4.0,2.0,2.0,4.0,4.0,4.0,4.0,4.0,4.0,4.0,2.0,2.0,2.0,2.0,2.0,2.0,2.0,2.0,4.0,2.0,4.0,2.0,4.0,4.0,4.0,2.0,2.0,2.0,2.0,4.0,4.0,4.0,4.0,2.0,2.0,4.0,2.0,2.0,2.0,2.0,2.0,2.0,2.0,2.0,4.0,2.0,4.0,0.0,0.0,0.0,0.0,3.0,3.0,3.0,3.0,3.0,3.0,3.0,3.0,3.0,3.0,0.0,3.0,3.0,3.0,3.0,0.0,0.0,0.0,0.0,3.0,3.0,3.0,3.0,3.0,3.0,3.0,3.0,3.0,3.0,3.0,3.0,3.0,0.0,3.0,0.0,0.0,3.0,3.0,3.0,3.0,3.0,0.0,3.0,3.0]},\"mode\":\"markers\",\"text\":[1.0,1.0,1.0,1.0,1.0,1.0,1.0,1.0,1.0,1.0,1.0,1.0,1.0,1.0,1.0,1.0,1.0,1.0,1.0,1.0,1.0,1.0,1.0,1.0,1.0,1.0,1.0,1.0,1.0,1.0,1.0,1.0,1.0,1.0,1.0,1.0,1.0,1.0,1.0,1.0,1.0,1.0,1.0,1.0,1.0,1.0,1.0,1.0,1.0,1.0,1.0,1.0,1.0,1.0,1.0,1.0,1.0,1.0,1.0,4.0,4.0,4.0,4.0,2.0,4.0,2.0,2.0,2.0,4.0,2.0,4.0,2.0,2.0,2.0,2.0,4.0,2.0,4.0,2.0,2.0,2.0,2.0,4.0,4.0,2.0,2.0,4.0,4.0,4.0,4.0,4.0,4.0,4.0,2.0,2.0,2.0,2.0,2.0,2.0,2.0,2.0,4.0,2.0,4.0,2.0,4.0,4.0,4.0,2.0,2.0,2.0,2.0,4.0,4.0,4.0,4.0,2.0,2.0,4.0,2.0,2.0,2.0,2.0,2.0,2.0,2.0,2.0,4.0,2.0,4.0,0.0,0.0,0.0,0.0,3.0,3.0,3.0,3.0,3.0,3.0,3.0,3.0,3.0,3.0,0.0,3.0,3.0,3.0,3.0,0.0,0.0,0.0,0.0,3.0,3.0,3.0,3.0,3.0,3.0,3.0,3.0,3.0,3.0,3.0,3.0,3.0,0.0,3.0,0.0,0.0,3.0,3.0,3.0,3.0,3.0,0.0,3.0,3.0],\"type\":\"scatter3d\",\"x\":[0.37201365187713303,0.26450511945392485,0.3754266211604095,0.5563139931740614,0.2593856655290102,0.46672354948805456,0.3387372013651877,0.3216723549488054,0.33447098976109213,0.5068259385665528,0.3813993174061433,0.31740614334470985,0.3686006825938566,0.3515358361774744,0.530716723549488,0.5136518771331058,0.4197952218430034,0.45392491467576784,0.6331058020477814,0.32593856655290093,0.3728668941979522,0.27474402730375425,0.21501706484641633,0.22610921501706485,0.19112627986348124,0.19624573378839588,0.3003412969283276,0.22781569965870305,0.27474402730375425,0.2918088737201365,0.37713310580204773,0.47952218430034127,0.21843003412969278,0.3515358361774744,0.24914675767918087,0.32593856655290093,0.28327645051194533,0.2534129692832764,0.20648464163822525,0.32593856655290093,0.41382252559726956,0.25597269624573377,0.3540955631399317,0.26279863481228666,0.3208191126279863,0.3378839590443686,0.30887372013651876,0.4112627986348122,0.4197952218430034,0.6501706484641638,0.5051194539249146,0.3686006825938566,0.4923208191126279,0.42832764505119447,0.3899317406143344,0.42406143344709896,0.43515358361774736,0.4027303754266211,0.4709897610921501,0.057167235494880536,0.1697952218430034,0.3813993174061433,0.21501706484641633,0.2704778156996587,0.14249146757679182,0.28327645051194533,0.3430034129692832,0.2901023890784982,0.16126279863481227,0.13395904436860068,0.1510238907849829,0.17918088737201363,0.2098976109215017,0.17662116040955633,0.16467576791808872,0.21501706484641633,0.28327645051194533,0.11689419795221842,0.18088737201365188,0.1100682593856655,0.10409556313993173,0.2235494880546075,0.07849829351535836,0.3003412969283276,0.1510238907849829,0.11433447098976109,0.09982935153583619,0.11262798634812286,0.1296928327645051,0.039249146757679175,0.09556313993174059,0.19795221843003413,0.1510238907849829,0.07423208191126278,0.16808873720136516,0.11262798634812286,0.10409556313993173,0.13822525597269622,0.27474402730375425,0.08703071672354946,0.1723549488054607,0.09982935153583619,0.1296928327645051,0.06655290102389079,0.1416382252559727,0.121160409556314,0.18088737201365188,0.1723549488054607,0.121160409556314,0.11689419795221842,0.13822525597269622,0.0614334470989761,0.21501706484641633,0.15358361774744028,0.13822525597269622,0.05290102389078497,0.057167235494880536,0.06655290102389079,0.18088737201365188,0.0,0.16808873720136516,0.4027303754266211,0.06825938566552901,0.11262798634812286,0.1296928327645051,0.12627986348122863,0.22696245733788395,0.14675767918088736,0.07167235494880546,0.11262798634812286,0.2406143344709897,0.3515358361774744,0.37713310580204773,0.31740614334470985,0.35580204778156993,0.49658703071672344,0.21928327645051196,0.31740614334470985,0.37713310580204773,0.31058020477815695,0.28327645051194533,0.3686006825938566,0.26194539249146753,0.26621160409556316,0.591296928327645,0.2320819112627986,0.30887372013651876,0.5435153583617747,0.6092150170648464,0.6928327645051195,0.6245733788395904,0.8122866894197953,0.49658703071672344,0.78839590443686,0.5392491467576791,0.5648464163822525,0.6595563139931739,0.530716723549488,1.0,0.893344709897611,0.5435153583617747,0.39249146757679176,0.3668941979522184,0.341296928327645,0.7081911262798635,0.4556313993174061,0.8020477815699658,0.7662116040955631,0.629692832764505,0.6160409556313993,0.3600682593856655,0.7354947952218429,0.7184300341296928,0.5477815699658702,0.5136518771331058,0.7610921501706485,0.6843003412969284,0.675767918088737],\"y\":[0.8421052631578949,0.5710526315789473,0.5605263157894738,0.8789473684210525,0.5815789473684212,0.8342105263157893,0.8842105263157897,0.7973684210526317,1.0,0.744736842105263,0.8078947368421052,0.813157894736842,0.7157894736842105,0.9789473684210526,0.8815789473684212,0.6842105263157897,0.8605263157894739,0.736842105263158,0.831578947368421,0.686842105263158,0.7973684210526317,0.5,0.7052631578947371,0.4789473684210526,0.65,0.5315789473684213,0.6210526315789475,0.5973684210526318,0.7473684210526313,0.7868421052631578,0.7105263157894738,0.6710526315789475,0.6973684210526315,0.718421052631579,0.6526315789473685,0.6447368421052633,0.5921052631578946,0.5315789473684213,0.536842105263158,0.8394736842105265,0.6657894736842107,0.6263157894736843,0.7500000000000002,0.5815789473684212,0.5315789473684213,0.8368421052631582,0.8815789473684212,0.755263157894737,0.8078947368421052,0.7657894736842105,0.5315789473684213,0.736842105263158,0.7342105263157895,0.7210526315789473,0.7131578947368422,0.6657894736842107,0.8394736842105265,0.594736842105263,0.7078947368421055,0.3526315789473683,0.34210526315789486,0.42368421052631605,0.6947368421052632,0.3526315789473683,0.3000000000000001,0.3526315789473683,0.5473684210526315,0.3526315789473683,0.6078947368421053,0.31052631578947404,0.3315789473684209,0.744736842105263,0.6473684210526317,0.5157894736842107,0.2447368421052635,0.1657894736842107,0.5263157894736841,0.21315789473684219,0.34210526315789486,0.43947368421052624,0.25526315789473697,0.44473684210526343,0.27631578947368435,0.5315789473684213,0.21315789473684219,0.4315789473684211,0.2973684210526317,0.16315789473684233,0.16052631578947396,0.27631578947368435,0.27631578947368435,0.25526315789473697,0.43684210526315786,0.3315789473684209,0.15526315789473677,0.3789473684210529,0.2052631578947371,0.3315789473684209,0.3526315789473683,0.3315789473684209,0.27631578947368435,0.4131578947368421,0.34473684210526323,0.20789473684210547,0.38947368421052636,0.3657894736842106,0.3210526315789475,0.44473684210526343,0.31315789473684236,0.15263157894736842,0.11315789473684247,0.39210526315789473,0.1921052631578948,0.10000000000000019,0.27631578947368435,0.0,0.20789473684210547,0.3657894736842106,0.45789473684210524,0.25526315789473697,0.11052631578947364,0.13947368421052658,0.3657894736842106,0.5315789473684213,0.22105263157894728,0.273684210526316,0.368421052631579,0.1999999999999999,0.3526315789473683,0.2657894736842104,0.481578947368421,0.4868421052631582,0.4684210526315792,0.43947368421052624,0.38947368421052636,0.4131578947368421,0.3210526315789475,0.3947368421052631,0.6473684210526317,0.47631578947368425,0.5,0.613157894736842,0.6552631578947368,0.6815789473684208,0.3210526315789475,0.5605263157894738,0.7500000000000002,0.48421052631578937,0.6026315789473685,0.5394736842105264,0.65,0.46315789473684194,0.5473684210526315,0.5789473684210528,0.40789473684210537,0.5631578947368422,0.7394736842105263,0.3736842105263157,0.8710526315789473,0.6447368421052633,0.35,0.7,0.4789473684210526,0.5078947368421055,0.7236842105263157,0.7105263157894738,0.6368421052631578,0.4710526315789475,0.6710526315789475,0.623684210526316,0.30789473684210517,0.45789473684210524,0.8236842105263158,0.7052631578947371,0.623684210526316,0.5894736842105263,0.5631578947368422,0.8157894736842107],\"z\":[0.5613409415121255,0.550641940085592,0.6469329529243937,0.8573466476462197,0.325962910128388,0.8359486447931527,0.7218259629101283,0.7253922967189729,0.5470756062767475,0.5470756062767475,0.8787446504992867,0.7146932952924394,0.7432239657631954,0.6219686162624821,0.9051355206847361,0.7360912981455064,0.7146932952924394,0.6077032810271041,1.0,0.4044222539229672,0.35805991440798857,0.3509272467902996,0.5399429386590585,0.5256776034236804,0.4044222539229672,0.39372325249643364,0.6540656205420827,0.7182596291012838,0.4543509272467903,0.5399429386590585,0.7182596291012838,0.8823109843081313,0.5078459343794579,0.6825962910128388,0.5827389443651926,0.4579172610556348,0.42938659058487877,0.5898716119828816,0.5292439372325249,0.3437945791726106,0.36875891583452214,0.5399429386590585,0.5827389443651926,0.2867332382310984,0.43295292439372324,0.572039942938659,0.5613409415121255,0.5042796005706134,0.557774607703281,0.7004279600570613,0.6219686162624821,0.7039942938659058,0.6504992867332382,0.782453637660485,0.557774607703281,0.6005706134094151,0.49358059914407987,0.7075606276747504,0.7182596291012838,0.17261055634807418,0.2867332382310984,0.12268188302425106,0.25106990014265335,0.10128388017118402,0.05492154065620542,0.28530670470756064,0.15977175463623394,0.16547788873038516,0.33666191155492153,0.31383737517831667,0.4222539229671897,0.09415121255349501,0.1383737517831669,0.5042796005706134,0.43366619115549215,0.10699001426533523,0.08131241084165478,0.15834522111269614,0.33666191155492153,0.13195435092724678,0.0,0.31098430813124106,0.25106990014265335,0.16904422253922968,0.17261055634807418,0.12268188302425106,0.15477888730385164,0.20256776034236804,0.2867332382310984,0.24750356633380885,0.14407988587731813,0.12268188302425106,0.15477888730385164,0.008559201141226819,0.04778887303851641,0.47004279600570614,0.24750356633380885,0.10699001426533523,0.2724679029957204,0.0912981455064194,0.30813124108416545,0.20256776034236804,0.11412268188302425,0.09771754636233952,0.2810271041369472,0.026390870185449358,0.16547788873038516,0.14978601997146934,0.024251069900142655,0.2867332382310984,0.20256776034236804,0.033523537803138374,0.2346647646219686,0.11126961483594865,0.07631954350927246,0.0920114122681883,0.15477888730385164,0.04778887303851641,0.06704707560627675,0.20399429386590584,0.24750356633380885,0.13338088445078458,0.062054208273894434,0.07275320970042796,0.07275320970042796,0.07132667617689016,0.052781740370898715,0.1340941512125535,0.0456490727532097,0.21540656205420827,0.25106990014265335,0.1797432239657632,0.20114122681883023,0.2296718972895863,0.2653352353780314,0.29743223965763194,0.3152639087018545,0.16904422253922968,0.21540656205420827,0.2225392296718973,0.2296718972895863,0.35805991440798857,0.17261055634807418,0.19400855920114124,0.4115549215406562,0.39372325249643364,0.09771754636233952,0.24750356633380885,0.2653352353780314,0.19400855920114124,0.15834522111269614,0.14407988587731813,0.10485021398002853,0.2831669044222539,0.2582025677603424,0.318830242510699,0.14407988587731813,0.42938659058487877,0.2724679029957204,0.24393723252496433,0.17261055634807418,0.2867332382310984,0.20827389443651925,0.2831669044222539,0.24037089871611983,0.17261055634807418,0.29743223965763194,0.29029957203994294,0.33666191155492153,0.25106990014265335,0.16547788873038516,0.1369472182596291,0.2724679029957204,0.32952924393723254,0.33666191155492153,0.39728958630527816,0.4008559201141227,0.20114122681883023]}],                        {\"template\":{\"data\":{\"bar\":[{\"error_x\":{\"color\":\"#2a3f5f\"},\"error_y\":{\"color\":\"#2a3f5f\"},\"marker\":{\"line\":{\"color\":\"#E5ECF6\",\"width\":0.5},\"pattern\":{\"fillmode\":\"overlay\",\"size\":10,\"solidity\":0.2}},\"type\":\"bar\"}],\"barpolar\":[{\"marker\":{\"line\":{\"color\":\"#E5ECF6\",\"width\":0.5},\"pattern\":{\"fillmode\":\"overlay\",\"size\":10,\"solidity\":0.2}},\"type\":\"barpolar\"}],\"carpet\":[{\"aaxis\":{\"endlinecolor\":\"#2a3f5f\",\"gridcolor\":\"white\",\"linecolor\":\"white\",\"minorgridcolor\":\"white\",\"startlinecolor\":\"#2a3f5f\"},\"baxis\":{\"endlinecolor\":\"#2a3f5f\",\"gridcolor\":\"white\",\"linecolor\":\"white\",\"minorgridcolor\":\"white\",\"startlinecolor\":\"#2a3f5f\"},\"type\":\"carpet\"}],\"choropleth\":[{\"colorbar\":{\"outlinewidth\":0,\"ticks\":\"\"},\"type\":\"choropleth\"}],\"contour\":[{\"colorbar\":{\"outlinewidth\":0,\"ticks\":\"\"},\"colorscale\":[[0.0,\"#0d0887\"],[0.1111111111111111,\"#46039f\"],[0.2222222222222222,\"#7201a8\"],[0.3333333333333333,\"#9c179e\"],[0.4444444444444444,\"#bd3786\"],[0.5555555555555556,\"#d8576b\"],[0.6666666666666666,\"#ed7953\"],[0.7777777777777778,\"#fb9f3a\"],[0.8888888888888888,\"#fdca26\"],[1.0,\"#f0f921\"]],\"type\":\"contour\"}],\"contourcarpet\":[{\"colorbar\":{\"outlinewidth\":0,\"ticks\":\"\"},\"type\":\"contourcarpet\"}],\"heatmap\":[{\"colorbar\":{\"outlinewidth\":0,\"ticks\":\"\"},\"colorscale\":[[0.0,\"#0d0887\"],[0.1111111111111111,\"#46039f\"],[0.2222222222222222,\"#7201a8\"],[0.3333333333333333,\"#9c179e\"],[0.4444444444444444,\"#bd3786\"],[0.5555555555555556,\"#d8576b\"],[0.6666666666666666,\"#ed7953\"],[0.7777777777777778,\"#fb9f3a\"],[0.8888888888888888,\"#fdca26\"],[1.0,\"#f0f921\"]],\"type\":\"heatmap\"}],\"heatmapgl\":[{\"colorbar\":{\"outlinewidth\":0,\"ticks\":\"\"},\"colorscale\":[[0.0,\"#0d0887\"],[0.1111111111111111,\"#46039f\"],[0.2222222222222222,\"#7201a8\"],[0.3333333333333333,\"#9c179e\"],[0.4444444444444444,\"#bd3786\"],[0.5555555555555556,\"#d8576b\"],[0.6666666666666666,\"#ed7953\"],[0.7777777777777778,\"#fb9f3a\"],[0.8888888888888888,\"#fdca26\"],[1.0,\"#f0f921\"]],\"type\":\"heatmapgl\"}],\"histogram\":[{\"marker\":{\"pattern\":{\"fillmode\":\"overlay\",\"size\":10,\"solidity\":0.2}},\"type\":\"histogram\"}],\"histogram2d\":[{\"colorbar\":{\"outlinewidth\":0,\"ticks\":\"\"},\"colorscale\":[[0.0,\"#0d0887\"],[0.1111111111111111,\"#46039f\"],[0.2222222222222222,\"#7201a8\"],[0.3333333333333333,\"#9c179e\"],[0.4444444444444444,\"#bd3786\"],[0.5555555555555556,\"#d8576b\"],[0.6666666666666666,\"#ed7953\"],[0.7777777777777778,\"#fb9f3a\"],[0.8888888888888888,\"#fdca26\"],[1.0,\"#f0f921\"]],\"type\":\"histogram2d\"}],\"histogram2dcontour\":[{\"colorbar\":{\"outlinewidth\":0,\"ticks\":\"\"},\"colorscale\":[[0.0,\"#0d0887\"],[0.1111111111111111,\"#46039f\"],[0.2222222222222222,\"#7201a8\"],[0.3333333333333333,\"#9c179e\"],[0.4444444444444444,\"#bd3786\"],[0.5555555555555556,\"#d8576b\"],[0.6666666666666666,\"#ed7953\"],[0.7777777777777778,\"#fb9f3a\"],[0.8888888888888888,\"#fdca26\"],[1.0,\"#f0f921\"]],\"type\":\"histogram2dcontour\"}],\"mesh3d\":[{\"colorbar\":{\"outlinewidth\":0,\"ticks\":\"\"},\"type\":\"mesh3d\"}],\"parcoords\":[{\"line\":{\"colorbar\":{\"outlinewidth\":0,\"ticks\":\"\"}},\"type\":\"parcoords\"}],\"pie\":[{\"automargin\":true,\"type\":\"pie\"}],\"scatter\":[{\"marker\":{\"colorbar\":{\"outlinewidth\":0,\"ticks\":\"\"}},\"type\":\"scatter\"}],\"scatter3d\":[{\"line\":{\"colorbar\":{\"outlinewidth\":0,\"ticks\":\"\"}},\"marker\":{\"colorbar\":{\"outlinewidth\":0,\"ticks\":\"\"}},\"type\":\"scatter3d\"}],\"scattercarpet\":[{\"marker\":{\"colorbar\":{\"outlinewidth\":0,\"ticks\":\"\"}},\"type\":\"scattercarpet\"}],\"scattergeo\":[{\"marker\":{\"colorbar\":{\"outlinewidth\":0,\"ticks\":\"\"}},\"type\":\"scattergeo\"}],\"scattergl\":[{\"marker\":{\"colorbar\":{\"outlinewidth\":0,\"ticks\":\"\"}},\"type\":\"scattergl\"}],\"scattermapbox\":[{\"marker\":{\"colorbar\":{\"outlinewidth\":0,\"ticks\":\"\"}},\"type\":\"scattermapbox\"}],\"scatterpolar\":[{\"marker\":{\"colorbar\":{\"outlinewidth\":0,\"ticks\":\"\"}},\"type\":\"scatterpolar\"}],\"scatterpolargl\":[{\"marker\":{\"colorbar\":{\"outlinewidth\":0,\"ticks\":\"\"}},\"type\":\"scatterpolargl\"}],\"scatterternary\":[{\"marker\":{\"colorbar\":{\"outlinewidth\":0,\"ticks\":\"\"}},\"type\":\"scatterternary\"}],\"surface\":[{\"colorbar\":{\"outlinewidth\":0,\"ticks\":\"\"},\"colorscale\":[[0.0,\"#0d0887\"],[0.1111111111111111,\"#46039f\"],[0.2222222222222222,\"#7201a8\"],[0.3333333333333333,\"#9c179e\"],[0.4444444444444444,\"#bd3786\"],[0.5555555555555556,\"#d8576b\"],[0.6666666666666666,\"#ed7953\"],[0.7777777777777778,\"#fb9f3a\"],[0.8888888888888888,\"#fdca26\"],[1.0,\"#f0f921\"]],\"type\":\"surface\"}],\"table\":[{\"cells\":{\"fill\":{\"color\":\"#EBF0F8\"},\"line\":{\"color\":\"white\"}},\"header\":{\"fill\":{\"color\":\"#C8D4E3\"},\"line\":{\"color\":\"white\"}},\"type\":\"table\"}]},\"layout\":{\"annotationdefaults\":{\"arrowcolor\":\"#2a3f5f\",\"arrowhead\":0,\"arrowwidth\":1},\"autotypenumbers\":\"strict\",\"coloraxis\":{\"colorbar\":{\"outlinewidth\":0,\"ticks\":\"\"}},\"colorscale\":{\"diverging\":[[0,\"#8e0152\"],[0.1,\"#c51b7d\"],[0.2,\"#de77ae\"],[0.3,\"#f1b6da\"],[0.4,\"#fde0ef\"],[0.5,\"#f7f7f7\"],[0.6,\"#e6f5d0\"],[0.7,\"#b8e186\"],[0.8,\"#7fbc41\"],[0.9,\"#4d9221\"],[1,\"#276419\"]],\"sequential\":[[0.0,\"#0d0887\"],[0.1111111111111111,\"#46039f\"],[0.2222222222222222,\"#7201a8\"],[0.3333333333333333,\"#9c179e\"],[0.4444444444444444,\"#bd3786\"],[0.5555555555555556,\"#d8576b\"],[0.6666666666666666,\"#ed7953\"],[0.7777777777777778,\"#fb9f3a\"],[0.8888888888888888,\"#fdca26\"],[1.0,\"#f0f921\"]],\"sequentialminus\":[[0.0,\"#0d0887\"],[0.1111111111111111,\"#46039f\"],[0.2222222222222222,\"#7201a8\"],[0.3333333333333333,\"#9c179e\"],[0.4444444444444444,\"#bd3786\"],[0.5555555555555556,\"#d8576b\"],[0.6666666666666666,\"#ed7953\"],[0.7777777777777778,\"#fb9f3a\"],[0.8888888888888888,\"#fdca26\"],[1.0,\"#f0f921\"]]},\"colorway\":[\"#636efa\",\"#EF553B\",\"#00cc96\",\"#ab63fa\",\"#FFA15A\",\"#19d3f3\",\"#FF6692\",\"#B6E880\",\"#FF97FF\",\"#FECB52\"],\"font\":{\"color\":\"#2a3f5f\"},\"geo\":{\"bgcolor\":\"white\",\"lakecolor\":\"white\",\"landcolor\":\"#E5ECF6\",\"showlakes\":true,\"showland\":true,\"subunitcolor\":\"white\"},\"hoverlabel\":{\"align\":\"left\"},\"hovermode\":\"closest\",\"mapbox\":{\"style\":\"light\"},\"paper_bgcolor\":\"white\",\"plot_bgcolor\":\"#E5ECF6\",\"polar\":{\"angularaxis\":{\"gridcolor\":\"white\",\"linecolor\":\"white\",\"ticks\":\"\"},\"bgcolor\":\"#E5ECF6\",\"radialaxis\":{\"gridcolor\":\"white\",\"linecolor\":\"white\",\"ticks\":\"\"}},\"scene\":{\"xaxis\":{\"backgroundcolor\":\"#E5ECF6\",\"gridcolor\":\"white\",\"gridwidth\":2,\"linecolor\":\"white\",\"showbackground\":true,\"ticks\":\"\",\"zerolinecolor\":\"white\"},\"yaxis\":{\"backgroundcolor\":\"#E5ECF6\",\"gridcolor\":\"white\",\"gridwidth\":2,\"linecolor\":\"white\",\"showbackground\":true,\"ticks\":\"\",\"zerolinecolor\":\"white\"},\"zaxis\":{\"backgroundcolor\":\"#E5ECF6\",\"gridcolor\":\"white\",\"gridwidth\":2,\"linecolor\":\"white\",\"showbackground\":true,\"ticks\":\"\",\"zerolinecolor\":\"white\"}},\"shapedefaults\":{\"line\":{\"color\":\"#2a3f5f\"}},\"ternary\":{\"aaxis\":{\"gridcolor\":\"white\",\"linecolor\":\"white\",\"ticks\":\"\"},\"baxis\":{\"gridcolor\":\"white\",\"linecolor\":\"white\",\"ticks\":\"\"},\"bgcolor\":\"#E5ECF6\",\"caxis\":{\"gridcolor\":\"white\",\"linecolor\":\"white\",\"ticks\":\"\"}},\"title\":{\"x\":0.05},\"xaxis\":{\"automargin\":true,\"gridcolor\":\"white\",\"linecolor\":\"white\",\"ticks\":\"\",\"title\":{\"standoff\":15},\"zerolinecolor\":\"white\",\"zerolinewidth\":2},\"yaxis\":{\"automargin\":true,\"gridcolor\":\"white\",\"linecolor\":\"white\",\"ticks\":\"\",\"title\":{\"standoff\":15},\"zerolinecolor\":\"white\",\"zerolinewidth\":2}}}},                        {\"responsive\": true}                    ).then(function(){\n",
       "                            \n",
       "var gd = document.getElementById('64ea83e2-6fb9-4255-868f-dc581cb3b1f2');\n",
       "var x = new MutationObserver(function (mutations, observer) {{\n",
       "        var display = window.getComputedStyle(gd).display;\n",
       "        if (!display || display === 'none') {{\n",
       "            console.log([gd, 'removed!']);\n",
       "            Plotly.purge(gd);\n",
       "            observer.disconnect();\n",
       "        }}\n",
       "}});\n",
       "\n",
       "// Listen for the removal of the full notebook cells\n",
       "var notebookContainer = gd.closest('#notebook-container');\n",
       "if (notebookContainer) {{\n",
       "    x.observe(notebookContainer, {childList: true});\n",
       "}}\n",
       "\n",
       "// Listen for the clearing of the current output cell\n",
       "var outputEl = gd.closest('.output');\n",
       "if (outputEl) {{\n",
       "    x.observe(outputEl, {childList: true});\n",
       "}}\n",
       "\n",
       "                        })                };                });            </script>        </div>"
      ]
     },
     "metadata": {},
     "output_type": "display_data"
    }
   ],
   "source": [
    "fig = go.Figure()\n",
    "fig.add_trace(go.Scatter3d(x = dados['Intensidade_cor'], \n",
    "                           y = dados['Alcool'],\n",
    "                           z = dados['Proline'],\n",
    "                           mode = 'markers',\n",
    "                           marker = dict(color = labels.astype(float) ),\n",
    "                           text = labels))\n",
    "fig.show()"
   ]
  },
  {
   "cell_type": "markdown",
   "id": "c07263c1",
   "metadata": {},
   "source": [
    "Vemos pontos de cores iguais que estao mais proximos de outras cores, possivelmente pertencem ao grupo erraod. Nisso vamos avaliar com novo modelo"
   ]
  },
  {
   "cell_type": "code",
   "execution_count": 183,
   "id": "b0e2a0b7",
   "metadata": {},
   "outputs": [],
   "source": [
    "#importando a bilbioteca\n",
    "from sklearn.metrics import silhouette_score"
   ]
  },
  {
   "cell_type": "code",
   "execution_count": 184,
   "id": "c817b34a",
   "metadata": {},
   "outputs": [
    {
     "name": "stdout",
     "output_type": "stream",
     "text": [
      "[2, 3, 4, 5, 6, 7, 8, 9]\n"
     ]
    }
   ],
   "source": [
    "#criando faixa\n",
    "faixan_n_cluster = [i for i in range(2,10)]\n",
    "print(faixan_n_cluster)"
   ]
  },
  {
   "cell_type": "code",
   "execution_count": 185,
   "id": "68dd2c19",
   "metadata": {},
   "outputs": [],
   "source": [
    "#uma lista para armazenar os valores do modelo\n",
    "valores_silhuetta = []\n",
    "for k in faixan_n_cluster:\n",
    "    agrupador = KMeans(n_clusters = k)\n",
    "    labels = agrupador.fit_predict(dados)\n",
    "    media_silhueta = silhouette_score(dados, labels)\n",
    "    valores_silhuetta.append(media_silhueta) #adicionando os valores para media silhueta\n",
    "    "
   ]
  },
  {
   "cell_type": "code",
   "execution_count": 186,
   "id": "e064854d",
   "metadata": {},
   "outputs": [
    {
     "data": {
      "application/vnd.plotly.v1+json": {
       "config": {
        "plotlyServerURL": "https://plot.ly"
       },
       "data": [
        {
         "type": "scatter",
         "x": [
          2,
          3,
          4,
          5,
          6,
          7,
          8,
          9
         ],
         "y": [
          0.3450438553643068,
          0.36950618492736303,
          0.3045648004609688,
          0.24158590886712497,
          0.24854150969550562,
          0.14796131325651987,
          0.13698833577166894,
          0.14500136559816657
         ]
        }
       ],
       "layout": {
        "template": {
         "data": {
          "bar": [
           {
            "error_x": {
             "color": "#2a3f5f"
            },
            "error_y": {
             "color": "#2a3f5f"
            },
            "marker": {
             "line": {
              "color": "#E5ECF6",
              "width": 0.5
             },
             "pattern": {
              "fillmode": "overlay",
              "size": 10,
              "solidity": 0.2
             }
            },
            "type": "bar"
           }
          ],
          "barpolar": [
           {
            "marker": {
             "line": {
              "color": "#E5ECF6",
              "width": 0.5
             },
             "pattern": {
              "fillmode": "overlay",
              "size": 10,
              "solidity": 0.2
             }
            },
            "type": "barpolar"
           }
          ],
          "carpet": [
           {
            "aaxis": {
             "endlinecolor": "#2a3f5f",
             "gridcolor": "white",
             "linecolor": "white",
             "minorgridcolor": "white",
             "startlinecolor": "#2a3f5f"
            },
            "baxis": {
             "endlinecolor": "#2a3f5f",
             "gridcolor": "white",
             "linecolor": "white",
             "minorgridcolor": "white",
             "startlinecolor": "#2a3f5f"
            },
            "type": "carpet"
           }
          ],
          "choropleth": [
           {
            "colorbar": {
             "outlinewidth": 0,
             "ticks": ""
            },
            "type": "choropleth"
           }
          ],
          "contour": [
           {
            "colorbar": {
             "outlinewidth": 0,
             "ticks": ""
            },
            "colorscale": [
             [
              0,
              "#0d0887"
             ],
             [
              0.1111111111111111,
              "#46039f"
             ],
             [
              0.2222222222222222,
              "#7201a8"
             ],
             [
              0.3333333333333333,
              "#9c179e"
             ],
             [
              0.4444444444444444,
              "#bd3786"
             ],
             [
              0.5555555555555556,
              "#d8576b"
             ],
             [
              0.6666666666666666,
              "#ed7953"
             ],
             [
              0.7777777777777778,
              "#fb9f3a"
             ],
             [
              0.8888888888888888,
              "#fdca26"
             ],
             [
              1,
              "#f0f921"
             ]
            ],
            "type": "contour"
           }
          ],
          "contourcarpet": [
           {
            "colorbar": {
             "outlinewidth": 0,
             "ticks": ""
            },
            "type": "contourcarpet"
           }
          ],
          "heatmap": [
           {
            "colorbar": {
             "outlinewidth": 0,
             "ticks": ""
            },
            "colorscale": [
             [
              0,
              "#0d0887"
             ],
             [
              0.1111111111111111,
              "#46039f"
             ],
             [
              0.2222222222222222,
              "#7201a8"
             ],
             [
              0.3333333333333333,
              "#9c179e"
             ],
             [
              0.4444444444444444,
              "#bd3786"
             ],
             [
              0.5555555555555556,
              "#d8576b"
             ],
             [
              0.6666666666666666,
              "#ed7953"
             ],
             [
              0.7777777777777778,
              "#fb9f3a"
             ],
             [
              0.8888888888888888,
              "#fdca26"
             ],
             [
              1,
              "#f0f921"
             ]
            ],
            "type": "heatmap"
           }
          ],
          "heatmapgl": [
           {
            "colorbar": {
             "outlinewidth": 0,
             "ticks": ""
            },
            "colorscale": [
             [
              0,
              "#0d0887"
             ],
             [
              0.1111111111111111,
              "#46039f"
             ],
             [
              0.2222222222222222,
              "#7201a8"
             ],
             [
              0.3333333333333333,
              "#9c179e"
             ],
             [
              0.4444444444444444,
              "#bd3786"
             ],
             [
              0.5555555555555556,
              "#d8576b"
             ],
             [
              0.6666666666666666,
              "#ed7953"
             ],
             [
              0.7777777777777778,
              "#fb9f3a"
             ],
             [
              0.8888888888888888,
              "#fdca26"
             ],
             [
              1,
              "#f0f921"
             ]
            ],
            "type": "heatmapgl"
           }
          ],
          "histogram": [
           {
            "marker": {
             "pattern": {
              "fillmode": "overlay",
              "size": 10,
              "solidity": 0.2
             }
            },
            "type": "histogram"
           }
          ],
          "histogram2d": [
           {
            "colorbar": {
             "outlinewidth": 0,
             "ticks": ""
            },
            "colorscale": [
             [
              0,
              "#0d0887"
             ],
             [
              0.1111111111111111,
              "#46039f"
             ],
             [
              0.2222222222222222,
              "#7201a8"
             ],
             [
              0.3333333333333333,
              "#9c179e"
             ],
             [
              0.4444444444444444,
              "#bd3786"
             ],
             [
              0.5555555555555556,
              "#d8576b"
             ],
             [
              0.6666666666666666,
              "#ed7953"
             ],
             [
              0.7777777777777778,
              "#fb9f3a"
             ],
             [
              0.8888888888888888,
              "#fdca26"
             ],
             [
              1,
              "#f0f921"
             ]
            ],
            "type": "histogram2d"
           }
          ],
          "histogram2dcontour": [
           {
            "colorbar": {
             "outlinewidth": 0,
             "ticks": ""
            },
            "colorscale": [
             [
              0,
              "#0d0887"
             ],
             [
              0.1111111111111111,
              "#46039f"
             ],
             [
              0.2222222222222222,
              "#7201a8"
             ],
             [
              0.3333333333333333,
              "#9c179e"
             ],
             [
              0.4444444444444444,
              "#bd3786"
             ],
             [
              0.5555555555555556,
              "#d8576b"
             ],
             [
              0.6666666666666666,
              "#ed7953"
             ],
             [
              0.7777777777777778,
              "#fb9f3a"
             ],
             [
              0.8888888888888888,
              "#fdca26"
             ],
             [
              1,
              "#f0f921"
             ]
            ],
            "type": "histogram2dcontour"
           }
          ],
          "mesh3d": [
           {
            "colorbar": {
             "outlinewidth": 0,
             "ticks": ""
            },
            "type": "mesh3d"
           }
          ],
          "parcoords": [
           {
            "line": {
             "colorbar": {
              "outlinewidth": 0,
              "ticks": ""
             }
            },
            "type": "parcoords"
           }
          ],
          "pie": [
           {
            "automargin": true,
            "type": "pie"
           }
          ],
          "scatter": [
           {
            "marker": {
             "colorbar": {
              "outlinewidth": 0,
              "ticks": ""
             }
            },
            "type": "scatter"
           }
          ],
          "scatter3d": [
           {
            "line": {
             "colorbar": {
              "outlinewidth": 0,
              "ticks": ""
             }
            },
            "marker": {
             "colorbar": {
              "outlinewidth": 0,
              "ticks": ""
             }
            },
            "type": "scatter3d"
           }
          ],
          "scattercarpet": [
           {
            "marker": {
             "colorbar": {
              "outlinewidth": 0,
              "ticks": ""
             }
            },
            "type": "scattercarpet"
           }
          ],
          "scattergeo": [
           {
            "marker": {
             "colorbar": {
              "outlinewidth": 0,
              "ticks": ""
             }
            },
            "type": "scattergeo"
           }
          ],
          "scattergl": [
           {
            "marker": {
             "colorbar": {
              "outlinewidth": 0,
              "ticks": ""
             }
            },
            "type": "scattergl"
           }
          ],
          "scattermapbox": [
           {
            "marker": {
             "colorbar": {
              "outlinewidth": 0,
              "ticks": ""
             }
            },
            "type": "scattermapbox"
           }
          ],
          "scatterpolar": [
           {
            "marker": {
             "colorbar": {
              "outlinewidth": 0,
              "ticks": ""
             }
            },
            "type": "scatterpolar"
           }
          ],
          "scatterpolargl": [
           {
            "marker": {
             "colorbar": {
              "outlinewidth": 0,
              "ticks": ""
             }
            },
            "type": "scatterpolargl"
           }
          ],
          "scatterternary": [
           {
            "marker": {
             "colorbar": {
              "outlinewidth": 0,
              "ticks": ""
             }
            },
            "type": "scatterternary"
           }
          ],
          "surface": [
           {
            "colorbar": {
             "outlinewidth": 0,
             "ticks": ""
            },
            "colorscale": [
             [
              0,
              "#0d0887"
             ],
             [
              0.1111111111111111,
              "#46039f"
             ],
             [
              0.2222222222222222,
              "#7201a8"
             ],
             [
              0.3333333333333333,
              "#9c179e"
             ],
             [
              0.4444444444444444,
              "#bd3786"
             ],
             [
              0.5555555555555556,
              "#d8576b"
             ],
             [
              0.6666666666666666,
              "#ed7953"
             ],
             [
              0.7777777777777778,
              "#fb9f3a"
             ],
             [
              0.8888888888888888,
              "#fdca26"
             ],
             [
              1,
              "#f0f921"
             ]
            ],
            "type": "surface"
           }
          ],
          "table": [
           {
            "cells": {
             "fill": {
              "color": "#EBF0F8"
             },
             "line": {
              "color": "white"
             }
            },
            "header": {
             "fill": {
              "color": "#C8D4E3"
             },
             "line": {
              "color": "white"
             }
            },
            "type": "table"
           }
          ]
         },
         "layout": {
          "annotationdefaults": {
           "arrowcolor": "#2a3f5f",
           "arrowhead": 0,
           "arrowwidth": 1
          },
          "autotypenumbers": "strict",
          "coloraxis": {
           "colorbar": {
            "outlinewidth": 0,
            "ticks": ""
           }
          },
          "colorscale": {
           "diverging": [
            [
             0,
             "#8e0152"
            ],
            [
             0.1,
             "#c51b7d"
            ],
            [
             0.2,
             "#de77ae"
            ],
            [
             0.3,
             "#f1b6da"
            ],
            [
             0.4,
             "#fde0ef"
            ],
            [
             0.5,
             "#f7f7f7"
            ],
            [
             0.6,
             "#e6f5d0"
            ],
            [
             0.7,
             "#b8e186"
            ],
            [
             0.8,
             "#7fbc41"
            ],
            [
             0.9,
             "#4d9221"
            ],
            [
             1,
             "#276419"
            ]
           ],
           "sequential": [
            [
             0,
             "#0d0887"
            ],
            [
             0.1111111111111111,
             "#46039f"
            ],
            [
             0.2222222222222222,
             "#7201a8"
            ],
            [
             0.3333333333333333,
             "#9c179e"
            ],
            [
             0.4444444444444444,
             "#bd3786"
            ],
            [
             0.5555555555555556,
             "#d8576b"
            ],
            [
             0.6666666666666666,
             "#ed7953"
            ],
            [
             0.7777777777777778,
             "#fb9f3a"
            ],
            [
             0.8888888888888888,
             "#fdca26"
            ],
            [
             1,
             "#f0f921"
            ]
           ],
           "sequentialminus": [
            [
             0,
             "#0d0887"
            ],
            [
             0.1111111111111111,
             "#46039f"
            ],
            [
             0.2222222222222222,
             "#7201a8"
            ],
            [
             0.3333333333333333,
             "#9c179e"
            ],
            [
             0.4444444444444444,
             "#bd3786"
            ],
            [
             0.5555555555555556,
             "#d8576b"
            ],
            [
             0.6666666666666666,
             "#ed7953"
            ],
            [
             0.7777777777777778,
             "#fb9f3a"
            ],
            [
             0.8888888888888888,
             "#fdca26"
            ],
            [
             1,
             "#f0f921"
            ]
           ]
          },
          "colorway": [
           "#636efa",
           "#EF553B",
           "#00cc96",
           "#ab63fa",
           "#FFA15A",
           "#19d3f3",
           "#FF6692",
           "#B6E880",
           "#FF97FF",
           "#FECB52"
          ],
          "font": {
           "color": "#2a3f5f"
          },
          "geo": {
           "bgcolor": "white",
           "lakecolor": "white",
           "landcolor": "#E5ECF6",
           "showlakes": true,
           "showland": true,
           "subunitcolor": "white"
          },
          "hoverlabel": {
           "align": "left"
          },
          "hovermode": "closest",
          "mapbox": {
           "style": "light"
          },
          "paper_bgcolor": "white",
          "plot_bgcolor": "#E5ECF6",
          "polar": {
           "angularaxis": {
            "gridcolor": "white",
            "linecolor": "white",
            "ticks": ""
           },
           "bgcolor": "#E5ECF6",
           "radialaxis": {
            "gridcolor": "white",
            "linecolor": "white",
            "ticks": ""
           }
          },
          "scene": {
           "xaxis": {
            "backgroundcolor": "#E5ECF6",
            "gridcolor": "white",
            "gridwidth": 2,
            "linecolor": "white",
            "showbackground": true,
            "ticks": "",
            "zerolinecolor": "white"
           },
           "yaxis": {
            "backgroundcolor": "#E5ECF6",
            "gridcolor": "white",
            "gridwidth": 2,
            "linecolor": "white",
            "showbackground": true,
            "ticks": "",
            "zerolinecolor": "white"
           },
           "zaxis": {
            "backgroundcolor": "#E5ECF6",
            "gridcolor": "white",
            "gridwidth": 2,
            "linecolor": "white",
            "showbackground": true,
            "ticks": "",
            "zerolinecolor": "white"
           }
          },
          "shapedefaults": {
           "line": {
            "color": "#2a3f5f"
           }
          },
          "ternary": {
           "aaxis": {
            "gridcolor": "white",
            "linecolor": "white",
            "ticks": ""
           },
           "baxis": {
            "gridcolor": "white",
            "linecolor": "white",
            "ticks": ""
           },
           "bgcolor": "#E5ECF6",
           "caxis": {
            "gridcolor": "white",
            "linecolor": "white",
            "ticks": ""
           }
          },
          "title": {
           "x": 0.05
          },
          "xaxis": {
           "automargin": true,
           "gridcolor": "white",
           "linecolor": "white",
           "ticks": "",
           "title": {
            "standoff": 15
           },
           "zerolinecolor": "white",
           "zerolinewidth": 2
          },
          "yaxis": {
           "automargin": true,
           "gridcolor": "white",
           "linecolor": "white",
           "ticks": "",
           "title": {
            "standoff": 15
           },
           "zerolinecolor": "white",
           "zerolinewidth": 2
          }
         }
        },
        "title": {
         "text": "Valores de Silhuetta médios"
        },
        "xaxis": {
         "title": {
          "text": "Número de Clusteres"
         }
        },
        "yaxis": {
         "title": {
          "text": "Valor médio de silhueta"
         }
        }
       }
      },
      "text/html": [
       "<div>                            <div id=\"96def94a-2f2b-467e-ae7b-78d7724502cb\" class=\"plotly-graph-div\" style=\"height:525px; width:100%;\"></div>            <script type=\"text/javascript\">                require([\"plotly\"], function(Plotly) {                    window.PLOTLYENV=window.PLOTLYENV || {};                                    if (document.getElementById(\"96def94a-2f2b-467e-ae7b-78d7724502cb\")) {                    Plotly.newPlot(                        \"96def94a-2f2b-467e-ae7b-78d7724502cb\",                        [{\"type\":\"scatter\",\"x\":[2,3,4,5,6,7,8,9],\"y\":[0.3450438553643068,0.36950618492736303,0.3045648004609688,0.24158590886712497,0.24854150969550562,0.14796131325651987,0.13698833577166894,0.14500136559816657]}],                        {\"template\":{\"data\":{\"bar\":[{\"error_x\":{\"color\":\"#2a3f5f\"},\"error_y\":{\"color\":\"#2a3f5f\"},\"marker\":{\"line\":{\"color\":\"#E5ECF6\",\"width\":0.5},\"pattern\":{\"fillmode\":\"overlay\",\"size\":10,\"solidity\":0.2}},\"type\":\"bar\"}],\"barpolar\":[{\"marker\":{\"line\":{\"color\":\"#E5ECF6\",\"width\":0.5},\"pattern\":{\"fillmode\":\"overlay\",\"size\":10,\"solidity\":0.2}},\"type\":\"barpolar\"}],\"carpet\":[{\"aaxis\":{\"endlinecolor\":\"#2a3f5f\",\"gridcolor\":\"white\",\"linecolor\":\"white\",\"minorgridcolor\":\"white\",\"startlinecolor\":\"#2a3f5f\"},\"baxis\":{\"endlinecolor\":\"#2a3f5f\",\"gridcolor\":\"white\",\"linecolor\":\"white\",\"minorgridcolor\":\"white\",\"startlinecolor\":\"#2a3f5f\"},\"type\":\"carpet\"}],\"choropleth\":[{\"colorbar\":{\"outlinewidth\":0,\"ticks\":\"\"},\"type\":\"choropleth\"}],\"contour\":[{\"colorbar\":{\"outlinewidth\":0,\"ticks\":\"\"},\"colorscale\":[[0.0,\"#0d0887\"],[0.1111111111111111,\"#46039f\"],[0.2222222222222222,\"#7201a8\"],[0.3333333333333333,\"#9c179e\"],[0.4444444444444444,\"#bd3786\"],[0.5555555555555556,\"#d8576b\"],[0.6666666666666666,\"#ed7953\"],[0.7777777777777778,\"#fb9f3a\"],[0.8888888888888888,\"#fdca26\"],[1.0,\"#f0f921\"]],\"type\":\"contour\"}],\"contourcarpet\":[{\"colorbar\":{\"outlinewidth\":0,\"ticks\":\"\"},\"type\":\"contourcarpet\"}],\"heatmap\":[{\"colorbar\":{\"outlinewidth\":0,\"ticks\":\"\"},\"colorscale\":[[0.0,\"#0d0887\"],[0.1111111111111111,\"#46039f\"],[0.2222222222222222,\"#7201a8\"],[0.3333333333333333,\"#9c179e\"],[0.4444444444444444,\"#bd3786\"],[0.5555555555555556,\"#d8576b\"],[0.6666666666666666,\"#ed7953\"],[0.7777777777777778,\"#fb9f3a\"],[0.8888888888888888,\"#fdca26\"],[1.0,\"#f0f921\"]],\"type\":\"heatmap\"}],\"heatmapgl\":[{\"colorbar\":{\"outlinewidth\":0,\"ticks\":\"\"},\"colorscale\":[[0.0,\"#0d0887\"],[0.1111111111111111,\"#46039f\"],[0.2222222222222222,\"#7201a8\"],[0.3333333333333333,\"#9c179e\"],[0.4444444444444444,\"#bd3786\"],[0.5555555555555556,\"#d8576b\"],[0.6666666666666666,\"#ed7953\"],[0.7777777777777778,\"#fb9f3a\"],[0.8888888888888888,\"#fdca26\"],[1.0,\"#f0f921\"]],\"type\":\"heatmapgl\"}],\"histogram\":[{\"marker\":{\"pattern\":{\"fillmode\":\"overlay\",\"size\":10,\"solidity\":0.2}},\"type\":\"histogram\"}],\"histogram2d\":[{\"colorbar\":{\"outlinewidth\":0,\"ticks\":\"\"},\"colorscale\":[[0.0,\"#0d0887\"],[0.1111111111111111,\"#46039f\"],[0.2222222222222222,\"#7201a8\"],[0.3333333333333333,\"#9c179e\"],[0.4444444444444444,\"#bd3786\"],[0.5555555555555556,\"#d8576b\"],[0.6666666666666666,\"#ed7953\"],[0.7777777777777778,\"#fb9f3a\"],[0.8888888888888888,\"#fdca26\"],[1.0,\"#f0f921\"]],\"type\":\"histogram2d\"}],\"histogram2dcontour\":[{\"colorbar\":{\"outlinewidth\":0,\"ticks\":\"\"},\"colorscale\":[[0.0,\"#0d0887\"],[0.1111111111111111,\"#46039f\"],[0.2222222222222222,\"#7201a8\"],[0.3333333333333333,\"#9c179e\"],[0.4444444444444444,\"#bd3786\"],[0.5555555555555556,\"#d8576b\"],[0.6666666666666666,\"#ed7953\"],[0.7777777777777778,\"#fb9f3a\"],[0.8888888888888888,\"#fdca26\"],[1.0,\"#f0f921\"]],\"type\":\"histogram2dcontour\"}],\"mesh3d\":[{\"colorbar\":{\"outlinewidth\":0,\"ticks\":\"\"},\"type\":\"mesh3d\"}],\"parcoords\":[{\"line\":{\"colorbar\":{\"outlinewidth\":0,\"ticks\":\"\"}},\"type\":\"parcoords\"}],\"pie\":[{\"automargin\":true,\"type\":\"pie\"}],\"scatter\":[{\"marker\":{\"colorbar\":{\"outlinewidth\":0,\"ticks\":\"\"}},\"type\":\"scatter\"}],\"scatter3d\":[{\"line\":{\"colorbar\":{\"outlinewidth\":0,\"ticks\":\"\"}},\"marker\":{\"colorbar\":{\"outlinewidth\":0,\"ticks\":\"\"}},\"type\":\"scatter3d\"}],\"scattercarpet\":[{\"marker\":{\"colorbar\":{\"outlinewidth\":0,\"ticks\":\"\"}},\"type\":\"scattercarpet\"}],\"scattergeo\":[{\"marker\":{\"colorbar\":{\"outlinewidth\":0,\"ticks\":\"\"}},\"type\":\"scattergeo\"}],\"scattergl\":[{\"marker\":{\"colorbar\":{\"outlinewidth\":0,\"ticks\":\"\"}},\"type\":\"scattergl\"}],\"scattermapbox\":[{\"marker\":{\"colorbar\":{\"outlinewidth\":0,\"ticks\":\"\"}},\"type\":\"scattermapbox\"}],\"scatterpolar\":[{\"marker\":{\"colorbar\":{\"outlinewidth\":0,\"ticks\":\"\"}},\"type\":\"scatterpolar\"}],\"scatterpolargl\":[{\"marker\":{\"colorbar\":{\"outlinewidth\":0,\"ticks\":\"\"}},\"type\":\"scatterpolargl\"}],\"scatterternary\":[{\"marker\":{\"colorbar\":{\"outlinewidth\":0,\"ticks\":\"\"}},\"type\":\"scatterternary\"}],\"surface\":[{\"colorbar\":{\"outlinewidth\":0,\"ticks\":\"\"},\"colorscale\":[[0.0,\"#0d0887\"],[0.1111111111111111,\"#46039f\"],[0.2222222222222222,\"#7201a8\"],[0.3333333333333333,\"#9c179e\"],[0.4444444444444444,\"#bd3786\"],[0.5555555555555556,\"#d8576b\"],[0.6666666666666666,\"#ed7953\"],[0.7777777777777778,\"#fb9f3a\"],[0.8888888888888888,\"#fdca26\"],[1.0,\"#f0f921\"]],\"type\":\"surface\"}],\"table\":[{\"cells\":{\"fill\":{\"color\":\"#EBF0F8\"},\"line\":{\"color\":\"white\"}},\"header\":{\"fill\":{\"color\":\"#C8D4E3\"},\"line\":{\"color\":\"white\"}},\"type\":\"table\"}]},\"layout\":{\"annotationdefaults\":{\"arrowcolor\":\"#2a3f5f\",\"arrowhead\":0,\"arrowwidth\":1},\"autotypenumbers\":\"strict\",\"coloraxis\":{\"colorbar\":{\"outlinewidth\":0,\"ticks\":\"\"}},\"colorscale\":{\"diverging\":[[0,\"#8e0152\"],[0.1,\"#c51b7d\"],[0.2,\"#de77ae\"],[0.3,\"#f1b6da\"],[0.4,\"#fde0ef\"],[0.5,\"#f7f7f7\"],[0.6,\"#e6f5d0\"],[0.7,\"#b8e186\"],[0.8,\"#7fbc41\"],[0.9,\"#4d9221\"],[1,\"#276419\"]],\"sequential\":[[0.0,\"#0d0887\"],[0.1111111111111111,\"#46039f\"],[0.2222222222222222,\"#7201a8\"],[0.3333333333333333,\"#9c179e\"],[0.4444444444444444,\"#bd3786\"],[0.5555555555555556,\"#d8576b\"],[0.6666666666666666,\"#ed7953\"],[0.7777777777777778,\"#fb9f3a\"],[0.8888888888888888,\"#fdca26\"],[1.0,\"#f0f921\"]],\"sequentialminus\":[[0.0,\"#0d0887\"],[0.1111111111111111,\"#46039f\"],[0.2222222222222222,\"#7201a8\"],[0.3333333333333333,\"#9c179e\"],[0.4444444444444444,\"#bd3786\"],[0.5555555555555556,\"#d8576b\"],[0.6666666666666666,\"#ed7953\"],[0.7777777777777778,\"#fb9f3a\"],[0.8888888888888888,\"#fdca26\"],[1.0,\"#f0f921\"]]},\"colorway\":[\"#636efa\",\"#EF553B\",\"#00cc96\",\"#ab63fa\",\"#FFA15A\",\"#19d3f3\",\"#FF6692\",\"#B6E880\",\"#FF97FF\",\"#FECB52\"],\"font\":{\"color\":\"#2a3f5f\"},\"geo\":{\"bgcolor\":\"white\",\"lakecolor\":\"white\",\"landcolor\":\"#E5ECF6\",\"showlakes\":true,\"showland\":true,\"subunitcolor\":\"white\"},\"hoverlabel\":{\"align\":\"left\"},\"hovermode\":\"closest\",\"mapbox\":{\"style\":\"light\"},\"paper_bgcolor\":\"white\",\"plot_bgcolor\":\"#E5ECF6\",\"polar\":{\"angularaxis\":{\"gridcolor\":\"white\",\"linecolor\":\"white\",\"ticks\":\"\"},\"bgcolor\":\"#E5ECF6\",\"radialaxis\":{\"gridcolor\":\"white\",\"linecolor\":\"white\",\"ticks\":\"\"}},\"scene\":{\"xaxis\":{\"backgroundcolor\":\"#E5ECF6\",\"gridcolor\":\"white\",\"gridwidth\":2,\"linecolor\":\"white\",\"showbackground\":true,\"ticks\":\"\",\"zerolinecolor\":\"white\"},\"yaxis\":{\"backgroundcolor\":\"#E5ECF6\",\"gridcolor\":\"white\",\"gridwidth\":2,\"linecolor\":\"white\",\"showbackground\":true,\"ticks\":\"\",\"zerolinecolor\":\"white\"},\"zaxis\":{\"backgroundcolor\":\"#E5ECF6\",\"gridcolor\":\"white\",\"gridwidth\":2,\"linecolor\":\"white\",\"showbackground\":true,\"ticks\":\"\",\"zerolinecolor\":\"white\"}},\"shapedefaults\":{\"line\":{\"color\":\"#2a3f5f\"}},\"ternary\":{\"aaxis\":{\"gridcolor\":\"white\",\"linecolor\":\"white\",\"ticks\":\"\"},\"baxis\":{\"gridcolor\":\"white\",\"linecolor\":\"white\",\"ticks\":\"\"},\"bgcolor\":\"#E5ECF6\",\"caxis\":{\"gridcolor\":\"white\",\"linecolor\":\"white\",\"ticks\":\"\"}},\"title\":{\"x\":0.05},\"xaxis\":{\"automargin\":true,\"gridcolor\":\"white\",\"linecolor\":\"white\",\"ticks\":\"\",\"title\":{\"standoff\":15},\"zerolinecolor\":\"white\",\"zerolinewidth\":2},\"yaxis\":{\"automargin\":true,\"gridcolor\":\"white\",\"linecolor\":\"white\",\"ticks\":\"\",\"title\":{\"standoff\":15},\"zerolinecolor\":\"white\",\"zerolinewidth\":2}}},\"title\":{\"text\":\"Valores de Silhuetta m\\u00e9dios\"},\"xaxis\":{\"title\":{\"text\":\"N\\u00famero de Clusteres\"}},\"yaxis\":{\"title\":{\"text\":\"Valor m\\u00e9dio de silhueta\"}}},                        {\"responsive\": true}                    ).then(function(){\n",
       "                            \n",
       "var gd = document.getElementById('96def94a-2f2b-467e-ae7b-78d7724502cb');\n",
       "var x = new MutationObserver(function (mutations, observer) {{\n",
       "        var display = window.getComputedStyle(gd).display;\n",
       "        if (!display || display === 'none') {{\n",
       "            console.log([gd, 'removed!']);\n",
       "            Plotly.purge(gd);\n",
       "            observer.disconnect();\n",
       "        }}\n",
       "}});\n",
       "\n",
       "// Listen for the removal of the full notebook cells\n",
       "var notebookContainer = gd.closest('#notebook-container');\n",
       "if (notebookContainer) {{\n",
       "    x.observe(notebookContainer, {childList: true});\n",
       "}}\n",
       "\n",
       "// Listen for the clearing of the current output cell\n",
       "var outputEl = gd.closest('.output');\n",
       "if (outputEl) {{\n",
       "    x.observe(outputEl, {childList: true});\n",
       "}}\n",
       "\n",
       "                        })                };                });            </script>        </div>"
      ]
     },
     "metadata": {},
     "output_type": "display_data"
    }
   ],
   "source": [
    "fig = go.Figure()\n",
    "fig.add_trace(go.Scatter(x = faixan_n_cluster, y=valores_silhuetta))\n",
    "fig.update_layout(\n",
    "  title = \"Valores de Silhuetta médios\",\n",
    "  xaxis_title = \"Número de Clusteres\",\n",
    "  yaxis_title = \"Valor médio de silhueta\")"
   ]
  },
  {
   "cell_type": "markdown",
   "id": "c60c5b80",
   "metadata": {},
   "source": [
    "Podemos ver que o melhor resultado do modelo é quando definimos 3 clusteres somente"
   ]
  },
  {
   "cell_type": "markdown",
   "id": "018343e8",
   "metadata": {},
   "source": [
    "### Coeficiente de Silhueta para mean shift"
   ]
  },
  {
   "cell_type": "code",
   "execution_count": 187,
   "id": "0942beda",
   "metadata": {},
   "outputs": [
    {
     "data": {
      "text/plain": [
       "array([0.02      , 0.03655172, 0.05310345, 0.06965517, 0.0862069 ,\n",
       "       0.10275862, 0.11931034, 0.13586207, 0.15241379, 0.16896552,\n",
       "       0.18551724, 0.20206897, 0.21862069, 0.23517241, 0.25172414,\n",
       "       0.26827586, 0.28482759, 0.30137931, 0.31793103, 0.33448276,\n",
       "       0.35103448, 0.36758621, 0.38413793, 0.40068966, 0.41724138,\n",
       "       0.4337931 , 0.45034483, 0.46689655, 0.48344828, 0.5       ])"
      ]
     },
     "execution_count": 187,
     "metadata": {},
     "output_type": "execute_result"
    }
   ],
   "source": [
    "#criando a faixa linear\n",
    "faixa_quantil = np.linspace(0.02, 0.5, 30)\n",
    "faixa_quantil"
   ]
  },
  {
   "cell_type": "code",
   "execution_count": 188,
   "id": "05cab168",
   "metadata": {},
   "outputs": [
    {
     "name": "stderr",
     "output_type": "stream",
     "text": [
      "D:\\Anaconda3\\lib\\site-packages\\sklearn\\utils\\validation.py:70: FutureWarning:\n",
      "\n",
      "Pass bandwidth=0.41407073402433764 as keyword args. From version 1.0 (renaming of 0.25) passing these as positional arguments will result in an error\n",
      "\n",
      "D:\\Anaconda3\\lib\\site-packages\\sklearn\\utils\\validation.py:70: FutureWarning:\n",
      "\n",
      "Pass bandwidth=0.49002627383760716 as keyword args. From version 1.0 (renaming of 0.25) passing these as positional arguments will result in an error\n",
      "\n",
      "D:\\Anaconda3\\lib\\site-packages\\sklearn\\utils\\validation.py:70: FutureWarning:\n",
      "\n",
      "Pass bandwidth=0.5304660110980739 as keyword args. From version 1.0 (renaming of 0.25) passing these as positional arguments will result in an error\n",
      "\n",
      "D:\\Anaconda3\\lib\\site-packages\\sklearn\\utils\\validation.py:70: FutureWarning:\n",
      "\n",
      "Pass bandwidth=0.5598939783789139 as keyword args. From version 1.0 (renaming of 0.25) passing these as positional arguments will result in an error\n",
      "\n",
      "D:\\Anaconda3\\lib\\site-packages\\sklearn\\utils\\validation.py:70: FutureWarning:\n",
      "\n",
      "Pass bandwidth=0.5865107839766164 as keyword args. From version 1.0 (renaming of 0.25) passing these as positional arguments will result in an error\n",
      "\n",
      "D:\\Anaconda3\\lib\\site-packages\\sklearn\\utils\\validation.py:70: FutureWarning:\n",
      "\n",
      "Pass bandwidth=0.6079661029689014 as keyword args. From version 1.0 (renaming of 0.25) passing these as positional arguments will result in an error\n",
      "\n",
      "D:\\Anaconda3\\lib\\site-packages\\sklearn\\utils\\validation.py:70: FutureWarning:\n",
      "\n",
      "Pass bandwidth=0.6307456022450317 as keyword args. From version 1.0 (renaming of 0.25) passing these as positional arguments will result in an error\n",
      "\n",
      "D:\\Anaconda3\\lib\\site-packages\\sklearn\\utils\\validation.py:70: FutureWarning:\n",
      "\n",
      "Pass bandwidth=0.6521639321157859 as keyword args. From version 1.0 (renaming of 0.25) passing these as positional arguments will result in an error\n",
      "\n",
      "D:\\Anaconda3\\lib\\site-packages\\sklearn\\utils\\validation.py:70: FutureWarning:\n",
      "\n",
      "Pass bandwidth=0.6727164194401183 as keyword args. From version 1.0 (renaming of 0.25) passing these as positional arguments will result in an error\n",
      "\n",
      "D:\\Anaconda3\\lib\\site-packages\\sklearn\\utils\\validation.py:70: FutureWarning:\n",
      "\n",
      "Pass bandwidth=0.6921798217309248 as keyword args. From version 1.0 (renaming of 0.25) passing these as positional arguments will result in an error\n",
      "\n",
      "D:\\Anaconda3\\lib\\site-packages\\sklearn\\utils\\validation.py:70: FutureWarning:\n",
      "\n",
      "Pass bandwidth=0.7118570345999325 as keyword args. From version 1.0 (renaming of 0.25) passing these as positional arguments will result in an error\n",
      "\n",
      "D:\\Anaconda3\\lib\\site-packages\\sklearn\\utils\\validation.py:70: FutureWarning:\n",
      "\n",
      "Pass bandwidth=0.7258686846232675 as keyword args. From version 1.0 (renaming of 0.25) passing these as positional arguments will result in an error\n",
      "\n",
      "D:\\Anaconda3\\lib\\site-packages\\sklearn\\utils\\validation.py:70: FutureWarning:\n",
      "\n",
      "Pass bandwidth=0.746885467725698 as keyword args. From version 1.0 (renaming of 0.25) passing these as positional arguments will result in an error\n",
      "\n",
      "D:\\Anaconda3\\lib\\site-packages\\sklearn\\utils\\validation.py:70: FutureWarning:\n",
      "\n",
      "Pass bandwidth=0.7686126783751506 as keyword args. From version 1.0 (renaming of 0.25) passing these as positional arguments will result in an error\n",
      "\n",
      "D:\\Anaconda3\\lib\\site-packages\\sklearn\\utils\\validation.py:70: FutureWarning:\n",
      "\n",
      "Pass bandwidth=0.7933948087316043 as keyword args. From version 1.0 (renaming of 0.25) passing these as positional arguments will result in an error\n",
      "\n",
      "D:\\Anaconda3\\lib\\site-packages\\sklearn\\utils\\validation.py:70: FutureWarning:\n",
      "\n",
      "Pass bandwidth=0.8203867296284721 as keyword args. From version 1.0 (renaming of 0.25) passing these as positional arguments will result in an error\n",
      "\n",
      "D:\\Anaconda3\\lib\\site-packages\\sklearn\\utils\\validation.py:70: FutureWarning:\n",
      "\n",
      "Pass bandwidth=0.8506619865789286 as keyword args. From version 1.0 (renaming of 0.25) passing these as positional arguments will result in an error\n",
      "\n",
      "D:\\Anaconda3\\lib\\site-packages\\sklearn\\utils\\validation.py:70: FutureWarning:\n",
      "\n",
      "Pass bandwidth=0.8804157053665643 as keyword args. From version 1.0 (renaming of 0.25) passing these as positional arguments will result in an error\n",
      "\n",
      "D:\\Anaconda3\\lib\\site-packages\\sklearn\\utils\\validation.py:70: FutureWarning:\n",
      "\n",
      "Pass bandwidth=0.9100308955386752 as keyword args. From version 1.0 (renaming of 0.25) passing these as positional arguments will result in an error\n",
      "\n",
      "D:\\Anaconda3\\lib\\site-packages\\sklearn\\utils\\validation.py:70: FutureWarning:\n",
      "\n",
      "Pass bandwidth=0.9497006122582985 as keyword args. From version 1.0 (renaming of 0.25) passing these as positional arguments will result in an error\n",
      "\n",
      "D:\\Anaconda3\\lib\\site-packages\\sklearn\\utils\\validation.py:70: FutureWarning:\n",
      "\n",
      "Pass bandwidth=0.9831961121463515 as keyword args. From version 1.0 (renaming of 0.25) passing these as positional arguments will result in an error\n",
      "\n",
      "D:\\Anaconda3\\lib\\site-packages\\sklearn\\utils\\validation.py:70: FutureWarning:\n",
      "\n",
      "Pass bandwidth=1.0085367597908803 as keyword args. From version 1.0 (renaming of 0.25) passing these as positional arguments will result in an error\n",
      "\n",
      "D:\\Anaconda3\\lib\\site-packages\\sklearn\\utils\\validation.py:70: FutureWarning:\n",
      "\n",
      "Pass bandwidth=1.0283353725967863 as keyword args. From version 1.0 (renaming of 0.25) passing these as positional arguments will result in an error\n",
      "\n",
      "D:\\Anaconda3\\lib\\site-packages\\sklearn\\utils\\validation.py:70: FutureWarning:\n",
      "\n",
      "Pass bandwidth=1.0457460965455212 as keyword args. From version 1.0 (renaming of 0.25) passing these as positional arguments will result in an error\n",
      "\n",
      "D:\\Anaconda3\\lib\\site-packages\\sklearn\\utils\\validation.py:70: FutureWarning:\n",
      "\n",
      "Pass bandwidth=1.0600328712239726 as keyword args. From version 1.0 (renaming of 0.25) passing these as positional arguments will result in an error\n",
      "\n",
      "D:\\Anaconda3\\lib\\site-packages\\sklearn\\utils\\validation.py:70: FutureWarning:\n",
      "\n",
      "Pass bandwidth=1.0743820869675154 as keyword args. From version 1.0 (renaming of 0.25) passing these as positional arguments will result in an error\n",
      "\n",
      "D:\\Anaconda3\\lib\\site-packages\\sklearn\\utils\\validation.py:70: FutureWarning:\n",
      "\n",
      "Pass bandwidth=1.089372071558583 as keyword args. From version 1.0 (renaming of 0.25) passing these as positional arguments will result in an error\n",
      "\n",
      "D:\\Anaconda3\\lib\\site-packages\\sklearn\\utils\\validation.py:70: FutureWarning:\n",
      "\n",
      "Pass bandwidth=1.1046127850760241 as keyword args. From version 1.0 (renaming of 0.25) passing these as positional arguments will result in an error\n",
      "\n",
      "D:\\Anaconda3\\lib\\site-packages\\sklearn\\utils\\validation.py:70: FutureWarning:\n",
      "\n",
      "Pass bandwidth=1.1191455505736345 as keyword args. From version 1.0 (renaming of 0.25) passing these as positional arguments will result in an error\n",
      "\n",
      "D:\\Anaconda3\\lib\\site-packages\\sklearn\\utils\\validation.py:70: FutureWarning:\n",
      "\n",
      "Pass bandwidth=1.1322358239471637 as keyword args. From version 1.0 (renaming of 0.25) passing these as positional arguments will result in an error\n",
      "\n"
     ]
    }
   ],
   "source": [
    "#criando a lista\n",
    "#para checar o numero de labels e igual a 1 e se e menor que o numero de amostras que temos nos dados, nisso vamos criar um if\n",
    "valores_silhuetta = []\n",
    "quantil_plot = []\n",
    "for quantil in faixa_quantil:\n",
    "    bandwidth = estimate_bandwidth(dados, quantile = quantil)\n",
    "    agrupador = MeanShift(bandwidth)\n",
    "    labels = agrupador.fit_predict(dados)\n",
    "    if(len(np.unique(labels)) < len(dados) and len(np.unique(labels)) > 1):  \n",
    "        media_silhueta = silhouette_score(dados, labels)\n",
    "        valores_silhuetta.append(media_silhueta)\n",
    "        quantil_plot.append(quantil)"
   ]
  },
  {
   "cell_type": "code",
   "execution_count": 189,
   "id": "1c994e3d",
   "metadata": {},
   "outputs": [
    {
     "data": {
      "application/vnd.plotly.v1+json": {
       "config": {
        "plotlyServerURL": "https://plot.ly"
       },
       "data": [
        {
         "type": "scatter",
         "x": [
          0.02,
          0.036551724137931035,
          0.05310344827586207,
          0.06965517241379311,
          0.08620689655172414,
          0.10275862068965518,
          0.11931034482758622,
          0.13586206896551725,
          0.15241379310344827,
          0.16896551724137931,
          0.18551724137931033,
          0.20206896551724138,
          0.21862068965517242,
          0.23517241379310344,
          0.2517241379310345,
          0.26827586206896553,
          0.2848275862068966,
          0.3013793103448276,
          0.31793103448275867
         ],
         "y": [
          0.0688577221871855,
          0.1269573020851443,
          0.21222500077088086,
          0.2286093688267213,
          0.2317584058145142,
          0.2424007598945052,
          0.2415047883060416,
          0.2806108487403229,
          0.29012683820901636,
          0.31458072630392764,
          0.34482478134958616,
          0.3435317354353202,
          0.3435317354353202,
          0.20305945108914134,
          0.2279176455210266,
          0.30638538825691175,
          0.30672378482144286,
          0.2075835283919293,
          0.2075835283919293
         ]
        }
       ],
       "layout": {
        "template": {
         "data": {
          "bar": [
           {
            "error_x": {
             "color": "#2a3f5f"
            },
            "error_y": {
             "color": "#2a3f5f"
            },
            "marker": {
             "line": {
              "color": "#E5ECF6",
              "width": 0.5
             },
             "pattern": {
              "fillmode": "overlay",
              "size": 10,
              "solidity": 0.2
             }
            },
            "type": "bar"
           }
          ],
          "barpolar": [
           {
            "marker": {
             "line": {
              "color": "#E5ECF6",
              "width": 0.5
             },
             "pattern": {
              "fillmode": "overlay",
              "size": 10,
              "solidity": 0.2
             }
            },
            "type": "barpolar"
           }
          ],
          "carpet": [
           {
            "aaxis": {
             "endlinecolor": "#2a3f5f",
             "gridcolor": "white",
             "linecolor": "white",
             "minorgridcolor": "white",
             "startlinecolor": "#2a3f5f"
            },
            "baxis": {
             "endlinecolor": "#2a3f5f",
             "gridcolor": "white",
             "linecolor": "white",
             "minorgridcolor": "white",
             "startlinecolor": "#2a3f5f"
            },
            "type": "carpet"
           }
          ],
          "choropleth": [
           {
            "colorbar": {
             "outlinewidth": 0,
             "ticks": ""
            },
            "type": "choropleth"
           }
          ],
          "contour": [
           {
            "colorbar": {
             "outlinewidth": 0,
             "ticks": ""
            },
            "colorscale": [
             [
              0,
              "#0d0887"
             ],
             [
              0.1111111111111111,
              "#46039f"
             ],
             [
              0.2222222222222222,
              "#7201a8"
             ],
             [
              0.3333333333333333,
              "#9c179e"
             ],
             [
              0.4444444444444444,
              "#bd3786"
             ],
             [
              0.5555555555555556,
              "#d8576b"
             ],
             [
              0.6666666666666666,
              "#ed7953"
             ],
             [
              0.7777777777777778,
              "#fb9f3a"
             ],
             [
              0.8888888888888888,
              "#fdca26"
             ],
             [
              1,
              "#f0f921"
             ]
            ],
            "type": "contour"
           }
          ],
          "contourcarpet": [
           {
            "colorbar": {
             "outlinewidth": 0,
             "ticks": ""
            },
            "type": "contourcarpet"
           }
          ],
          "heatmap": [
           {
            "colorbar": {
             "outlinewidth": 0,
             "ticks": ""
            },
            "colorscale": [
             [
              0,
              "#0d0887"
             ],
             [
              0.1111111111111111,
              "#46039f"
             ],
             [
              0.2222222222222222,
              "#7201a8"
             ],
             [
              0.3333333333333333,
              "#9c179e"
             ],
             [
              0.4444444444444444,
              "#bd3786"
             ],
             [
              0.5555555555555556,
              "#d8576b"
             ],
             [
              0.6666666666666666,
              "#ed7953"
             ],
             [
              0.7777777777777778,
              "#fb9f3a"
             ],
             [
              0.8888888888888888,
              "#fdca26"
             ],
             [
              1,
              "#f0f921"
             ]
            ],
            "type": "heatmap"
           }
          ],
          "heatmapgl": [
           {
            "colorbar": {
             "outlinewidth": 0,
             "ticks": ""
            },
            "colorscale": [
             [
              0,
              "#0d0887"
             ],
             [
              0.1111111111111111,
              "#46039f"
             ],
             [
              0.2222222222222222,
              "#7201a8"
             ],
             [
              0.3333333333333333,
              "#9c179e"
             ],
             [
              0.4444444444444444,
              "#bd3786"
             ],
             [
              0.5555555555555556,
              "#d8576b"
             ],
             [
              0.6666666666666666,
              "#ed7953"
             ],
             [
              0.7777777777777778,
              "#fb9f3a"
             ],
             [
              0.8888888888888888,
              "#fdca26"
             ],
             [
              1,
              "#f0f921"
             ]
            ],
            "type": "heatmapgl"
           }
          ],
          "histogram": [
           {
            "marker": {
             "pattern": {
              "fillmode": "overlay",
              "size": 10,
              "solidity": 0.2
             }
            },
            "type": "histogram"
           }
          ],
          "histogram2d": [
           {
            "colorbar": {
             "outlinewidth": 0,
             "ticks": ""
            },
            "colorscale": [
             [
              0,
              "#0d0887"
             ],
             [
              0.1111111111111111,
              "#46039f"
             ],
             [
              0.2222222222222222,
              "#7201a8"
             ],
             [
              0.3333333333333333,
              "#9c179e"
             ],
             [
              0.4444444444444444,
              "#bd3786"
             ],
             [
              0.5555555555555556,
              "#d8576b"
             ],
             [
              0.6666666666666666,
              "#ed7953"
             ],
             [
              0.7777777777777778,
              "#fb9f3a"
             ],
             [
              0.8888888888888888,
              "#fdca26"
             ],
             [
              1,
              "#f0f921"
             ]
            ],
            "type": "histogram2d"
           }
          ],
          "histogram2dcontour": [
           {
            "colorbar": {
             "outlinewidth": 0,
             "ticks": ""
            },
            "colorscale": [
             [
              0,
              "#0d0887"
             ],
             [
              0.1111111111111111,
              "#46039f"
             ],
             [
              0.2222222222222222,
              "#7201a8"
             ],
             [
              0.3333333333333333,
              "#9c179e"
             ],
             [
              0.4444444444444444,
              "#bd3786"
             ],
             [
              0.5555555555555556,
              "#d8576b"
             ],
             [
              0.6666666666666666,
              "#ed7953"
             ],
             [
              0.7777777777777778,
              "#fb9f3a"
             ],
             [
              0.8888888888888888,
              "#fdca26"
             ],
             [
              1,
              "#f0f921"
             ]
            ],
            "type": "histogram2dcontour"
           }
          ],
          "mesh3d": [
           {
            "colorbar": {
             "outlinewidth": 0,
             "ticks": ""
            },
            "type": "mesh3d"
           }
          ],
          "parcoords": [
           {
            "line": {
             "colorbar": {
              "outlinewidth": 0,
              "ticks": ""
             }
            },
            "type": "parcoords"
           }
          ],
          "pie": [
           {
            "automargin": true,
            "type": "pie"
           }
          ],
          "scatter": [
           {
            "marker": {
             "colorbar": {
              "outlinewidth": 0,
              "ticks": ""
             }
            },
            "type": "scatter"
           }
          ],
          "scatter3d": [
           {
            "line": {
             "colorbar": {
              "outlinewidth": 0,
              "ticks": ""
             }
            },
            "marker": {
             "colorbar": {
              "outlinewidth": 0,
              "ticks": ""
             }
            },
            "type": "scatter3d"
           }
          ],
          "scattercarpet": [
           {
            "marker": {
             "colorbar": {
              "outlinewidth": 0,
              "ticks": ""
             }
            },
            "type": "scattercarpet"
           }
          ],
          "scattergeo": [
           {
            "marker": {
             "colorbar": {
              "outlinewidth": 0,
              "ticks": ""
             }
            },
            "type": "scattergeo"
           }
          ],
          "scattergl": [
           {
            "marker": {
             "colorbar": {
              "outlinewidth": 0,
              "ticks": ""
             }
            },
            "type": "scattergl"
           }
          ],
          "scattermapbox": [
           {
            "marker": {
             "colorbar": {
              "outlinewidth": 0,
              "ticks": ""
             }
            },
            "type": "scattermapbox"
           }
          ],
          "scatterpolar": [
           {
            "marker": {
             "colorbar": {
              "outlinewidth": 0,
              "ticks": ""
             }
            },
            "type": "scatterpolar"
           }
          ],
          "scatterpolargl": [
           {
            "marker": {
             "colorbar": {
              "outlinewidth": 0,
              "ticks": ""
             }
            },
            "type": "scatterpolargl"
           }
          ],
          "scatterternary": [
           {
            "marker": {
             "colorbar": {
              "outlinewidth": 0,
              "ticks": ""
             }
            },
            "type": "scatterternary"
           }
          ],
          "surface": [
           {
            "colorbar": {
             "outlinewidth": 0,
             "ticks": ""
            },
            "colorscale": [
             [
              0,
              "#0d0887"
             ],
             [
              0.1111111111111111,
              "#46039f"
             ],
             [
              0.2222222222222222,
              "#7201a8"
             ],
             [
              0.3333333333333333,
              "#9c179e"
             ],
             [
              0.4444444444444444,
              "#bd3786"
             ],
             [
              0.5555555555555556,
              "#d8576b"
             ],
             [
              0.6666666666666666,
              "#ed7953"
             ],
             [
              0.7777777777777778,
              "#fb9f3a"
             ],
             [
              0.8888888888888888,
              "#fdca26"
             ],
             [
              1,
              "#f0f921"
             ]
            ],
            "type": "surface"
           }
          ],
          "table": [
           {
            "cells": {
             "fill": {
              "color": "#EBF0F8"
             },
             "line": {
              "color": "white"
             }
            },
            "header": {
             "fill": {
              "color": "#C8D4E3"
             },
             "line": {
              "color": "white"
             }
            },
            "type": "table"
           }
          ]
         },
         "layout": {
          "annotationdefaults": {
           "arrowcolor": "#2a3f5f",
           "arrowhead": 0,
           "arrowwidth": 1
          },
          "autotypenumbers": "strict",
          "coloraxis": {
           "colorbar": {
            "outlinewidth": 0,
            "ticks": ""
           }
          },
          "colorscale": {
           "diverging": [
            [
             0,
             "#8e0152"
            ],
            [
             0.1,
             "#c51b7d"
            ],
            [
             0.2,
             "#de77ae"
            ],
            [
             0.3,
             "#f1b6da"
            ],
            [
             0.4,
             "#fde0ef"
            ],
            [
             0.5,
             "#f7f7f7"
            ],
            [
             0.6,
             "#e6f5d0"
            ],
            [
             0.7,
             "#b8e186"
            ],
            [
             0.8,
             "#7fbc41"
            ],
            [
             0.9,
             "#4d9221"
            ],
            [
             1,
             "#276419"
            ]
           ],
           "sequential": [
            [
             0,
             "#0d0887"
            ],
            [
             0.1111111111111111,
             "#46039f"
            ],
            [
             0.2222222222222222,
             "#7201a8"
            ],
            [
             0.3333333333333333,
             "#9c179e"
            ],
            [
             0.4444444444444444,
             "#bd3786"
            ],
            [
             0.5555555555555556,
             "#d8576b"
            ],
            [
             0.6666666666666666,
             "#ed7953"
            ],
            [
             0.7777777777777778,
             "#fb9f3a"
            ],
            [
             0.8888888888888888,
             "#fdca26"
            ],
            [
             1,
             "#f0f921"
            ]
           ],
           "sequentialminus": [
            [
             0,
             "#0d0887"
            ],
            [
             0.1111111111111111,
             "#46039f"
            ],
            [
             0.2222222222222222,
             "#7201a8"
            ],
            [
             0.3333333333333333,
             "#9c179e"
            ],
            [
             0.4444444444444444,
             "#bd3786"
            ],
            [
             0.5555555555555556,
             "#d8576b"
            ],
            [
             0.6666666666666666,
             "#ed7953"
            ],
            [
             0.7777777777777778,
             "#fb9f3a"
            ],
            [
             0.8888888888888888,
             "#fdca26"
            ],
            [
             1,
             "#f0f921"
            ]
           ]
          },
          "colorway": [
           "#636efa",
           "#EF553B",
           "#00cc96",
           "#ab63fa",
           "#FFA15A",
           "#19d3f3",
           "#FF6692",
           "#B6E880",
           "#FF97FF",
           "#FECB52"
          ],
          "font": {
           "color": "#2a3f5f"
          },
          "geo": {
           "bgcolor": "white",
           "lakecolor": "white",
           "landcolor": "#E5ECF6",
           "showlakes": true,
           "showland": true,
           "subunitcolor": "white"
          },
          "hoverlabel": {
           "align": "left"
          },
          "hovermode": "closest",
          "mapbox": {
           "style": "light"
          },
          "paper_bgcolor": "white",
          "plot_bgcolor": "#E5ECF6",
          "polar": {
           "angularaxis": {
            "gridcolor": "white",
            "linecolor": "white",
            "ticks": ""
           },
           "bgcolor": "#E5ECF6",
           "radialaxis": {
            "gridcolor": "white",
            "linecolor": "white",
            "ticks": ""
           }
          },
          "scene": {
           "xaxis": {
            "backgroundcolor": "#E5ECF6",
            "gridcolor": "white",
            "gridwidth": 2,
            "linecolor": "white",
            "showbackground": true,
            "ticks": "",
            "zerolinecolor": "white"
           },
           "yaxis": {
            "backgroundcolor": "#E5ECF6",
            "gridcolor": "white",
            "gridwidth": 2,
            "linecolor": "white",
            "showbackground": true,
            "ticks": "",
            "zerolinecolor": "white"
           },
           "zaxis": {
            "backgroundcolor": "#E5ECF6",
            "gridcolor": "white",
            "gridwidth": 2,
            "linecolor": "white",
            "showbackground": true,
            "ticks": "",
            "zerolinecolor": "white"
           }
          },
          "shapedefaults": {
           "line": {
            "color": "#2a3f5f"
           }
          },
          "ternary": {
           "aaxis": {
            "gridcolor": "white",
            "linecolor": "white",
            "ticks": ""
           },
           "baxis": {
            "gridcolor": "white",
            "linecolor": "white",
            "ticks": ""
           },
           "bgcolor": "#E5ECF6",
           "caxis": {
            "gridcolor": "white",
            "linecolor": "white",
            "ticks": ""
           }
          },
          "title": {
           "x": 0.05
          },
          "xaxis": {
           "automargin": true,
           "gridcolor": "white",
           "linecolor": "white",
           "ticks": "",
           "title": {
            "standoff": 15
           },
           "zerolinecolor": "white",
           "zerolinewidth": 2
          },
          "yaxis": {
           "automargin": true,
           "gridcolor": "white",
           "linecolor": "white",
           "ticks": "",
           "title": {
            "standoff": 15
           },
           "zerolinecolor": "white",
           "zerolinewidth": 2
          }
         }
        },
        "xaxis": {
         "title": {
          "text": "Quantil"
         }
        },
        "yaxis": {
         "title": {
          "text": "Média Silhueta"
         }
        }
       }
      },
      "text/html": [
       "<div>                            <div id=\"86ebda05-b949-4049-afa0-b6eae735c9e2\" class=\"plotly-graph-div\" style=\"height:525px; width:100%;\"></div>            <script type=\"text/javascript\">                require([\"plotly\"], function(Plotly) {                    window.PLOTLYENV=window.PLOTLYENV || {};                                    if (document.getElementById(\"86ebda05-b949-4049-afa0-b6eae735c9e2\")) {                    Plotly.newPlot(                        \"86ebda05-b949-4049-afa0-b6eae735c9e2\",                        [{\"type\":\"scatter\",\"x\":[0.02,0.036551724137931035,0.05310344827586207,0.06965517241379311,0.08620689655172414,0.10275862068965518,0.11931034482758622,0.13586206896551725,0.15241379310344827,0.16896551724137931,0.18551724137931033,0.20206896551724138,0.21862068965517242,0.23517241379310344,0.2517241379310345,0.26827586206896553,0.2848275862068966,0.3013793103448276,0.31793103448275867],\"y\":[0.0688577221871855,0.1269573020851443,0.21222500077088086,0.2286093688267213,0.2317584058145142,0.2424007598945052,0.2415047883060416,0.2806108487403229,0.29012683820901636,0.31458072630392764,0.34482478134958616,0.3435317354353202,0.3435317354353202,0.20305945108914134,0.2279176455210266,0.30638538825691175,0.30672378482144286,0.2075835283919293,0.2075835283919293]}],                        {\"template\":{\"data\":{\"bar\":[{\"error_x\":{\"color\":\"#2a3f5f\"},\"error_y\":{\"color\":\"#2a3f5f\"},\"marker\":{\"line\":{\"color\":\"#E5ECF6\",\"width\":0.5},\"pattern\":{\"fillmode\":\"overlay\",\"size\":10,\"solidity\":0.2}},\"type\":\"bar\"}],\"barpolar\":[{\"marker\":{\"line\":{\"color\":\"#E5ECF6\",\"width\":0.5},\"pattern\":{\"fillmode\":\"overlay\",\"size\":10,\"solidity\":0.2}},\"type\":\"barpolar\"}],\"carpet\":[{\"aaxis\":{\"endlinecolor\":\"#2a3f5f\",\"gridcolor\":\"white\",\"linecolor\":\"white\",\"minorgridcolor\":\"white\",\"startlinecolor\":\"#2a3f5f\"},\"baxis\":{\"endlinecolor\":\"#2a3f5f\",\"gridcolor\":\"white\",\"linecolor\":\"white\",\"minorgridcolor\":\"white\",\"startlinecolor\":\"#2a3f5f\"},\"type\":\"carpet\"}],\"choropleth\":[{\"colorbar\":{\"outlinewidth\":0,\"ticks\":\"\"},\"type\":\"choropleth\"}],\"contour\":[{\"colorbar\":{\"outlinewidth\":0,\"ticks\":\"\"},\"colorscale\":[[0.0,\"#0d0887\"],[0.1111111111111111,\"#46039f\"],[0.2222222222222222,\"#7201a8\"],[0.3333333333333333,\"#9c179e\"],[0.4444444444444444,\"#bd3786\"],[0.5555555555555556,\"#d8576b\"],[0.6666666666666666,\"#ed7953\"],[0.7777777777777778,\"#fb9f3a\"],[0.8888888888888888,\"#fdca26\"],[1.0,\"#f0f921\"]],\"type\":\"contour\"}],\"contourcarpet\":[{\"colorbar\":{\"outlinewidth\":0,\"ticks\":\"\"},\"type\":\"contourcarpet\"}],\"heatmap\":[{\"colorbar\":{\"outlinewidth\":0,\"ticks\":\"\"},\"colorscale\":[[0.0,\"#0d0887\"],[0.1111111111111111,\"#46039f\"],[0.2222222222222222,\"#7201a8\"],[0.3333333333333333,\"#9c179e\"],[0.4444444444444444,\"#bd3786\"],[0.5555555555555556,\"#d8576b\"],[0.6666666666666666,\"#ed7953\"],[0.7777777777777778,\"#fb9f3a\"],[0.8888888888888888,\"#fdca26\"],[1.0,\"#f0f921\"]],\"type\":\"heatmap\"}],\"heatmapgl\":[{\"colorbar\":{\"outlinewidth\":0,\"ticks\":\"\"},\"colorscale\":[[0.0,\"#0d0887\"],[0.1111111111111111,\"#46039f\"],[0.2222222222222222,\"#7201a8\"],[0.3333333333333333,\"#9c179e\"],[0.4444444444444444,\"#bd3786\"],[0.5555555555555556,\"#d8576b\"],[0.6666666666666666,\"#ed7953\"],[0.7777777777777778,\"#fb9f3a\"],[0.8888888888888888,\"#fdca26\"],[1.0,\"#f0f921\"]],\"type\":\"heatmapgl\"}],\"histogram\":[{\"marker\":{\"pattern\":{\"fillmode\":\"overlay\",\"size\":10,\"solidity\":0.2}},\"type\":\"histogram\"}],\"histogram2d\":[{\"colorbar\":{\"outlinewidth\":0,\"ticks\":\"\"},\"colorscale\":[[0.0,\"#0d0887\"],[0.1111111111111111,\"#46039f\"],[0.2222222222222222,\"#7201a8\"],[0.3333333333333333,\"#9c179e\"],[0.4444444444444444,\"#bd3786\"],[0.5555555555555556,\"#d8576b\"],[0.6666666666666666,\"#ed7953\"],[0.7777777777777778,\"#fb9f3a\"],[0.8888888888888888,\"#fdca26\"],[1.0,\"#f0f921\"]],\"type\":\"histogram2d\"}],\"histogram2dcontour\":[{\"colorbar\":{\"outlinewidth\":0,\"ticks\":\"\"},\"colorscale\":[[0.0,\"#0d0887\"],[0.1111111111111111,\"#46039f\"],[0.2222222222222222,\"#7201a8\"],[0.3333333333333333,\"#9c179e\"],[0.4444444444444444,\"#bd3786\"],[0.5555555555555556,\"#d8576b\"],[0.6666666666666666,\"#ed7953\"],[0.7777777777777778,\"#fb9f3a\"],[0.8888888888888888,\"#fdca26\"],[1.0,\"#f0f921\"]],\"type\":\"histogram2dcontour\"}],\"mesh3d\":[{\"colorbar\":{\"outlinewidth\":0,\"ticks\":\"\"},\"type\":\"mesh3d\"}],\"parcoords\":[{\"line\":{\"colorbar\":{\"outlinewidth\":0,\"ticks\":\"\"}},\"type\":\"parcoords\"}],\"pie\":[{\"automargin\":true,\"type\":\"pie\"}],\"scatter\":[{\"marker\":{\"colorbar\":{\"outlinewidth\":0,\"ticks\":\"\"}},\"type\":\"scatter\"}],\"scatter3d\":[{\"line\":{\"colorbar\":{\"outlinewidth\":0,\"ticks\":\"\"}},\"marker\":{\"colorbar\":{\"outlinewidth\":0,\"ticks\":\"\"}},\"type\":\"scatter3d\"}],\"scattercarpet\":[{\"marker\":{\"colorbar\":{\"outlinewidth\":0,\"ticks\":\"\"}},\"type\":\"scattercarpet\"}],\"scattergeo\":[{\"marker\":{\"colorbar\":{\"outlinewidth\":0,\"ticks\":\"\"}},\"type\":\"scattergeo\"}],\"scattergl\":[{\"marker\":{\"colorbar\":{\"outlinewidth\":0,\"ticks\":\"\"}},\"type\":\"scattergl\"}],\"scattermapbox\":[{\"marker\":{\"colorbar\":{\"outlinewidth\":0,\"ticks\":\"\"}},\"type\":\"scattermapbox\"}],\"scatterpolar\":[{\"marker\":{\"colorbar\":{\"outlinewidth\":0,\"ticks\":\"\"}},\"type\":\"scatterpolar\"}],\"scatterpolargl\":[{\"marker\":{\"colorbar\":{\"outlinewidth\":0,\"ticks\":\"\"}},\"type\":\"scatterpolargl\"}],\"scatterternary\":[{\"marker\":{\"colorbar\":{\"outlinewidth\":0,\"ticks\":\"\"}},\"type\":\"scatterternary\"}],\"surface\":[{\"colorbar\":{\"outlinewidth\":0,\"ticks\":\"\"},\"colorscale\":[[0.0,\"#0d0887\"],[0.1111111111111111,\"#46039f\"],[0.2222222222222222,\"#7201a8\"],[0.3333333333333333,\"#9c179e\"],[0.4444444444444444,\"#bd3786\"],[0.5555555555555556,\"#d8576b\"],[0.6666666666666666,\"#ed7953\"],[0.7777777777777778,\"#fb9f3a\"],[0.8888888888888888,\"#fdca26\"],[1.0,\"#f0f921\"]],\"type\":\"surface\"}],\"table\":[{\"cells\":{\"fill\":{\"color\":\"#EBF0F8\"},\"line\":{\"color\":\"white\"}},\"header\":{\"fill\":{\"color\":\"#C8D4E3\"},\"line\":{\"color\":\"white\"}},\"type\":\"table\"}]},\"layout\":{\"annotationdefaults\":{\"arrowcolor\":\"#2a3f5f\",\"arrowhead\":0,\"arrowwidth\":1},\"autotypenumbers\":\"strict\",\"coloraxis\":{\"colorbar\":{\"outlinewidth\":0,\"ticks\":\"\"}},\"colorscale\":{\"diverging\":[[0,\"#8e0152\"],[0.1,\"#c51b7d\"],[0.2,\"#de77ae\"],[0.3,\"#f1b6da\"],[0.4,\"#fde0ef\"],[0.5,\"#f7f7f7\"],[0.6,\"#e6f5d0\"],[0.7,\"#b8e186\"],[0.8,\"#7fbc41\"],[0.9,\"#4d9221\"],[1,\"#276419\"]],\"sequential\":[[0.0,\"#0d0887\"],[0.1111111111111111,\"#46039f\"],[0.2222222222222222,\"#7201a8\"],[0.3333333333333333,\"#9c179e\"],[0.4444444444444444,\"#bd3786\"],[0.5555555555555556,\"#d8576b\"],[0.6666666666666666,\"#ed7953\"],[0.7777777777777778,\"#fb9f3a\"],[0.8888888888888888,\"#fdca26\"],[1.0,\"#f0f921\"]],\"sequentialminus\":[[0.0,\"#0d0887\"],[0.1111111111111111,\"#46039f\"],[0.2222222222222222,\"#7201a8\"],[0.3333333333333333,\"#9c179e\"],[0.4444444444444444,\"#bd3786\"],[0.5555555555555556,\"#d8576b\"],[0.6666666666666666,\"#ed7953\"],[0.7777777777777778,\"#fb9f3a\"],[0.8888888888888888,\"#fdca26\"],[1.0,\"#f0f921\"]]},\"colorway\":[\"#636efa\",\"#EF553B\",\"#00cc96\",\"#ab63fa\",\"#FFA15A\",\"#19d3f3\",\"#FF6692\",\"#B6E880\",\"#FF97FF\",\"#FECB52\"],\"font\":{\"color\":\"#2a3f5f\"},\"geo\":{\"bgcolor\":\"white\",\"lakecolor\":\"white\",\"landcolor\":\"#E5ECF6\",\"showlakes\":true,\"showland\":true,\"subunitcolor\":\"white\"},\"hoverlabel\":{\"align\":\"left\"},\"hovermode\":\"closest\",\"mapbox\":{\"style\":\"light\"},\"paper_bgcolor\":\"white\",\"plot_bgcolor\":\"#E5ECF6\",\"polar\":{\"angularaxis\":{\"gridcolor\":\"white\",\"linecolor\":\"white\",\"ticks\":\"\"},\"bgcolor\":\"#E5ECF6\",\"radialaxis\":{\"gridcolor\":\"white\",\"linecolor\":\"white\",\"ticks\":\"\"}},\"scene\":{\"xaxis\":{\"backgroundcolor\":\"#E5ECF6\",\"gridcolor\":\"white\",\"gridwidth\":2,\"linecolor\":\"white\",\"showbackground\":true,\"ticks\":\"\",\"zerolinecolor\":\"white\"},\"yaxis\":{\"backgroundcolor\":\"#E5ECF6\",\"gridcolor\":\"white\",\"gridwidth\":2,\"linecolor\":\"white\",\"showbackground\":true,\"ticks\":\"\",\"zerolinecolor\":\"white\"},\"zaxis\":{\"backgroundcolor\":\"#E5ECF6\",\"gridcolor\":\"white\",\"gridwidth\":2,\"linecolor\":\"white\",\"showbackground\":true,\"ticks\":\"\",\"zerolinecolor\":\"white\"}},\"shapedefaults\":{\"line\":{\"color\":\"#2a3f5f\"}},\"ternary\":{\"aaxis\":{\"gridcolor\":\"white\",\"linecolor\":\"white\",\"ticks\":\"\"},\"baxis\":{\"gridcolor\":\"white\",\"linecolor\":\"white\",\"ticks\":\"\"},\"bgcolor\":\"#E5ECF6\",\"caxis\":{\"gridcolor\":\"white\",\"linecolor\":\"white\",\"ticks\":\"\"}},\"title\":{\"x\":0.05},\"xaxis\":{\"automargin\":true,\"gridcolor\":\"white\",\"linecolor\":\"white\",\"ticks\":\"\",\"title\":{\"standoff\":15},\"zerolinecolor\":\"white\",\"zerolinewidth\":2},\"yaxis\":{\"automargin\":true,\"gridcolor\":\"white\",\"linecolor\":\"white\",\"ticks\":\"\",\"title\":{\"standoff\":15},\"zerolinecolor\":\"white\",\"zerolinewidth\":2}}},\"xaxis\":{\"title\":{\"text\":\"Quantil\"}},\"yaxis\":{\"title\":{\"text\":\"M\\u00e9dia Silhueta\"}}},                        {\"responsive\": true}                    ).then(function(){\n",
       "                            \n",
       "var gd = document.getElementById('86ebda05-b949-4049-afa0-b6eae735c9e2');\n",
       "var x = new MutationObserver(function (mutations, observer) {{\n",
       "        var display = window.getComputedStyle(gd).display;\n",
       "        if (!display || display === 'none') {{\n",
       "            console.log([gd, 'removed!']);\n",
       "            Plotly.purge(gd);\n",
       "            observer.disconnect();\n",
       "        }}\n",
       "}});\n",
       "\n",
       "// Listen for the removal of the full notebook cells\n",
       "var notebookContainer = gd.closest('#notebook-container');\n",
       "if (notebookContainer) {{\n",
       "    x.observe(notebookContainer, {childList: true});\n",
       "}}\n",
       "\n",
       "// Listen for the clearing of the current output cell\n",
       "var outputEl = gd.closest('.output');\n",
       "if (outputEl) {{\n",
       "    x.observe(outputEl, {childList: true});\n",
       "}}\n",
       "\n",
       "                        })                };                });            </script>        </div>"
      ]
     },
     "metadata": {},
     "output_type": "display_data"
    }
   ],
   "source": [
    "fig = go.Figure()\n",
    "fig.add_trace(go.Scatter(x = quantil_plot, y =valores_silhuetta))\n",
    "fig.update_layout(dict(xaxis_title = \"Quantil\",\n",
    "                       yaxis_title= \"Média Silhueta\"))\n",
    "\n",
    "fig.show()"
   ]
  },
  {
   "cell_type": "markdown",
   "id": "ff81eb1b",
   "metadata": {},
   "source": [
    "melhor  quantil de 0.18 da modelo aprentou 0.18. nesse caso descartamos meanshift pois e muito baixo "
   ]
  },
  {
   "cell_type": "markdown",
   "id": "4d707b59",
   "metadata": {},
   "source": [
    "### Comparando todos modelos\n",
    "KMeans - MeanShift - DBSCAN - estimate bandwidth"
   ]
  },
  {
   "cell_type": "code",
   "execution_count": 190,
   "id": "e4a186a6",
   "metadata": {},
   "outputs": [],
   "source": [
    "from sklearn.cluster import KMeans, MeanShift, DBSCAN, estimate_bandwidth\n",
    "from sklearn.metrics import silhouette_score"
   ]
  },
  {
   "cell_type": "code",
   "execution_count": 191,
   "id": "485b6151",
   "metadata": {},
   "outputs": [
    {
     "name": "stdout",
     "output_type": "stream",
     "text": [
      "Labels Kmeans  [0 0 0 0 0 0 0 0 0 0 0 0 0 0 0 0 0 0 0 0 0 0 0 0 0 0 0 0 0 0 0 0 0 0 0 0 0\n",
      " 0 0 0 0 0 0 0 0 0 0 0 0 0 0 0 0 0 0 0 0 0 0 2 2 2 2 2 2 2 2 2 2 2 2 2 2 0\n",
      " 2 2 2 2 2 2 2 2 2 1 2 2 2 2 2 2 2 2 2 2 2 2 2 2 2 2 2 2 2 2 2 2 2 2 2 2 2\n",
      " 2 2 2 2 2 2 2 2 2 2 2 2 2 2 2 2 2 2 2 1 1 1 1 1 1 1 1 1 1 1 1 1 1 1 1 1 1\n",
      " 1 1 1 1 1 1 1 1 1 1 1 1 1 1 1 1 1 1 1 1 1 1 1 1 1 1 1 1 1 1]\n",
      "Labels DBSCAN  [ 0  0  0  0  0  0  0  0  0  0  0  0  0  0  0  0  0  0  0  0  0  0  0  0\n",
      "  0  0  0  0  0  0  0  0  0  0  0  0  0  0  0  0  0  0  0  0  0  0  0  0\n",
      "  0  0  0  0  0  0  0  0  0  0  0 -1 -1 -1  0  0 -1  0  0  0 -1 -1 -1  0\n",
      "  0 -1  0  0  0 -1 -1  0  0  0  0 -1  0  0  0  0  0  0  0  0 -1  0  0 -1\n",
      " -1  0  0 -1  0  0  0  0  0 -1  0  0  0  0 -1  0 -1  0  0 -1  0  0 -1  0\n",
      "  0 -1 -1  0 -1  0  0 -1  0 -1 -1 -1 -1 -1 -1 -1 -1 -1 -1 -1 -1 -1 -1 -1\n",
      " -1 -1 -1 -1 -1 -1 -1 -1 -1 -1 -1 -1 -1 -1 -1 -1 -1 -1 -1 -1 -1 -1 -1 -1\n",
      " -1 -1 -1 -1 -1 -1 -1 -1 -1 -1]\n",
      "Labels meanshift  [0 0 0 0 0 0 0 0 0 0 0 0 0 0 0 0 0 0 0 0 0 0 0 0 0 0 0 0 0 0 0 0 0 0 0 0 0\n",
      " 0 0 0 0 0 0 0 0 0 0 0 0 0 0 0 0 0 0 0 0 0 0 0 1 1 0 0 0 0 0 0 0 0 1 0 0 0\n",
      " 0 0 0 1 0 0 0 0 0 1 0 0 0 0 0 0 0 0 1 0 0 0 0 0 0 0 0 0 0 0 0 1 0 1 0 0 0\n",
      " 0 1 0 0 0 0 0 1 0 0 2 0 0 0 0 0 1 0 1 1 1 1 1 1 1 1 1 1 1 1 1 1 1 1 1 1 1\n",
      " 1 1 1 1 1 1 1 1 1 1 1 1 1 1 1 1 1 1 1 1 1 1 1 1 1 1 1 1 1 1]\n"
     ]
    }
   ],
   "source": [
    "agrupador_kmeans = KMeans(n_clusters=3)\n",
    "agrupador_dbscan = DBSCAN(eps = 2.1, min_samples=56, metric ='manhattan')\n",
    "\n",
    "BW = estimate_bandwidth(dados, quantile=0.28)\n",
    "agrupador_meanshift = MeanShift(bandwidth= BW)\n",
    "\n",
    "labels_kmeans = agrupador_kmeans.fit_predict(dados)\n",
    "labels_dbscan = agrupador_dbscan.fit_predict(dados)\n",
    "labels_meanshift = agrupador_meanshift.fit_predict(dados)\n",
    "\n",
    "print(\"Labels Kmeans \", labels_kmeans)\n",
    "print(\"Labels DBSCAN \", labels_dbscan)\n",
    "print(\"Labels meanshift \", labels_meanshift)"
   ]
  },
  {
   "cell_type": "code",
   "execution_count": 192,
   "id": "19b8bb3f",
   "metadata": {},
   "outputs": [
    {
     "name": "stdout",
     "output_type": "stream",
     "text": [
      "O coenfieciente de silhouetta do KMeans é  0.36950618492736303\n",
      "O coenfieciente de silhouetta do DBSCAN é  0.3016232115094375\n",
      "O coenfieciente de silhouetta do MeanShift é  0.3059152866115628\n"
     ]
    }
   ],
   "source": [
    "print(\"O coenfieciente de silhouetta do KMeans é \", silhouette_score(dados, labels_kmeans))\n",
    "print(\"O coenfieciente de silhouetta do DBSCAN é \", silhouette_score(dados, labels_dbscan))\n",
    "print(\"O coenfieciente de silhouetta do MeanShift é \", silhouette_score(dados, labels_meanshift))"
   ]
  },
  {
   "cell_type": "markdown",
   "id": "5deec074",
   "metadata": {},
   "source": [
    "O melhor modelo é do KMeans, os demais podem ter sido baixo devido o tamanho do conjunto de dados"
   ]
  },
  {
   "cell_type": "code",
   "execution_count": null,
   "id": "82525cfc",
   "metadata": {},
   "outputs": [],
   "source": []
  }
 ],
 "metadata": {
  "kernelspec": {
   "display_name": "Python 3",
   "language": "python",
   "name": "python3"
  },
  "language_info": {
   "codemirror_mode": {
    "name": "ipython",
    "version": 3
   },
   "file_extension": ".py",
   "mimetype": "text/x-python",
   "name": "python",
   "nbconvert_exporter": "python",
   "pygments_lexer": "ipython3",
   "version": "3.8.8"
  }
 },
 "nbformat": 4,
 "nbformat_minor": 5
}
