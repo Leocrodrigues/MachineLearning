{
 "cells": [
  {
   "cell_type": "markdown",
   "id": "923184e7",
   "metadata": {},
   "source": [
    "### Base de dados\n",
    "\n",
    "Este caso requer o desenvolvimento de uma segmentação de clientes para definir a estratégia de marketing. O\n",
    "conjunto de dados de amostra resume o comportamento de uso de cerca de 9.000 titulares de cartões de crédito ativos durante os últimos 6 meses. O arquivo está no nível do cliente com 18 variáveis ​​comportamentais.\n",
    "\n",
    "A seguir está o Dicionário de Dados para o conjunto de dados de Cartão de Crédito: -\n",
    "\n",
    "CUST ID : Identificação do titular do cartão de crédito (categórico)\n",
    "\n",
    "BALANCE : Saldo restante na conta para fazer compras \n",
    "\n",
    "BALANCEFREQUENCY : a frequência com que o saldo é atualizado, pontuação entre 0 e 1 (1 = atualizado com frequência, 0 = não atualizado com frequência)\n",
    "\n",
    "PURCHASES : Valor das compras realizadas a partir da conta COMPRAS\n",
    "\n",
    "ONEOFF_PURCHASES : Valor máximo da compra realizada de uma só vez.\n",
    "\n",
    "INSTALLMENTSPURCHASES : Valor da compra realizada a prazo. ADIANTAMENTO EM\n",
    "\n",
    "CASH_ADVANCE : Antecipação dado pelo usuário\n",
    "\n",
    "PURCHASES_FREQUENCY\t: Frequência com que as compras estão sendo feitas, pontuação entre 0 e 1 (1 = frequentemente comprado, 0 = não frequentemente comprado)\n",
    "\n",
    "ONEOFF_PURCHASES_FREQUENCY : Com que frequência as compras acontecem de uma vez (1 = frequentemente comprado, 0 = não frequentemente comprado)\n",
    "\n",
    "PURCHASES_INSTALLMENTS_FREQUENCY : Como frequentemente compras parceladas estão sendo feitas (1 = feito com freqüência, 0 = não feito com freqüência)\n",
    "\n",
    "CASH_ADVANCE_FREQUENCY : Como frequentemente o dinheiro com antecedência sendo pago\n",
    "\n",
    "CASH_ADVANCE_TRX : Número de transações feitas com \"Cash in Advanced\"\n",
    "\n",
    "PURCHASES_TRX : Numbe de transações de compra feito\n",
    "\n",
    "CREDIT_LIMIT: Limite do cartão de crédito para PAGAMENTOS do usuário: Valor do pagamento feito pelo usuário\n",
    "\n",
    "PAYMENTS: Valor do pagamento feito pelo usuário\n",
    "\n",
    "MINIMUM_PAYMENTS : Valor mínimo dos pagamentos feitos pelo usuário\n",
    "\n",
    "PRC_FULL_PAYMENT : Porcentagem do pagamento total pago pelo usuário\n",
    "\n",
    "TENURE : Posse do serviço de cartão de crédito para o usuário\n",
    "\n",
    "link:https://www.kaggle.com/arjunbhasin2013/ccdata?select=CC+GENERAL.csv"
   ]
  },
  {
   "cell_type": "code",
   "execution_count": 116,
   "id": "f29d42de",
   "metadata": {},
   "outputs": [],
   "source": [
    "#Importando biblioteca\n",
    "import pandas as pd\n",
    "import numpy as np"
   ]
  },
  {
   "cell_type": "code",
   "execution_count": 117,
   "id": "28cf2281",
   "metadata": {},
   "outputs": [],
   "source": [
    "#lendo os dados e visualizando\n",
    "dados = pd.read_csv('./bases/cartao_de_credito.csv')"
   ]
  },
  {
   "cell_type": "code",
   "execution_count": 118,
   "id": "bf5fdf9f",
   "metadata": {},
   "outputs": [],
   "source": [
    "#removendo duas colunas que n serao necessárias para nossa análise\n",
    "dados.drop(['CUST_ID', 'TENURE'], axis='columns', inplace=True)"
   ]
  },
  {
   "cell_type": "code",
   "execution_count": 119,
   "id": "5f6bb9ce",
   "metadata": {},
   "outputs": [
    {
     "data": {
      "text/html": [
       "<div>\n",
       "<style scoped>\n",
       "    .dataframe tbody tr th:only-of-type {\n",
       "        vertical-align: middle;\n",
       "    }\n",
       "\n",
       "    .dataframe tbody tr th {\n",
       "        vertical-align: top;\n",
       "    }\n",
       "\n",
       "    .dataframe thead th {\n",
       "        text-align: right;\n",
       "    }\n",
       "</style>\n",
       "<table border=\"1\" class=\"dataframe\">\n",
       "  <thead>\n",
       "    <tr style=\"text-align: right;\">\n",
       "      <th></th>\n",
       "      <th>BALANCE</th>\n",
       "      <th>BALANCE_FREQUENCY</th>\n",
       "      <th>PURCHASES</th>\n",
       "      <th>ONEOFF_PURCHASES</th>\n",
       "      <th>INSTALLMENTS_PURCHASES</th>\n",
       "      <th>CASH_ADVANCE</th>\n",
       "      <th>PURCHASES_FREQUENCY</th>\n",
       "      <th>ONEOFF_PURCHASES_FREQUENCY</th>\n",
       "      <th>PURCHASES_INSTALLMENTS_FREQUENCY</th>\n",
       "      <th>CASH_ADVANCE_FREQUENCY</th>\n",
       "      <th>CASH_ADVANCE_TRX</th>\n",
       "      <th>PURCHASES_TRX</th>\n",
       "      <th>CREDIT_LIMIT</th>\n",
       "      <th>PAYMENTS</th>\n",
       "      <th>MINIMUM_PAYMENTS</th>\n",
       "      <th>PRC_FULL_PAYMENT</th>\n",
       "    </tr>\n",
       "  </thead>\n",
       "  <tbody>\n",
       "    <tr>\n",
       "      <th>0</th>\n",
       "      <td>40.900749</td>\n",
       "      <td>0.818182</td>\n",
       "      <td>95.40</td>\n",
       "      <td>0.00</td>\n",
       "      <td>95.4</td>\n",
       "      <td>0.000000</td>\n",
       "      <td>0.166667</td>\n",
       "      <td>0.000000</td>\n",
       "      <td>0.083333</td>\n",
       "      <td>0.000000</td>\n",
       "      <td>0</td>\n",
       "      <td>2</td>\n",
       "      <td>1000.0</td>\n",
       "      <td>201.802084</td>\n",
       "      <td>139.509787</td>\n",
       "      <td>0.000000</td>\n",
       "    </tr>\n",
       "    <tr>\n",
       "      <th>1</th>\n",
       "      <td>3202.467416</td>\n",
       "      <td>0.909091</td>\n",
       "      <td>0.00</td>\n",
       "      <td>0.00</td>\n",
       "      <td>0.0</td>\n",
       "      <td>6442.945483</td>\n",
       "      <td>0.000000</td>\n",
       "      <td>0.000000</td>\n",
       "      <td>0.000000</td>\n",
       "      <td>0.250000</td>\n",
       "      <td>4</td>\n",
       "      <td>0</td>\n",
       "      <td>7000.0</td>\n",
       "      <td>4103.032597</td>\n",
       "      <td>1072.340217</td>\n",
       "      <td>0.222222</td>\n",
       "    </tr>\n",
       "    <tr>\n",
       "      <th>2</th>\n",
       "      <td>2495.148862</td>\n",
       "      <td>1.000000</td>\n",
       "      <td>773.17</td>\n",
       "      <td>773.17</td>\n",
       "      <td>0.0</td>\n",
       "      <td>0.000000</td>\n",
       "      <td>1.000000</td>\n",
       "      <td>1.000000</td>\n",
       "      <td>0.000000</td>\n",
       "      <td>0.000000</td>\n",
       "      <td>0</td>\n",
       "      <td>12</td>\n",
       "      <td>7500.0</td>\n",
       "      <td>622.066742</td>\n",
       "      <td>627.284787</td>\n",
       "      <td>0.000000</td>\n",
       "    </tr>\n",
       "    <tr>\n",
       "      <th>3</th>\n",
       "      <td>1666.670542</td>\n",
       "      <td>0.636364</td>\n",
       "      <td>1499.00</td>\n",
       "      <td>1499.00</td>\n",
       "      <td>0.0</td>\n",
       "      <td>205.788017</td>\n",
       "      <td>0.083333</td>\n",
       "      <td>0.083333</td>\n",
       "      <td>0.000000</td>\n",
       "      <td>0.083333</td>\n",
       "      <td>1</td>\n",
       "      <td>1</td>\n",
       "      <td>7500.0</td>\n",
       "      <td>0.000000</td>\n",
       "      <td>NaN</td>\n",
       "      <td>0.000000</td>\n",
       "    </tr>\n",
       "    <tr>\n",
       "      <th>4</th>\n",
       "      <td>817.714335</td>\n",
       "      <td>1.000000</td>\n",
       "      <td>16.00</td>\n",
       "      <td>16.00</td>\n",
       "      <td>0.0</td>\n",
       "      <td>0.000000</td>\n",
       "      <td>0.083333</td>\n",
       "      <td>0.083333</td>\n",
       "      <td>0.000000</td>\n",
       "      <td>0.000000</td>\n",
       "      <td>0</td>\n",
       "      <td>1</td>\n",
       "      <td>1200.0</td>\n",
       "      <td>678.334763</td>\n",
       "      <td>244.791237</td>\n",
       "      <td>0.000000</td>\n",
       "    </tr>\n",
       "  </tbody>\n",
       "</table>\n",
       "</div>"
      ],
      "text/plain": [
       "       BALANCE  BALANCE_FREQUENCY  PURCHASES  ONEOFF_PURCHASES  \\\n",
       "0    40.900749           0.818182      95.40              0.00   \n",
       "1  3202.467416           0.909091       0.00              0.00   \n",
       "2  2495.148862           1.000000     773.17            773.17   \n",
       "3  1666.670542           0.636364    1499.00           1499.00   \n",
       "4   817.714335           1.000000      16.00             16.00   \n",
       "\n",
       "   INSTALLMENTS_PURCHASES  CASH_ADVANCE  PURCHASES_FREQUENCY  \\\n",
       "0                    95.4      0.000000             0.166667   \n",
       "1                     0.0   6442.945483             0.000000   \n",
       "2                     0.0      0.000000             1.000000   \n",
       "3                     0.0    205.788017             0.083333   \n",
       "4                     0.0      0.000000             0.083333   \n",
       "\n",
       "   ONEOFF_PURCHASES_FREQUENCY  PURCHASES_INSTALLMENTS_FREQUENCY  \\\n",
       "0                    0.000000                          0.083333   \n",
       "1                    0.000000                          0.000000   \n",
       "2                    1.000000                          0.000000   \n",
       "3                    0.083333                          0.000000   \n",
       "4                    0.083333                          0.000000   \n",
       "\n",
       "   CASH_ADVANCE_FREQUENCY  CASH_ADVANCE_TRX  PURCHASES_TRX  CREDIT_LIMIT  \\\n",
       "0                0.000000                 0              2        1000.0   \n",
       "1                0.250000                 4              0        7000.0   \n",
       "2                0.000000                 0             12        7500.0   \n",
       "3                0.083333                 1              1        7500.0   \n",
       "4                0.000000                 0              1        1200.0   \n",
       "\n",
       "      PAYMENTS  MINIMUM_PAYMENTS  PRC_FULL_PAYMENT  \n",
       "0   201.802084        139.509787          0.000000  \n",
       "1  4103.032597       1072.340217          0.222222  \n",
       "2   622.066742        627.284787          0.000000  \n",
       "3     0.000000               NaN          0.000000  \n",
       "4   678.334763        244.791237          0.000000  "
      ]
     },
     "execution_count": 119,
     "metadata": {},
     "output_type": "execute_result"
    }
   ],
   "source": [
    "#visualizando\n",
    "dados.head()"
   ]
  },
  {
   "cell_type": "code",
   "execution_count": 120,
   "id": "c328ec0c",
   "metadata": {},
   "outputs": [
    {
     "data": {
      "text/plain": [
       "(8950, 16)"
      ]
     },
     "execution_count": 120,
     "metadata": {},
     "output_type": "execute_result"
    }
   ],
   "source": [
    "dados.shape"
   ]
  },
  {
   "cell_type": "code",
   "execution_count": 121,
   "id": "5041234c",
   "metadata": {},
   "outputs": [
    {
     "data": {
      "text/plain": [
       "BALANCE                               0\n",
       "BALANCE_FREQUENCY                     0\n",
       "PURCHASES                             0\n",
       "ONEOFF_PURCHASES                      0\n",
       "INSTALLMENTS_PURCHASES                0\n",
       "CASH_ADVANCE                          0\n",
       "PURCHASES_FREQUENCY                   0\n",
       "ONEOFF_PURCHASES_FREQUENCY            0\n",
       "PURCHASES_INSTALLMENTS_FREQUENCY      0\n",
       "CASH_ADVANCE_FREQUENCY                0\n",
       "CASH_ADVANCE_TRX                      0\n",
       "PURCHASES_TRX                         0\n",
       "CREDIT_LIMIT                          1\n",
       "PAYMENTS                              0\n",
       "MINIMUM_PAYMENTS                    313\n",
       "PRC_FULL_PAYMENT                      0\n",
       "dtype: int64"
      ]
     },
     "execution_count": 121,
     "metadata": {},
     "output_type": "execute_result"
    }
   ],
   "source": [
    "#Buscando dados ausentes\n",
    "ausente = dados.isna().sum()\n",
    "ausente"
   ]
  },
  {
   "cell_type": "markdown",
   "id": "ce2acc1b",
   "metadata": {},
   "source": [
    "temos bastante no elemento de pagamentos minimos. Portato, n vamos apagar vamos substituir esses valores na pela mediana"
   ]
  },
  {
   "cell_type": "code",
   "execution_count": 122,
   "id": "c3d6be6b",
   "metadata": {},
   "outputs": [],
   "source": [
    "#preenchendo com a mediana\n",
    "dados.fillna(dados.median(), inplace=True)"
   ]
  },
  {
   "cell_type": "code",
   "execution_count": 123,
   "id": "a68d36c9",
   "metadata": {},
   "outputs": [
    {
     "data": {
      "text/plain": [
       "BALANCE                             0\n",
       "BALANCE_FREQUENCY                   0\n",
       "PURCHASES                           0\n",
       "ONEOFF_PURCHASES                    0\n",
       "INSTALLMENTS_PURCHASES              0\n",
       "CASH_ADVANCE                        0\n",
       "PURCHASES_FREQUENCY                 0\n",
       "ONEOFF_PURCHASES_FREQUENCY          0\n",
       "PURCHASES_INSTALLMENTS_FREQUENCY    0\n",
       "CASH_ADVANCE_FREQUENCY              0\n",
       "CASH_ADVANCE_TRX                    0\n",
       "PURCHASES_TRX                       0\n",
       "CREDIT_LIMIT                        0\n",
       "PAYMENTS                            0\n",
       "MINIMUM_PAYMENTS                    0\n",
       "PRC_FULL_PAYMENT                    0\n",
       "dtype: int64"
      ]
     },
     "execution_count": 123,
     "metadata": {},
     "output_type": "execute_result"
    }
   ],
   "source": [
    "#verificando \n",
    "ausente = dados.isna().sum()\n",
    "ausente"
   ]
  },
  {
   "cell_type": "markdown",
   "id": "79edfee0",
   "metadata": {},
   "source": [
    "Feito, nao possuimos mais dados faltantes na nossa análise."
   ]
  },
  {
   "cell_type": "markdown",
   "id": "dbdc2357",
   "metadata": {},
   "source": [
    "### Normalizando os dados"
   ]
  },
  {
   "cell_type": "code",
   "execution_count": 124,
   "id": "c3a5324d",
   "metadata": {},
   "outputs": [],
   "source": [
    "#importando biblioteca\n",
    "from sklearn.preprocessing import Normalizer"
   ]
  },
  {
   "cell_type": "code",
   "execution_count": 125,
   "id": "9bb64a45",
   "metadata": {},
   "outputs": [
    {
     "name": "stdout",
     "output_type": "stream",
     "text": [
      "[[3.93555441e-02 7.87271593e-04 9.17958473e-02 ... 1.94178127e-01\n",
      "  1.34239194e-01 0.00000000e+00]\n",
      " [2.93875903e-01 8.34231560e-05 0.00000000e+00 ... 3.76516684e-01\n",
      "  9.84037959e-02 2.03923046e-05]\n",
      " [3.10798149e-01 1.24560965e-04 9.63068011e-02 ... 7.74852335e-02\n",
      "  7.81351982e-02 0.00000000e+00]\n",
      " ...\n",
      " [2.27733092e-02 8.11060955e-04 1.40540698e-01 ... 7.90986945e-02\n",
      "  8.02156174e-02 2.43318384e-04]\n",
      " [2.65257948e-02 1.64255731e-03 0.00000000e+00 ... 1.03579625e-01\n",
      "  1.09898221e-01 4.92767391e-04]\n",
      " [1.86406219e-01 3.33426837e-04 5.46778061e-01 ... 3.15915455e-02\n",
      "  4.41568390e-02 0.00000000e+00]]\n"
     ]
    }
   ],
   "source": [
    "#normalizando a base de dados\n",
    "values = Normalizer().fit_transform(dados.values)\n",
    "print(values)"
   ]
  },
  {
   "cell_type": "markdown",
   "id": "689ceeb9",
   "metadata": {},
   "source": [
    "### Clusterização - utilizando KMeans    "
   ]
  },
  {
   "cell_type": "code",
   "execution_count": 126,
   "id": "25149efc",
   "metadata": {},
   "outputs": [],
   "source": [
    "#importando algoritmo\n",
    "from sklearn.cluster import KMeans"
   ]
  },
  {
   "cell_type": "code",
   "execution_count": 127,
   "id": "73ea46ae",
   "metadata": {},
   "outputs": [],
   "source": [
    "#definindo o numero de clusters, n de vezes e variações\n",
    "kmeans = KMeans(n_clusters=5, n_init=10, max_iter=300)\n",
    "y_pred = kmeans.fit_predict(values)"
   ]
  },
  {
   "cell_type": "markdown",
   "id": "923bce6c",
   "metadata": {},
   "source": [
    "### Validação dos clusters\n",
    "\n",
    "**Metricas**\n",
    "\n",
    "externas : precisa ter os labels\n",
    "\n",
    "internas : independente dos labels"
   ]
  },
  {
   "cell_type": "markdown",
   "id": "06e66242",
   "metadata": {},
   "source": [
    "#### Coeficiente de Silhuetta  "
   ]
  },
  {
   "cell_type": "code",
   "execution_count": 128,
   "id": "b36ca228",
   "metadata": {},
   "outputs": [],
   "source": [
    "#importando modelo\n",
    "from sklearn import metrics"
   ]
  },
  {
   "cell_type": "code",
   "execution_count": 129,
   "id": "48f5ab66",
   "metadata": {},
   "outputs": [
    {
     "name": "stdout",
     "output_type": "stream",
     "text": [
      "0.3644635747161945\n"
     ]
    }
   ],
   "source": [
    "#chamando os labels q vai atribuir os valores a cada um dos clusters específico\n",
    "labels = kmeans.labels_\n",
    "silhuetta = metrics.silhouette_score(values, labels, metric='euclidean')\n",
    "print(silhuetta)"
   ]
  },
  {
   "cell_type": "markdown",
   "id": "8f98c9c0",
   "metadata": {},
   "source": [
    "No geral o valor é bom, pois varia de -1 a 1. Se temos o valor positivo podemos considerar ele"
   ]
  },
  {
   "cell_type": "markdown",
   "id": "6c73164b",
   "metadata": {},
   "source": [
    "### Centróides\n",
    "\n",
    "Davies Bouldin\n",
    "\n",
    "mais próximo de zero melhor\n",
    "\n",
    "Quanto menor o valor final mais similares são os clusters."
   ]
  },
  {
   "cell_type": "code",
   "execution_count": 130,
   "id": "452359ba",
   "metadata": {},
   "outputs": [
    {
     "name": "stdout",
     "output_type": "stream",
     "text": [
      "1.0758620069408935\n"
     ]
    }
   ],
   "source": [
    "#instanciondo \n",
    "dbs = metrics.davies_bouldin_score(values, labels)\n",
    "print(dbs)"
   ]
  },
  {
   "cell_type": "markdown",
   "id": "900c7c4e-29ca-4d84-883a-2047c71954fb",
   "metadata": {},
   "source": [
    "**Calinski**\n",
    "\n",
    "Dispersão dos pontos dentro dos clusters e entre clusters"
   ]
  },
  {
   "cell_type": "code",
   "execution_count": 131,
   "id": "3534a064-098a-4dea-b554-cf2740eb9b02",
   "metadata": {},
   "outputs": [
    {
     "name": "stdout",
     "output_type": "stream",
     "text": [
      "3431.7956206905983\n"
     ]
    }
   ],
   "source": [
    "calinski = metrics.calinski_harabasz_score(values, labels)\n",
    "print(calinski)"
   ]
  },
  {
   "cell_type": "markdown",
   "id": "bfd2e8e2-31b8-48c6-9ff1-5dd2b8a3d811",
   "metadata": {},
   "source": [
    "### Validação Relativa\n",
    "\n",
    "comparando metricas"
   ]
  },
  {
   "cell_type": "code",
   "execution_count": 132,
   "id": "683a3216-aed2-413d-bddc-ac5a6d4e41b6",
   "metadata": {},
   "outputs": [],
   "source": [
    "def clustering_algorithm(n_clusters, dados):\n",
    "    kmeans = KMeans(n_clusters=n_clusters, n_init=10, max_iter=300)\n",
    "    labels  = kmeans.fit_predict(dados)\n",
    "    s = metrics.silhouette_score(dados, labels, metric='euclidean')\n",
    "    dbs = metrics.davies_bouldin_score(dados, labels)\n",
    "    calinski = metrics.calinski_harabasz_score(dados, labels)\n",
    "    return s,dbs, calinski"
   ]
  },
  {
   "cell_type": "code",
   "execution_count": 133,
   "id": "a1959e79-fa6b-454e-a5a3-5599cc5ef611",
   "metadata": {},
   "outputs": [
    {
     "name": "stdout",
     "output_type": "stream",
     "text": [
      "0.3272472742270084 1.308572715678932 3526.446972428308\n"
     ]
    }
   ],
   "source": [
    "#chamando a função com a quantidade de cluster especifica 3\n",
    "s1, dbs1, calinski1 = clustering_algorithm(3, values)\n",
    "print(s1, dbs1, calinski1)"
   ]
  },
  {
   "cell_type": "code",
   "execution_count": 134,
   "id": "83ae2296-9ea0-4b45-a673-b7b7d1c9e760",
   "metadata": {},
   "outputs": [
    {
     "name": "stdout",
     "output_type": "stream",
     "text": [
      "0.3644635747161945 1.0758620069408937 3431.7956206905983\n"
     ]
    }
   ],
   "source": [
    "#chamando a função com a quantidade de cluster especifica 5\n",
    "s2, dbs2, calinski2 = clustering_algorithm(5, values)\n",
    "print(s2, dbs2, calinski2)"
   ]
  },
  {
   "cell_type": "code",
   "execution_count": 135,
   "id": "d3be65ae-3a3a-47f7-868b-0395388657ee",
   "metadata": {},
   "outputs": [
    {
     "name": "stdout",
     "output_type": "stream",
     "text": [
      "0.3075624506255213 1.1403247507665288 3018.0095415095616\n"
     ]
    }
   ],
   "source": [
    "#chamando a função com a quantidade de cluster especifica 5\n",
    "s3, dbs3, calinski3 = clustering_algorithm(10, values)\n",
    "print(s3, dbs3, calinski3)"
   ]
  },
  {
   "cell_type": "markdown",
   "id": "3996bc5f-68bf-4e94-b8a2-573670d6f048",
   "metadata": {},
   "source": [
    "O melhor foi com 5 clusters, olhando especialmente pelo coef. de silhuetta teve  resultado  mais alto. Com 10 tivemos perda consideravel no calinski e as métricas mesmo sendo próximas nao foi suficiente. Entao por esse motivo foi descartado"
   ]
  },
  {
   "cell_type": "markdown",
   "id": "943b20e6-0795-4819-a523-46dccd42b92b",
   "metadata": {},
   "source": [
    "### Estrutura de clusters\n",
    "\n",
    "gerando conjunto aleatório de dados"
   ]
  },
  {
   "cell_type": "code",
   "execution_count": 136,
   "id": "ef1ef876-76f0-4eab-bab3-a81f9414af4d",
   "metadata": {},
   "outputs": [
    {
     "data": {
      "text/plain": [
       "(8950, 16)"
      ]
     },
     "execution_count": 136,
     "metadata": {},
     "output_type": "execute_result"
    }
   ],
   "source": [
    "dados.shape"
   ]
  },
  {
   "cell_type": "code",
   "execution_count": 137,
   "id": "c21e46da-359d-452e-bfbb-cd6c15f6161b",
   "metadata": {},
   "outputs": [
    {
     "name": "stdout",
     "output_type": "stream",
     "text": [
      "0.039512430499948244 3.5205027200044796 302.1531947125672\n",
      "0.3644635747161945 1.0758620069408937 3431.7956206905983\n"
     ]
    }
   ],
   "source": [
    "#gerando no mesmo tamanho da base\n",
    "random_data = np.random.rand(8950,16)\n",
    "s, dbs, calinski = clustering_algorithm(5, random_data)\n",
    "print(s, dbs, calinski)\n",
    "print(s2, dbs2, calinski2)"
   ]
  },
  {
   "cell_type": "markdown",
   "id": "936f237e-e9fe-4dd0-b744-fbdd4028a60c",
   "metadata": {},
   "source": [
    "Olhando conseguimos entender que nossa selecao se comportou muito bem comparado a estrutura de dados criado na mesma dimensao que os dados orignais, entao vamos manter 5 clusters"
   ]
  },
  {
   "cell_type": "markdown",
   "id": "1a1d01c0-0e18-44bc-a4a6-d7e27800b363",
   "metadata": {},
   "source": [
    "### Validade a estabilidade do clusters"
   ]
  },
  {
   "cell_type": "markdown",
   "id": "19066088-266e-4729-8df1-2c8ae3da1777",
   "metadata": {},
   "source": [
    " **Dividindo  a base** e rodando o modelo em cada divisão   "
   ]
  },
  {
   "cell_type": "code",
   "execution_count": 138,
   "id": "f429542b-2eb9-412c-a52f-11c3079ea0d1",
   "metadata": {},
   "outputs": [
    {
     "name": "stdout",
     "output_type": "stream",
     "text": [
      "0.36860891867648515 1.0563346979449357 1204.111582769171\n",
      "0.36711806123637947 1.139783250125324 1194.934780331434\n",
      "0.36711806123637947 1.098367400389176 1167.5043802024989\n"
     ]
    }
   ],
   "source": [
    "set1, set2, set3 = np.array_split(values, 3)\n",
    "s1, dbs1, calinski1 = clustering_algorithm(5, set1)\n",
    "s2, dbs2, calinski2 = clustering_algorithm(5, set2)\n",
    "s3, dbs3, calinski3 = clustering_algorithm(5, set3)\n",
    "print(s1, dbs1, calinski1)\n",
    "print(s3, dbs2, calinski2)\n",
    "print(s3, dbs3, calinski3)"
   ]
  },
  {
   "cell_type": "markdown",
   "id": "12da3624-41c1-4942-8099-b05c612cddea",
   "metadata": {},
   "source": [
    "Como os resultados se manteram similires, conseguimos definir também que por esse motivo nossa escolha pelo modelo e numero de clusters foram corretas"
   ]
  },
  {
   "cell_type": "markdown",
   "id": "c37221c8-c0cd-45a3-bbf0-930166e44fd1",
   "metadata": {},
   "source": [
    "### Interpretando os resultados com gráficos\n",
    "\n",
    "Primeiro vamos analisar o quanto o cliente comprou(PURCHASES) no cartão e o quanto ele pagou(PAYMENTS) "
   ]
  },
  {
   "cell_type": "code",
   "execution_count": 139,
   "id": "30fe9cdc-19bc-4981-8d84-abe65090fd00",
   "metadata": {},
   "outputs": [],
   "source": [
    "#Importando biblitoteca\n",
    "import matplotlib.pyplot as plt\n",
    "import seaborn as sns"
   ]
  },
  {
   "cell_type": "code",
   "execution_count": 140,
   "id": "c091a382-e5e4-4c03-b8fa-536a9c764f19",
   "metadata": {},
   "outputs": [
    {
     "data": {
      "image/png": "[encoded data removed]",
      "text/plain": [
       "<Figure size 1080x576 with 1 Axes>"
      ]
     },
     "metadata": {
      "needs_background": "light"
     },
     "output_type": "display_data"
    }
   ],
   "source": [
    "plt.figure(figsize=(15,8))\n",
    "plt.scatter(dados['PURCHASES'], dados['PAYMENTS'], c = labels, s=5, cmap='rainbow')\n",
    "plt.xlabel(\"Valor total pago\")\n",
    "plt.ylabel(\"Valor total gasto\")\n",
    "\n",
    "plt.show()"
   ]
  },
  {
   "cell_type": "markdown",
   "id": "d7a8a331-cc2f-4293-92d7-9d7080389048",
   "metadata": {},
   "source": [
    "#### Utilizando Seaborn"
   ]
  },
  {
   "cell_type": "code",
   "execution_count": 141,
   "id": "177fb334-626b-4b0d-ae71-758742c2e85a",
   "metadata": {},
   "outputs": [],
   "source": [
    "#Nao rodar, pois fica inviável a interpretação desta forma\n",
    "dados['clusters'] = labels\n",
    "#sns.pairplot(dados[0:], hue='clusters')"
   ]
  },
  {
   "cell_type": "code",
   "execution_count": 142,
   "id": "e0af35fc-5a9e-4f69-992b-0d645220ec84",
   "metadata": {},
   "outputs": [
    {
     "data": {
      "text/html": [
       "<div>\n",
       "<style scoped>\n",
       "    .dataframe tbody tr th:only-of-type {\n",
       "        vertical-align: middle;\n",
       "    }\n",
       "\n",
       "    .dataframe tbody tr th {\n",
       "        vertical-align: top;\n",
       "    }\n",
       "\n",
       "    .dataframe thead tr th {\n",
       "        text-align: left;\n",
       "    }\n",
       "\n",
       "    .dataframe thead tr:last-of-type th {\n",
       "        text-align: right;\n",
       "    }\n",
       "</style>\n",
       "<table border=\"1\" class=\"dataframe\">\n",
       "  <thead>\n",
       "    <tr>\n",
       "      <th></th>\n",
       "      <th colspan=\"8\" halign=\"left\">BALANCE</th>\n",
       "      <th colspan=\"2\" halign=\"left\">BALANCE_FREQUENCY</th>\n",
       "      <th>...</th>\n",
       "      <th colspan=\"2\" halign=\"left\">MINIMUM_PAYMENTS</th>\n",
       "      <th colspan=\"8\" halign=\"left\">PRC_FULL_PAYMENT</th>\n",
       "    </tr>\n",
       "    <tr>\n",
       "      <th></th>\n",
       "      <th>count</th>\n",
       "      <th>mean</th>\n",
       "      <th>std</th>\n",
       "      <th>min</th>\n",
       "      <th>25%</th>\n",
       "      <th>50%</th>\n",
       "      <th>75%</th>\n",
       "      <th>max</th>\n",
       "      <th>count</th>\n",
       "      <th>mean</th>\n",
       "      <th>...</th>\n",
       "      <th>75%</th>\n",
       "      <th>max</th>\n",
       "      <th>count</th>\n",
       "      <th>mean</th>\n",
       "      <th>std</th>\n",
       "      <th>min</th>\n",
       "      <th>25%</th>\n",
       "      <th>50%</th>\n",
       "      <th>75%</th>\n",
       "      <th>max</th>\n",
       "    </tr>\n",
       "    <tr>\n",
       "      <th>clusters</th>\n",
       "      <th></th>\n",
       "      <th></th>\n",
       "      <th></th>\n",
       "      <th></th>\n",
       "      <th></th>\n",
       "      <th></th>\n",
       "      <th></th>\n",
       "      <th></th>\n",
       "      <th></th>\n",
       "      <th></th>\n",
       "      <th></th>\n",
       "      <th></th>\n",
       "      <th></th>\n",
       "      <th></th>\n",
       "      <th></th>\n",
       "      <th></th>\n",
       "      <th></th>\n",
       "      <th></th>\n",
       "      <th></th>\n",
       "      <th></th>\n",
       "      <th></th>\n",
       "    </tr>\n",
       "  </thead>\n",
       "  <tbody>\n",
       "    <tr>\n",
       "      <th>0</th>\n",
       "      <td>2648.0</td>\n",
       "      <td>3038.132314</td>\n",
       "      <td>2479.290949</td>\n",
       "      <td>6.824905</td>\n",
       "      <td>1256.126442</td>\n",
       "      <td>2173.994774</td>\n",
       "      <td>4224.605542</td>\n",
       "      <td>18495.558550</td>\n",
       "      <td>2648.0</td>\n",
       "      <td>0.963768</td>\n",
       "      <td>...</td>\n",
       "      <td>1330.437428</td>\n",
       "      <td>8345.641905</td>\n",
       "      <td>2648.0</td>\n",
       "      <td>0.001800</td>\n",
       "      <td>0.023264</td>\n",
       "      <td>0.0</td>\n",
       "      <td>0.0</td>\n",
       "      <td>0.000000</td>\n",
       "      <td>0.000000</td>\n",
       "      <td>0.6</td>\n",
       "    </tr>\n",
       "    <tr>\n",
       "      <th>1</th>\n",
       "      <td>3278.0</td>\n",
       "      <td>443.992358</td>\n",
       "      <td>846.597972</td>\n",
       "      <td>0.000000</td>\n",
       "      <td>23.315538</td>\n",
       "      <td>82.992153</td>\n",
       "      <td>411.193793</td>\n",
       "      <td>9630.367575</td>\n",
       "      <td>3278.0</td>\n",
       "      <td>0.774417</td>\n",
       "      <td>...</td>\n",
       "      <td>248.800040</td>\n",
       "      <td>4483.503862</td>\n",
       "      <td>3278.0</td>\n",
       "      <td>0.246549</td>\n",
       "      <td>0.346601</td>\n",
       "      <td>0.0</td>\n",
       "      <td>0.0</td>\n",
       "      <td>0.000000</td>\n",
       "      <td>0.444444</td>\n",
       "      <td>1.0</td>\n",
       "    </tr>\n",
       "    <tr>\n",
       "      <th>2</th>\n",
       "      <td>411.0</td>\n",
       "      <td>1987.501586</td>\n",
       "      <td>1854.459156</td>\n",
       "      <td>70.794108</td>\n",
       "      <td>1018.958891</td>\n",
       "      <td>1337.287314</td>\n",
       "      <td>2138.678431</td>\n",
       "      <td>11670.179850</td>\n",
       "      <td>411.0</td>\n",
       "      <td>0.989486</td>\n",
       "      <td>...</td>\n",
       "      <td>7112.618584</td>\n",
       "      <td>76406.207520</td>\n",
       "      <td>411.0</td>\n",
       "      <td>0.019318</td>\n",
       "      <td>0.090901</td>\n",
       "      <td>0.0</td>\n",
       "      <td>0.0</td>\n",
       "      <td>0.000000</td>\n",
       "      <td>0.000000</td>\n",
       "      <td>1.0</td>\n",
       "    </tr>\n",
       "    <tr>\n",
       "      <th>3</th>\n",
       "      <td>1073.0</td>\n",
       "      <td>1794.764536</td>\n",
       "      <td>1982.173844</td>\n",
       "      <td>0.000000</td>\n",
       "      <td>507.076999</td>\n",
       "      <td>1088.056301</td>\n",
       "      <td>2315.003636</td>\n",
       "      <td>14581.459140</td>\n",
       "      <td>1073.0</td>\n",
       "      <td>0.862156</td>\n",
       "      <td>...</td>\n",
       "      <td>886.322345</td>\n",
       "      <td>21235.065300</td>\n",
       "      <td>1073.0</td>\n",
       "      <td>0.117275</td>\n",
       "      <td>0.186801</td>\n",
       "      <td>0.0</td>\n",
       "      <td>0.0</td>\n",
       "      <td>0.083333</td>\n",
       "      <td>0.142857</td>\n",
       "      <td>1.0</td>\n",
       "    </tr>\n",
       "    <tr>\n",
       "      <th>4</th>\n",
       "      <td>1540.0</td>\n",
       "      <td>1142.222657</td>\n",
       "      <td>1664.035755</td>\n",
       "      <td>0.000000</td>\n",
       "      <td>211.566656</td>\n",
       "      <td>554.332740</td>\n",
       "      <td>1370.859355</td>\n",
       "      <td>19043.138560</td>\n",
       "      <td>1540.0</td>\n",
       "      <td>0.928053</td>\n",
       "      <td>...</td>\n",
       "      <td>524.184580</td>\n",
       "      <td>18621.013310</td>\n",
       "      <td>1540.0</td>\n",
       "      <td>0.278582</td>\n",
       "      <td>0.367203</td>\n",
       "      <td>0.0</td>\n",
       "      <td>0.0</td>\n",
       "      <td>0.083333</td>\n",
       "      <td>0.545455</td>\n",
       "      <td>1.0</td>\n",
       "    </tr>\n",
       "  </tbody>\n",
       "</table>\n",
       "<p>5 rows × 128 columns</p>\n",
       "</div>"
      ],
      "text/plain": [
       "         BALANCE                                                    \\\n",
       "           count         mean          std        min          25%   \n",
       "clusters                                                             \n",
       "0         2648.0  3038.132314  2479.290949   6.824905  1256.126442   \n",
       "1         3278.0   443.992358   846.597972   0.000000    23.315538   \n",
       "2          411.0  1987.501586  1854.459156  70.794108  1018.958891   \n",
       "3         1073.0  1794.764536  1982.173844   0.000000   507.076999   \n",
       "4         1540.0  1142.222657  1664.035755   0.000000   211.566656   \n",
       "\n",
       "                                                 BALANCE_FREQUENCY            \\\n",
       "                  50%          75%           max             count      mean   \n",
       "clusters                                                                       \n",
       "0         2173.994774  4224.605542  18495.558550            2648.0  0.963768   \n",
       "1           82.992153   411.193793   9630.367575            3278.0  0.774417   \n",
       "2         1337.287314  2138.678431  11670.179850             411.0  0.989486   \n",
       "3         1088.056301  2315.003636  14581.459140            1073.0  0.862156   \n",
       "4          554.332740  1370.859355  19043.138560            1540.0  0.928053   \n",
       "\n",
       "          ... MINIMUM_PAYMENTS               PRC_FULL_PAYMENT            \\\n",
       "          ...              75%           max            count      mean   \n",
       "clusters  ...                                                             \n",
       "0         ...      1330.437428   8345.641905           2648.0  0.001800   \n",
       "1         ...       248.800040   4483.503862           3278.0  0.246549   \n",
       "2         ...      7112.618584  76406.207520            411.0  0.019318   \n",
       "3         ...       886.322345  21235.065300           1073.0  0.117275   \n",
       "4         ...       524.184580  18621.013310           1540.0  0.278582   \n",
       "\n",
       "                                                       \n",
       "               std  min  25%       50%       75%  max  \n",
       "clusters                                               \n",
       "0         0.023264  0.0  0.0  0.000000  0.000000  0.6  \n",
       "1         0.346601  0.0  0.0  0.000000  0.444444  1.0  \n",
       "2         0.090901  0.0  0.0  0.000000  0.000000  1.0  \n",
       "3         0.186801  0.0  0.0  0.083333  0.142857  1.0  \n",
       "4         0.367203  0.0  0.0  0.083333  0.545455  1.0  \n",
       "\n",
       "[5 rows x 128 columns]"
      ]
     },
     "execution_count": 142,
     "metadata": {},
     "output_type": "execute_result"
    }
   ],
   "source": [
    "#agrupando os dados\n",
    "dados.groupby(\"clusters\").describe()"
   ]
  },
  {
   "cell_type": "markdown",
   "id": "21890ed1-908c-4261-886d-7c16a74e0b0e",
   "metadata": {},
   "source": [
    "#### Analisando valores de cada cluster"
   ]
  },
  {
   "cell_type": "code",
   "execution_count": 143,
   "id": "8c08c2f7-9377-4617-adfd-5fd2fa17b353",
   "metadata": {},
   "outputs": [
    {
     "name": "stdout",
     "output_type": "stream",
     "text": [
      "[[5.04294070e-01 2.72242076e-04 6.17554553e-02 3.62405829e-02\n",
      "  2.55365937e-02 2.52765717e-01 6.72943541e-05 2.57072238e-05\n",
      "  4.50409323e-05 5.74261583e-05 1.15669149e-03 1.33139220e-03\n",
      "  7.19260678e-01 1.66160406e-01 1.79203910e-01 5.52512128e-07]\n",
      " [6.91386971e-02 2.30552524e-04 1.21267798e-01 4.80255998e-02\n",
      "  7.33425496e-02 2.43607736e-02 1.72581896e-04 3.37097813e-05\n",
      "  1.40021986e-04 7.93309218e-06 1.24113667e-04 2.86037895e-03\n",
      "  9.43728649e-01 1.53557708e-01 5.68217245e-02 7.57977264e-05]\n",
      " [3.32918803e-01 2.68423552e-04 1.58240376e-01 3.63059801e-02\n",
      "  1.22319068e-01 5.83557153e-02 1.66754597e-04 2.64938445e-05\n",
      "  1.47063187e-04 1.93217566e-05 4.27934836e-04 3.86197017e-03\n",
      "  3.76718873e-01 2.51861450e-01 6.80311114e-01 4.23993819e-06]\n",
      " [2.35317569e-01 2.16489198e-04 6.04496610e-02 3.43849416e-02\n",
      "  2.60699292e-02 4.00329698e-01 5.27098698e-05 2.04691453e-05\n",
      "  3.52611341e-05 6.55102544e-05 1.57205221e-03 1.12372153e-03\n",
      "  5.35048542e-01 5.97748295e-01 1.04521037e-01 2.77239617e-05]\n",
      " [1.59699490e-01 2.45649360e-04 4.38116859e-01 2.56325660e-01\n",
      "  1.81962376e-01 2.57889184e-02 2.04826443e-04 8.87914942e-05\n",
      "  1.51162866e-04 9.36296056e-06 1.69350945e-04 6.17145756e-03\n",
      "  6.04336246e-01 4.02584838e-01 8.54128174e-02 7.26645255e-05]]\n"
     ]
    }
   ],
   "source": [
    "centroids = kmeans.cluster_centers_\n",
    "print(centroids)"
   ]
  },
  {
   "cell_type": "code",
   "execution_count": 144,
   "id": "8ddc5356-b4cb-4840-8fda-a501f9064ee9",
   "metadata": {},
   "outputs": [
    {
     "name": "stdout",
     "output_type": "stream",
     "text": [
      "BALANCE 0.0224\n",
      "BALANCE_FREQUENCY 0.0000\n",
      "PURCHASES 0.0196\n",
      "ONEOFF_PURCHASES 0.0076\n",
      "INSTALLMENTS_PURCHASES 0.0036\n",
      "CASH_ADVANCE 0.0226\n",
      "PURCHASES_FREQUENCY 0.0000\n",
      "ONEOFF_PURCHASES_FREQUENCY 0.0000\n",
      "PURCHASES_INSTALLMENTS_FREQUENCY 0.0000\n",
      "CASH_ADVANCE_FREQUENCY 0.0000\n",
      "CASH_ADVANCE_TRX 0.0000\n",
      "PURCHASES_TRX 0.0000\n",
      "CREDIT_LIMIT 0.0360\n",
      "PAYMENTS 0.0280\n",
      "MINIMUM_PAYMENTS 0.0543\n",
      "PRC_FULL_PAYMENT 0.0000\n"
     ]
    }
   ],
   "source": [
    "#verificando a variância dos clusters\n",
    "max = len(centroids[0])\n",
    "for i in range(max):\n",
    "    print(dados.columns.values[i], \"{:.4f}\".format(centroids[:, i].var())) #formantando para 4casas"
   ]
  },
  {
   "cell_type": "markdown",
   "id": "3a39e30d-50a7-4501-a6f6-2454e4851b77",
   "metadata": {},
   "source": [
    "Atributos que serao tomados para decisão nos clusters\n",
    "\n",
    "- BALANCE 0.0223\n",
    "- PURCHASES 0.0197\n",
    "- CASH_ADVANCE 0.0225\n",
    "- CREDIT_LIMIT 0.0362\n",
    "- PAYMENTS 0.0279\n",
    "\n",
    "\n",
    "\n"
   ]
  },
  {
   "cell_type": "code",
   "execution_count": 145,
   "id": "fe021b70-0231-4075-842c-be2276155af3",
   "metadata": {},
   "outputs": [
    {
     "name": "stdout",
     "output_type": "stream",
     "text": [
      "              BALANCE    PURCHASES  CASH_ADVANCE  CREDIT_LIMIT     PAYMENTS  \\\n",
      "clusters                                                                      \n",
      "0         3038.132314   385.096760   1636.114441   4496.336858   968.599396   \n",
      "1          443.992358   629.345171    141.569301   5132.945933   814.477150   \n",
      "2         1987.501586   854.865815    421.129352   2227.737226  1336.238911   \n",
      "3         1794.764536   475.785508   3270.705696   3975.462453  4706.788521   \n",
      "4         1142.222657  3268.886929    183.019398   4097.701397  3037.241495   \n",
      "\n",
      "          n_clients  \n",
      "clusters             \n",
      "0              2648  \n",
      "1              3278  \n",
      "2               411  \n",
      "3              1073  \n",
      "4              1540  \n"
     ]
    },
    {
     "name": "stderr",
     "output_type": "stream",
     "text": [
      "<ipython-input-145-81b5f13c297a>:2: FutureWarning: Indexing with multiple keys (implicitly converted to a tuple of keys) will be deprecated, use a list instead.\n",
      "  description = dados.groupby('clusters')[\"BALANCE\", \"PURCHASES\", \"CASH_ADVANCE\", \"CREDIT_LIMIT\",\"PAYMENTS\"]\n"
     ]
    }
   ],
   "source": [
    "#agrupado pela variavel clusters e olhando os elementos selecionado,  analisando MÉDIA somente\n",
    "description = dados.groupby('clusters')[\"BALANCE\", \"PURCHASES\", \"CASH_ADVANCE\", \"CREDIT_LIMIT\",\"PAYMENTS\"]\n",
    "n_clients = description.size()\n",
    "description = description.mean()\n",
    "description['n_clients'] = n_clients\n",
    "print(description)"
   ]
  },
  {
   "cell_type": "markdown",
   "id": "5d6af89f-36ea-440d-bf40-ae4473c7259b",
   "metadata": {},
   "source": [
    "#### Analisando cada clusters por atributo\n",
    "\n",
    "- CLUSTER 0: Clientes com maiores saldos. Menor valor em compras. Valor considerável em saque. Piores pagadores %. Boa quantidade de clientes.\n",
    "- CLUSTER 1: Clientes com menores saldos. Menor valor em saque. Menor valor no pagamento. Maior limite de crédito. Bom pagadores %. Maior numero de clientes.\n",
    "- CLUSTER 2: Menor limite de crédito. Menor número de clientes.\n",
    "- CLUSTER 3: Maior valor em saque. Maior valor em pagamento. Pagam as vezes %\n",
    "- CLUSTER 4: Maior valor em compras com grande diferença.  Valor em pagamento considerável. Melhores pagadores %"
   ]
  },
  {
   "cell_type": "code",
   "execution_count": 147,
   "id": "e857cc1e-3ccd-478b-b09a-eca942bff913",
   "metadata": {},
   "outputs": [
    {
     "data": {
      "text/html": [
       "<div>\n",
       "<style scoped>\n",
       "    .dataframe tbody tr th:only-of-type {\n",
       "        vertical-align: middle;\n",
       "    }\n",
       "\n",
       "    .dataframe tbody tr th {\n",
       "        vertical-align: top;\n",
       "    }\n",
       "\n",
       "    .dataframe thead th {\n",
       "        text-align: right;\n",
       "    }\n",
       "</style>\n",
       "<table border=\"1\" class=\"dataframe\">\n",
       "  <thead>\n",
       "    <tr style=\"text-align: right;\">\n",
       "      <th></th>\n",
       "      <th>count</th>\n",
       "      <th>mean</th>\n",
       "      <th>std</th>\n",
       "      <th>min</th>\n",
       "      <th>25%</th>\n",
       "      <th>50%</th>\n",
       "      <th>75%</th>\n",
       "      <th>max</th>\n",
       "    </tr>\n",
       "    <tr>\n",
       "      <th>clusters</th>\n",
       "      <th></th>\n",
       "      <th></th>\n",
       "      <th></th>\n",
       "      <th></th>\n",
       "      <th></th>\n",
       "      <th></th>\n",
       "      <th></th>\n",
       "      <th></th>\n",
       "    </tr>\n",
       "  </thead>\n",
       "  <tbody>\n",
       "    <tr>\n",
       "      <th>0</th>\n",
       "      <td>2648.0</td>\n",
       "      <td>0.001800</td>\n",
       "      <td>0.023264</td>\n",
       "      <td>0.0</td>\n",
       "      <td>0.0</td>\n",
       "      <td>0.000000</td>\n",
       "      <td>0.000000</td>\n",
       "      <td>0.6</td>\n",
       "    </tr>\n",
       "    <tr>\n",
       "      <th>1</th>\n",
       "      <td>3278.0</td>\n",
       "      <td>0.246549</td>\n",
       "      <td>0.346601</td>\n",
       "      <td>0.0</td>\n",
       "      <td>0.0</td>\n",
       "      <td>0.000000</td>\n",
       "      <td>0.444444</td>\n",
       "      <td>1.0</td>\n",
       "    </tr>\n",
       "    <tr>\n",
       "      <th>2</th>\n",
       "      <td>411.0</td>\n",
       "      <td>0.019318</td>\n",
       "      <td>0.090901</td>\n",
       "      <td>0.0</td>\n",
       "      <td>0.0</td>\n",
       "      <td>0.000000</td>\n",
       "      <td>0.000000</td>\n",
       "      <td>1.0</td>\n",
       "    </tr>\n",
       "    <tr>\n",
       "      <th>3</th>\n",
       "      <td>1073.0</td>\n",
       "      <td>0.117275</td>\n",
       "      <td>0.186801</td>\n",
       "      <td>0.0</td>\n",
       "      <td>0.0</td>\n",
       "      <td>0.083333</td>\n",
       "      <td>0.142857</td>\n",
       "      <td>1.0</td>\n",
       "    </tr>\n",
       "    <tr>\n",
       "      <th>4</th>\n",
       "      <td>1540.0</td>\n",
       "      <td>0.278582</td>\n",
       "      <td>0.367203</td>\n",
       "      <td>0.0</td>\n",
       "      <td>0.0</td>\n",
       "      <td>0.083333</td>\n",
       "      <td>0.545455</td>\n",
       "      <td>1.0</td>\n",
       "    </tr>\n",
       "  </tbody>\n",
       "</table>\n",
       "</div>"
      ],
      "text/plain": [
       "           count      mean       std  min  25%       50%       75%  max\n",
       "clusters                                                               \n",
       "0         2648.0  0.001800  0.023264  0.0  0.0  0.000000  0.000000  0.6\n",
       "1         3278.0  0.246549  0.346601  0.0  0.0  0.000000  0.444444  1.0\n",
       "2          411.0  0.019318  0.090901  0.0  0.0  0.000000  0.000000  1.0\n",
       "3         1073.0  0.117275  0.186801  0.0  0.0  0.083333  0.142857  1.0\n",
       "4         1540.0  0.278582  0.367203  0.0  0.0  0.083333  0.545455  1.0"
      ]
     },
     "execution_count": 147,
     "metadata": {},
     "output_type": "execute_result"
    }
   ],
   "source": [
    "#Trazendo percentual de pagamento para ajudar na análise\n",
    "dados.groupby(\"clusters\")[\"PRC_FULL_PAYMENT\"].describe()"
   ]
  },
  {
   "cell_type": "markdown",
   "id": "9afed883-0730-49df-8cc8-d2136f142a22",
   "metadata": {},
   "source": [
    "Estratégia\n",
    "\n",
    "Aplicar TESTE A/B  separando por controle e teste e aplicar tal estratégia de negócio definida para obter resultado esperado. Ex, queremos que os clientes do CLUSTER 1 gastem mais, pois sao bom pagadores e tem o maior numero de clientes, entao separamos em controle e teste e aplicamos uma estratégia num período de 1 ano e aguardar o resultado esperado."
   ]
  },
  {
   "cell_type": "code",
   "execution_count": null,
   "id": "31773773-8f6c-4113-875a-2592f58e1c46",
   "metadata": {},
   "outputs": [],
   "source": []
  }
 ],
 "metadata": {
  "kernelspec": {
   "display_name": "Python 3",
   "language": "python",
   "name": "python3"
  },
  "language_info": {
   "codemirror_mode": {
    "name": "ipython",
    "version": 3
   },
   "file_extension": ".py",
   "mimetype": "text/x-python",
   "name": "python",
   "nbconvert_exporter": "python",
   "pygments_lexer": "ipython3",
   "version": "3.8.8"
  }
 },
 "nbformat": 4,
 "nbformat_minor": 5
}
